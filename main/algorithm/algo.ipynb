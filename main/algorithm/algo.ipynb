{
 "cells": [
  {
   "cell_type": "code",
   "execution_count": 1,
   "id": "c88b5b8c-ae57-4214-a4df-9e8e3247186d",
   "metadata": {},
   "outputs": [],
   "source": [
    "%load_ext autoreload\n",
    "%autoreload 2"
   ]
  },
  {
   "cell_type": "code",
   "execution_count": 2,
   "id": "2f8bb612-328f-4fe4-9cb2-e9628a9c4c75",
   "metadata": {},
   "outputs": [],
   "source": [
    "from planner import JourneyPlanner\n",
    "from collections import defaultdict\n",
    "import pickle"
   ]
  },
  {
   "cell_type": "markdown",
   "id": "9b838113-88e4-42cf-b6bd-87e7fd722456",
   "metadata": {},
   "source": [
    "# Loading timetable"
   ]
  },
  {
   "cell_type": "code",
   "execution_count": 9,
   "id": "0cba7cb7-6317-4bab-80bd-e2600dc2d296",
   "metadata": {
    "tags": []
   },
   "outputs": [],
   "source": [
    "with open('../../data/footpath.pickle', 'rb') as f:\n",
    "    footpaths = pickle.load(f)"
   ]
  },
  {
   "cell_type": "code",
   "execution_count": 10,
   "id": "762c39df-f5b3-4066-bec1-64cbde6e68fb",
   "metadata": {},
   "outputs": [],
   "source": [
    "with open('../../data/trips.pickle', 'rb') as f:\n",
    "    trips = pickle.load(f)"
   ]
  },
  {
   "cell_type": "code",
   "execution_count": 11,
   "id": "78df5ff7-fcb5-4ae8-825a-615df6c2d353",
   "metadata": {},
   "outputs": [],
   "source": [
    "with open('../../data/stops.pickle', 'rb') as f:\n",
    "    stops = pickle.load(f)"
   ]
  },
  {
   "cell_type": "code",
   "execution_count": 12,
   "id": "ec8a282b-d605-4b1c-a32c-858ee17ebfa0",
   "metadata": {},
   "outputs": [],
   "source": [
    "with open('../../data/connections_data.pickle', 'rb') as f:\n",
    "    connections = pickle.load(f)"
   ]
  },
  {
   "cell_type": "code",
   "execution_count": 13,
   "id": "76ccde50-e6cb-493b-85ac-1682b5ada5eb",
   "metadata": {},
   "outputs": [],
   "source": [
    "with open('../../data/confidence.pickle', 'rb') as f:\n",
    "    confidences = pickle.load(f)"
   ]
  },
  {
   "cell_type": "code",
   "execution_count": 14,
   "id": "b1be3e35-eff6-4a6d-b535-4dc24b1f562a",
   "metadata": {},
   "outputs": [
    {
     "data": {
      "text/plain": [
       "{'stop_id': '8500926',\n",
       " 'stop_name': 'Oetwil a.d.L., Schweizäcker',\n",
       " 'stop_lat': '47.4236270123012',\n",
       " 'stop_lon': '8.4031825286317',\n",
       " 'parent_station': ''}"
      ]
     },
     "execution_count": 14,
     "metadata": {},
     "output_type": "execute_result"
    }
   ],
   "source": [
    "stops['8500926']"
   ]
  },
  {
   "cell_type": "code",
   "execution_count": 15,
   "id": "84577c49-8a44-4e50-946e-30b0222a6bfe",
   "metadata": {},
   "outputs": [],
   "source": [
    "paper_conn = [[\n",
    "    (\"y\", \"t\", 100000, 110000, \"1\"),\n",
    "    (\"z\", \"t\", 90000, 120000, \"2\"),\n",
    "    (\"x\", \"t\", 80000, 130000, \"3\"),\n",
    "    (\"x\", \"y\", 80000, 90000, \"4\"),\n",
    "    (\"s\", \"z\", 70000, 80000, \"5\"),\n",
    "    (\"s\", \"x\", 60000, 70000, \"6\"),\n",
    "    (\"s\", \"t\", 50000, 140000, \"7\")\n",
    "]]\n",
    "timetable = (None, paper_conn, None, defaultdict(lambda: list()))"
   ]
  },
  {
   "cell_type": "code",
   "execution_count": 16,
   "id": "3a64b606-ed90-43c9-8310-918a2faf45bc",
   "metadata": {},
   "outputs": [],
   "source": [
    "timetable = stops, connections, trips, footpaths, confidences"
   ]
  },
  {
   "cell_type": "code",
   "execution_count": 17,
   "id": "d7559ace-00b1-4f4a-b207-89d841283741",
   "metadata": {},
   "outputs": [
    {
     "data": {
      "text/plain": [
       "datetime.datetime(2022, 5, 25, 17, 59)"
      ]
     },
     "execution_count": 17,
     "metadata": {},
     "output_type": "execute_result"
    }
   ],
   "source": [
    "import datetime\n",
    "datetime.datetime.fromtimestamp(connections[0][2])"
   ]
  },
  {
   "cell_type": "markdown",
   "id": "f5ef3a62-82ae-43d7-a1f5-1d3c7b774dab",
   "metadata": {},
   "source": [
    "# Plan a route"
   ]
  },
  {
   "cell_type": "code",
   "execution_count": 18,
   "id": "7964fefd-51ec-4b99-ad55-aa12e48326ac",
   "metadata": {
    "tags": []
   },
   "outputs": [
    {
     "name": "stdout",
     "output_type": "stream",
     "text": [
      "Starting execution of CSA...\n",
      "Starting extraction of paths... found 8 paths.\n",
      "Starting processing of paths... processed 8 journeys.\n",
      "Starting sorting of paths...\n",
      "End of computation.\n"
     ]
    }
   ],
   "source": [
    "planner = JourneyPlanner(timetable)\n",
    "\n",
    "journeys = planner.plan_route(4, \"8503000:0:9\", \"8590632\", 1653453975, 1653471975, minimum_confidence = 0, max_changes = 3, verbose=True)"
   ]
  },
  {
   "cell_type": "code",
   "execution_count": 13,
   "id": "a91606f9-8571-44df-946d-8e922aff0c77",
   "metadata": {},
   "outputs": [
    {
     "data": {
      "text/plain": [
       "8"
      ]
     },
     "execution_count": 13,
     "metadata": {},
     "output_type": "execute_result"
    }
   ],
   "source": [
    "len(journeys)"
   ]
  },
  {
   "cell_type": "code",
   "execution_count": 25,
   "id": "b3203328-b224-4f45-baa7-045db8f2eaed",
   "metadata": {},
   "outputs": [],
   "source": [
    "for i, journey in enumerate(journeys):\n",
    "    print(f\"JOURNEY {i + 1}\", f\"CONFIDENCE {journey.get_confidence()}\")\n",
    "    print(str(journey))"
   ]
  },
  {
   "cell_type": "code",
   "execution_count": 29,
   "id": "7623a931-bd00-461e-92b1-93a04baad36e",
   "metadata": {},
   "outputs": [],
   "source": [
    "def search_station_id(name):\n",
    "    for stop in stops:\n",
    "        if name in stops[stop]['stop_name']:\n",
    "            print(stop)"
   ]
  },
  {
   "cell_type": "code",
   "execution_count": 30,
   "id": "40237267-94c3-4f62-a4f8-f3f4297e2f35",
   "metadata": {},
   "outputs": [
    {
     "name": "stdout",
     "output_type": "stream",
     "text": [
      "8503000:0:10\n",
      "8503000:0:11\n",
      "8503000:0:12\n",
      "8503000:0:13\n",
      "8503000:0:14\n",
      "8503000:0:15\n",
      "8503000:0:16\n",
      "8503000:0:17\n",
      "8503000:0:18\n",
      "8503000:0:3\n",
      "8503000:0:31\n",
      "8503000:0:32\n",
      "8503000:0:33\n",
      "8503000:0:34\n",
      "8503000:0:4\n",
      "8503000:0:41/42\n",
      "8503000:0:43/44\n",
      "8503000:0:5\n",
      "8503000:0:6\n",
      "8503000:0:7\n",
      "8503000:0:8\n",
      "8503000:0:9\n",
      "8503088:0:21\n",
      "8503088:0:22\n"
     ]
    }
   ],
   "source": [
    "search_station_id(\"Zürich HB\")"
   ]
  },
  {
   "cell_type": "code",
   "execution_count": 16,
   "id": "7d521bd1-f8a3-49b3-8f88-c69c32daa9e4",
   "metadata": {},
   "outputs": [
    {
     "data": {
      "text/plain": [
       "{'stop_name': 'Zürich, Winzerstrasse Süd',\n",
       " 'stop_lat': '47.403372044054',\n",
       " 'stop_lon': '8.486123978826',\n",
       " 'parent_station': ''}"
      ]
     },
     "execution_count": 16,
     "metadata": {},
     "output_type": "execute_result"
    }
   ],
   "source": [
    "stops['8591436']"
   ]
  },
  {
   "cell_type": "code",
   "execution_count": 62,
   "id": "052f7c64-1f6d-42c3-803e-20934b1c8cc8",
   "metadata": {},
   "outputs": [
    {
     "data": {
      "text/plain": [
       "{'stop_name': 'Winterberg ZH, Wältiwis',\n",
       " 'stop_lat': '47.4546690948399',\n",
       " 'stop_lon': '8.69626687326933',\n",
       " 'parent_station': ''}"
      ]
     },
     "execution_count": 62,
     "metadata": {},
     "output_type": "execute_result"
    }
   ],
   "source": [
    "stops['8575942']"
   ]
  }
 ],
 "metadata": {
  "kernelspec": {
   "display_name": "Python 3",
   "language": "python",
   "name": "python3"
  },
  "language_info": {
   "codemirror_mode": {
    "name": "ipython",
    "version": 3
   },
   "file_extension": ".py",
   "mimetype": "text/x-python",
   "name": "python",
   "nbconvert_exporter": "python",
   "pygments_lexer": "ipython3",
   "version": "3.9.7"
  }
 },
 "nbformat": 4,
 "nbformat_minor": 5
}
