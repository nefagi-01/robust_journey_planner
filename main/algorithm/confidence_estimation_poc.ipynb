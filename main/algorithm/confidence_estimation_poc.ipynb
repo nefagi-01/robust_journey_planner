{
 "cells": [
  {
   "cell_type": "code",
   "execution_count": 1,
   "id": "9b6ee2f7-0185-441d-a3b1-6b04c608e2bb",
   "metadata": {},
   "outputs": [],
   "source": [
    "%load_ext sparkmagic.magics"
   ]
  },
  {
   "cell_type": "code",
   "execution_count": 2,
   "id": "ec7aa5b8-1918-41f1-a8d9-b95837b794f6",
   "metadata": {},
   "outputs": [],
   "source": [
    "import os\n",
    "from IPython import get_ipython\n",
    "username = os.environ['RENKU_USERNAME']\n",
    "server = \"http://iccluster029.iccluster.epfl.ch:8998\"\n",
    "\n",
    "# set the application name as \"<your_gaspar_id>-homework3\"\n",
    "get_ipython().run_cell_magic(\n",
    "    'spark',\n",
    "    line='config', \n",
    "    cell=\"\"\"{{ \"name\": \"{0}-homework3\", \"executorMemory\": \"4G\", \"executorCores\": 4, \"numExecutors\": 10, \"driverMemory\": \"4G\"}}\"\"\".format(username)\n",
    ")"
   ]
  },
  {
   "cell_type": "code",
   "execution_count": 3,
   "id": "69212fdd-e72b-4ca9-bd0f-b0b2c04387ec",
   "metadata": {},
   "outputs": [
    {
     "name": "stdout",
     "output_type": "stream",
     "text": [
      "Starting Spark application\n"
     ]
    },
    {
     "data": {
      "text/html": [
       "<table>\n",
       "<tr><th>ID</th><th>YARN Application ID</th><th>Kind</th><th>State</th><th>Spark UI</th><th>Driver log</th><th>User</th><th>Current session?</th></tr><tr><td>5351</td><td>application_1649870447656_1958</td><td>pyspark</td><td>idle</td><td><a target=\"_blank\" href=\"http://iccluster029.iccluster.epfl.ch:8088/proxy/application_1649870447656_1958/\">Link</a></td><td><a target=\"_blank\" href=\"http://iccluster059.iccluster.epfl.ch:8042/node/containerlogs/container_e04_1649870447656_1958_01_000001/eric\">Link</a></td><td>None</td><td>✔</td></tr></table>"
      ],
      "text/plain": [
       "<IPython.core.display.HTML object>"
      ]
     },
     "metadata": {},
     "output_type": "display_data"
    },
    {
     "data": {
      "application/vnd.jupyter.widget-view+json": {
       "model_id": "",
       "version_major": 2,
       "version_minor": 0
      },
      "text/plain": [
       "FloatProgress(value=0.0, bar_style='info', description='Progress:', layout=Layout(height='25px', width='50%'),…"
      ]
     },
     "metadata": {},
     "output_type": "display_data"
    },
    {
     "name": "stdout",
     "output_type": "stream",
     "text": [
      "SparkSession available as 'spark'.\n"
     ]
    }
   ],
   "source": [
    "get_ipython().run_line_magic(\n",
    "    \"spark\", \"add -s {0}-homework3 -l python -u {1} -k\".format(username, server)\n",
    ")"
   ]
  },
  {
   "cell_type": "code",
   "execution_count": 4,
   "id": "842972c7-486d-4bc6-a409-f313335b3db5",
   "metadata": {},
   "outputs": [
    {
     "data": {
      "application/vnd.jupyter.widget-view+json": {
       "model_id": "",
       "version_major": 2,
       "version_minor": 0
      },
      "text/plain": [
       "FloatProgress(value=0.0, bar_style='info', description='Progress:', layout=Layout(height='25px', width='50%'),…"
      ]
     },
     "metadata": {},
     "output_type": "display_data"
    },
    {
     "name": "stdout",
     "output_type": "stream",
     "text": [
      "We are using Spark 2.3.2.3.1.4.0-315"
     ]
    }
   ],
   "source": [
    "%%spark\n",
    "print('We are using Spark %s' % spark.version)"
   ]
  },
  {
   "cell_type": "code",
   "execution_count": 5,
   "id": "943dfaa7-c85d-4e41-9b6c-b61ebd1a6c45",
   "metadata": {},
   "outputs": [
    {
     "data": {
      "text/plain": [
       "\u001b[0;31mDocstring:\u001b[0m\n",
       "::\n",
       "\n",
       "  %spark [-c CONTEXT] [-s SESSION] [-o OUTPUT] [-q [QUIET]]\n",
       "             [-m SAMPLEMETHOD] [-n MAXROWS] [-r SAMPLEFRACTION] [-u URL]\n",
       "             [-a USER] [-p PASSWORD] [-t AUTH] [-l LANGUAGE] [-k [SKIP]]\n",
       "             [-i ID] [-e COERCE]\n",
       "             [command ...]\n",
       "\n",
       "Magic to execute spark remotely.\n",
       "\n",
       "This magic allows you to create a Livy Scala or Python session against a Livy endpoint. Every session can\n",
       "be used to execute either Spark code or SparkSQL code by executing against the SQL context in the session.\n",
       "When the SQL context is used, the result will be a Pandas dataframe of a sample of the results.\n",
       "\n",
       "If invoked with no subcommand, the cell will be executed against the specified session.\n",
       "\n",
       "Subcommands\n",
       "-----------\n",
       "info\n",
       "    Display the available Livy sessions and other configurations for sessions.\n",
       "add\n",
       "    Add a Livy session given a session name (-s), language (-l), and endpoint credentials.\n",
       "    The -k argument, if present, will skip adding this session if it already exists.\n",
       "    e.g. `%spark add -s test -l python -u https://sparkcluster.net/livy -t Kerberos -a u -p -k`\n",
       "config\n",
       "    Override the livy session properties sent to Livy on session creation. All session creations will\n",
       "    contain these config settings from then on.\n",
       "    Expected value is a JSON key-value string to be sent as part of the Request Body for the POST /sessions\n",
       "    endpoint in Livy.\n",
       "    e.g. `%%spark config`\n",
       "         `{\"driverMemory\":\"1000M\", \"executorCores\":4}`\n",
       "run\n",
       "    Run Spark code against a session.\n",
       "    e.g. `%%spark -s testsession` will execute the cell code against the testsession previously created\n",
       "    e.g. `%%spark -s testsession -c sql` will execute the SQL code against the testsession previously created\n",
       "    e.g. `%%spark -s testsession -c sql -o my_var` will execute the SQL code against the testsession\n",
       "             previously created and store the pandas dataframe created in the my_var variable in the\n",
       "             Python environment.\n",
       "logs\n",
       "    Returns the logs for a given session.\n",
       "    e.g. `%spark logs -s testsession` will return the logs for the testsession previously created\n",
       "delete\n",
       "    Delete a Livy session.\n",
       "    e.g. `%spark delete -s defaultlivy`\n",
       "cleanup\n",
       "    Delete all Livy sessions created by the notebook. No arguments required.\n",
       "    e.g. `%spark cleanup`\n",
       "\n",
       "positional arguments:\n",
       "  command               Commands to execute.\n",
       "\n",
       "optional arguments:\n",
       "  -c CONTEXT, --context CONTEXT\n",
       "                        Context to use: 'spark' for spark and 'sql' for sql\n",
       "                        queries. Default is 'spark'.\n",
       "  -s SESSION, --session SESSION\n",
       "                        The name of the Livy session to use.\n",
       "  -o OUTPUT, --output OUTPUT\n",
       "                        If present, output when using SQL queries will be\n",
       "                        stored in this variable.\n",
       "  -q <[QUIET]>, --quiet <[QUIET]>\n",
       "                        Do not display visualizations on SQL queries\n",
       "  -m SAMPLEMETHOD, --samplemethod SAMPLEMETHOD\n",
       "                        Sample method for SQL queries: either take or sample\n",
       "  -n MAXROWS, --maxrows MAXROWS\n",
       "                        Maximum number of rows that will be pulled back from\n",
       "                        the server for SQL queries\n",
       "  -r SAMPLEFRACTION, --samplefraction SAMPLEFRACTION\n",
       "                        Sample fraction for sampling from SQL queries\n",
       "  -u URL, --url URL     URL for Livy endpoint\n",
       "  -a USER, --user USER  Username for HTTP access to Livy endpoint\n",
       "  -p PASSWORD, --password PASSWORD\n",
       "                        Password for HTTP access to Livy endpoint\n",
       "  -t AUTH, --auth AUTH  Auth type for HTTP access to Livy endpoint. [Kerberos,\n",
       "                        None, Basic]\n",
       "  -l LANGUAGE, --language LANGUAGE\n",
       "                        Language for Livy session; one of python, scala, r\n",
       "  -k <[SKIP]>, --skip <[SKIP]>\n",
       "                        Skip adding session if it already exists\n",
       "  -i ID, --id ID        Session ID\n",
       "  -e COERCE, --coerce COERCE\n",
       "                        Whether to automatically coerce the types (default,\n",
       "                        pass True if being explicit) of the dataframe or not\n",
       "                        (pass False)\n",
       "\u001b[0;31mFile:\u001b[0m      /opt/conda/lib/python3.9/site-packages/sparkmagic/livyclientlib/exceptions.py\n"
      ]
     },
     "metadata": {},
     "output_type": "display_data"
    }
   ],
   "source": [
    "%%spark?"
   ]
  },
  {
   "cell_type": "markdown",
   "id": "b1d2c081-7f51-4df1-b7b1-a8196b7cee69",
   "metadata": {},
   "source": [
    "## Confidence"
   ]
  },
  {
   "cell_type": "markdown",
   "id": "69649b44-8f81-4051-aecc-fc2aa8148ffd",
   "metadata": {},
   "source": [
    "### Import data"
   ]
  },
  {
   "cell_type": "code",
   "execution_count": 55,
   "id": "636ad120-7c33-4ee3-804b-a023e34dfcc1",
   "metadata": {},
   "outputs": [
    {
     "data": {
      "application/vnd.jupyter.widget-view+json": {
       "model_id": "",
       "version_major": 2,
       "version_minor": 0
      },
      "text/plain": [
       "FloatProgress(value=0.0, bar_style='info', description='Progress:', layout=Layout(height='25px', width='50%'),…"
      ]
     },
     "metadata": {},
     "output_type": "display_data"
    },
    {
     "name": "stdout",
     "output_type": "stream",
     "text": [
      "root\n",
      " |-- stop_id: string (nullable = true)"
     ]
    }
   ],
   "source": [
    "%%spark\n",
    "#import filtered stop_ids\n",
    "stops_table = spark.read.option(\"header\",True).options(delimiter=';').csv(\"/group/five-guys/stops_table\")\n",
    "stops_table = stops_table.select(stops_table.stop_id)\n",
    "stops_table.printSchema()"
   ]
  },
  {
   "cell_type": "code",
   "execution_count": 56,
   "id": "9102687a-cf56-4864-b0e9-6b28383e94e8",
   "metadata": {},
   "outputs": [
    {
     "data": {
      "application/vnd.jupyter.widget-view+json": {
       "model_id": "",
       "version_major": 2,
       "version_minor": 0
      },
      "text/plain": [
       "FloatProgress(value=0.0, bar_style='info', description='Progress:', layout=Layout(height='25px', width='50%'),…"
      ]
     },
     "metadata": {},
     "output_type": "display_data"
    }
   ],
   "source": [
    "%%spark\n",
    "actual_data = spark.read.orc('/data/sbb/orc/istdaten')\n",
    "#actual_data.printSchema()"
   ]
  },
  {
   "cell_type": "code",
   "execution_count": 57,
   "id": "ad175c0e-bc56-494e-a2eb-fcb6c0e11749",
   "metadata": {},
   "outputs": [
    {
     "data": {
      "application/vnd.jupyter.widget-view+json": {
       "model_id": "",
       "version_major": 2,
       "version_minor": 0
      },
      "text/plain": [
       "FloatProgress(value=0.0, bar_style='info', description='Progress:', layout=Layout(height='25px', width='50%'),…"
      ]
     },
     "metadata": {},
     "output_type": "display_data"
    }
   ],
   "source": [
    "%%spark\n",
    "#subsample\n",
    "actual_data = actual_data.sample(0.001, seed=0)"
   ]
  },
  {
   "cell_type": "markdown",
   "id": "d87b9973-99b5-4910-9349-a846f1545419",
   "metadata": {},
   "source": [
    "### Rename columns"
   ]
  },
  {
   "cell_type": "markdown",
   "id": "a475baee-cf23-452e-8c73-4b4b8d9bcbfb",
   "metadata": {},
   "source": [
    "Columns are renamed in English as follows:\n",
    "- `betriebstag` to DATE\n",
    "- `produkt_id` to PRODUCT_ID\n",
    "- `fahrt_bezeichner` to TRIP_ID\n",
    "- `bpuic` to STOP_ID\n",
    "- `haltestellen_name` to STOP_NAME\n",
    "- `ankunftszeit` to ARRIVAL_TIME\n",
    "- `an_prognose_status` to ARRIVAL_TIME_STATUS\n",
    "- `an_prognose` to ACTUAL_ARRIVAL_TIME\n",
    "- `abfahrtszeit` to DEPARTURE_TIME\n",
    "- `ab_prognose_status` to DEPARTURE_TIME_STATUS\n",
    "- `ab_prognose` to ACTUAL_DEPARTURE_TIME"
   ]
  },
  {
   "cell_type": "code",
   "execution_count": 58,
   "id": "b4b0e8a7-2bde-455e-8606-3f5d8cbc8083",
   "metadata": {},
   "outputs": [
    {
     "data": {
      "application/vnd.jupyter.widget-view+json": {
       "model_id": "",
       "version_major": 2,
       "version_minor": 0
      },
      "text/plain": [
       "FloatProgress(value=0.0, bar_style='info', description='Progress:', layout=Layout(height='25px', width='50%'),…"
      ]
     },
     "metadata": {},
     "output_type": "display_data"
    }
   ],
   "source": [
    "%%spark\n",
    "\n",
    "#rename columns in english\n",
    "actual_data = actual_data.select(actual_data.betriebstag.alias('DATE'),\\\n",
    "                                 actual_data.produkt_id.alias('PRODUCT_ID'),\\\n",
    "                                 actual_data.bpuic.alias('STOP_ID'),\\\n",
    "                                 actual_data.haltestellen_name.alias('STOP_NAME'),\\\n",
    "                                 actual_data.fahrt_bezeichner.alias('TRIP_ID'),\\\n",
    "                                 actual_data.ankunftszeit.alias('ARRIVAL_TIME'),\\\n",
    "                                 actual_data.an_prognose_status.alias('ARRIVAL_TIME_STATUS'),\\\n",
    "                                 actual_data.an_prognose.alias('ACTUAL_ARRIVAL_TIME'),\\\n",
    "                                 actual_data.abfahrtszeit.alias('DEPARTURE_TIME'),\\\n",
    "                                 actual_data.ab_prognose_status.alias('DEPARTURE_TIME_STATUS'),\n",
    "                                 actual_data.ab_prognose.alias('ACTUAL_DEPARTURE_TIME'))"
   ]
  },
  {
   "cell_type": "markdown",
   "id": "af82fd8b-1559-4ba9-9ce0-4abd42ef6a00",
   "metadata": {},
   "source": [
    "### Filter stop_id"
   ]
  },
  {
   "cell_type": "code",
   "execution_count": 59,
   "id": "0e85f372-1118-423f-805a-4ff0103ef338",
   "metadata": {},
   "outputs": [
    {
     "data": {
      "application/vnd.jupyter.widget-view+json": {
       "model_id": "",
       "version_major": 2,
       "version_minor": 0
      },
      "text/plain": [
       "FloatProgress(value=0.0, bar_style='info', description='Progress:', layout=Layout(height='25px', width='50%'),…"
      ]
     },
     "metadata": {},
     "output_type": "display_data"
    }
   ],
   "source": [
    "%%spark\n",
    "#use only stop_ids from stops_table\n",
    "tmp = actual_data.join(stops_table, (actual_data['STOP_ID'] == stops_table['stop_id']), how='inner')\n",
    "actual_data = tmp.select(actual_data.DATE,\\\n",
    "                                 actual_data.PRODUCT_ID,\\\n",
    "                                 actual_data.STOP_ID,\\\n",
    "                                 actual_data.STOP_NAME,\\\n",
    "                                 actual_data.TRIP_ID,\\\n",
    "                                 actual_data.ARRIVAL_TIME,\\\n",
    "                                 actual_data.ARRIVAL_TIME_STATUS,\\\n",
    "                                 actual_data.ACTUAL_ARRIVAL_TIME,\\\n",
    "                                 actual_data.DEPARTURE_TIME,\\\n",
    "                                 actual_data.DEPARTURE_TIME_STATUS,\n",
    "                                 actual_data.ACTUAL_DEPARTURE_TIME\n",
    "                        )"
   ]
  },
  {
   "cell_type": "markdown",
   "id": "27151756-0999-483e-a4be-b421c03c6724",
   "metadata": {},
   "source": [
    "### Prepare table"
   ]
  },
  {
   "cell_type": "code",
   "execution_count": 60,
   "id": "fdda1fc1-5655-4713-bd6e-7f058cbe3c36",
   "metadata": {},
   "outputs": [
    {
     "data": {
      "application/vnd.jupyter.widget-view+json": {
       "model_id": "",
       "version_major": 2,
       "version_minor": 0
      },
      "text/plain": [
       "FloatProgress(value=0.0, bar_style='info', description='Progress:', layout=Layout(height='25px', width='50%'),…"
      ]
     },
     "metadata": {},
     "output_type": "display_data"
    }
   ],
   "source": [
    "%%spark\n",
    "import pyspark.sql.functions as F\n",
    "# F.date_format(F.to_timestamp(df_used.timestamp_s), 'yyyy-MM-dd HH:mm:ss').alias('date'))\n",
    "df = actual_data.withColumn('DATE', F.date_format(F.to_timestamp(actual_data.DATE, 'dd.MM.yyyy'), 'yyyy-MM-dd'))"
   ]
  },
  {
   "cell_type": "code",
   "execution_count": 61,
   "id": "c3ed26c5-203d-4a25-9f8a-66b07f4caefb",
   "metadata": {},
   "outputs": [
    {
     "data": {
      "application/vnd.jupyter.widget-view+json": {
       "model_id": "",
       "version_major": 2,
       "version_minor": 0
      },
      "text/plain": [
       "FloatProgress(value=0.0, bar_style='info', description='Progress:', layout=Layout(height='25px', width='50%'),…"
      ]
     },
     "metadata": {},
     "output_type": "display_data"
    }
   ],
   "source": [
    "%%spark\n",
    "import pyspark.sql.functions as F\n",
    "\n",
    "df = df.withColumn('DAY_OF_WEEK', ((F.dayofweek(df['DATE'])+5)%7)+1)"
   ]
  },
  {
   "cell_type": "code",
   "execution_count": 62,
   "id": "b9c5d5e6-5327-4744-8824-c6185d6edf80",
   "metadata": {},
   "outputs": [
    {
     "data": {
      "application/vnd.jupyter.widget-view+json": {
       "model_id": "",
       "version_major": 2,
       "version_minor": 0
      },
      "text/plain": [
       "FloatProgress(value=0.0, bar_style='info', description='Progress:', layout=Layout(height='25px', width='50%'),…"
      ]
     },
     "metadata": {},
     "output_type": "display_data"
    }
   ],
   "source": [
    "%%spark\n",
    "import pyspark.sql.functions as F\n",
    "\n",
    "#remove entries with ARRIVAL_TIME_STATUS and DEPARTURE_TIME_STATUS unknown\n",
    "df = df.filter(df['ARRIVAL_TIME_STATUS'] != 'UNBEKANNT')\n",
    "df = df.filter(df['DEPARTURE_TIME_STATUS'] != 'UNBEKANNT')\n",
    "\n",
    "#remove entries with ARRIVAL_TIME_STATUS and DEPARTURE_TIME_STATUS is empty\n",
    "df = df.filter(df['ARRIVAL_TIME_STATUS'] != '')\n",
    "df = df.filter(df['DEPARTURE_TIME_STATUS'] != '')\n",
    "\n",
    "#remove entries with PRODUCT_ID empty\n",
    "df = df.filter(df['PRODUCT_ID'] != '')\n",
    "\n",
    "#remove entries with STOP_ID empty\n",
    "df = df.filter(df['STOP_ID'] != '')\n",
    "\n",
    "#remove entries with STOP_NAME empty\n",
    "df = df.filter(df['STOP_NAME'] != '')\n",
    "\n",
    "#remove entries with TRIP_ID empty\n",
    "df = df.filter(df['TRIP_ID'] != '')\n",
    "\n",
    "#transform to unix_timestamp\n",
    "df = df.withColumn('ARRIVAL_TIME', F.unix_timestamp(df.ARRIVAL_TIME, 'dd.MM.yyyy HH:mm'))\n",
    "df = df.withColumn('ACTUAL_ARRIVAL_TIME', F.unix_timestamp(df.ACTUAL_ARRIVAL_TIME, 'dd.MM.yyyy HH:mm'))\n",
    "df = df.withColumn('DEPARTURE_TIME', F.unix_timestamp(df.DEPARTURE_TIME, 'dd.MM.yyyy HH:mm'))\n",
    "df = df.withColumn('ACTUAL_DEPARTURE_TIME', F.unix_timestamp(df.ACTUAL_DEPARTURE_TIME, 'dd.MM.yyyy HH:mm'))\n",
    "\n",
    "#fill null with 0 \n",
    "#When the stop is the start or end of a journey, the corresponding columns will be empty (ANKUNFTSZEIT/ABFAHRTSZEIT)\n",
    "df = df.na.fill({'ARRIVAL_TIME' : 0, 'ACTUAL_ARRIVAL_TIME' : 0, 'DEPARTURE_TIME' : 0, 'ACTUAL_DEPARTURE_TIME' : 0})\n",
    "\n",
    "#compute delay\n",
    "df = df.withColumn('ARRIVAL_DELAY', F.when((df['ACTUAL_ARRIVAL_TIME']-df['ARRIVAL_TIME'] )< 0, 0).otherwise(df['ACTUAL_ARRIVAL_TIME']-df['ARRIVAL_TIME']))\n",
    "df = df.withColumn('DEPARTURE_DELAY', F.when((df['ACTUAL_DEPARTURE_TIME']-df['DEPARTURE_TIME'] )< 0, 0).otherwise(df['ACTUAL_DEPARTURE_TIME']-df['DEPARTURE_TIME']))\n",
    "\n",
    "#convert seconds in minutes\n",
    "df = df.withColumn('ARRIVAL_DELAY', F.round(df['ARRIVAL_DELAY']/60))\n",
    "df = df.withColumn('DEPARTURE_DELAY', F.round(df['DEPARTURE_DELAY']/60))"
   ]
  },
  {
   "cell_type": "code",
   "execution_count": 63,
   "id": "7b38b739-c16a-4605-be2d-3023c4f2a412",
   "metadata": {},
   "outputs": [
    {
     "data": {
      "application/vnd.jupyter.widget-view+json": {
       "model_id": "",
       "version_major": 2,
       "version_minor": 0
      },
      "text/plain": [
       "FloatProgress(value=0.0, bar_style='info', description='Progress:', layout=Layout(height='25px', width='50%'),…"
      ]
     },
     "metadata": {},
     "output_type": "display_data"
    }
   ],
   "source": [
    "%%spark\n",
    "\n",
    "#define HOUR_ARRIVAL\n",
    "df = df.withColumn('HOUR_ARRIVAL', F.hour(F.from_unixtime(df['ARRIVAL_TIME'])))\n",
    "df = df.withColumn('HOUR_DEPARTURE', F.hour(F.from_unixtime(df['DEPARTURE_TIME'])))"
   ]
  },
  {
   "cell_type": "markdown",
   "id": "69e11197-06b3-404a-96aa-f38f37ff3f3b",
   "metadata": {},
   "source": [
    "### Filter data based on simplifying assumptions"
   ]
  },
  {
   "cell_type": "markdown",
   "id": "c2073988-0307-4552-8330-8afc4134e5d8",
   "metadata": {},
   "source": [
    "We only consider journeys at reasonable hours of the day, and on a typical business day.\n",
    "- `day`: from Monday to Friday\n",
    "- `hours`: first departure at 9:00, last arrival at 17:59"
   ]
  },
  {
   "cell_type": "code",
   "execution_count": 64,
   "id": "00227f03-9685-4989-a556-291af6c257fe",
   "metadata": {},
   "outputs": [
    {
     "data": {
      "application/vnd.jupyter.widget-view+json": {
       "model_id": "",
       "version_major": 2,
       "version_minor": 0
      },
      "text/plain": [
       "FloatProgress(value=0.0, bar_style='info', description='Progress:', layout=Layout(height='25px', width='50%'),…"
      ]
     },
     "metadata": {},
     "output_type": "display_data"
    }
   ],
   "source": [
    "%%spark\n",
    "\n",
    "#business day\n",
    "df = df.filter(df['DAY_OF_WEEK'] <6)\n",
    "#reasonable hours of the day\n",
    "df = df.filter(F.hour(F.from_unixtime(df['DEPARTURE_TIME']))>=9)\n",
    "df = df.filter(F.hour(F.from_unixtime(df['ARRIVAL_TIME']))<18)"
   ]
  },
  {
   "cell_type": "code",
   "execution_count": 65,
   "id": "a53538db-a44e-4c0a-a9a3-e1714cf5bdd7",
   "metadata": {},
   "outputs": [
    {
     "data": {
      "application/vnd.jupyter.widget-view+json": {
       "model_id": "",
       "version_major": 2,
       "version_minor": 0
      },
      "text/plain": [
       "FloatProgress(value=0.0, bar_style='info', description='Progress:', layout=Layout(height='25px', width='50%'),…"
      ]
     },
     "metadata": {},
     "output_type": "display_data"
    },
    {
     "name": "stdout",
     "output_type": "stream",
     "text": [
      "DataFrame[DATE: string, PRODUCT_ID: string, STOP_ID: string, STOP_NAME: string, TRIP_ID: string, ARRIVAL_TIME: bigint, ARRIVAL_TIME_STATUS: string, ACTUAL_ARRIVAL_TIME: bigint, DEPARTURE_TIME: bigint, DEPARTURE_TIME_STATUS: string, ACTUAL_DEPARTURE_TIME: bigint, DAY_OF_WEEK: int, ARRIVAL_DELAY: double, DEPARTURE_DELAY: double, HOUR_ARRIVAL: int, HOUR_DEPARTURE: int]"
     ]
    }
   ],
   "source": [
    "%%spark\n",
    "\n",
    "df.cache()"
   ]
  },
  {
   "cell_type": "code",
   "execution_count": 66,
   "id": "c4dafd29-48fd-412b-bebb-483086510a72",
   "metadata": {},
   "outputs": [
    {
     "data": {
      "application/vnd.jupyter.widget-view+json": {
       "model_id": "",
       "version_major": 2,
       "version_minor": 0
      },
      "text/plain": [
       "FloatProgress(value=0.0, bar_style='info', description='Progress:', layout=Layout(height='25px', width='50%'),…"
      ]
     },
     "metadata": {},
     "output_type": "display_data"
    },
    {
     "name": "stdout",
     "output_type": "stream",
     "text": [
      "+------------+----------+--------------+------------+--------------------+------+-------+---------+--------+------+----------+------------+---------+--------------------+--------------------+--------------+---------------------+---------------------+----------------+-----------------------+-----------------------+-------------+---------------+-----------------+--------------+----------------+----------+------------+---------+--------------------+--------------------+--------------+---------------------+---------------------+----------------+-----------------------+-----------------------+-------------+---------------+-----------------+--------------+----------------+\n",
      "|departure_id|arrival_id|departure_time|arrival_time|             trip_id|monday|tuesday|wednesday|thursday|friday|    A_DATE|A_PRODUCT_ID|A_STOP_ID|         A_STOP_NAME|           A_TRIP_ID|A_ARRIVAL_TIME|A_ARRIVAL_TIME_STATUS|A_ACTUAL_ARRIVAL_TIME|A_DEPARTURE_TIME|A_DEPARTURE_TIME_STATUS|A_ACTUAL_DEPARTURE_TIME|A_DAY_OF_WEEK|A_ARRIVAL_DELAY|A_DEPARTURE_DELAY|A_HOUR_ARRIVAL|A_HOUR_DEPARTURE|    B_DATE|B_PRODUCT_ID|B_STOP_ID|         B_STOP_NAME|           B_TRIP_ID|B_ARRIVAL_TIME|B_ARRIVAL_TIME_STATUS|B_ACTUAL_ARRIVAL_TIME|B_DEPARTURE_TIME|B_DEPARTURE_TIME_STATUS|B_ACTUAL_DEPARTURE_TIME|B_DAY_OF_WEEK|B_ARRIVAL_DELAY|B_DEPARTURE_DELAY|B_HOUR_ARRIVAL|B_HOUR_DEPARTURE|\n",
      "+------------+----------+--------------+------------+--------------------+------+-------+---------+--------+------+----------+------------+---------+--------------------+--------------------+--------------+---------------------+---------------------+----------------+-----------------------+-----------------------+-------------+---------------+-----------------+--------------+----------------+----------+------------+---------+--------------------+--------------------+--------------+---------------------+---------------------+----------------+-----------------------+-----------------------+-------------+---------------+-----------------+--------------+----------------+\n",
      "|     8591341|   8502572|      17:05:00|    17:07:00|131.TA.26-67-j19-...|     1|      0|        0|       0|     0|2019-08-13|         Bus|  8591341|Zürich, Schmiede ...|85:801:430485-462...|    1565706780|             PROGNOSE|           1565706840|      1565706780|               PROGNOSE|             1565706840|            2|            1.0|              1.0|            16|              16|2019-08-13|        Tram|  8502572|Zürich, Goldbrunn...|85:3849:87912-020...|    1565688780|             PROGNOSE|           1565688780|      1565688840|               PROGNOSE|             1565688840|            2|            0.0|              0.0|            11|              11|\n",
      "|     8591341|   8502572|      17:05:00|    17:07:00|131.TA.26-67-j19-...|     1|      0|        0|       0|     0|2019-08-13|         Bus|  8591341|Zürich, Schmiede ...|85:801:430485-462...|    1565706780|             PROGNOSE|           1565706840|      1565706780|               PROGNOSE|             1565706840|            2|            1.0|              1.0|            16|              16|2019-08-13|        Tram|  8502572|Zürich, Goldbrunn...|85:3849:87962-020...|    1565684280|             PROGNOSE|           1565684340|      1565684340|               PROGNOSE|             1565684340|            2|            1.0|              0.0|            10|              10|\n",
      "|     8591341|   8502572|      17:03:00|    17:04:00|158.TA.26-220-j19...|     1|      1|        1|       1|     0|2019-08-13|         Bus|  8591341|Zürich, Schmiede ...|85:801:430485-462...|    1565706780|             PROGNOSE|           1565706840|      1565706780|               PROGNOSE|             1565706840|            2|            1.0|              1.0|            16|              16|2019-08-13|        Tram|  8502572|Zürich, Goldbrunn...|85:3849:87912-020...|    1565688780|             PROGNOSE|           1565688780|      1565688840|               PROGNOSE|             1565688840|            2|            0.0|              0.0|            11|              11|\n",
      "|     8591341|   8502572|      17:03:00|    17:04:00|158.TA.26-220-j19...|     1|      1|        1|       1|     0|2019-08-13|         Bus|  8591341|Zürich, Schmiede ...|85:801:430485-462...|    1565706780|             PROGNOSE|           1565706840|      1565706780|               PROGNOSE|             1565706840|            2|            1.0|              1.0|            16|              16|2019-08-13|        Tram|  8502572|Zürich, Goldbrunn...|85:3849:87962-020...|    1565684280|             PROGNOSE|           1565684340|      1565684340|               PROGNOSE|             1565684340|            2|            1.0|              0.0|            10|              10|\n",
      "|     8591341|   8502572|      17:03:00|    17:04:00|148.TA.26-220-j19...|     1|      1|        1|       1|     0|2019-08-13|         Bus|  8591341|Zürich, Schmiede ...|85:801:430485-462...|    1565706780|             PROGNOSE|           1565706840|      1565706780|               PROGNOSE|             1565706840|            2|            1.0|              1.0|            16|              16|2019-08-13|        Tram|  8502572|Zürich, Goldbrunn...|85:3849:87912-020...|    1565688780|             PROGNOSE|           1565688780|      1565688840|               PROGNOSE|             1565688840|            2|            0.0|              0.0|            11|              11|\n",
      "|     8591341|   8502572|      17:03:00|    17:04:00|148.TA.26-220-j19...|     1|      1|        1|       1|     0|2019-08-13|         Bus|  8591341|Zürich, Schmiede ...|85:801:430485-462...|    1565706780|             PROGNOSE|           1565706840|      1565706780|               PROGNOSE|             1565706840|            2|            1.0|              1.0|            16|              16|2019-08-13|        Tram|  8502572|Zürich, Goldbrunn...|85:3849:87962-020...|    1565684280|             PROGNOSE|           1565684340|      1565684340|               PROGNOSE|             1565684340|            2|            1.0|              0.0|            10|              10|\n",
      "|     8591341|   8502572|      17:03:00|    17:05:00|88.TA.26-9-B-j19-...|     1|      1|        1|       1|     0|2019-08-13|         Bus|  8591341|Zürich, Schmiede ...|85:801:430485-462...|    1565706780|             PROGNOSE|           1565706840|      1565706780|               PROGNOSE|             1565706840|            2|            1.0|              1.0|            16|              16|2019-08-13|        Tram|  8502572|Zürich, Goldbrunn...|85:3849:87912-020...|    1565688780|             PROGNOSE|           1565688780|      1565688840|               PROGNOSE|             1565688840|            2|            0.0|              0.0|            11|              11|\n",
      "|     8591341|   8502572|      17:03:00|    17:05:00|88.TA.26-9-B-j19-...|     1|      1|        1|       1|     0|2019-08-13|         Bus|  8591341|Zürich, Schmiede ...|85:801:430485-462...|    1565706780|             PROGNOSE|           1565706840|      1565706780|               PROGNOSE|             1565706840|            2|            1.0|              1.0|            16|              16|2019-08-13|        Tram|  8502572|Zürich, Goldbrunn...|85:3849:87962-020...|    1565684280|             PROGNOSE|           1565684340|      1565684340|               PROGNOSE|             1565684340|            2|            1.0|              0.0|            10|              10|\n",
      "|     8591341|   8502572|      17:03:00|    17:05:00|224.TA.26-9-B-j19...|     0|      0|        0|       0|     1|2019-08-13|         Bus|  8591341|Zürich, Schmiede ...|85:801:430485-462...|    1565706780|             PROGNOSE|           1565706840|      1565706780|               PROGNOSE|             1565706840|            2|            1.0|              1.0|            16|              16|2019-08-13|        Tram|  8502572|Zürich, Goldbrunn...|85:3849:87912-020...|    1565688780|             PROGNOSE|           1565688780|      1565688840|               PROGNOSE|             1565688840|            2|            0.0|              0.0|            11|              11|\n",
      "|     8591341|   8502572|      17:03:00|    17:05:00|224.TA.26-9-B-j19...|     0|      0|        0|       0|     1|2019-08-13|         Bus|  8591341|Zürich, Schmiede ...|85:801:430485-462...|    1565706780|             PROGNOSE|           1565706840|      1565706780|               PROGNOSE|             1565706840|            2|            1.0|              1.0|            16|              16|2019-08-13|        Tram|  8502572|Zürich, Goldbrunn...|85:3849:87962-020...|    1565684280|             PROGNOSE|           1565684340|      1565684340|               PROGNOSE|             1565684340|            2|            1.0|              0.0|            10|              10|\n",
      "|     8591341|   8502572|      17:03:00|    17:04:00|136.TA.26-220-j19...|     1|      1|        1|       1|     0|2019-08-13|         Bus|  8591341|Zürich, Schmiede ...|85:801:430485-462...|    1565706780|             PROGNOSE|           1565706840|      1565706780|               PROGNOSE|             1565706840|            2|            1.0|              1.0|            16|              16|2019-08-13|        Tram|  8502572|Zürich, Goldbrunn...|85:3849:87912-020...|    1565688780|             PROGNOSE|           1565688780|      1565688840|               PROGNOSE|             1565688840|            2|            0.0|              0.0|            11|              11|\n",
      "|     8591341|   8502572|      17:03:00|    17:04:00|136.TA.26-220-j19...|     1|      1|        1|       1|     0|2019-08-13|         Bus|  8591341|Zürich, Schmiede ...|85:801:430485-462...|    1565706780|             PROGNOSE|           1565706840|      1565706780|               PROGNOSE|             1565706840|            2|            1.0|              1.0|            16|              16|2019-08-13|        Tram|  8502572|Zürich, Goldbrunn...|85:3849:87962-020...|    1565684280|             PROGNOSE|           1565684340|      1565684340|               PROGNOSE|             1565684340|            2|            1.0|              0.0|            10|              10|\n",
      "|     8591341|   8502572|      17:03:00|    17:04:00|173.TA.26-220-j19...|     1|      1|        1|       1|     0|2019-08-13|         Bus|  8591341|Zürich, Schmiede ...|85:801:430485-462...|    1565706780|             PROGNOSE|           1565706840|      1565706780|               PROGNOSE|             1565706840|            2|            1.0|              1.0|            16|              16|2019-08-13|        Tram|  8502572|Zürich, Goldbrunn...|85:3849:87912-020...|    1565688780|             PROGNOSE|           1565688780|      1565688840|               PROGNOSE|             1565688840|            2|            0.0|              0.0|            11|              11|\n",
      "|     8591341|   8502572|      17:03:00|    17:04:00|173.TA.26-220-j19...|     1|      1|        1|       1|     0|2019-08-13|         Bus|  8591341|Zürich, Schmiede ...|85:801:430485-462...|    1565706780|             PROGNOSE|           1565706840|      1565706780|               PROGNOSE|             1565706840|            2|            1.0|              1.0|            16|              16|2019-08-13|        Tram|  8502572|Zürich, Goldbrunn...|85:3849:87962-020...|    1565684280|             PROGNOSE|           1565684340|      1565684340|               PROGNOSE|             1565684340|            2|            1.0|              0.0|            10|              10|\n",
      "|     8591341|   8502572|      17:03:00|    17:04:00|44.TA.26-220-j19-...|     0|      0|        0|       0|     1|2019-08-13|         Bus|  8591341|Zürich, Schmiede ...|85:801:430485-462...|    1565706780|             PROGNOSE|           1565706840|      1565706780|               PROGNOSE|             1565706840|            2|            1.0|              1.0|            16|              16|2019-08-13|        Tram|  8502572|Zürich, Goldbrunn...|85:3849:87912-020...|    1565688780|             PROGNOSE|           1565688780|      1565688840|               PROGNOSE|             1565688840|            2|            0.0|              0.0|            11|              11|\n",
      "|     8591341|   8502572|      17:03:00|    17:04:00|44.TA.26-220-j19-...|     0|      0|        0|       0|     1|2019-08-13|         Bus|  8591341|Zürich, Schmiede ...|85:801:430485-462...|    1565706780|             PROGNOSE|           1565706840|      1565706780|               PROGNOSE|             1565706840|            2|            1.0|              1.0|            16|              16|2019-08-13|        Tram|  8502572|Zürich, Goldbrunn...|85:3849:87962-020...|    1565684280|             PROGNOSE|           1565684340|      1565684340|               PROGNOSE|             1565684340|            2|            1.0|              0.0|            10|              10|\n",
      "|     8591341|   8502572|      17:03:00|    17:04:00|99.TA.26-220-j19-...|     0|      0|        0|       0|     1|2019-08-13|         Bus|  8591341|Zürich, Schmiede ...|85:801:430485-462...|    1565706780|             PROGNOSE|           1565706840|      1565706780|               PROGNOSE|             1565706840|            2|            1.0|              1.0|            16|              16|2019-08-13|        Tram|  8502572|Zürich, Goldbrunn...|85:3849:87912-020...|    1565688780|             PROGNOSE|           1565688780|      1565688840|               PROGNOSE|             1565688840|            2|            0.0|              0.0|            11|              11|\n",
      "|     8591341|   8502572|      17:03:00|    17:04:00|99.TA.26-220-j19-...|     0|      0|        0|       0|     1|2019-08-13|         Bus|  8591341|Zürich, Schmiede ...|85:801:430485-462...|    1565706780|             PROGNOSE|           1565706840|      1565706780|               PROGNOSE|             1565706840|            2|            1.0|              1.0|            16|              16|2019-08-13|        Tram|  8502572|Zürich, Goldbrunn...|85:3849:87962-020...|    1565684280|             PROGNOSE|           1565684340|      1565684340|               PROGNOSE|             1565684340|            2|            1.0|              0.0|            10|              10|\n",
      "|     8591341|   8502572|      17:03:00|    17:04:00|26.TA.26-220-j19-...|     0|      0|        0|       0|     1|2019-08-13|         Bus|  8591341|Zürich, Schmiede ...|85:801:430485-462...|    1565706780|             PROGNOSE|           1565706840|      1565706780|               PROGNOSE|             1565706840|            2|            1.0|              1.0|            16|              16|2019-08-13|        Tram|  8502572|Zürich, Goldbrunn...|85:3849:87912-020...|    1565688780|             PROGNOSE|           1565688780|      1565688840|               PROGNOSE|             1565688840|            2|            0.0|              0.0|            11|              11|\n",
      "|     8591341|   8502572|      17:03:00|    17:04:00|26.TA.26-220-j19-...|     0|      0|        0|       0|     1|2019-08-13|         Bus|  8591341|Zürich, Schmiede ...|85:801:430485-462...|    1565706780|             PROGNOSE|           1565706840|      1565706780|               PROGNOSE|             1565706840|            2|            1.0|              1.0|            16|              16|2019-08-13|        Tram|  8502572|Zürich, Goldbrunn...|85:3849:87962-020...|    1565684280|             PROGNOSE|           1565684340|      1565684340|               PROGNOSE|             1565684340|            2|            1.0|              0.0|            10|              10|\n",
      "+------------+----------+--------------+------------+--------------------+------+-------+---------+--------+------+----------+------------+---------+--------------------+--------------------+--------------+---------------------+---------------------+----------------+-----------------------+-----------------------+-------------+---------------+-----------------+--------------+----------------+----------+------------+---------+--------------------+--------------------+--------------+---------------------+---------------------+----------------+-----------------------+-----------------------+-------------+---------------+-----------------+--------------+----------------+\n",
      "only showing top 20 rows"
     ]
    }
   ],
   "source": [
    "%%spark\n",
    "\n",
    "#create all possible pairs between stops\n",
    "df_A = df.select([F.col(c).alias(\"A_\"+c) for c in df.columns])\n",
    "df_B = df.select([F.col(c).alias(\"B_\"+c) for c in df.columns])\n",
    "\n",
    "df_1 = connections_table.join(df_A, connections_table.departure_id == df_A.A_STOP_ID, how='inner')\n",
    "df_1 = df_1.join(df_B, (df_1.arrival_id == df_B.B_STOP_ID) & (df_1.A_DATE == df_B.B_DATE))\n",
    "\n",
    "df_2 = df_1.select(df_1.A_DAY_OF_WEEK.alias('DAY_OF_WEEK'),\\\n",
    "                   df_1.A_STOP_ID.alias('DEPARTURE_ID'),\\\n",
    "                   df_1.B_STOP_ID.alias('ARRIVAL_ID'),\\\n",
    "                   df_1.B_HOUR_ARRIVAL.alias('HOUR_ARRIVAL'),\\\n",
    "                   df_1.B_ARRIVAL_DELAY.alias('ARRIVAL_DELAY')\n",
    "                  )"
   ]
  },
  {
   "cell_type": "markdown",
   "id": "d7f206ea-6976-4fe8-94e2-a173062f6ef9",
   "metadata": {},
   "source": [
    "### Comparison number of stops in the two different tables"
   ]
  },
  {
   "cell_type": "code",
   "execution_count": 71,
   "id": "75fc5e33-b259-4478-bcf4-331bf5e53e19",
   "metadata": {},
   "outputs": [
    {
     "data": {
      "application/vnd.jupyter.widget-view+json": {
       "model_id": "",
       "version_major": 2,
       "version_minor": 0
      },
      "text/plain": [
       "FloatProgress(value=0.0, bar_style='info', description='Progress:', layout=Layout(height='25px', width='50%'),…"
      ]
     },
     "metadata": {},
     "output_type": "display_data"
    },
    {
     "name": "stdout",
     "output_type": "stream",
     "text": [
      "3145"
     ]
    }
   ],
   "source": [
    "%%spark\n",
    "\n",
    "df_2.select(df_2.DEPARTURE_ID, df_2.ARRIVAL_ID,).distinct().count()"
   ]
  },
  {
   "cell_type": "code",
   "execution_count": 72,
   "id": "d9b26b03-87d3-46bb-8e69-e268e9c26a11",
   "metadata": {},
   "outputs": [
    {
     "data": {
      "application/vnd.jupyter.widget-view+json": {
       "model_id": "",
       "version_major": 2,
       "version_minor": 0
      },
      "text/plain": [
       "FloatProgress(value=0.0, bar_style='info', description='Progress:', layout=Layout(height='25px', width='50%'),…"
      ]
     },
     "metadata": {},
     "output_type": "display_data"
    },
    {
     "name": "stdout",
     "output_type": "stream",
     "text": [
      "4235"
     ]
    }
   ],
   "source": [
    "%%spark\n",
    "\n",
    "connections_table.select(connections_table.departure_id, connections_table.arrival_id ).distinct().count()"
   ]
  },
  {
   "cell_type": "code",
   "execution_count": 98,
   "id": "c00a4e28-be33-4e27-88c3-97e57ce23361",
   "metadata": {},
   "outputs": [],
   "source": [
    "# %%spark\n",
    "\n",
    "# #create all possible pairs between stops\n",
    "# df_A = df.select([F.col(c).alias(\"A_\"+c) for c in df.columns])\n",
    "# df_B = df.select([F.col(c).alias(\"B_\"+c) for c in df.columns])\n",
    "# cp = df_A.crossJoin(df_B)\n",
    "# #keep only pairs (A_STOP_ID, B_STOP_ID) that are in connections_table\n",
    "\n",
    "# df_1 = cp.join(connections_table, (connections_table.departure_id == cp.A_STOP_ID) & (connections_table.arrival_id == cp.B_STOP_ID), how='inner')\n",
    "# #select only interesting fields\n",
    "# df_2 = df_1.select(df_1.A_DAY_OF_WEEK.alias('DAY_OF_WEEK'),\\\n",
    "#                    df_1.A_STOP_ID.alias('DEPARTURE_ID'),\\\n",
    "#                    df_1.B_STOP_ID.alias('ARRIVAL_ID'),\\\n",
    "#                    df_1.B_HOUR_ARRIVAL.alias('HOUR_ARRIVAL'),\\\n",
    "#                    df_1.trip_id.alias('TRIP_ID'),\\\n",
    "#                    df_1.B_ARRIVAL_DELAY.alias('ARRIVAL_DELAY')\n",
    "#                   )\n",
    "# df_2.cache()"
   ]
  },
  {
   "cell_type": "markdown",
   "id": "307baddb-5cb6-4cb9-a2a8-bed3014f5e10",
   "metadata": {},
   "source": [
    "### Obtain delay cumulative distribution"
   ]
  },
  {
   "cell_type": "code",
   "execution_count": 115,
   "id": "ab3db4c2-b6bc-4c3f-ab49-cd0b1459d865",
   "metadata": {},
   "outputs": [
    {
     "data": {
      "application/vnd.jupyter.widget-view+json": {
       "model_id": "",
       "version_major": 2,
       "version_minor": 0
      },
      "text/plain": [
       "FloatProgress(value=0.0, bar_style='info', description='Progress:', layout=Layout(height='25px', width='50%'),…"
      ]
     },
     "metadata": {},
     "output_type": "display_data"
    },
    {
     "name": "stdout",
     "output_type": "stream",
     "text": [
      "+-----------+------------+----------+-------------+-----+---------+-----------+-------------------+\n",
      "|DAY_OF_WEEK|DEPARTURE_ID|ARRIVAL_ID|ARRIVAL_DELAY|count|TOTAL_SUM|PARTIAL_SUM|         CUMULATIVE|\n",
      "+-----------+------------+----------+-------------+-----+---------+-----------+-------------------+\n",
      "|          3|     8503083|   8591199|          0.0| 4870|     8766|       4870| 0.5555555555555556|\n",
      "|          3|     8503083|   8591199|          1.0| 3409|     8766|       8279| 0.9444444444444444|\n",
      "|          3|     8503083|   8591199|          2.0|  487|     8766|       8766|                1.0|\n",
      "|          3|     8576239|   8576238|          0.0|   18|       36|         18|                0.5|\n",
      "|          3|     8576239|   8576238|          1.0|   18|       36|         36|                1.0|\n",
      "|          3|     8591136|   8591320|          0.0| 1200|     1950|       1200| 0.6153846153846154|\n",
      "|          3|     8591136|   8591320|          1.0|  300|     1950|       1500| 0.7692307692307693|\n",
      "|          3|     8591136|   8591320|          3.0|  300|     1950|       1800| 0.9230769230769231|\n",
      "|          3|     8591136|   8591320|          7.0|  150|     1950|       1950|                1.0|\n",
      "|          3|     8591258|   8591165|          0.0| 2100|     4830|       2100|0.43478260869565216|\n",
      "|          3|     8591258|   8591165|          1.0| 1890|     4830|       3990| 0.8260869565217391|\n",
      "|          3|     8591258|   8591165|          2.0|  630|     4830|       4620| 0.9565217391304348|\n",
      "|          3|     8591258|   8591165|          4.0|  210|     4830|       4830|                1.0|\n",
      "|          3|     8591357|   8591378|          1.0|   61|       61|         61|                1.0|\n",
      "|          3|     8591367|   8591262|          0.0| 7540|    12818|       7540| 0.5882352941176471|\n",
      "|          3|     8591367|   8591262|          1.0| 3016|    12818|      10556| 0.8235294117647058|\n",
      "|          3|     8591367|   8591262|          2.0| 1508|    12818|      12064| 0.9411764705882353|\n",
      "|          3|     8591367|   8591262|          3.0|  754|    12818|      12818|                1.0|\n",
      "|          3|     8503771|   8573259|          1.0|  144|      144|        144|                1.0|\n",
      "|          3|     8573555|   8573554|          0.0|  168|      168|        168|                1.0|\n",
      "+-----------+------------+----------+-------------+-----+---------+-----------+-------------------+\n",
      "only showing top 20 rows"
     ]
    }
   ],
   "source": [
    "%%spark\n",
    "from pyspark.sql import Window\n",
    "\n",
    "#compute cumulative distribution of delay over groupBy 'DAY_OF_WEEK', 'PRODUCT_ID', 'HOUR_ARRIVAL' \n",
    "cumulative_function_window = Window.partitionBy('DAY_OF_WEEK', 'DEPARTURE_ID', 'ARRIVAL_ID').orderBy('ARRIVAL_DELAY').rangeBetween(Window.unboundedPreceding, 0)\n",
    "count_window = Window.partitionBy('DAY_OF_WEEK', 'DEPARTURE_ID', 'ARRIVAL_ID')\n",
    "\n",
    "df2 = df_2.groupBy(df_2['DAY_OF_WEEK'], df_2['DEPARTURE_ID'], df_2['ARRIVAL_ID'], df_2['ARRIVAL_DELAY']).count()\n",
    "df2 = df2.withColumn(\"TOTAL_SUM\", F.sum(\"count\").over(count_window))\n",
    "df2 = df2.withColumn(\"PARTIAL_SUM\", F.sum(\"count\").over(cumulative_function_window))\n",
    "df2 = df2.withColumn(\"CUMULATIVE\", F.sum(\"count\").over(cumulative_function_window)/F.sum(\"count\").over(count_window))\n",
    "df2.filter((df2.DEPARTURE_ID == '8500926') |(df2.ARRIVAL_ID == '8590737') | (df2.DAY_OF_WEEK ==3)).show()"
   ]
  },
  {
   "cell_type": "code",
   "execution_count": 128,
   "id": "5d2fbdb5-c22f-4bcb-843d-c2227d109b29",
   "metadata": {},
   "outputs": [
    {
     "data": {
      "application/vnd.jupyter.widget-view+json": {
       "model_id": "",
       "version_major": 2,
       "version_minor": 0
      },
      "text/plain": [
       "FloatProgress(value=0.0, bar_style='info', description='Progress:', layout=Layout(height='25px', width='50%'),…"
      ]
     },
     "metadata": {},
     "output_type": "display_data"
    }
   ],
   "source": [
    "%%spark\n",
    "\n",
    "#reorder columns\n",
    "df2 = df2.select(df2[\"DEPARTURE_ID\"], df2[\"ARRIVAL_ID\"], df2[\"DAY_OF_WEEK\"], df2[\"ARRIVAL_DELAY\"].alias(\"MAX_ARRIVAL_DELAY\"), df2[\"CUMULATIVE\"])\n",
    "#df2 = df2.orderBy(df2[\"TRIP_ID\"], df2[\"DEPARTURE_ID\"], df2[\"ARRIVAL_ID\"], df2[\"DAY_OF_WEEK\"], df2[\"HOUR_ARRIVAL\"], df2[\"MAX_ARRIVAL_DELAY\"])"
   ]
  },
  {
   "cell_type": "markdown",
   "id": "5821a05e-8067-42f8-a9d0-f4166aeb1ee0",
   "metadata": {},
   "source": [
    "## Split based on day"
   ]
  },
  {
   "cell_type": "code",
   "execution_count": 129,
   "id": "2109e663-8c0d-4c43-8f7c-551086a8bbd3",
   "metadata": {},
   "outputs": [
    {
     "data": {
      "application/vnd.jupyter.widget-view+json": {
       "model_id": "",
       "version_major": 2,
       "version_minor": 0
      },
      "text/plain": [
       "FloatProgress(value=0.0, bar_style='info', description='Progress:', layout=Layout(height='25px', width='50%'),…"
      ]
     },
     "metadata": {},
     "output_type": "display_data"
    },
    {
     "name": "stdout",
     "output_type": "stream",
     "text": [
      "+------------+----------+-----------+-----------------+------------------+\n",
      "|DEPARTURE_ID|ARRIVAL_ID|DAY_OF_WEEK|MAX_ARRIVAL_DELAY|        CUMULATIVE|\n",
      "+------------+----------+-----------+-----------------+------------------+\n",
      "|     8500926|   8590737|          1|              0.0|               0.5|\n",
      "|     8500926|   8590737|          1|              1.0|               1.0|\n",
      "|     8500926|   8590737|          3|              2.0|               1.0|\n",
      "|     8502185|   8502248|          1|              0.0|               1.0|\n",
      "|     8502185|   8502248|          2|              0.0|               1.0|\n",
      "|     8502185|   8502248|          4|              0.0|               1.0|\n",
      "|     8502185|   8502248|          5|              0.0|               1.0|\n",
      "|     8502208|   8502209|          1|              2.0|               1.0|\n",
      "|     8502208|   8502209|          5|              0.0|               1.0|\n",
      "|     8502209|   8502208|          1|              0.0|0.6666666666666666|\n",
      "+------------+----------+-----------+-----------------+------------------+\n",
      "only showing top 10 rows"
     ]
    }
   ],
   "source": [
    "%%spark\n",
    "df2.orderBy('DEPARTURE_ID','ARRIVAL_ID', 'DAY_OF_WEEK', 'MAX_ARRIVAL_DELAY').show(10)"
   ]
  },
  {
   "cell_type": "code",
   "execution_count": 130,
   "id": "f64d1b20-46d8-4b8b-abfb-2e12a8b6de3a",
   "metadata": {},
   "outputs": [
    {
     "data": {
      "application/vnd.jupyter.widget-view+json": {
       "model_id": "",
       "version_major": 2,
       "version_minor": 0
      },
      "text/plain": [
       "FloatProgress(value=0.0, bar_style='info', description='Progress:', layout=Layout(height='25px', width='50%'),…"
      ]
     },
     "metadata": {},
     "output_type": "display_data"
    }
   ],
   "source": [
    "%%spark\n",
    "#all\n",
    "\n",
    "df2.write.mode('overwrite').option(\"delimiter\", \";\").option(\"header\",\"true\").format(\"csv\").save(\"/group/five-guys/confidence\")"
   ]
  },
  {
   "cell_type": "code",
   "execution_count": 71,
   "id": "4e250d8f-3949-4c15-893b-235218b98efb",
   "metadata": {},
   "outputs": [
    {
     "data": {
      "application/vnd.jupyter.widget-view+json": {
       "model_id": "",
       "version_major": 2,
       "version_minor": 0
      },
      "text/plain": [
       "FloatProgress(value=0.0, bar_style='info', description='Progress:', layout=Layout(height='25px', width='50%'),…"
      ]
     },
     "metadata": {},
     "output_type": "display_data"
    }
   ],
   "source": [
    "%%spark\n",
    "#monday\n",
    "\n",
    "df2_monday = df2.filter(df2.DAY_OF_WEEK == 1)\n",
    "df2_monday.write.mode('overwrite').option(\"delimiter\", \";\").option(\"header\",\"true\").format(\"csv\").save(\"/group/five-guys/confidence_monday\")"
   ]
  },
  {
   "cell_type": "code",
   "execution_count": null,
   "id": "49ea3078-09e9-42de-82c3-3118e1d03b72",
   "metadata": {},
   "outputs": [],
   "source": [
    "%%spark\n",
    "#tuesday\n",
    "\n",
    "df2_tuesday = df2.filter(df2.DAY_OF_WEEK == 2)\n",
    "df2_tuesday.write.mode('overwrite').option(\"delimiter\", \";\").option(\"header\",\"true\").format(\"csv\").save(\"/group/five-guys/confidence_tuesday\")"
   ]
  },
  {
   "cell_type": "code",
   "execution_count": null,
   "id": "a1022638-21bd-4987-8f4a-10eff0fc7e98",
   "metadata": {},
   "outputs": [],
   "source": [
    "%%spark\n",
    "#wednesday\n",
    "\n",
    "df2_wednesday = df2.filter(df2.DAY_OF_WEEK == 3)\n",
    "df2_wednesday.write.mode('overwrite').option(\"delimiter\", \";\").option(\"header\",\"true\").format(\"csv\").save(\"/group/five-guys/confidence_wednesday\")"
   ]
  },
  {
   "cell_type": "code",
   "execution_count": null,
   "id": "6b28b89c-3779-4a90-b02d-bb73d4c51ad7",
   "metadata": {},
   "outputs": [],
   "source": [
    "%%spark\n",
    "#thursday\n",
    "\n",
    "df2_thursday = df2.filter(df2.DAY_OF_WEEK == 4)\n",
    "df2_thursday.write.mode('overwrite').option(\"delimiter\", \";\").option(\"header\",\"true\").format(\"csv\").save(\"/group/five-guys/confidence_thursday\")"
   ]
  },
  {
   "cell_type": "code",
   "execution_count": null,
   "id": "8794df7f-5866-495b-9887-b18d511437c0",
   "metadata": {},
   "outputs": [],
   "source": [
    "%%spark\n",
    "#friday\n",
    "\n",
    "df2_friday = df2.filter(df2.DAY_OF_WEEK == 5)\n",
    "df2_friday.write.mode('overwrite').option(\"delimiter\", \";\").option(\"header\",\"true\").format(\"csv\").save(\"/group/five-guys/confidence_friday\")"
   ]
  }
 ],
 "metadata": {
  "kernelspec": {
   "display_name": "Python 3",
   "language": "python",
   "name": "python3"
  },
  "language_info": {
   "codemirror_mode": {
    "name": "ipython",
    "version": 3
   },
   "file_extension": ".py",
   "mimetype": "text/x-python",
   "name": "python",
   "nbconvert_exporter": "python",
   "pygments_lexer": "ipython3",
   "version": "3.9.7"
  }
 },
 "nbformat": 4,
 "nbformat_minor": 5
}
