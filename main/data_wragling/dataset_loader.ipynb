{
 "cells": [
  {
   "cell_type": "markdown",
   "id": "c8183342-5992-4c0b-8923-07c457a7c72f",
   "metadata": {},
   "source": [
    "## Spark Loading"
   ]
  },
  {
   "cell_type": "code",
   "execution_count": 91,
   "id": "e314f4b1-05bd-4f35-89df-a302865c25d7",
   "metadata": {},
   "outputs": [
    {
     "name": "stdout",
     "output_type": "stream",
     "text": [
      "The sparkmagic.magics extension is already loaded. To reload it, use:\n",
      "  %reload_ext sparkmagic.magics\n"
     ]
    }
   ],
   "source": [
    "%load_ext sparkmagic.magics"
   ]
  },
  {
   "cell_type": "code",
   "execution_count": 92,
   "id": "167eb6b6-2ae9-43e3-9b18-27224f3199ce",
   "metadata": {},
   "outputs": [],
   "source": [
    "import pickle\n",
    "path_data = \"../../data/\""
   ]
  },
  {
   "cell_type": "code",
   "execution_count": 93,
   "id": "62a7b68d-5a30-4b01-aab8-1c2850b4e499",
   "metadata": {},
   "outputs": [],
   "source": [
    "# pull from lfs\n",
    "! git lfs pull"
   ]
  },
  {
   "cell_type": "code",
   "execution_count": 94,
   "id": "fabe5282-98a6-4d13-9b17-ae190021bf38",
   "metadata": {},
   "outputs": [],
   "source": [
    "import os\n",
    "from IPython import get_ipython\n",
    "username = os.environ['RENKU_USERNAME']\n",
    "server = \"http://iccluster029.iccluster.epfl.ch:8998\"\n",
    "\n",
    "# set the application name as \"<your_gaspar_id>-homework3\"\n",
    "get_ipython().run_cell_magic(\n",
    "    'spark',\n",
    "    line='config', \n",
    "    cell=\"\"\"{{ \"name\": \"{0}-homework3\", \"executorMemory\": \"4G\", \"executorCores\": 4, \"numExecutors\": 10, \"driverMemory\": \"4G\"}}\"\"\".format(username)\n",
    ")"
   ]
  },
  {
   "cell_type": "code",
   "execution_count": 95,
   "id": "7ba317bf-acb0-4bcc-b9dd-5bded845cb00",
   "metadata": {},
   "outputs": [],
   "source": [
    "get_ipython().run_line_magic(\n",
    "    \"spark\", \"add -s {0}-homework3 -l python -u {1} -k\".format(username, server)\n",
    ")"
   ]
  },
  {
   "cell_type": "code",
   "execution_count": 96,
   "id": "0ff65f3a-a31f-492d-b388-5741ea427bcb",
   "metadata": {},
   "outputs": [
    {
     "data": {
      "application/vnd.jupyter.widget-view+json": {
       "model_id": "",
       "version_major": 2,
       "version_minor": 0
      },
      "text/plain": [
       "FloatProgress(value=0.0, bar_style='info', description='Progress:', layout=Layout(height='25px', width='50%'),…"
      ]
     },
     "metadata": {},
     "output_type": "display_data"
    },
    {
     "name": "stdout",
     "output_type": "stream",
     "text": [
      "We are using Spark 2.3.2.3.1.4.0-315"
     ]
    }
   ],
   "source": [
    "%%spark\n",
    "print('We are using Spark %s' % spark.version)"
   ]
  },
  {
   "cell_type": "markdown",
   "id": "6fd5b2a2-0161-4210-a946-5108596bc82f",
   "metadata": {},
   "source": [
    "## Stops 15km from Zürich HB (8503000) (lat, lon) = (47.378177, 8.540192)"
   ]
  },
  {
   "cell_type": "code",
   "execution_count": 97,
   "id": "17ff8920-acb8-48c0-b2ba-60565b705691",
   "metadata": {},
   "outputs": [
    {
     "data": {
      "application/vnd.jupyter.widget-view+json": {
       "model_id": "",
       "version_major": 2,
       "version_minor": 0
      },
      "text/plain": [
       "FloatProgress(value=0.0, bar_style='info', description='Progress:', layout=Layout(height='25px', width='50%'),…"
      ]
     },
     "metadata": {},
     "output_type": "display_data"
    },
    {
     "name": "stdout",
     "output_type": "stream",
     "text": [
      "+-------+--------------------+----------------+----------------+----+----+\n",
      "|    _c0|                 _c1|             _c2|             _c3| _c4| _c5|\n",
      "+-------+--------------------+----------------+----------------+----+----+\n",
      "|1100006|Zell (Wiesental),...|47.7046317515335|7.84777215468897|null|null|\n",
      "|1100008|Zell (Wiesental),...|47.7100842702352|7.85964788274668|null|null|\n",
      "|1100009|Zell (Wiesental),...|47.7131911044794|7.86290876722849|null|null|\n",
      "|1100010|           Atzenbach|47.7146175266411| 7.8723500608659|null|null|\n",
      "|1100011|     Mambach, Brücke|47.7282088873189| 7.8774704579861|null|null|\n",
      "|1100012|  Mambach, Mühlschau|47.7340818684375| 7.8813871126254|null|null|\n",
      "|1100013|  Mambach, Silbersau|47.7395192233867|7.88223152899259|null|null|\n",
      "|1100014|Fröhnd (Schwarzw)...|47.7543663509316|7.88913059037559|null|null|\n",
      "|1100015|Fröhnd (Schwarzw)...|47.7605926689054|7.88553732923861|null|null|\n",
      "|1100016|     Wembach (Baden)|47.7728317637339|7.88772023537933|null|null|\n",
      "+-------+--------------------+----------------+----------------+----+----+\n",
      "only showing top 10 rows"
     ]
    }
   ],
   "source": [
    "%%spark\n",
    "all_stops = spark.read.csv('/data/sbb/csv/allstops/stop_locations.csv')\n",
    "all_stops.show(10)"
   ]
  },
  {
   "cell_type": "code",
   "execution_count": 8,
   "id": "99b409b5-3b9e-4aef-a490-ca4db5863084",
   "metadata": {},
   "outputs": [
    {
     "data": {
      "application/vnd.jupyter.widget-view+json": {
       "model_id": "",
       "version_major": 2,
       "version_minor": 0
      },
      "text/plain": [
       "FloatProgress(value=0.0, bar_style='info', description='Progress:', layout=Layout(height='25px', width='50%'),…"
      ]
     },
     "metadata": {},
     "output_type": "display_data"
    },
    {
     "name": "stdout",
     "output_type": "stream",
     "text": [
      "+-------+--------------------+----------------+----------------+\n",
      "|stop_id|           stop_name|             lat|             lon|\n",
      "+-------+--------------------+----------------+----------------+\n",
      "|1100006|Zell (Wiesental),...|47.7046317515335|7.84777215468897|\n",
      "|1100008|Zell (Wiesental),...|47.7100842702352|7.85964788274668|\n",
      "|1100009|Zell (Wiesental),...|47.7131911044794|7.86290876722849|\n",
      "|1100010|           Atzenbach|47.7146175266411| 7.8723500608659|\n",
      "|1100011|     Mambach, Brücke|47.7282088873189| 7.8774704579861|\n",
      "|1100012|  Mambach, Mühlschau|47.7340818684375| 7.8813871126254|\n",
      "|1100013|  Mambach, Silbersau|47.7395192233867|7.88223152899259|\n",
      "|1100014|Fröhnd (Schwarzw)...|47.7543663509316|7.88913059037559|\n",
      "|1100015|Fröhnd (Schwarzw)...|47.7605926689054|7.88553732923861|\n",
      "|1100016|     Wembach (Baden)|47.7728317637339|7.88772023537933|\n",
      "+-------+--------------------+----------------+----------------+\n",
      "only showing top 10 rows"
     ]
    }
   ],
   "source": [
    "%%spark\n",
    "all_stops = all_stops.withColumnRenamed('_c0','stop_id')\n",
    "all_stops = all_stops.withColumnRenamed('_c1','stop_name')\n",
    "all_stops = all_stops.withColumnRenamed('_c2','lat')\n",
    "all_stops = all_stops.withColumnRenamed('_c3','lon')\n",
    "all_stops = all_stops.drop('_c4','_c5')\n",
    "all_stops.show(10)"
   ]
  },
  {
   "cell_type": "code",
   "execution_count": 9,
   "id": "1e1fcaac-936a-4d67-8734-1dcd5a076779",
   "metadata": {},
   "outputs": [
    {
     "data": {
      "application/vnd.jupyter.widget-view+json": {
       "model_id": "",
       "version_major": 2,
       "version_minor": 0
      },
      "text/plain": [
       "FloatProgress(value=0.0, bar_style='info', description='Progress:', layout=Layout(height='25px', width='50%'),…"
      ]
     },
     "metadata": {},
     "output_type": "display_data"
    },
    {
     "name": "stdout",
     "output_type": "stream",
     "text": [
      "+-------+--------------------+----------------+----------------+--------------------+------------------+\n",
      "|stop_id|           stop_name|             lat|             lon|                   a|          distance|\n",
      "+-------+--------------------+----------------+----------------+--------------------+------------------+\n",
      "|1100006|Zell (Wiesental),...|47.7046317515335|7.84777215468897|2.475398503604094...|  63396.0142787592|\n",
      "|1100008|Zell (Wiesental),...|47.7100842702352|7.85964788274668|2.445985737384344...| 63018.24892966985|\n",
      "|1100009|Zell (Wiesental),...|47.7131911044794|7.86290876722849|2.446306465224431...| 63022.38043559904|\n",
      "|1100010|           Atzenbach|47.7146175266411| 7.8723500608659|2.409494241610368E-5|62546.396144882805|\n",
      "|1100011|     Mambach, Brücke|47.7282088873189| 7.8774704579861|2.456510835903595E-5| 63153.68854022285|\n",
      "|1100012|  Mambach, Mühlschau|47.7340818684375| 7.8813871126254|2.469960438154199...| 63326.33982721011|\n",
      "|1100013|  Mambach, Silbersau|47.7395192233867|7.88223152899259|2.495646733487268...| 63654.77127801601|\n",
      "|1100014|Fröhnd (Schwarzw)...|47.7543663509316|7.88913059037559|2.547298854211806E-5|64310.131065547204|\n",
      "|1100015|Fröhnd (Schwarzw)...|47.7605926689054|7.88553732923861|2.599356935698943...| 64963.95278339824|\n",
      "|1100016|     Wembach (Baden)|47.7728317637339|7.88772023537933|2.661545713079305E-5|  65736.4871120164|\n",
      "+-------+--------------------+----------------+----------------+--------------------+------------------+\n",
      "only showing top 10 rows"
     ]
    }
   ],
   "source": [
    "%%spark\n",
    "import pyspark.sql.functions as F\n",
    "zur_hp_lat = 47.378177\n",
    "zur_hp_lon = 8.540192\n",
    "\n",
    "all_stops_distance = all_stops.withColumn(\"a\", (\n",
    "        F.pow(F.sin(F.radians(zur_hp_lat - F.col(\"lat\")) / 2), 2) +\n",
    "        F.cos(F.radians(F.col(\"lat\"))) * F.cos(F.radians(F.lit(zur_hp_lat))) *\n",
    "        F.pow(F.sin(F.radians(zur_hp_lon - F.col(\"lon\")) / 2), 2)\n",
    "    )).withColumn(\"distance\", F.atan2(F.sqrt(F.col(\"a\")), F.sqrt(-F.col(\"a\") + 1)) * 12742000)\n",
    "\n",
    "all_stops_distance.show(10)"
   ]
  },
  {
   "cell_type": "code",
   "execution_count": 10,
   "id": "fba8f90b-6b55-4961-9f46-5da1b057ce7b",
   "metadata": {},
   "outputs": [
    {
     "data": {
      "application/vnd.jupyter.widget-view+json": {
       "model_id": "",
       "version_major": 2,
       "version_minor": 0
      },
      "text/plain": [
       "FloatProgress(value=0.0, bar_style='info', description='Progress:', layout=Layout(height='25px', width='50%'),…"
      ]
     },
     "metadata": {},
     "output_type": "display_data"
    },
    {
     "name": "stdout",
     "output_type": "stream",
     "text": [
      "+-------------+--------------------+----------------+----------------+\n",
      "|      stop_id|           stop_name|             lat|             lon|\n",
      "+-------------+--------------------+----------------+----------------+\n",
      "|          176|Zimmerberg-Basist...|47.3516780901371|8.52195777551452|\n",
      "|      8500926|Oetwil a.d.L., Sc...|47.4236270123012| 8.4031825286317|\n",
      "|      8502075|Zürich Flughafen,...|47.4510244676285|8.56372943623189|\n",
      "|      8502186|Dietikon Stoffelbach|47.3933267759652|8.39896044679575|\n",
      "|    8502186:0|Dietikon Stoffelbach|47.3933997509195|8.39894248049007|\n",
      "|8502186:0:1/2|Dietikon Stoffelbach|47.3933997509195|8.39894248049007|\n",
      "|     8502186P|Dietikon Stoffelbach|47.3933997509195|8.39894248049007|\n",
      "|      8502187|Rudolfstetten Hof...|47.3646702178563|8.37695172233176|\n",
      "|    8502187:0|Rudolfstetten Hof...|47.3647371479356|8.37703257070734|\n",
      "|8502187:0:1/2|Rudolfstetten Hof...|47.3647371479356|8.37703257070734|\n",
      "+-------------+--------------------+----------------+----------------+\n",
      "only showing top 10 rows"
     ]
    }
   ],
   "source": [
    "%%spark\n",
    "close_stops = all_stops_distance.filter(all_stops_distance['distance'] <= 15000).drop('a','distance')\n",
    "close_stops.show(10)"
   ]
  },
  {
   "cell_type": "code",
   "execution_count": 11,
   "id": "b4868bd6-efc6-4110-83b3-d9c1cba99d95",
   "metadata": {},
   "outputs": [
    {
     "data": {
      "application/vnd.jupyter.widget-view+json": {
       "model_id": "",
       "version_major": 2,
       "version_minor": 0
      },
      "text/plain": [
       "FloatProgress(value=0.0, bar_style='info', description='Progress:', layout=Layout(height='25px', width='50%'),…"
      ]
     },
     "metadata": {},
     "output_type": "display_data"
    },
    {
     "name": "stdout",
     "output_type": "stream",
     "text": [
      "2122"
     ]
    }
   ],
   "source": [
    "%%spark\n",
    "close_stops.count()"
   ]
  },
  {
   "cell_type": "markdown",
   "id": "21270217-a12d-4860-a3fa-be64c363b044",
   "metadata": {},
   "source": [
    "## Weekly timetable"
   ]
  },
  {
   "cell_type": "markdown",
   "id": "fe275468-21df-418c-9427-4df024046d6c",
   "metadata": {},
   "source": [
    "Considered period: May 08-14, 2019 (then we exclude the weekends)"
   ]
  },
  {
   "cell_type": "code",
   "execution_count": 12,
   "id": "542d62de-7bbe-49c9-a891-09aa612ca62b",
   "metadata": {},
   "outputs": [
    {
     "data": {
      "application/vnd.jupyter.widget-view+json": {
       "model_id": "",
       "version_major": 2,
       "version_minor": 0
      },
      "text/plain": [
       "FloatProgress(value=0.0, bar_style='info', description='Progress:', layout=Layout(height='25px', width='50%'),…"
      ]
     },
     "metadata": {},
     "output_type": "display_data"
    }
   ],
   "source": [
    "%%spark\n",
    "all_trips1 = spark.read.csv('/data/sbb/csv/stop_times/2019/05/08/stop_times.txt', header=True)\n",
    "#all_trips2 = spark.read.csv('/data/sbb/csv/stop_times/2019/05/15/stop_times.txt', header=True)"
   ]
  },
  {
   "cell_type": "code",
   "execution_count": 13,
   "id": "e5826832-af7e-4582-aafb-7d3404154dac",
   "metadata": {},
   "outputs": [
    {
     "data": {
      "application/vnd.jupyter.widget-view+json": {
       "model_id": "",
       "version_major": 2,
       "version_minor": 0
      },
      "text/plain": [
       "FloatProgress(value=0.0, bar_style='info', description='Progress:', layout=Layout(height='25px', width='50%'),…"
      ]
     },
     "metadata": {},
     "output_type": "display_data"
    },
    {
     "name": "stdout",
     "output_type": "stream",
     "text": [
      "10862563"
     ]
    }
   ],
   "source": [
    "%%spark\n",
    "all_trips1.count()"
   ]
  },
  {
   "cell_type": "code",
   "execution_count": 14,
   "id": "5db620e7-a85b-46cd-9c05-189486125176",
   "metadata": {},
   "outputs": [
    {
     "data": {
      "application/vnd.jupyter.widget-view+json": {
       "model_id": "",
       "version_major": 2,
       "version_minor": 0
      },
      "text/plain": [
       "FloatProgress(value=0.0, bar_style='info', description='Progress:', layout=Layout(height='25px', width='50%'),…"
      ]
     },
     "metadata": {},
     "output_type": "display_data"
    }
   ],
   "source": [
    "%%spark\n",
    "#all_trips2.count()"
   ]
  },
  {
   "cell_type": "code",
   "execution_count": 15,
   "id": "45df46dc-a87e-41a0-85a5-d76b33f240c0",
   "metadata": {},
   "outputs": [
    {
     "data": {
      "application/vnd.jupyter.widget-view+json": {
       "model_id": "",
       "version_major": 2,
       "version_minor": 0
      },
      "text/plain": [
       "FloatProgress(value=0.0, bar_style='info', description='Progress:', layout=Layout(height='25px', width='50%'),…"
      ]
     },
     "metadata": {},
     "output_type": "display_data"
    },
    {
     "name": "stdout",
     "output_type": "stream",
     "text": [
      "10413974"
     ]
    }
   ],
   "source": [
    "%%spark\n",
    "all_trips1.filter(all_trips1.arrival_time==all_trips1.departure_time).count()"
   ]
  },
  {
   "cell_type": "code",
   "execution_count": 16,
   "id": "51e30844-d23e-4cdf-a1c4-77aab2a6816c",
   "metadata": {},
   "outputs": [
    {
     "data": {
      "application/vnd.jupyter.widget-view+json": {
       "model_id": "",
       "version_major": 2,
       "version_minor": 0
      },
      "text/plain": [
       "FloatProgress(value=0.0, bar_style='info', description='Progress:', layout=Layout(height='25px', width='50%'),…"
      ]
     },
     "metadata": {},
     "output_type": "display_data"
    },
    {
     "name": "stdout",
     "output_type": "stream",
     "text": [
      "+-------------------+------------+--------------+-------+-------------+-----------+-------------+\n",
      "|            trip_id|arrival_time|departure_time|stop_id|stop_sequence|pickup_type|drop_off_type|\n",
      "+-------------------+------------+--------------+-------+-------------+-----------+-------------+\n",
      "|1.TA.1-84-j19-1.1.H|    06:13:00|      06:13:00|8572249|            1|          0|            0|\n",
      "|1.TA.1-84-j19-1.1.H|    06:14:00|      06:14:00|8577508|            2|          0|            0|\n",
      "|1.TA.1-84-j19-1.1.H|    06:15:00|      06:15:00|8581070|            3|          0|            0|\n",
      "|1.TA.1-84-j19-1.1.H|    06:16:00|      06:16:00|8578360|            4|          0|            0|\n",
      "|1.TA.1-84-j19-1.1.H|    06:17:00|      06:17:00|8583448|            5|          0|            0|\n",
      "|1.TA.1-84-j19-1.1.H|    06:18:00|      06:19:00|8578359|            6|          0|            0|\n",
      "|1.TA.1-84-j19-1.1.H|    06:24:00|      06:24:00|8578358|            7|          0|            0|\n",
      "|1.TA.1-84-j19-1.1.H|    06:25:00|      06:25:00|8582802|            8|          0|            0|\n",
      "|1.TA.1-84-j19-1.1.H|    06:27:00|      06:27:00|8578348|            9|          0|            0|\n",
      "|1.TA.1-84-j19-1.1.H|    06:43:00|      06:43:00|8594994|           10|          0|            0|\n",
      "+-------------------+------------+--------------+-------+-------------+-----------+-------------+\n",
      "only showing top 10 rows"
     ]
    }
   ],
   "source": [
    "%%spark\n",
    "#all_trips_tot = all_trips1.union(all_trips2)\n",
    "all_trips_tot = all_trips1\n",
    "all_trips_tot.show(10)"
   ]
  },
  {
   "cell_type": "code",
   "execution_count": 17,
   "id": "c413a444-3378-4fbf-965b-1bb1fd0c5a01",
   "metadata": {},
   "outputs": [
    {
     "data": {
      "application/vnd.jupyter.widget-view+json": {
       "model_id": "",
       "version_major": 2,
       "version_minor": 0
      },
      "text/plain": [
       "FloatProgress(value=0.0, bar_style='info', description='Progress:', layout=Layout(height='25px', width='50%'),…"
      ]
     },
     "metadata": {},
     "output_type": "display_data"
    },
    {
     "name": "stdout",
     "output_type": "stream",
     "text": [
      "+-----------+----------+--------------------+-------------------+---------------+------------+\n",
      "|   route_id|service_id|             trip_id|      trip_headsign|trip_short_name|direction_id|\n",
      "+-----------+----------+--------------------+-------------------+---------------+------------+\n",
      "| 1-85-j19-1|  TA+b0001| 2.TA.1-85-j19-1.1.H|Schöftland, Bahnhof|          85003|           0|\n",
      "|1-1-C-j19-1|  TA+b0001|5.TA.1-1-C-j19-1.3.R| Zofingen, Altachen|            108|           1|\n",
      "|1-1-C-j19-1|  TA+b0001|7.TA.1-1-C-j19-1.3.R| Zofingen, Altachen|            112|           1|\n",
      "|1-1-C-j19-1|  TA+b0001|9.TA.1-1-C-j19-1.3.R| Zofingen, Altachen|            116|           1|\n",
      "|1-1-C-j19-1|  TA+b0001|11.TA.1-1-C-j19-1...| Zofingen, Altachen|            120|           1|\n",
      "|1-1-C-j19-1|  TA+b0001|13.TA.1-1-C-j19-1...| Zofingen, Altachen|            124|           1|\n",
      "|1-1-C-j19-1|  TA+b0001|15.TA.1-1-C-j19-1...| Zofingen, Altachen|            128|           1|\n",
      "|1-1-C-j19-1|  TA+b0001|17.TA.1-1-C-j19-1...| Zofingen, Altachen|            132|           1|\n",
      "|1-1-C-j19-1|  TA+b0001|18.TA.1-1-C-j19-1...| Zofingen, Altachen|            134|           1|\n",
      "|1-1-C-j19-1|  TA+b0001|19.TA.1-1-C-j19-1...| Zofingen, Altachen|            136|           1|\n",
      "+-----------+----------+--------------------+-------------------+---------------+------------+\n",
      "only showing top 10 rows"
     ]
    }
   ],
   "source": [
    "%%spark\n",
    "routes1 = spark.read.csv('/data/sbb/csv/trips/2019/05/08/trips.txt', header=True)\n",
    "#routes2 = spark.read.csv('/data/sbb/csv/trips/2019/05/15/trips.txt', header=True)\n",
    "#routes_tot = routes1.union(routes2)\n",
    "routes_tot = routes1\n",
    "routes_tot.show(10)"
   ]
  },
  {
   "cell_type": "code",
   "execution_count": 18,
   "id": "061248b3-c3e4-4c66-be5d-328549033169",
   "metadata": {},
   "outputs": [
    {
     "data": {
      "application/vnd.jupyter.widget-view+json": {
       "model_id": "",
       "version_major": 2,
       "version_minor": 0
      },
      "text/plain": [
       "FloatProgress(value=0.0, bar_style='info', description='Progress:', layout=Layout(height='25px', width='50%'),…"
      ]
     },
     "metadata": {},
     "output_type": "display_data"
    },
    {
     "name": "stdout",
     "output_type": "stream",
     "text": [
      "+--------------------+------------+--------------+------------+-------------+-----------+-------------+------------+----------+--------------------+--------------+---------------+------------+\n",
      "|             trip_id|arrival_time|departure_time|     stop_id|stop_sequence|pickup_type|drop_off_type|    route_id|service_id|             trip_id| trip_headsign|trip_short_name|direction_id|\n",
      "+--------------------+------------+--------------+------------+-------------+-----------+-------------+------------+----------+--------------------+--------------+---------------+------------+\n",
      "|1.TA.12-1-A-j19-1...|    01:30:00|      01:30:00|8505000:0:11|            1|          0|            0|12-1-A-j19-1|  TA+b099q|1.TA.12-1-A-j19-1...|        Sursee|          31100|           0|\n",
      "|1.TA.12-1-A-j19-1...|    01:35:00|      01:35:00| 8502021:0:1|            2|          0|            0|12-1-A-j19-1|  TA+b099q|1.TA.12-1-A-j19-1...|        Sursee|          31100|           0|\n",
      "|1.TA.12-1-A-j19-1...|    01:36:00|      01:37:00| 8502028:0:1|            3|          0|            0|12-1-A-j19-1|  TA+b099q|1.TA.12-1-A-j19-1...|        Sursee|          31100|           0|\n",
      "|1.TA.12-1-A-j19-1...|    01:39:00|      01:39:00| 8502012:0:1|            4|          0|            0|12-1-A-j19-1|  TA+b099q|1.TA.12-1-A-j19-1...|        Sursee|          31100|           0|\n",
      "|1.TA.12-1-A-j19-1...|    01:41:00|      01:41:00| 8502020:0:2|            5|          0|            0|12-1-A-j19-1|  TA+b099q|1.TA.12-1-A-j19-1...|        Sursee|          31100|           0|\n",
      "|1.TA.12-1-A-j19-1...|    01:47:00|      01:47:00| 8502009:0:2|            6|          0|            0|12-1-A-j19-1|  TA+b099q|1.TA.12-1-A-j19-1...|        Sursee|          31100|           0|\n",
      "|1.TA.12-1-A-j19-1...|    01:50:00|      01:50:00| 8502008:0:1|            7|          0|            0|12-1-A-j19-1|  TA+b099q|1.TA.12-1-A-j19-1...|        Sursee|          31100|           0|\n",
      "|1.TA.12-1-A-j19-1...|    01:52:00|      01:52:00| 8502011:0:2|            8|          0|            0|12-1-A-j19-1|  TA+b099q|1.TA.12-1-A-j19-1...|        Sursee|          31100|           0|\n",
      "|1.TA.12-1-A-j19-1...|    01:56:00|      01:56:00| 8502007:0:2|            9|          0|            0|12-1-A-j19-1|  TA+b099q|1.TA.12-1-A-j19-1...|        Sursee|          31100|           0|\n",
      "|1.TA.16-440-j19-1...|    06:30:00|      06:30:00|     8574776|            1|          0|            0|16-440-j19-1|  TA+b0007|1.TA.16-440-j19-1...|Flums, Bahnhof|          44001|           0|\n",
      "+--------------------+------------+--------------+------------+-------------+-----------+-------------+------------+----------+--------------------+--------------+---------------+------------+\n",
      "only showing top 10 rows"
     ]
    }
   ],
   "source": [
    "%%spark\n",
    "trips_with_routes = all_trips_tot.join(routes_tot, all_trips_tot.trip_id == routes_tot.trip_id)\n",
    "trips_with_routes.show(10)"
   ]
  },
  {
   "cell_type": "code",
   "execution_count": 19,
   "id": "a06f0626-4474-46d2-8507-bde9add5ae01",
   "metadata": {},
   "outputs": [
    {
     "data": {
      "application/vnd.jupyter.widget-view+json": {
       "model_id": "",
       "version_major": 2,
       "version_minor": 0
      },
      "text/plain": [
       "FloatProgress(value=0.0, bar_style='info', description='Progress:', layout=Layout(height='25px', width='50%'),…"
      ]
     },
     "metadata": {},
     "output_type": "display_data"
    },
    {
     "name": "stdout",
     "output_type": "stream",
     "text": [
      "+--------------------+----------+\n",
      "|             trip_id|service_id|\n",
      "+--------------------+----------+\n",
      "|1.TA.12-1-A-j19-1...|  TA+b099q|\n",
      "|1.TA.16-440-j19-1...|  TA+b0007|\n",
      "|1.TA.23-792-j19-1...|  TA+b000o|\n",
      "|1.TA.26-18-j19-1.1.H|  TA+b0b46|\n",
      "|1.TA.26-833-j19-1...|  TA+b002d|\n",
      "|1.TA.26-853-j19-1...|  TA+b001t|\n",
      "|1.TA.30-32-Y-j19-...|  TA+b09sz|\n",
      "| 1.TA.5-21-j19-1.1.H|  TA+b08w1|\n",
      "|1.TA.6-M13-j19-1.1.H|  TA+b0bou|\n",
      "|1.TA.61-211-Y-j19...|  TA+b0786|\n",
      "+--------------------+----------+\n",
      "only showing top 10 rows"
     ]
    }
   ],
   "source": [
    "%%spark\n",
    "trips_with_routes = trips_with_routes.select(all_trips_tot.trip_id, 'service_id').distinct()\n",
    "trips_with_routes.show(10)"
   ]
  },
  {
   "cell_type": "code",
   "execution_count": 20,
   "id": "81659e3d-1c04-485d-9f32-f13e3701540d",
   "metadata": {},
   "outputs": [
    {
     "data": {
      "application/vnd.jupyter.widget-view+json": {
       "model_id": "",
       "version_major": 2,
       "version_minor": 0
      },
      "text/plain": [
       "FloatProgress(value=0.0, bar_style='info', description='Progress:', layout=Layout(height='25px', width='50%'),…"
      ]
     },
     "metadata": {},
     "output_type": "display_data"
    },
    {
     "name": "stdout",
     "output_type": "stream",
     "text": [
      "+----------+------+-------+---------+--------+------+--------+------+----------+--------+\n",
      "|service_id|monday|tuesday|wednesday|thursday|friday|saturday|sunday|start_date|end_date|\n",
      "+----------+------+-------+---------+--------+------+--------+------+----------+--------+\n",
      "|  TA+b06hv|     0|      0|        0|       0|     0|       0|     1|  20181209|20191214|\n",
      "|  TA+b0036|     0|      0|        0|       0|     0|       0|     1|  20181209|20191214|\n",
      "|  TA+b0ha1|     0|      0|        0|       0|     0|       1|     0|  20181209|20191214|\n",
      "|  TA+b0nha|     1|      1|        1|       1|     0|       0|     1|  20181209|20191214|\n",
      "|  TA+b022q|     1|      1|        1|       1|     0|       0|     0|  20181209|20191214|\n",
      "|  TA+b025m|     0|      0|        0|       0|     1|       0|     0|  20181209|20191214|\n",
      "|  TA+b0ms4|     0|      0|        0|       0|     0|       0|     1|  20181209|20191214|\n",
      "|  TA+b0nvl|     0|      0|        0|       0|     0|       1|     1|  20181209|20191214|\n",
      "|  TA+b0nz0|     0|      0|        0|       0|     1|       1|     0|  20181209|20191214|\n",
      "|  TA+b0mx6|     0|      0|        0|       0|     0|       1|     1|  20181209|20191214|\n",
      "+----------+------+-------+---------+--------+------+--------+------+----------+--------+\n",
      "only showing top 10 rows"
     ]
    }
   ],
   "source": [
    "%%spark\n",
    "cal1 = spark.read.csv('/data/sbb/csv/calendar/2019/05/08/calendar.txt', header=True)\n",
    "#cal2 = spark.read.csv('/data/sbb/csv/calendar/2019/05/15/calendar.txt', header=True)\n",
    "#cal_tot = cal1.union(cal2).distinct()\n",
    "cal_tot = cal1.distinct()\n",
    "cal_tot.show(10)"
   ]
  },
  {
   "cell_type": "code",
   "execution_count": 21,
   "id": "f9a69104-3457-44dc-a10e-bdc9df43ad19",
   "metadata": {},
   "outputs": [
    {
     "data": {
      "application/vnd.jupyter.widget-view+json": {
       "model_id": "",
       "version_major": 2,
       "version_minor": 0
      },
      "text/plain": [
       "FloatProgress(value=0.0, bar_style='info', description='Progress:', layout=Layout(height='25px', width='50%'),…"
      ]
     },
     "metadata": {},
     "output_type": "display_data"
    },
    {
     "name": "stdout",
     "output_type": "stream",
     "text": [
      "+----------+------+-------+---------+--------+------+--------+------+----------+--------+\n",
      "|service_id|monday|tuesday|wednesday|thursday|friday|saturday|sunday|start_date|end_date|\n",
      "+----------+------+-------+---------+--------+------+--------+------+----------+--------+\n",
      "|  TA+b0nha|     1|      1|        1|       1|     0|       0|     1|  20181209|20191214|\n",
      "|  TA+b022q|     1|      1|        1|       1|     0|       0|     0|  20181209|20191214|\n",
      "|  TA+b025m|     0|      0|        0|       0|     1|       0|     0|  20181209|20191214|\n",
      "|  TA+b0nz0|     0|      0|        0|       0|     1|       1|     0|  20181209|20191214|\n",
      "|  TA+b0o2i|     1|      0|        0|       1|     0|       0|     0|  20181209|20191214|\n",
      "|  TA+b0obi|     1|      1|        1|       1|     1|       0|     0|  20181209|20191214|\n",
      "|  TA+b0obp|     0|      1|        0|       0|     1|       1|     1|  20181209|20191214|\n",
      "|  TA+b0gtx|     1|      1|        1|       1|     1|       0|     1|  20181209|20191214|\n",
      "|  TA+b0g2l|     1|      1|        0|       0|     0|       1|     1|  20181209|20191214|\n",
      "|  TA+b0kb5|     1|      1|        0|       0|     0|       0|     0|  20181209|20191214|\n",
      "+----------+------+-------+---------+--------+------+--------+------+----------+--------+\n",
      "only showing top 10 rows"
     ]
    }
   ],
   "source": [
    "%%spark\n",
    "cal_filtered = cal_tot.filter((cal_tot.monday == 1) | (cal_tot.tuesday == 1) | (cal_tot.wednesday == 1) | (cal_tot.thursday == 1) | (cal_tot.friday == 1))\n",
    "cal_filtered_dates = cal_filtered.filter((cal_tot.start_date <= '20190513') & (cal_tot.end_date >= '20190518'))\n",
    "cal_filtered_dates.show(10)"
   ]
  },
  {
   "cell_type": "code",
   "execution_count": 22,
   "id": "ea4bd72f-abbc-46d0-8b74-3301cfeb85a3",
   "metadata": {},
   "outputs": [
    {
     "data": {
      "application/vnd.jupyter.widget-view+json": {
       "model_id": "",
       "version_major": 2,
       "version_minor": 0
      },
      "text/plain": [
       "FloatProgress(value=0.0, bar_style='info', description='Progress:', layout=Layout(height='25px', width='50%'),…"
      ]
     },
     "metadata": {},
     "output_type": "display_data"
    }
   ],
   "source": [
    "%%spark\n",
    "service_ids = cal_filtered_dates.drop('start_date', 'end_date', 'saturday', 'sunday')"
   ]
  },
  {
   "cell_type": "code",
   "execution_count": 23,
   "id": "172f16af-cd08-46b5-aa40-d3fd252f1ff6",
   "metadata": {},
   "outputs": [
    {
     "data": {
      "application/vnd.jupyter.widget-view+json": {
       "model_id": "",
       "version_major": 2,
       "version_minor": 0
      },
      "text/plain": [
       "FloatProgress(value=0.0, bar_style='info', description='Progress:', layout=Layout(height='25px', width='50%'),…"
      ]
     },
     "metadata": {},
     "output_type": "display_data"
    },
    {
     "name": "stdout",
     "output_type": "stream",
     "text": [
      "+--------------------+----------+------+-------+---------+--------+------+\n",
      "|             trip_id|service_id|monday|tuesday|wednesday|thursday|friday|\n",
      "+--------------------+----------+------+-------+---------+--------+------+\n",
      "|1.TA.12-1-A-j19-1...|  TA+b099q|     0|      1|        1|       0|     1|\n",
      "|1.TA.16-440-j19-1...|  TA+b0007|     1|      1|        1|       1|     1|\n",
      "|1.TA.23-792-j19-1...|  TA+b000o|     0|      0|        0|       0|     1|\n",
      "|1.TA.26-18-j19-1.1.H|  TA+b0b46|     1|      1|        1|       1|     1|\n",
      "|1.TA.26-833-j19-1...|  TA+b002d|     0|      0|        0|       0|     1|\n",
      "|1.TA.30-32-Y-j19-...|  TA+b09sz|     0|      1|        0|       0|     0|\n",
      "|1.TA.6-M13-j19-1.1.H|  TA+b0bou|     0|      0|        0|       0|     1|\n",
      "|1.TA.61-211-Y-j19...|  TA+b0786|     1|      1|        1|       1|     1|\n",
      "|1.TA.61-40-Y-j19-...|  TA+b0001|     1|      1|        1|       1|     1|\n",
      "|1.TA.61-479-Y-j19...|  TA+b04d0|     0|      0|        1|       1|     1|\n",
      "+--------------------+----------+------+-------+---------+--------+------+\n",
      "only showing top 10 rows"
     ]
    }
   ],
   "source": [
    "%%spark\n",
    "service_ids.select('service_id')\n",
    "trips_in_period = trips_with_routes.join(service_ids, service_ids.service_id == trips_with_routes.service_id,'inner').drop(trips_with_routes.service_id).distinct()\n",
    "trips_in_period.show(10)"
   ]
  },
  {
   "cell_type": "code",
   "execution_count": 24,
   "id": "bf4b3435-edbc-431f-aecf-93b6cf750d11",
   "metadata": {},
   "outputs": [
    {
     "data": {
      "application/vnd.jupyter.widget-view+json": {
       "model_id": "",
       "version_major": 2,
       "version_minor": 0
      },
      "text/plain": [
       "FloatProgress(value=0.0, bar_style='info', description='Progress:', layout=Layout(height='25px', width='50%'),…"
      ]
     },
     "metadata": {},
     "output_type": "display_data"
    },
    {
     "name": "stdout",
     "output_type": "stream",
     "text": [
      "+------------+--------------+------------+-------------+-----------+-------------+--------------------+----------+------+-------+---------+--------+------+\n",
      "|arrival_time|departure_time|     stop_id|stop_sequence|pickup_type|drop_off_type|             trip_id|service_id|monday|tuesday|wednesday|thursday|friday|\n",
      "+------------+--------------+------------+-------------+-----------+-------------+--------------------+----------+------+-------+---------+--------+------+\n",
      "|    01:30:00|      01:30:00|8505000:0:11|            1|          0|            0|1.TA.12-1-A-j19-1...|  TA+b099q|     0|      1|        1|       0|     1|\n",
      "|    01:35:00|      01:35:00| 8502021:0:1|            2|          0|            0|1.TA.12-1-A-j19-1...|  TA+b099q|     0|      1|        1|       0|     1|\n",
      "|    01:36:00|      01:37:00| 8502028:0:1|            3|          0|            0|1.TA.12-1-A-j19-1...|  TA+b099q|     0|      1|        1|       0|     1|\n",
      "|    01:39:00|      01:39:00| 8502012:0:1|            4|          0|            0|1.TA.12-1-A-j19-1...|  TA+b099q|     0|      1|        1|       0|     1|\n",
      "|    01:41:00|      01:41:00| 8502020:0:2|            5|          0|            0|1.TA.12-1-A-j19-1...|  TA+b099q|     0|      1|        1|       0|     1|\n",
      "|    01:47:00|      01:47:00| 8502009:0:2|            6|          0|            0|1.TA.12-1-A-j19-1...|  TA+b099q|     0|      1|        1|       0|     1|\n",
      "|    01:50:00|      01:50:00| 8502008:0:1|            7|          0|            0|1.TA.12-1-A-j19-1...|  TA+b099q|     0|      1|        1|       0|     1|\n",
      "|    01:52:00|      01:52:00| 8502011:0:2|            8|          0|            0|1.TA.12-1-A-j19-1...|  TA+b099q|     0|      1|        1|       0|     1|\n",
      "|    01:56:00|      01:56:00| 8502007:0:2|            9|          0|            0|1.TA.12-1-A-j19-1...|  TA+b099q|     0|      1|        1|       0|     1|\n",
      "|    06:30:00|      06:30:00|     8574776|            1|          0|            0|1.TA.16-440-j19-1...|  TA+b0007|     1|      1|        1|       1|     1|\n",
      "+------------+--------------+------------+-------------+-----------+-------------+--------------------+----------+------+-------+---------+--------+------+\n",
      "only showing top 10 rows"
     ]
    }
   ],
   "source": [
    "%%spark\n",
    "final_trips = all_trips_tot.join(trips_in_period, trips_in_period.trip_id == all_trips_tot.trip_id).distinct().drop(all_trips_tot.trip_id)\n",
    "final_trips.show(10)"
   ]
  },
  {
   "cell_type": "code",
   "execution_count": 25,
   "id": "eaa7b4a4-257c-4f14-a99b-3a62b365f2cf",
   "metadata": {},
   "outputs": [
    {
     "data": {
      "application/vnd.jupyter.widget-view+json": {
       "model_id": "",
       "version_major": 2,
       "version_minor": 0
      },
      "text/plain": [
       "FloatProgress(value=0.0, bar_style='info', description='Progress:', layout=Layout(height='25px', width='50%'),…"
      ]
     },
     "metadata": {},
     "output_type": "display_data"
    },
    {
     "name": "stdout",
     "output_type": "stream",
     "text": [
      "10862563"
     ]
    }
   ],
   "source": [
    "%%spark\n",
    "all_trips_tot.count()"
   ]
  },
  {
   "cell_type": "code",
   "execution_count": 26,
   "id": "28272097-b7e1-422c-a00a-380855fb8348",
   "metadata": {},
   "outputs": [
    {
     "data": {
      "application/vnd.jupyter.widget-view+json": {
       "model_id": "",
       "version_major": 2,
       "version_minor": 0
      },
      "text/plain": [
       "FloatProgress(value=0.0, bar_style='info', description='Progress:', layout=Layout(height='25px', width='50%'),…"
      ]
     },
     "metadata": {},
     "output_type": "display_data"
    },
    {
     "name": "stdout",
     "output_type": "stream",
     "text": [
      "7008267"
     ]
    }
   ],
   "source": [
    "%%spark\n",
    "final_trips.count()"
   ]
  },
  {
   "cell_type": "markdown",
   "id": "c7b1ddbc-9e4b-4191-8f7d-81cee957f5f5",
   "metadata": {},
   "source": [
    "### Considering working hours from 9:00 to 17:59"
   ]
  },
  {
   "cell_type": "code",
   "execution_count": 27,
   "id": "0fd92098-e4ae-4de5-a932-c3fd9d241597",
   "metadata": {},
   "outputs": [
    {
     "data": {
      "application/vnd.jupyter.widget-view+json": {
       "model_id": "",
       "version_major": 2,
       "version_minor": 0
      },
      "text/plain": [
       "FloatProgress(value=0.0, bar_style='info', description='Progress:', layout=Layout(height='25px', width='50%'),…"
      ]
     },
     "metadata": {},
     "output_type": "display_data"
    },
    {
     "name": "stdout",
     "output_type": "stream",
     "text": [
      "+------------+--------------+-----------+-------------+-----------+-------------+--------------------+----------+------+-------+---------+--------+------+\n",
      "|arrival_time|departure_time|stop_id    |stop_sequence|pickup_type|drop_off_type|trip_id             |service_id|monday|tuesday|wednesday|thursday|friday|\n",
      "+------------+--------------+-----------+-------------+-----------+-------------+--------------------+----------+------+-------+---------+--------+------+\n",
      "|10:41:00    |10:41:00      |8503064    |1            |0          |0            |1.TA.26-18-j19-1.1.H|TA+b0b46  |1     |1      |1        |1       |1     |\n",
      "|10:45:00    |10:45:00      |8503065:0:1|2            |0          |0            |1.TA.26-18-j19-1.1.H|TA+b0b46  |1     |1      |1        |1       |1     |\n",
      "|10:46:00    |10:46:00      |8503074    |3            |0          |0            |1.TA.26-18-j19-1.1.H|TA+b0b46  |1     |1      |1        |1       |1     |\n",
      "|10:47:00    |10:47:00      |8503068    |4            |0          |0            |1.TA.26-18-j19-1.1.H|TA+b0b46  |1     |1      |1        |1       |1     |\n",
      "|10:48:00    |10:48:00      |8503066    |5            |0          |0            |1.TA.26-18-j19-1.1.H|TA+b0b46  |1     |1      |1        |1       |1     |\n",
      "|10:50:00    |10:50:00      |8503075    |6            |0          |0            |1.TA.26-18-j19-1.1.H|TA+b0b46  |1     |1      |1        |1       |1     |\n",
      "|10:52:00    |10:52:00      |8503067    |7            |0          |0            |1.TA.26-18-j19-1.1.H|TA+b0b46  |1     |1      |1        |1       |1     |\n",
      "|10:53:00    |10:53:00      |8503077    |8            |0          |0            |1.TA.26-18-j19-1.1.H|TA+b0b46  |1     |1      |1        |1       |1     |\n",
      "|10:54:00    |10:54:00      |8503078    |9            |0          |0            |1.TA.26-18-j19-1.1.H|TA+b0b46  |1     |1      |1        |1       |1     |\n",
      "|10:57:00    |10:57:00      |8591315    |10           |0          |0            |1.TA.26-18-j19-1.1.H|TA+b0b46  |1     |1      |1        |1       |1     |\n",
      "+------------+--------------+-----------+-------------+-----------+-------------+--------------------+----------+------+-------+---------+--------+------+\n",
      "only showing top 10 rows"
     ]
    }
   ],
   "source": [
    "%%spark\n",
    "import pyspark.sql.functions as F\n",
    "\n",
    "final_trips = final_trips.filter(F.hour(final_trips.arrival_time).between(9,17) & F.hour(final_trips.departure_time).between(9,17))\n",
    "final_trips.show(10, truncate=False)"
   ]
  },
  {
   "cell_type": "code",
   "execution_count": 28,
   "id": "2b7d0396-6a62-420f-b98f-17bc011f8624",
   "metadata": {},
   "outputs": [
    {
     "data": {
      "application/vnd.jupyter.widget-view+json": {
       "model_id": "",
       "version_major": 2,
       "version_minor": 0
      },
      "text/plain": [
       "FloatProgress(value=0.0, bar_style='info', description='Progress:', layout=Layout(height='25px', width='50%'),…"
      ]
     },
     "metadata": {},
     "output_type": "display_data"
    },
    {
     "name": "stdout",
     "output_type": "stream",
     "text": [
      "3777527"
     ]
    }
   ],
   "source": [
    "%%spark\n",
    "final_trips.count()"
   ]
  },
  {
   "cell_type": "markdown",
   "id": "d27bffee-c2b3-49eb-9940-a696c61f09f6",
   "metadata": {},
   "source": [
    "### Keeping only trip_ids that contains a stop in the area of Zurich"
   ]
  },
  {
   "cell_type": "code",
   "execution_count": 29,
   "id": "8ee6ae76-3ee7-4c37-81dc-b229e29669e2",
   "metadata": {},
   "outputs": [
    {
     "data": {
      "application/vnd.jupyter.widget-view+json": {
       "model_id": "",
       "version_major": 2,
       "version_minor": 0
      },
      "text/plain": [
       "FloatProgress(value=0.0, bar_style='info', description='Progress:', layout=Layout(height='25px', width='50%'),…"
      ]
     },
     "metadata": {},
     "output_type": "display_data"
    },
    {
     "name": "stdout",
     "output_type": "stream",
     "text": [
      "+--------------------+\n",
      "|             trip_id|\n",
      "+--------------------+\n",
      "|1.TA.26-18-j19-1.1.H|\n",
      "|1.TA.63-138-Y-j19...|\n",
      "|1001.TA.26-213-j1...|\n",
      "|1014.TA.26-520-j1...|\n",
      "|1017.TA.26-151-j1...|\n",
      "|1023.TA.26-4-j19-...|\n",
      "|1029.TA.26-LAF-j1...|\n",
      "|103.TA.26-510-j19...|\n",
      "|1039.TA.26-200-j1...|\n",
      "|1082.TA.26-201-j1...|\n",
      "+--------------------+\n",
      "only showing top 10 rows"
     ]
    }
   ],
   "source": [
    "%%spark\n",
    "final_close_trips_ids = final_trips.join(close_stops, final_trips.stop_id == close_stops.stop_id , 'inner').select('trip_id').distinct()\n",
    "final_close_trips_ids.show(10)"
   ]
  },
  {
   "cell_type": "code",
   "execution_count": 30,
   "id": "e0c6b7dc-e394-412a-8a34-0d3cd6b7f9b8",
   "metadata": {},
   "outputs": [
    {
     "data": {
      "application/vnd.jupyter.widget-view+json": {
       "model_id": "",
       "version_major": 2,
       "version_minor": 0
      },
      "text/plain": [
       "FloatProgress(value=0.0, bar_style='info', description='Progress:', layout=Layout(height='25px', width='50%'),…"
      ]
     },
     "metadata": {},
     "output_type": "display_data"
    },
    {
     "name": "stdout",
     "output_type": "stream",
     "text": [
      "+------------+--------------+-------------+-----------+-------------+----------+------+-------+---------+--------+------+--------------------+------------+\n",
      "|arrival_time|departure_time|stop_sequence|pickup_type|drop_off_type|service_id|monday|tuesday|wednesday|thursday|friday|             trip_id|     stop_id|\n",
      "+------------+--------------+-------------+-----------+-------------+----------+------+-------+---------+--------+------+--------------------+------------+\n",
      "|    10:41:00|      10:41:00|            1|          0|            0|  TA+b0b46|     1|      1|        1|       1|     1|1.TA.26-18-j19-1.1.H|     8503064|\n",
      "|    10:45:00|      10:45:00|            2|          0|            0|  TA+b0b46|     1|      1|        1|       1|     1|1.TA.26-18-j19-1.1.H| 8503065:0:1|\n",
      "|    10:46:00|      10:46:00|            3|          0|            0|  TA+b0b46|     1|      1|        1|       1|     1|1.TA.26-18-j19-1.1.H|     8503074|\n",
      "|    10:47:00|      10:47:00|            4|          0|            0|  TA+b0b46|     1|      1|        1|       1|     1|1.TA.26-18-j19-1.1.H|     8503068|\n",
      "|    10:48:00|      10:48:00|            5|          0|            0|  TA+b0b46|     1|      1|        1|       1|     1|1.TA.26-18-j19-1.1.H|     8503066|\n",
      "|    10:50:00|      10:50:00|            6|          0|            0|  TA+b0b46|     1|      1|        1|       1|     1|1.TA.26-18-j19-1.1.H|     8503075|\n",
      "|    10:52:00|      10:52:00|            7|          0|            0|  TA+b0b46|     1|      1|        1|       1|     1|1.TA.26-18-j19-1.1.H|     8503067|\n",
      "|    10:53:00|      10:53:00|            8|          0|            0|  TA+b0b46|     1|      1|        1|       1|     1|1.TA.26-18-j19-1.1.H|     8503077|\n",
      "|    10:54:00|      10:54:00|            9|          0|            0|  TA+b0b46|     1|      1|        1|       1|     1|1.TA.26-18-j19-1.1.H|     8503078|\n",
      "|    10:57:00|      10:57:00|           10|          0|            0|  TA+b0b46|     1|      1|        1|       1|     1|1.TA.26-18-j19-1.1.H|     8591315|\n",
      "|    10:59:00|      10:59:00|           11|          0|            0|  TA+b0b46|     1|      1|        1|       1|     1|1.TA.26-18-j19-1.1.H|     8530811|\n",
      "|    11:02:00|      11:02:00|           12|          0|            0|  TA+b0b46|     1|      1|        1|       1|     1|1.TA.26-18-j19-1.1.H|     8530812|\n",
      "|    11:04:00|      11:04:00|           13|          0|            0|  TA+b0b46|     1|      1|        1|       1|     1|1.TA.26-18-j19-1.1.H|     8530813|\n",
      "|    11:07:00|      11:07:00|           14|          0|            0|  TA+b0b46|     1|      1|        1|       1|     1|1.TA.26-18-j19-1.1.H|     8503059|\n",
      "|    16:27:00|      16:27:00|            1|          0|            0|  TA+b0a2k|     0|      0|        1|       0|     0|1.TA.63-138-Y-j19...|8503000:0:15|\n",
      "|    12:10:00|      12:10:00|            1|          0|            0|  TA+b0b8k|     0|      0|        0|       0|     1|1001.TA.26-213-j1...|     8502779|\n",
      "|    12:11:00|      12:11:00|            2|          0|            0|  TA+b0b8k|     0|      0|        0|       0|     1|1001.TA.26-213-j1...|     8572606|\n",
      "|    12:13:00|      12:13:00|            3|          0|            0|  TA+b0b8k|     0|      0|        0|       0|     1|1001.TA.26-213-j1...|     8572604|\n",
      "|    12:16:00|      12:16:00|            4|          0|            0|  TA+b0b8k|     0|      0|        0|       0|     1|1001.TA.26-213-j1...|     8583890|\n",
      "|    12:19:00|      12:19:00|            5|          0|            0|  TA+b0b8k|     0|      0|        0|       0|     1|1001.TA.26-213-j1...| 8573178:0:C|\n",
      "+------------+--------------+-------------+-----------+-------------+----------+------+-------+---------+--------+------+--------------------+------------+\n",
      "only showing top 20 rows"
     ]
    }
   ],
   "source": [
    "%%spark\n",
    "final_close_trips1 = final_trips.join(final_close_trips_ids, final_trips.trip_id == final_close_trips_ids.trip_id).drop(final_close_trips_ids.trip_id).distinct()\n",
    "final_close_trips2 = final_close_trips1.join(all_stops_distance, all_stops_distance.stop_id == final_close_trips1.stop_id).drop(final_close_trips1.stop_id).distinct()\n",
    "final_close_trips_filtered = final_close_trips2.filter(all_stops_distance['distance'] <= 18000).drop('a','distance', 'lat', 'lon', 'stop_name')\n",
    "final_close_trips_filtered.show()"
   ]
  },
  {
   "cell_type": "code",
   "execution_count": 31,
   "id": "fbb1f767-f91f-4f8f-8926-f977ec338c6a",
   "metadata": {},
   "outputs": [
    {
     "data": {
      "application/vnd.jupyter.widget-view+json": {
       "model_id": "",
       "version_major": 2,
       "version_minor": 0
      },
      "text/plain": [
       "FloatProgress(value=0.0, bar_style='info', description='Progress:', layout=Layout(height='25px', width='50%'),…"
      ]
     },
     "metadata": {},
     "output_type": "display_data"
    },
    {
     "name": "stdout",
     "output_type": "stream",
     "text": [
      "535866"
     ]
    }
   ],
   "source": [
    "%%spark\n",
    "final_close_trips_filtered.cache()\n",
    "final_close_trips_filtered.count()"
   ]
  },
  {
   "cell_type": "markdown",
   "id": "78435b27-ac87-4d55-aa1d-729db082a32b",
   "metadata": {},
   "source": [
    "### Making table to link type of mean of transport to trip_ids"
   ]
  },
  {
   "cell_type": "code",
   "execution_count": 32,
   "id": "3c184f75-c662-45ec-8cfd-14dac9384daf",
   "metadata": {},
   "outputs": [
    {
     "data": {
      "application/vnd.jupyter.widget-view+json": {
       "model_id": "",
       "version_major": 2,
       "version_minor": 0
      },
      "text/plain": [
       "FloatProgress(value=0.0, bar_style='info', description='Progress:', layout=Layout(height='25px', width='50%'),…"
      ]
     },
     "metadata": {},
     "output_type": "display_data"
    },
    {
     "name": "stdout",
     "output_type": "stream",
     "text": [
      "+--------------------+----------+-----------+\n",
      "|             trip_id|route_desc|   route_id|\n",
      "+--------------------+----------+-----------+\n",
      "|9.TA.1-217-j19-1.1.H|       Bus|1-217-j19-1|\n",
      "|15.TA.1-217-j19-1...|       Bus|1-217-j19-1|\n",
      "|17.TA.1-217-j19-1...|       Bus|1-217-j19-1|\n",
      "|19.TA.1-217-j19-1...|       Bus|1-217-j19-1|\n",
      "|21.TA.1-217-j19-1...|       Bus|1-217-j19-1|\n",
      "|23.TA.1-217-j19-1...|       Bus|1-217-j19-1|\n",
      "|11.TA.1-217-j19-1...|       Bus|1-217-j19-1|\n",
      "|25.TA.1-217-j19-1...|       Bus|1-217-j19-1|\n",
      "|13.TA.1-217-j19-1...|       Bus|1-217-j19-1|\n",
      "|44.TA.1-217-j19-1...|       Bus|1-217-j19-1|\n",
      "+--------------------+----------+-----------+\n",
      "only showing top 10 rows"
     ]
    }
   ],
   "source": [
    "%%spark\n",
    "trips_id = final_close_trips_filtered.select(\"trip_id\").distinct()\n",
    "trips = spark.read.csv('/data/sbb/csv/trips/2019/05/08/trips.txt', header=True)\n",
    "\n",
    "trips_filtered = trips.join(trips_id, \"trip_id\", \"inner\")\n",
    "\n",
    "trips_filtered = trips_filtered.select(\"trip_id\", \"route_id\")\n",
    "\n",
    "routes = spark.read.csv('/data/sbb/csv/routes/2019/05/08/routes.txt', header=True)\n",
    "routes_descs = routes.select(\"route_desc\", \"route_id\")\n",
    "\n",
    "joined_routes = routes_descs.join(trips_filtered, \"route_id\", \"inner\")\n",
    "\n",
    "joined_routes = joined_routes.select(\"trip_id\", \"route_desc\", \"route_id\")\n",
    "\n",
    "joined_routes.show(10)\n"
   ]
  },
  {
   "cell_type": "code",
   "execution_count": 33,
   "id": "d497b03a-b078-46e2-a5a9-27e604109a58",
   "metadata": {},
   "outputs": [
    {
     "data": {
      "application/vnd.jupyter.widget-view+json": {
       "model_id": "",
       "version_major": 2,
       "version_minor": 0
      },
      "text/plain": [
       "FloatProgress(value=0.0, bar_style='info', description='Progress:', layout=Layout(height='25px', width='50%'),…"
      ]
     },
     "metadata": {},
     "output_type": "display_data"
    },
    {
     "name": "stdout",
     "output_type": "stream",
     "text": [
      "+--------------------+----------+-----------+\n",
      "|             trip_id|route_desc|   route_id|\n",
      "+--------------------+----------+-----------+\n",
      "|9.TA.1-217-j19-1.1.H|       Bus|1-217-j19-1|\n",
      "|15.TA.1-217-j19-1...|       Bus|1-217-j19-1|\n",
      "|17.TA.1-217-j19-1...|       Bus|1-217-j19-1|\n",
      "|19.TA.1-217-j19-1...|       Bus|1-217-j19-1|\n",
      "|21.TA.1-217-j19-1...|       Bus|1-217-j19-1|\n",
      "|23.TA.1-217-j19-1...|       Bus|1-217-j19-1|\n",
      "|11.TA.1-217-j19-1...|       Bus|1-217-j19-1|\n",
      "|25.TA.1-217-j19-1...|       Bus|1-217-j19-1|\n",
      "|13.TA.1-217-j19-1...|       Bus|1-217-j19-1|\n",
      "|44.TA.1-217-j19-1...|       Bus|1-217-j19-1|\n",
      "+--------------------+----------+-----------+\n",
      "only showing top 10 rows"
     ]
    }
   ],
   "source": [
    "%%spark\n",
    "joined_routes.show(10)"
   ]
  },
  {
   "cell_type": "code",
   "execution_count": 34,
   "id": "19a472b1-f966-49a2-96b8-abc2910555a6",
   "metadata": {},
   "outputs": [
    {
     "data": {
      "application/vnd.jupyter.widget-view+json": {
       "model_id": "",
       "version_major": 2,
       "version_minor": 0
      },
      "text/plain": [
       "FloatProgress(value=0.0, bar_style='info', description='Progress:', layout=Layout(height='25px', width='50%'),…"
      ]
     },
     "metadata": {},
     "output_type": "display_data"
    }
   ],
   "source": [
    "%%spark\n",
    "#joined_routes.write.mode('overwrite').option(\"delimiter\", \";\").option(\"header\",\"true\").format(\"csv\").save(\"/group/five-guys/routes\")"
   ]
  },
  {
   "cell_type": "markdown",
   "id": "a8b23f30-e244-42c0-bb7b-1fba9b4204e4",
   "metadata": {},
   "source": [
    "## Create timetable"
   ]
  },
  {
   "cell_type": "markdown",
   "id": "47b40790-05d5-42f1-9dc3-fe39e8b94794",
   "metadata": {},
   "source": [
    "As request by the paper "
   ]
  },
  {
   "cell_type": "markdown",
   "id": "581363da-a71e-4222-b2e9-0d03e5a71a22",
   "metadata": {},
   "source": [
    "### stops Table"
   ]
  },
  {
   "cell_type": "code",
   "execution_count": 35,
   "id": "41ada792-807b-427d-bd06-51cba02735ca",
   "metadata": {},
   "outputs": [
    {
     "data": {
      "application/vnd.jupyter.widget-view+json": {
       "model_id": "",
       "version_major": 2,
       "version_minor": 0
      },
      "text/plain": [
       "FloatProgress(value=0.0, bar_style='info', description='Progress:', layout=Layout(height='25px', width='50%'),…"
      ]
     },
     "metadata": {},
     "output_type": "display_data"
    },
    {
     "name": "stdout",
     "output_type": "stream",
     "text": [
      "+-----------+\n",
      "|    stop_id|\n",
      "+-----------+\n",
      "|    8503078|\n",
      "|    8506895|\n",
      "|    8589111|\n",
      "|    8591284|\n",
      "|    8590819|\n",
      "|    8573729|\n",
      "|    8591190|\n",
      "|    8502508|\n",
      "|8503306:0:2|\n",
      "|    8503376|\n",
      "+-----------+\n",
      "only showing top 10 rows"
     ]
    }
   ],
   "source": [
    "%%spark\n",
    "stops_table = final_close_trips_filtered.select(final_close_trips_filtered.stop_id).distinct()\n",
    "stops_table.show(10)"
   ]
  },
  {
   "cell_type": "code",
   "execution_count": 36,
   "id": "17618d0d-4616-4bcb-ba3b-f9ff0b4057f1",
   "metadata": {},
   "outputs": [
    {
     "data": {
      "application/vnd.jupyter.widget-view+json": {
       "model_id": "",
       "version_major": 2,
       "version_minor": 0
      },
      "text/plain": [
       "FloatProgress(value=0.0, bar_style='info', description='Progress:', layout=Layout(height='25px', width='50%'),…"
      ]
     },
     "metadata": {},
     "output_type": "display_data"
    }
   ],
   "source": [
    "%%spark\n",
    "\n",
    "all_stops = spark.read.csv('/data/sbb/csv/allstops/stop_locations.csv')\n",
    "\n",
    "all_stops = all_stops.withColumnRenamed('_c0','stop_id')\n",
    "all_stops = all_stops.withColumnRenamed('_c1','stop_name')\n",
    "all_stops = all_stops.withColumnRenamed('_c2','stop_lat')\n",
    "all_stops = all_stops.withColumnRenamed('_c3','stop_lon')\n",
    "all_stops = all_stops.withColumnRenamed('_c4','location_type')\n",
    "all_stops = all_stops.withColumnRenamed('_c5','parent_station')\n",
    "all_stops = all_stops.drop('location_type')\n",
    "\n",
    "all_stops_full = all_stops.join(stops_table, \"stop_id\" ,\"inner\")"
   ]
  },
  {
   "cell_type": "code",
   "execution_count": 37,
   "id": "e61ebfb9-d84c-49cd-a8c5-540cd2a553d8",
   "metadata": {},
   "outputs": [
    {
     "data": {
      "application/vnd.jupyter.widget-view+json": {
       "model_id": "",
       "version_major": 2,
       "version_minor": 0
      },
      "text/plain": [
       "FloatProgress(value=0.0, bar_style='info', description='Progress:', layout=Layout(height='25px', width='50%'),…"
      ]
     },
     "metadata": {},
     "output_type": "display_data"
    },
    {
     "name": "stdout",
     "output_type": "stream",
     "text": [
      "+-----------+--------------------+----------------+----------------+--------------+\n",
      "|    stop_id|           stop_name|        stop_lat|        stop_lon|parent_station|\n",
      "+-----------+--------------------+----------------+----------------+--------------+\n",
      "|    8506895|      Lufingen, Dorf|47.4886612950571|8.59365231835008|          null|\n",
      "|    8502508|Spreitenbach, Rai...|47.4163939893986|8.37617917118731|          null|\n",
      "|    8591190|     Zürich, Heuried|47.3694098744442|8.50635403902719|          null|\n",
      "|    8573729|Bonstetten, Isenbach|47.3151613074637|8.47171500166672|          null|\n",
      "|    8589111|Horgen, Gumelenst...|47.2608813777694|8.59208026660265|          null|\n",
      "|    8591284|   Zürich, Neeserweg|47.3905901422308|8.47472435786894|          null|\n",
      "|    8503078|            Waldburg|47.3454699490061| 8.5930234976511|          null|\n",
      "|    8503376|Ottikon b. Kemptthal|47.4353132339136| 8.7169371079598|          null|\n",
      "|8503306:0:2|           Dietlikon|47.4201990480087|8.61927227025673| Parent8503306|\n",
      "|    8590819|     Thalwil, Mettli|47.2821844204798|8.57300004996529|          null|\n",
      "+-----------+--------------------+----------------+----------------+--------------+\n",
      "only showing top 10 rows"
     ]
    }
   ],
   "source": [
    "%%spark\n",
    "all_stops_full.show(10)\n",
    "#all_stops_full.printSchema()"
   ]
  },
  {
   "cell_type": "code",
   "execution_count": 38,
   "id": "7b3e817c-dacb-460b-af1c-e1a231823f6a",
   "metadata": {},
   "outputs": [
    {
     "data": {
      "application/vnd.jupyter.widget-view+json": {
       "model_id": "",
       "version_major": 2,
       "version_minor": 0
      },
      "text/plain": [
       "FloatProgress(value=0.0, bar_style='info', description='Progress:', layout=Layout(height='25px', width='50%'),…"
      ]
     },
     "metadata": {},
     "output_type": "display_data"
    }
   ],
   "source": [
    "%%spark\n",
    "#all_stops_full.write.mode('overwrite').option(\"delimiter\", \";\").option(\"header\",\"true\").format(\"csv\").save(\"/group/five-guys/stops_table\")"
   ]
  },
  {
   "cell_type": "markdown",
   "id": "d8cd9244-fc60-4c1c-9403-0605f90db681",
   "metadata": {},
   "source": [
    "### connections Table"
   ]
  },
  {
   "cell_type": "code",
   "execution_count": 39,
   "id": "871d571d-2797-4284-8c80-41a48fdf9927",
   "metadata": {},
   "outputs": [
    {
     "data": {
      "application/vnd.jupyter.widget-view+json": {
       "model_id": "",
       "version_major": 2,
       "version_minor": 0
      },
      "text/plain": [
       "FloatProgress(value=0.0, bar_style='info', description='Progress:', layout=Layout(height='25px', width='50%'),…"
      ]
     },
     "metadata": {},
     "output_type": "display_data"
    },
    {
     "name": "stdout",
     "output_type": "stream",
     "text": [
      "+--------------------+------+-------+---------+--------+------+\n",
      "|             trip_id|monday|tuesday|wednesday|thursday|friday|\n",
      "+--------------------+------+-------+---------+--------+------+\n",
      "|1.TA.26-18-j19-1.1.H|     1|      1|        1|       1|     1|\n",
      "|1.TA.63-138-Y-j19...|     0|      0|        1|       0|     0|\n",
      "|1001.TA.26-213-j1...|     0|      0|        0|       0|     1|\n",
      "|1014.TA.26-520-j1...|     1|      1|        1|       1|     0|\n",
      "|1017.TA.26-151-j1...|     1|      1|        1|       1|     0|\n",
      "|1023.TA.26-4-j19-...|     1|      1|        1|       1|     1|\n",
      "|1029.TA.26-LAF-j1...|     1|      1|        1|       1|     0|\n",
      "|103.TA.26-510-j19...|     0|      0|        0|       0|     1|\n",
      "|1039.TA.26-200-j1...|     0|      0|        0|       0|     1|\n",
      "|1082.TA.26-201-j1...|     0|      0|        0|       0|     1|\n",
      "+--------------------+------+-------+---------+--------+------+\n",
      "only showing top 10 rows"
     ]
    }
   ],
   "source": [
    "%%spark\n",
    "trip_ids_with_days_table = final_close_trips_filtered.select('trip_id', 'monday', 'tuesday', 'wednesday', 'thursday', 'friday').distinct()\n",
    "trip_ids_with_days_table.show(10)"
   ]
  },
  {
   "cell_type": "code",
   "execution_count": 40,
   "id": "9dc838ba-d764-4363-a438-02fbfbe220bf",
   "metadata": {},
   "outputs": [
    {
     "data": {
      "application/vnd.jupyter.widget-view+json": {
       "model_id": "",
       "version_major": 2,
       "version_minor": 0
      },
      "text/plain": [
       "FloatProgress(value=0.0, bar_style='info', description='Progress:', layout=Layout(height='25px', width='50%'),…"
      ]
     },
     "metadata": {},
     "output_type": "display_data"
    },
    {
     "name": "stdout",
     "output_type": "stream",
     "text": [
      "+----------------+--------------+-------------+--------------------+------------+\n",
      "|old_arrival_time|departure_time|stop_sequence|             trip_id|departure_id|\n",
      "+----------------+--------------+-------------+--------------------+------------+\n",
      "|        15:10:00|      15:10:00|            1|1.TA.1-245-j19-1.1.H|     8573710|\n",
      "|        15:11:00|      15:11:00|            2|1.TA.1-245-j19-1.1.H|     8591341|\n",
      "|        15:13:00|      15:13:00|            3|1.TA.1-245-j19-1.1.H|     8502572|\n",
      "|        15:15:00|      15:15:00|            4|1.TA.1-245-j19-1.1.H|     8580912|\n",
      "|        15:17:00|      15:17:00|            5|1.TA.1-245-j19-1.1.H|     8503610|\n",
      "|        15:18:00|      15:18:00|            6|1.TA.1-245-j19-1.1.H|     8573711|\n",
      "|        15:21:00|      15:21:00|            7|1.TA.1-245-j19-1.1.H|     8503709|\n",
      "|        15:23:00|      15:23:00|            8|1.TA.1-245-j19-1.1.H|     8503699|\n",
      "|        15:24:00|      15:24:00|            9|1.TA.1-245-j19-1.1.H|     8503580|\n",
      "|        15:25:00|      15:25:00|           10|1.TA.1-245-j19-1.1.H|     8503698|\n",
      "|        15:28:00|      15:31:00|           11|1.TA.1-245-j19-1.1.H| 8573718:0:C|\n",
      "|        15:32:00|      15:32:00|           12|1.TA.1-245-j19-1.1.H|     8502950|\n",
      "|        15:33:00|      15:33:00|           13|1.TA.1-245-j19-1.1.H|     8573719|\n",
      "|        15:36:00|      15:36:00|           14|1.TA.1-245-j19-1.1.H|     8502876|\n",
      "|        15:37:00|      15:37:00|           15|1.TA.1-245-j19-1.1.H|     8583755|\n",
      "|        15:39:00|      15:39:00|           16|1.TA.1-245-j19-1.1.H|     8573720|\n",
      "|        15:40:00|      15:40:00|           17|1.TA.1-245-j19-1.1.H|     8503598|\n",
      "|        15:43:00|      15:43:00|           18|1.TA.1-245-j19-1.1.H|     8573721|\n",
      "|        15:44:00|      15:44:00|           19|1.TA.1-245-j19-1.1.H|     8573722|\n",
      "|        15:45:00|      15:45:00|           20|1.TA.1-245-j19-1.1.H|     8573723|\n",
      "|        15:47:00|      15:47:00|           21|1.TA.1-245-j19-1.1.H|     8572646|\n",
      "|        15:48:00|      15:48:00|           22|1.TA.1-245-j19-1.1.H|     8502570|\n",
      "|        15:50:00|      15:50:00|           23|1.TA.1-245-j19-1.1.H|     8572647|\n",
      "|        15:50:00|      15:50:00|           24|1.TA.1-245-j19-1.1.H|     8502571|\n",
      "|        15:51:00|      15:51:00|           25|1.TA.1-245-j19-1.1.H|     8580302|\n",
      "|        15:52:00|      15:52:00|           26|1.TA.1-245-j19-1.1.H|     8502567|\n",
      "|        15:54:00|      15:54:00|           27|1.TA.1-245-j19-1.1.H|     8502566|\n",
      "|        15:56:00|      15:56:00|           28|1.TA.1-245-j19-1.1.H|     8502577|\n",
      "|        15:58:00|      15:58:00|           29|1.TA.1-245-j19-1.1.H|     8502565|\n",
      "|        17:06:00|      17:06:00|            1|1.TA.1-315-j19-1.1.H|     8595708|\n",
      "+----------------+--------------+-------------+--------------------+------------+\n",
      "only showing top 30 rows"
     ]
    }
   ],
   "source": [
    "%%spark\n",
    "working_table = final_close_trips_filtered.withColumn('stop_sequence',final_close_trips_filtered.stop_sequence.cast('int')).orderBy('trip_id', 'stop_sequence').drop('service_id', 'pickup_type', 'drop_off_type', 'monday',  'tuesday', 'thursday', 'wednesday', 'thursday', 'friday')\n",
    "working_table = working_table.withColumnRenamed('stop_id','departure_id')\n",
    "working_table = working_table.withColumnRenamed('arrival_time','old_arrival_time')\n",
    "working_table.show(30)"
   ]
  },
  {
   "cell_type": "code",
   "execution_count": 41,
   "id": "266c4463-ef6e-4ed2-bffe-df51e81bc77f",
   "metadata": {},
   "outputs": [
    {
     "data": {
      "application/vnd.jupyter.widget-view+json": {
       "model_id": "",
       "version_major": 2,
       "version_minor": 0
      },
      "text/plain": [
       "FloatProgress(value=0.0, bar_style='info', description='Progress:', layout=Layout(height='25px', width='50%'),…"
      ]
     },
     "metadata": {},
     "output_type": "display_data"
    },
    {
     "name": "stdout",
     "output_type": "stream",
     "text": [
      "+----------------+--------------+-------------+--------------------+------------+------------+-----------+\n",
      "|old_arrival_time|departure_time|stop_sequence|             trip_id|departure_id|arrival_time| arrival_id|\n",
      "+----------------+--------------+-------------+--------------------+------------+------------+-----------+\n",
      "|        10:41:00|      10:41:00|            1|1.TA.26-18-j19-1.1.H|     8503064|    10:45:00|8503065:0:1|\n",
      "|        10:45:00|      10:45:00|            2|1.TA.26-18-j19-1.1.H| 8503065:0:1|    10:46:00|    8503074|\n",
      "|        10:46:00|      10:46:00|            3|1.TA.26-18-j19-1.1.H|     8503074|    10:47:00|    8503068|\n",
      "|        10:47:00|      10:47:00|            4|1.TA.26-18-j19-1.1.H|     8503068|    10:48:00|    8503066|\n",
      "|        10:48:00|      10:48:00|            5|1.TA.26-18-j19-1.1.H|     8503066|    10:50:00|    8503075|\n",
      "|        10:50:00|      10:50:00|            6|1.TA.26-18-j19-1.1.H|     8503075|    10:52:00|    8503067|\n",
      "|        10:52:00|      10:52:00|            7|1.TA.26-18-j19-1.1.H|     8503067|    10:53:00|    8503077|\n",
      "|        10:53:00|      10:53:00|            8|1.TA.26-18-j19-1.1.H|     8503077|    10:54:00|    8503078|\n",
      "|        10:54:00|      10:54:00|            9|1.TA.26-18-j19-1.1.H|     8503078|    10:57:00|    8591315|\n",
      "|        10:57:00|      10:57:00|           10|1.TA.26-18-j19-1.1.H|     8591315|    10:59:00|    8530811|\n",
      "+----------------+--------------+-------------+--------------------+------------+------------+-----------+\n",
      "only showing top 10 rows"
     ]
    }
   ],
   "source": [
    "%%spark\n",
    "import pyspark.sql.functions as F\n",
    "from pyspark.sql.window import Window\n",
    "\n",
    "w = Window().partitionBy('trip_id').orderBy('stop_sequence')\n",
    "table_a = working_table.select(\"*\",F.lag(\"old_arrival_time\", -1).over(w).alias(\"arrival_time\"), F.lag(\"departure_id\", -1).over(w).alias(\"arrival_id\")).na.drop()\n",
    "table_a.show(10)"
   ]
  },
  {
   "cell_type": "code",
   "execution_count": 42,
   "id": "f8057ee1-29c8-4836-810a-ab77fd5e7c3b",
   "metadata": {},
   "outputs": [
    {
     "data": {
      "application/vnd.jupyter.widget-view+json": {
       "model_id": "",
       "version_major": 2,
       "version_minor": 0
      },
      "text/plain": [
       "FloatProgress(value=0.0, bar_style='info', description='Progress:', layout=Layout(height='25px', width='50%'),…"
      ]
     },
     "metadata": {},
     "output_type": "display_data"
    },
    {
     "name": "stdout",
     "output_type": "stream",
     "text": [
      "+------------+----------+--------------+------------+--------------------+------+-------+---------+--------+------+\n",
      "|departure_id|arrival_id|departure_time|arrival_time|             trip_id|monday|tuesday|wednesday|thursday|friday|\n",
      "+------------+----------+--------------+------------+--------------------+------+-------+---------+--------+------+\n",
      "|     8572606|   8502779|      11:16:00|    11:19:00|103.TA.26-213-j19...|     0|      1|        1|       0|     0|\n",
      "|     8572604|   8572606|      11:14:00|    11:16:00|103.TA.26-213-j19...|     0|      1|        1|       0|     0|\n",
      "|     8583890|   8572604|      11:11:00|    11:14:00|103.TA.26-213-j19...|     0|      1|        1|       0|     0|\n",
      "| 8573178:0:B|   8583890|      11:10:00|    11:11:00|103.TA.26-213-j19...|     0|      1|        1|       0|     0|\n",
      "|     8591304|   8502495|      13:05:00|    13:06:00|32.TA.26-185-j19-...|     0|      1|        1|       0|     0|\n",
      "|     8591279|   8591304|      13:04:00|    13:05:00|32.TA.26-185-j19-...|     0|      1|        1|       0|     0|\n",
      "|     8591111|   8591279|      13:01:00|    13:04:00|32.TA.26-185-j19-...|     0|      1|        1|       0|     0|\n",
      "|     8590477|   8591111|      12:59:00|    13:01:00|32.TA.26-185-j19-...|     0|      1|        1|       0|     0|\n",
      "|     8590679|   8590477|      12:56:00|    12:59:00|32.TA.26-185-j19-...|     0|      1|        1|       0|     0|\n",
      "|     8590476|   8590679|      12:55:00|    12:56:00|32.TA.26-185-j19-...|     0|      1|        1|       0|     0|\n",
      "+------------+----------+--------------+------------+--------------------+------+-------+---------+--------+------+\n",
      "only showing top 10 rows"
     ]
    }
   ],
   "source": [
    "%%spark\n",
    "import pyspark.sql.functions as F\n",
    "from pyspark.sql.window import Window\n",
    "\n",
    "final_table = table_a.join(trip_ids_with_days_table, table_a.trip_id == trip_ids_with_days_table.trip_id)\n",
    "connections_table = final_table.drop('old_arrival_time', 'stop_sequence').select('departure_id', 'arrival_id', 'departure_time', 'arrival_time', table_a.trip_id, 'monday', 'tuesday', 'wednesday', 'thursday', 'friday')\n",
    "connections_table.show(10)"
   ]
  },
  {
   "cell_type": "code",
   "execution_count": 43,
   "id": "09588b86-9a33-4755-8598-2c2ad051704a",
   "metadata": {},
   "outputs": [
    {
     "data": {
      "application/vnd.jupyter.widget-view+json": {
       "model_id": "",
       "version_major": 2,
       "version_minor": 0
      },
      "text/plain": [
       "FloatProgress(value=0.0, bar_style='info', description='Progress:', layout=Layout(height='25px', width='50%'),…"
      ]
     },
     "metadata": {},
     "output_type": "display_data"
    },
    {
     "name": "stdout",
     "output_type": "stream",
     "text": [
      "0"
     ]
    }
   ],
   "source": [
    "%%spark\n",
    "connections_table.filter(connections_table.arrival_time < connections_table.departure_time).count()"
   ]
  },
  {
   "cell_type": "code",
   "execution_count": 44,
   "id": "9e350b17-875b-43f4-8320-888e918b0161",
   "metadata": {},
   "outputs": [
    {
     "data": {
      "application/vnd.jupyter.widget-view+json": {
       "model_id": "",
       "version_major": 2,
       "version_minor": 0
      },
      "text/plain": [
       "FloatProgress(value=0.0, bar_style='info', description='Progress:', layout=Layout(height='25px', width='50%'),…"
      ]
     },
     "metadata": {},
     "output_type": "display_data"
    },
    {
     "name": "stdout",
     "output_type": "stream",
     "text": [
      "495470"
     ]
    }
   ],
   "source": [
    "%%spark\n",
    "connections_table.count()"
   ]
  },
  {
   "cell_type": "markdown",
   "id": "0f286db9-dab4-4073-9e58-ec3caabb2b52",
   "metadata": {},
   "source": [
    "## Full table"
   ]
  },
  {
   "cell_type": "code",
   "execution_count": 45,
   "id": "4d765e25-b925-4982-956b-595e5be4b574",
   "metadata": {},
   "outputs": [
    {
     "data": {
      "application/vnd.jupyter.widget-view+json": {
       "model_id": "",
       "version_major": 2,
       "version_minor": 0
      },
      "text/plain": [
       "FloatProgress(value=0.0, bar_style='info', description='Progress:', layout=Layout(height='25px', width='50%'),…"
      ]
     },
     "metadata": {},
     "output_type": "display_data"
    },
    {
     "name": "stdout",
     "output_type": "stream",
     "text": [
      "+------------+----------+--------------+------------+--------------------+------+-------+---------+--------+------+\n",
      "|departure_id|arrival_id|departure_time|arrival_time|             trip_id|monday|tuesday|wednesday|thursday|friday|\n",
      "+------------+----------+--------------+------------+--------------------+------+-------+---------+--------+------+\n",
      "|     8502879|   8570706|      17:59:00|    17:59:00|1198.TA.26-215-j1...|     0|      0|        0|       0|     1|\n",
      "|     8503690|   8583053|      17:59:00|    17:59:00|234.TA.26-236-j19...|     0|      0|        0|       0|     1|\n",
      "|     8502879|   8570706|      17:59:00|    17:59:00|1580.TA.26-215-j1...|     1|      1|        1|       1|     0|\n",
      "|     8591333|   8591116|      17:59:00|    17:59:00|482.TA.26-78-j19-...|     1|      1|        1|       1|     1|\n",
      "|     8502879|   8570706|      17:59:00|    17:59:00|1075.TA.26-215-j1...|     0|      0|        0|       0|     1|\n",
      "|     8503709|   8574684|      17:59:00|    17:59:00|585.TA.26-201-j19...|     1|      1|        1|       1|     0|\n",
      "|     8502879|   8570706|      17:59:00|    17:59:00|1415.TA.26-215-j1...|     1|      1|        1|       1|     0|\n",
      "|     8575927|   8594339|      17:59:00|    17:59:00|234.TA.26-640-j19...|     0|      0|        0|       0|     1|\n",
      "|     8503709|   8574684|      17:59:00|    17:59:00|179.TA.26-201-j19...|     0|      0|        0|       0|     1|\n",
      "|     8502879|   8570706|      17:59:00|    17:59:00|1285.TA.26-215-j1...|     0|      0|        0|       0|     1|\n",
      "+------------+----------+--------------+------------+--------------------+------+-------+---------+--------+------+\n",
      "only showing top 10 rows"
     ]
    }
   ],
   "source": [
    "%%spark\n",
    "from pyspark.sql.functions import desc\n",
    "connections_table = connections_table.orderBy(desc(\"departure_time\"))\n",
    "connections_table.show(10)\n",
    "#ordering of columns\n",
    "#connections_table = connections_table_monday_full_sorted.select(\"departure_id\", \"arrival_id\", \"departure_time\", \"arrival_time\", \"trip_id\")"
   ]
  },
  {
   "cell_type": "code",
   "execution_count": 46,
   "id": "8e6800c2-9f81-41ee-b780-b9ae844d5321",
   "metadata": {},
   "outputs": [
    {
     "data": {
      "application/vnd.jupyter.widget-view+json": {
       "model_id": "",
       "version_major": 2,
       "version_minor": 0
      },
      "text/plain": [
       "FloatProgress(value=0.0, bar_style='info', description='Progress:', layout=Layout(height='25px', width='50%'),…"
      ]
     },
     "metadata": {},
     "output_type": "display_data"
    }
   ],
   "source": [
    "%%spark\n",
    "#connections_table.write.mode('overwrite').option(\"header\",\"true\").format(\"csv\").save(\"/group/five-guys/conn_table\")"
   ]
  },
  {
   "cell_type": "markdown",
   "id": "95930006-3817-4e5b-ab43-8d58d3ede49a",
   "metadata": {},
   "source": [
    "### trips Table"
   ]
  },
  {
   "cell_type": "code",
   "execution_count": 47,
   "id": "1a2b6ca5-bd82-4a0e-8b96-a8dcfddfdb60",
   "metadata": {},
   "outputs": [
    {
     "data": {
      "application/vnd.jupyter.widget-view+json": {
       "model_id": "",
       "version_major": 2,
       "version_minor": 0
      },
      "text/plain": [
       "FloatProgress(value=0.0, bar_style='info', description='Progress:', layout=Layout(height='25px', width='50%'),…"
      ]
     },
     "metadata": {},
     "output_type": "display_data"
    },
    {
     "name": "stdout",
     "output_type": "stream",
     "text": [
      "+--------------------+\n",
      "|             trip_id|\n",
      "+--------------------+\n",
      "|1.TA.26-18-j19-1.1.H|\n",
      "|1.TA.63-138-Y-j19...|\n",
      "|1001.TA.26-213-j1...|\n",
      "|1014.TA.26-520-j1...|\n",
      "|1017.TA.26-151-j1...|\n",
      "|1023.TA.26-4-j19-...|\n",
      "|1029.TA.26-LAF-j1...|\n",
      "|103.TA.26-510-j19...|\n",
      "|1039.TA.26-200-j1...|\n",
      "|1082.TA.26-201-j1...|\n",
      "+--------------------+\n",
      "only showing top 10 rows"
     ]
    }
   ],
   "source": [
    "%%spark\n",
    "#final_close_trips_filtered = final_close_trips.filter(final_close_trips.arrival_time>final_close_trips.departure_time)\n",
    "trips_table = final_close_trips_filtered.select(final_close_trips_filtered.trip_id).distinct()\n",
    "trips_table.show(10)"
   ]
  },
  {
   "cell_type": "code",
   "execution_count": 48,
   "id": "43ebbc66-acd3-4fb6-b680-180c36e5202f",
   "metadata": {},
   "outputs": [
    {
     "data": {
      "application/vnd.jupyter.widget-view+json": {
       "model_id": "",
       "version_major": 2,
       "version_minor": 0
      },
      "text/plain": [
       "FloatProgress(value=0.0, bar_style='info', description='Progress:', layout=Layout(height='25px', width='50%'),…"
      ]
     },
     "metadata": {},
     "output_type": "display_data"
    },
    {
     "name": "stdout",
     "output_type": "stream",
     "text": [
      "+--------------------+-----------+----------+--------------------+---------------+------------+\n",
      "|             trip_id|   route_id|service_id|       trip_headsign|trip_short_name|direction_id|\n",
      "+--------------------+-----------+----------+--------------------+---------------+------------+\n",
      "|9.TA.1-217-j19-1.1.H|1-217-j19-1|  TA+b0001|Affoltern a. A., ...|          21719|           0|\n",
      "|15.TA.1-217-j19-1...|1-217-j19-1|  TA+b0001|Affoltern a. A., ...|          21731|           0|\n",
      "|17.TA.1-217-j19-1...|1-217-j19-1|  TA+b0001|Affoltern a. A., ...|          21735|           0|\n",
      "|19.TA.1-217-j19-1...|1-217-j19-1|  TA+b0001|Affoltern a. A., ...|          21739|           0|\n",
      "|21.TA.1-217-j19-1...|1-217-j19-1|  TA+b0001|Affoltern a. A., ...|          21743|           0|\n",
      "|23.TA.1-217-j19-1...|1-217-j19-1|  TA+b0001|Affoltern a. A., ...|          21747|           0|\n",
      "|11.TA.1-217-j19-1...|1-217-j19-1|  TA+b0001|Affoltern a. A., ...|          21723|           0|\n",
      "|25.TA.1-217-j19-1...|1-217-j19-1|  TA+b0001|Affoltern a. A., ...|          21751|           0|\n",
      "|13.TA.1-217-j19-1...|1-217-j19-1|  TA+b0001|Affoltern a. A., ...|          21727|           0|\n",
      "|44.TA.1-217-j19-1...|1-217-j19-1|  TA+b0001|    Muri AG, Bahnhof|          21722|           1|\n",
      "+--------------------+-----------+----------+--------------------+---------------+------------+\n",
      "only showing top 10 rows"
     ]
    }
   ],
   "source": [
    "%%spark \n",
    "#trips as described in the readme, but filtered for time and distance\n",
    "\n",
    "trips_table_filtered = routes_tot.join(trips_table, \"trip_id\" ,\"inner\")\n",
    "trips_table_filtered.show(10)"
   ]
  },
  {
   "cell_type": "code",
   "execution_count": 49,
   "id": "0e442db4-e963-437b-be5f-56719750c28d",
   "metadata": {},
   "outputs": [
    {
     "data": {
      "application/vnd.jupyter.widget-view+json": {
       "model_id": "",
       "version_major": 2,
       "version_minor": 0
      },
      "text/plain": [
       "FloatProgress(value=0.0, bar_style='info', description='Progress:', layout=Layout(height='25px', width='50%'),…"
      ]
     },
     "metadata": {},
     "output_type": "display_data"
    }
   ],
   "source": [
    "%%spark\n",
    "trips_table_filtered = trips_table_filtered.select(\"route_id\", \"service_id\", \"trip_id\", \"trip_headsign\", \"trip_short_name\", \"direction_id\")"
   ]
  },
  {
   "cell_type": "code",
   "execution_count": 50,
   "id": "0f73a9a7-dce2-4d6c-a28b-b9c44212d391",
   "metadata": {},
   "outputs": [
    {
     "data": {
      "application/vnd.jupyter.widget-view+json": {
       "model_id": "",
       "version_major": 2,
       "version_minor": 0
      },
      "text/plain": [
       "FloatProgress(value=0.0, bar_style='info', description='Progress:', layout=Layout(height='25px', width='50%'),…"
      ]
     },
     "metadata": {},
     "output_type": "display_data"
    }
   ],
   "source": [
    "%%spark\n",
    "#trips_table_filtered.write.mode('overwrite').option(\"delimiter\", \";\").option(\"header\",\"true\").format(\"csv\").save(\"/group/five-guys/trips\")"
   ]
  },
  {
   "cell_type": "markdown",
   "id": "fadf1b69-7d05-4de0-9738-4669acc11427",
   "metadata": {},
   "source": [
    "### Footpath table"
   ]
  },
  {
   "cell_type": "code",
   "execution_count": 51,
   "id": "27b73e2f-f963-4c21-a7e3-c71868c97159",
   "metadata": {},
   "outputs": [
    {
     "data": {
      "application/vnd.jupyter.widget-view+json": {
       "model_id": "",
       "version_major": 2,
       "version_minor": 0
      },
      "text/plain": [
       "FloatProgress(value=0.0, bar_style='info', description='Progress:', layout=Layout(height='25px', width='50%'),…"
      ]
     },
     "metadata": {},
     "output_type": "display_data"
    },
    {
     "name": "stdout",
     "output_type": "stream",
     "text": [
      "+------------+-----------+----+\n",
      "|departure_id| arrival_id|time|\n",
      "+------------+-----------+----+\n",
      "| 8503306:0:2|    8590541| 528|\n",
      "|     8506895|    8573228| 402|\n",
      "|     8591190|    8591170| 311|\n",
      "|     8591284|    8591116| 479|\n",
      "|     8591284|    8591274| 327|\n",
      "|     8503078|    8591903| 471|\n",
      "|     8589111|    8590655| 583|\n",
      "|     8589111|    8594182| 293|\n",
      "| 8503306:0:2|8503306:0:1|   0|\n",
      "|     8589111|    8502208| 351|\n",
      "+------------+-----------+----+\n",
      "only showing top 10 rows"
     ]
    }
   ],
   "source": [
    "%%spark\n",
    "\n",
    "#add attributes lat, lon to stops_table\n",
    "stops_table_expanded = stops_table.join(all_stops, 'stop_id', 'inner')\n",
    "#create all possible pairs between stops\n",
    "stops_table_expanded_a = stops_table_expanded.select([F.col(c).alias(\"a_\"+c) for c in stops_table_expanded.columns])\n",
    "stops_table_expanded_b = stops_table_expanded.select([F.col(c).alias(\"b_\"+c) for c in stops_table_expanded.columns])\n",
    "cartesian_product = stops_table_expanded_a.crossJoin(stops_table_expanded_b)\n",
    "#compute distance for all pairs\n",
    "stops_table_distance = cartesian_product.withColumn(\"a\", (\n",
    "        F.pow(F.sin(F.radians(F.col(\"a_stop_lat\") - F.col(\"b_stop_lat\")) / 2), 2) +\n",
    "        F.cos(F.radians(F.col(\"b_stop_lat\"))) * F.cos(F.radians(F.col(\"a_stop_lat\"))) *\n",
    "        F.pow(F.sin(F.radians(F.col(\"a_stop_lon\") - F.col(\"b_stop_lon\")) / 2), 2)\n",
    "    )).withColumn(\"distance\", F.atan2(F.sqrt(F.col(\"a\")), F.sqrt(-F.col(\"a\") + 1)) * 12742000)\n",
    "#filter pair with distance shorter than 500m\n",
    "stops_table_distance = stops_table_distance.filter(stops_table_distance.distance <= 500)\n",
    "#compute time considering walking speed of 50m/1min\n",
    "#time is in seconds\n",
    "stops_table_time = stops_table_distance.withColumn('time', F.round((stops_table_distance['distance']/F.lit(50))*F.lit(60), 0).cast('int'))\n",
    "footpath_table = stops_table_time.select(stops_table_time.a_stop_id.alias('departure_id'), stops_table_time.b_stop_id.alias('arrival_id'), stops_table_time.time)\n",
    "#remove pairs where arrival == departure\n",
    "footpath_table = footpath_table.filter(footpath_table.departure_id != footpath_table.arrival_id)\n",
    "footpath_table.show(10)"
   ]
  },
  {
   "cell_type": "code",
   "execution_count": 52,
   "id": "2acbb5d3-d575-4237-a6f0-66d0fb49f343",
   "metadata": {},
   "outputs": [
    {
     "data": {
      "application/vnd.jupyter.widget-view+json": {
       "model_id": "",
       "version_major": 2,
       "version_minor": 0
      },
      "text/plain": [
       "FloatProgress(value=0.0, bar_style='info', description='Progress:', layout=Layout(height='25px', width='50%'),…"
      ]
     },
     "metadata": {},
     "output_type": "display_data"
    },
    {
     "name": "stdout",
     "output_type": "stream",
     "text": [
      "root\n",
      " |-- departure_id: string (nullable = true)\n",
      " |-- arrival_id: string (nullable = true)\n",
      " |-- time: integer (nullable = true)"
     ]
    }
   ],
   "source": [
    "%%spark\n",
    "footpath_table.printSchema()"
   ]
  },
  {
   "cell_type": "code",
   "execution_count": 53,
   "id": "23aaba95-6b00-4025-938f-b5d34f80afb3",
   "metadata": {},
   "outputs": [
    {
     "data": {
      "application/vnd.jupyter.widget-view+json": {
       "model_id": "",
       "version_major": 2,
       "version_minor": 0
      },
      "text/plain": [
       "FloatProgress(value=0.0, bar_style='info', description='Progress:', layout=Layout(height='25px', width='50%'),…"
      ]
     },
     "metadata": {},
     "output_type": "display_data"
    }
   ],
   "source": [
    "%%spark\n",
    "#footpath_table.write.mode('overwrite').option(\"delimiter\", \";\").option(\"header\",\"true\").format(\"csv\").save(\"/group/five-guys/footpath\")"
   ]
  },
  {
   "cell_type": "code",
   "execution_count": 54,
   "id": "166f67d8-f89d-41c2-8dec-25da0d59b2f5",
   "metadata": {},
   "outputs": [],
   "source": [
    "#transform list of tuple into dictionary of dictionaries\n",
    "#footpath_map = footpath_table.groupby('arrival_id')[['departure_id', 'time']].apply(lambda g: g.values.tolist()).to_dict()\n",
    "#footpath_map = {k: dict(v) for k, v in footpath_map.items()}\n",
    "#convert and save the dictionary to pickle\n",
    "#pickle.dump(footpath_map, open(path_data+\"footpath_map.pickle\", \"wb\"))"
   ]
  },
  {
   "cell_type": "code",
   "execution_count": 55,
   "id": "0f47c646-f3f6-4ef1-94d7-a57d8f272f3d",
   "metadata": {},
   "outputs": [],
   "source": [
    "#!git lfs track \"../data/footpath_map.pickle\"\n",
    "#!git add .gitattributes\n",
    "#!git commit -m \"footpath_map.pickle\"\n",
    "#!git push"
   ]
  },
  {
   "cell_type": "markdown",
   "id": "9f9195f1-76ff-46be-91f9-601bda4ed4a2",
   "metadata": {},
   "source": [
    "## Confidence"
   ]
  },
  {
   "cell_type": "markdown",
   "id": "df09531d-bc1d-428c-aaa1-91c86bf2150c",
   "metadata": {},
   "source": [
    "### Import data"
   ]
  },
  {
   "cell_type": "code",
   "execution_count": 56,
   "id": "db96eae0-a2ec-4132-a22d-e5133bb9bc3f",
   "metadata": {},
   "outputs": [
    {
     "data": {
      "application/vnd.jupyter.widget-view+json": {
       "model_id": "",
       "version_major": 2,
       "version_minor": 0
      },
      "text/plain": [
       "FloatProgress(value=0.0, bar_style='info', description='Progress:', layout=Layout(height='25px', width='50%'),…"
      ]
     },
     "metadata": {},
     "output_type": "display_data"
    },
    {
     "name": "stdout",
     "output_type": "stream",
     "text": [
      "root\n",
      " |-- stop_id: string (nullable = true)"
     ]
    }
   ],
   "source": [
    "%%spark\n",
    "#import filtered stop_ids\n",
    "stops_table = spark.read.option(\"header\",True).options(delimiter=';').csv(\"/group/five-guys/stops_table\")\n",
    "stops_table = stops_table.select(stops_table.stop_id)\n",
    "stops_table.printSchema()"
   ]
  },
  {
   "cell_type": "code",
   "execution_count": 57,
   "id": "5fc09acf-f9e8-4af2-af7a-a100612d2a20",
   "metadata": {},
   "outputs": [
    {
     "data": {
      "application/vnd.jupyter.widget-view+json": {
       "model_id": "",
       "version_major": 2,
       "version_minor": 0
      },
      "text/plain": [
       "FloatProgress(value=0.0, bar_style='info', description='Progress:', layout=Layout(height='25px', width='50%'),…"
      ]
     },
     "metadata": {},
     "output_type": "display_data"
    }
   ],
   "source": [
    "%%spark\n",
    "actual_data = spark.read.orc('/data/sbb/orc/istdaten')\n",
    "#actual_data.printSchema()"
   ]
  },
  {
   "cell_type": "code",
   "execution_count": 58,
   "id": "faa71373-50f0-4ecc-9b9c-4ec82db0ba6b",
   "metadata": {},
   "outputs": [],
   "source": [
    "# %%spark\n",
    "# #subsample\n",
    "# actual_data = actual_data.sample(0.0001, seed=0)"
   ]
  },
  {
   "cell_type": "markdown",
   "id": "de201ab6-d62a-4b0f-936e-417520400bed",
   "metadata": {},
   "source": [
    "### Rename columns"
   ]
  },
  {
   "cell_type": "markdown",
   "id": "ee0dca60-144a-43fa-b2b0-116893c395b0",
   "metadata": {},
   "source": [
    "Columns are renamed in English as follows:\n",
    "- `betriebstag` to DATE\n",
    "- `produkt_id` to PRODUCT_ID\n",
    "- `fahrt_bezeichner` to TRIP_ID\n",
    "- `bpuic` to STOP_ID\n",
    "- `haltestellen_name` to STOP_NAME\n",
    "- `ankunftszeit` to ARRIVAL_TIME\n",
    "- `an_prognose_status` to ARRIVAL_TIME_STATUS\n",
    "- `an_prognose` to ACTUAL_ARRIVAL_TIME\n",
    "- `abfahrtszeit` to DEPARTURE_TIME\n",
    "- `ab_prognose_status` to DEPARTURE_TIME_STATUS\n",
    "- `ab_prognose` to ACTUAL_DEPARTURE_TIME"
   ]
  },
  {
   "cell_type": "code",
   "execution_count": 59,
   "id": "c9fd06ba-8651-405a-b0f2-eec211ba02d4",
   "metadata": {},
   "outputs": [
    {
     "data": {
      "application/vnd.jupyter.widget-view+json": {
       "model_id": "",
       "version_major": 2,
       "version_minor": 0
      },
      "text/plain": [
       "FloatProgress(value=0.0, bar_style='info', description='Progress:', layout=Layout(height='25px', width='50%'),…"
      ]
     },
     "metadata": {},
     "output_type": "display_data"
    }
   ],
   "source": [
    "%%spark\n",
    "\n",
    "#rename columns in english\n",
    "actual_data = actual_data.select(actual_data.betriebstag.alias('DATE'),\\\n",
    "                                 actual_data.produkt_id.alias('PRODUCT_ID'),\\\n",
    "                                 actual_data.bpuic.alias('STOP_ID'),\\\n",
    "                                 actual_data.haltestellen_name.alias('STOP_NAME'),\\\n",
    "                                 actual_data.fahrt_bezeichner.alias('TRIP_ID'),\\\n",
    "                                 actual_data.ankunftszeit.alias('ARRIVAL_TIME'),\\\n",
    "                                 actual_data.an_prognose_status.alias('ARRIVAL_TIME_STATUS'),\\\n",
    "                                 actual_data.an_prognose.alias('ACTUAL_ARRIVAL_TIME'),\\\n",
    "                                 actual_data.abfahrtszeit.alias('DEPARTURE_TIME'),\\\n",
    "                                 actual_data.ab_prognose_status.alias('DEPARTURE_TIME_STATUS'),\n",
    "                                 actual_data.ab_prognose.alias('ACTUAL_DEPARTURE_TIME'))"
   ]
  },
  {
   "cell_type": "markdown",
   "id": "aabf0839-8c7f-497d-850e-1c29ab52356f",
   "metadata": {},
   "source": [
    "### Filter stop_id"
   ]
  },
  {
   "cell_type": "code",
   "execution_count": 60,
   "id": "da6de003-536d-46d5-8b84-23464b05f06c",
   "metadata": {},
   "outputs": [
    {
     "data": {
      "application/vnd.jupyter.widget-view+json": {
       "model_id": "",
       "version_major": 2,
       "version_minor": 0
      },
      "text/plain": [
       "FloatProgress(value=0.0, bar_style='info', description='Progress:', layout=Layout(height='25px', width='50%'),…"
      ]
     },
     "metadata": {},
     "output_type": "display_data"
    }
   ],
   "source": [
    "%%spark\n",
    "#use only stop_ids from stops_table\n",
    "tmp = actual_data.join(stops_table, (actual_data['STOP_ID'] == stops_table['stop_id']), how='inner')\n",
    "actual_data = tmp.select(actual_data.DATE,\\\n",
    "                                 actual_data.PRODUCT_ID,\\\n",
    "                                 actual_data.STOP_ID,\\\n",
    "                                 actual_data.STOP_NAME,\\\n",
    "                                 actual_data.TRIP_ID,\\\n",
    "                                 actual_data.ARRIVAL_TIME,\\\n",
    "                                 actual_data.ARRIVAL_TIME_STATUS,\\\n",
    "                                 actual_data.ACTUAL_ARRIVAL_TIME,\\\n",
    "                                 actual_data.DEPARTURE_TIME,\\\n",
    "                                 actual_data.DEPARTURE_TIME_STATUS,\n",
    "                                 actual_data.ACTUAL_DEPARTURE_TIME\n",
    "                        )"
   ]
  },
  {
   "cell_type": "markdown",
   "id": "005a184c-8f59-4494-9e34-ba34c8a52a4f",
   "metadata": {},
   "source": [
    "### Prepare table"
   ]
  },
  {
   "cell_type": "code",
   "execution_count": 61,
   "id": "7f796a76-e95b-4d64-8abd-0c7854ab6867",
   "metadata": {},
   "outputs": [
    {
     "data": {
      "application/vnd.jupyter.widget-view+json": {
       "model_id": "",
       "version_major": 2,
       "version_minor": 0
      },
      "text/plain": [
       "FloatProgress(value=0.0, bar_style='info', description='Progress:', layout=Layout(height='25px', width='50%'),…"
      ]
     },
     "metadata": {},
     "output_type": "display_data"
    }
   ],
   "source": [
    "%%spark\n",
    "import pyspark.sql.functions as F\n",
    "# F.date_format(F.to_timestamp(df_used.timestamp_s), 'yyyy-MM-dd HH:mm:ss').alias('date'))\n",
    "df = actual_data.withColumn('DATE', F.date_format(F.to_timestamp(actual_data.DATE, 'dd.MM.yyyy'), 'yyyy-MM-dd'))"
   ]
  },
  {
   "cell_type": "code",
   "execution_count": 62,
   "id": "cafe8500-2f43-4f4b-8e7f-12641771df19",
   "metadata": {},
   "outputs": [],
   "source": [
    "# %%spark\n",
    "\n",
    "# #filter only 2019\n",
    "# df = df.filter(F.year(df.DATE) == 2019)\n",
    "# df = df.filter(F.month(df.DATE) == 5)"
   ]
  },
  {
   "cell_type": "code",
   "execution_count": 63,
   "id": "257e9be3-a846-46dc-bf4f-27d09e8f367c",
   "metadata": {},
   "outputs": [
    {
     "data": {
      "application/vnd.jupyter.widget-view+json": {
       "model_id": "",
       "version_major": 2,
       "version_minor": 0
      },
      "text/plain": [
       "FloatProgress(value=0.0, bar_style='info', description='Progress:', layout=Layout(height='25px', width='50%'),…"
      ]
     },
     "metadata": {},
     "output_type": "display_data"
    }
   ],
   "source": [
    "%%spark\n",
    "import pyspark.sql.functions as F\n",
    "\n",
    "df = df.withColumn('DAY_OF_WEEK', ((F.dayofweek(df['DATE'])+5)%7)+1)"
   ]
  },
  {
   "cell_type": "code",
   "execution_count": 64,
   "id": "79a55747-16fa-4a1b-9db0-7013ca9cce0f",
   "metadata": {},
   "outputs": [
    {
     "data": {
      "application/vnd.jupyter.widget-view+json": {
       "model_id": "",
       "version_major": 2,
       "version_minor": 0
      },
      "text/plain": [
       "FloatProgress(value=0.0, bar_style='info', description='Progress:', layout=Layout(height='25px', width='50%'),…"
      ]
     },
     "metadata": {},
     "output_type": "display_data"
    }
   ],
   "source": [
    "%%spark\n",
    "import pyspark.sql.functions as F\n",
    "\n",
    "#remove entries with ARRIVAL_TIME_STATUS and DEPARTURE_TIME_STATUS unknown\n",
    "df = df.filter(df['ARRIVAL_TIME_STATUS'] != 'UNBEKANNT')\n",
    "df = df.filter(df['DEPARTURE_TIME_STATUS'] != 'UNBEKANNT')\n",
    "\n",
    "#remove entries with ARRIVAL_TIME_STATUS and DEPARTURE_TIME_STATUS is empty\n",
    "df = df.filter(df['ARRIVAL_TIME_STATUS'] != '')\n",
    "df = df.filter(df['DEPARTURE_TIME_STATUS'] != '')\n",
    "\n",
    "#remove entries with PRODUCT_ID empty\n",
    "df = df.filter(df['PRODUCT_ID'] != '')\n",
    "\n",
    "#remove entries with STOP_ID empty\n",
    "df = df.filter(df['STOP_ID'] != '')\n",
    "\n",
    "#remove entries with STOP_NAME empty\n",
    "df = df.filter(df['STOP_NAME'] != '')\n",
    "\n",
    "#remove entries with TRIP_ID empty\n",
    "df = df.filter(df['TRIP_ID'] != '')\n",
    "\n",
    "#transform to unix_timestamp\n",
    "df = df.withColumn('ARRIVAL_TIME', F.unix_timestamp(df.ARRIVAL_TIME, 'dd.MM.yyyy HH:mm'))\n",
    "df = df.withColumn('ACTUAL_ARRIVAL_TIME', F.unix_timestamp(df.ACTUAL_ARRIVAL_TIME, 'dd.MM.yyyy HH:mm'))\n",
    "df = df.withColumn('DEPARTURE_TIME', F.unix_timestamp(df.DEPARTURE_TIME, 'dd.MM.yyyy HH:mm'))\n",
    "df = df.withColumn('ACTUAL_DEPARTURE_TIME', F.unix_timestamp(df.ACTUAL_DEPARTURE_TIME, 'dd.MM.yyyy HH:mm'))\n",
    "\n",
    "#fill null with 0 \n",
    "#When the stop is the start or end of a journey, the corresponding columns will be empty (ANKUNFTSZEIT/ABFAHRTSZEIT)\n",
    "df = df.na.fill({'ARRIVAL_TIME' : 0, 'ACTUAL_ARRIVAL_TIME' : 0, 'DEPARTURE_TIME' : 0, 'ACTUAL_DEPARTURE_TIME' : 0})\n",
    "\n",
    "#compute delay\n",
    "df = df.withColumn('ARRIVAL_DELAY', F.when((df['ACTUAL_ARRIVAL_TIME']-df['ARRIVAL_TIME'] )< 0, 0).otherwise(df['ACTUAL_ARRIVAL_TIME']-df['ARRIVAL_TIME']))\n",
    "df = df.withColumn('DEPARTURE_DELAY', F.when((df['ACTUAL_DEPARTURE_TIME']-df['DEPARTURE_TIME'] )< 0, 0).otherwise(df['ACTUAL_DEPARTURE_TIME']-df['DEPARTURE_TIME']))\n",
    "\n",
    "#convert seconds in minutes\n",
    "df = df.withColumn('ARRIVAL_DELAY', F.round(df['ARRIVAL_DELAY']/60))\n",
    "df = df.withColumn('DEPARTURE_DELAY', F.round(df['DEPARTURE_DELAY']/60))"
   ]
  },
  {
   "cell_type": "code",
   "execution_count": 65,
   "id": "285451cc-663e-40d1-b19c-379fb041ed3f",
   "metadata": {},
   "outputs": [
    {
     "data": {
      "application/vnd.jupyter.widget-view+json": {
       "model_id": "",
       "version_major": 2,
       "version_minor": 0
      },
      "text/plain": [
       "FloatProgress(value=0.0, bar_style='info', description='Progress:', layout=Layout(height='25px', width='50%'),…"
      ]
     },
     "metadata": {},
     "output_type": "display_data"
    }
   ],
   "source": [
    "%%spark\n",
    "\n",
    "#define HOUR_ARRIVAL\n",
    "df = df.withColumn('HOUR_ARRIVAL', F.hour(F.from_unixtime(df['ARRIVAL_TIME'])))\n",
    "df = df.withColumn('HOUR_DEPARTURE', F.hour(F.from_unixtime(df['DEPARTURE_TIME'])))"
   ]
  },
  {
   "cell_type": "markdown",
   "id": "bba85021-6a28-4744-9c69-7171eb9770de",
   "metadata": {},
   "source": [
    "### Filter data based on simplifying assumptions"
   ]
  },
  {
   "cell_type": "markdown",
   "id": "1e57e9a1-a2cf-4cea-984e-fcb399edfb73",
   "metadata": {},
   "source": [
    "We only consider journeys at reasonable hours of the day, and on a typical business day.\n",
    "- `day`: from Monday to Friday\n",
    "- `hours`: first departure at 9:00, last arrival at 17:59"
   ]
  },
  {
   "cell_type": "code",
   "execution_count": 66,
   "id": "a5f593c0-6aef-4473-9881-ac435ab7a4f6",
   "metadata": {},
   "outputs": [
    {
     "data": {
      "application/vnd.jupyter.widget-view+json": {
       "model_id": "",
       "version_major": 2,
       "version_minor": 0
      },
      "text/plain": [
       "FloatProgress(value=0.0, bar_style='info', description='Progress:', layout=Layout(height='25px', width='50%'),…"
      ]
     },
     "metadata": {},
     "output_type": "display_data"
    }
   ],
   "source": [
    "%%spark\n",
    "\n",
    "#business day\n",
    "df = df.filter(df['DAY_OF_WEEK'] <6)\n",
    "#reasonable hours of the day\n",
    "df = df.filter(F.hour(F.from_unixtime(df['DEPARTURE_TIME']))>=9)\n",
    "df = df.filter(F.hour(F.from_unixtime(df['ARRIVAL_TIME']))<18)"
   ]
  },
  {
   "cell_type": "code",
   "execution_count": 67,
   "id": "caaffdb7-10fc-4c04-a9d7-76d8a7da0f61",
   "metadata": {},
   "outputs": [
    {
     "data": {
      "application/vnd.jupyter.widget-view+json": {
       "model_id": "",
       "version_major": 2,
       "version_minor": 0
      },
      "text/plain": [
       "FloatProgress(value=0.0, bar_style='info', description='Progress:', layout=Layout(height='25px', width='50%'),…"
      ]
     },
     "metadata": {},
     "output_type": "display_data"
    },
    {
     "name": "stdout",
     "output_type": "stream",
     "text": [
      "DataFrame[DATE: string, PRODUCT_ID: string, STOP_ID: string, STOP_NAME: string, TRIP_ID: string, ARRIVAL_TIME: bigint, ARRIVAL_TIME_STATUS: string, ACTUAL_ARRIVAL_TIME: bigint, DEPARTURE_TIME: bigint, DEPARTURE_TIME_STATUS: string, ACTUAL_DEPARTURE_TIME: bigint, DAY_OF_WEEK: int, ARRIVAL_DELAY: double, DEPARTURE_DELAY: double, HOUR_ARRIVAL: int, HOUR_DEPARTURE: int]"
     ]
    }
   ],
   "source": [
    "%%spark\n",
    "\n",
    "df.cache()"
   ]
  },
  {
   "cell_type": "code",
   "execution_count": 68,
   "id": "482c4294-db2c-4a9a-9a7d-743927330bff",
   "metadata": {},
   "outputs": [],
   "source": [
    "# %%spark\n",
    "# import pyspark.sql.functions as F\n",
    "# from pyspark.sql.window import Window\n",
    "\n",
    "# w = Window().partitionBy('trip_id').orderBy('stop_sequence')\n",
    "# table_a = working_table.select(\"*\",F.lag(\"STOP_ID\", -1).over(w).alias(\"PREVIOUS_STOP_ID\")).na.drop()\n",
    "# table_a.show(10)"
   ]
  },
  {
   "cell_type": "code",
   "execution_count": 69,
   "id": "73e2539e-8fdb-48c5-bffc-0ca7b84e4700",
   "metadata": {},
   "outputs": [
    {
     "data": {
      "application/vnd.jupyter.widget-view+json": {
       "model_id": "",
       "version_major": 2,
       "version_minor": 0
      },
      "text/plain": [
       "FloatProgress(value=0.0, bar_style='info', description='Progress:', layout=Layout(height='25px', width='50%'),…"
      ]
     },
     "metadata": {},
     "output_type": "display_data"
    }
   ],
   "source": [
    "%%spark\n",
    "\n",
    "w = Window().partitionBy('TRIP_ID', 'DATE').orderBy('ARRIVAL_TIME')\n",
    "df_a = df.select(\"*\",F.lag(\"STOP_ID\", +1).over(w).alias(\"PREVIOUS_STOP_ID\")).na.drop()"
   ]
  },
  {
   "cell_type": "code",
   "execution_count": 70,
   "id": "2aa2ff1f-ca50-453c-8a87-b32242e5366c",
   "metadata": {},
   "outputs": [
    {
     "data": {
      "application/vnd.jupyter.widget-view+json": {
       "model_id": "",
       "version_major": 2,
       "version_minor": 0
      },
      "text/plain": [
       "FloatProgress(value=0.0, bar_style='info', description='Progress:', layout=Layout(height='25px', width='50%'),…"
      ]
     },
     "metadata": {},
     "output_type": "display_data"
    },
    {
     "name": "stdout",
     "output_type": "stream",
     "text": [
      "+----------+-------+---------------+------------+--------------+\n",
      "|      DATE|STOP_ID|        TRIP_ID|ARRIVAL_TIME|DEPARTURE_TIME|\n",
      "+----------+-------+---------------+------------+--------------+\n",
      "|2021-07-29|8503202|85:11:17433:001|  1627544280|    1627544280|\n",
      "|2021-07-29|8502209|85:11:17433:001|  1627544400|    1627544400|\n",
      "|2021-07-29|8502208|85:11:17433:001|  1627544640|    1627544640|\n",
      "|2021-07-30|8503202|85:11:17433:001|  1627630680|    1627630680|\n",
      "|2021-07-30|8502209|85:11:17433:001|  1627630800|    1627630800|\n",
      "|2021-07-30|8502208|85:11:17433:001|  1627631040|    1627631040|\n",
      "|2021-08-02|8503202|85:11:17433:001|  1627889880|    1627889880|\n",
      "|2021-08-02|8502209|85:11:17433:001|  1627890000|    1627890000|\n",
      "|2021-08-02|8502208|85:11:17433:001|  1627890240|    1627890240|\n",
      "|2021-08-03|8503202|85:11:17433:001|  1627976280|    1627976280|\n",
      "|2021-08-03|8502209|85:11:17433:001|  1627976400|    1627976400|\n",
      "|2021-08-03|8502208|85:11:17433:001|  1627976640|    1627976640|\n",
      "|2021-08-04|8503202|85:11:17433:001|  1628062680|    1628062680|\n",
      "|2021-08-04|8502209|85:11:17433:001|  1628062800|    1628062800|\n",
      "|2021-08-04|8502208|85:11:17433:001|  1628063040|    1628063040|\n",
      "|2021-08-05|8503202|85:11:17433:001|  1628149080|    1628149080|\n",
      "|2021-08-05|8502209|85:11:17433:001|  1628149200|    1628149200|\n",
      "|2021-08-05|8502208|85:11:17433:001|  1628149440|    1628149440|\n",
      "|2021-08-06|8503202|85:11:17433:001|  1628235480|    1628235480|\n",
      "|2021-08-09|8503202|85:11:17433:001|  1628494680|    1628494680|\n",
      "+----------+-------+---------------+------------+--------------+\n",
      "only showing top 20 rows"
     ]
    }
   ],
   "source": [
    "%%spark\n",
    "\n",
    "df.filter(df.TRIP_ID == '85:11:17433:001').orderBy('TRIP_ID', 'DATE', 'ARRIVAL_TIME').select(\"DATE\", \"STOP_ID\", \"TRIP_ID\", \"ARRIVAL_TIME\", \"DEPARTURE_TIME\").show(20)"
   ]
  },
  {
   "cell_type": "code",
   "execution_count": 71,
   "id": "5574767d-388b-4622-a958-d2dfcef2af6a",
   "metadata": {},
   "outputs": [
    {
     "data": {
      "application/vnd.jupyter.widget-view+json": {
       "model_id": "",
       "version_major": 2,
       "version_minor": 0
      },
      "text/plain": [
       "FloatProgress(value=0.0, bar_style='info', description='Progress:', layout=Layout(height='25px', width='50%'),…"
      ]
     },
     "metadata": {},
     "output_type": "display_data"
    },
    {
     "name": "stdout",
     "output_type": "stream",
     "text": [
      "+----------+-------+---------------+------------+--------------+----------------+-------+\n",
      "|      DATE|STOP_ID|        TRIP_ID|ARRIVAL_TIME|DEPARTURE_TIME|PREVIOUS_STOP_ID|STOP_ID|\n",
      "+----------+-------+---------------+------------+--------------+----------------+-------+\n",
      "|2021-07-29|8502209|85:11:17433:001|  1627544400|    1627544400|         8503202|8502209|\n",
      "|2021-07-29|8502208|85:11:17433:001|  1627544640|    1627544640|         8502209|8502208|\n",
      "|2021-07-30|8502209|85:11:17433:001|  1627630800|    1627630800|         8503202|8502209|\n",
      "|2021-07-30|8502208|85:11:17433:001|  1627631040|    1627631040|         8502209|8502208|\n",
      "|2021-08-02|8502209|85:11:17433:001|  1627890000|    1627890000|         8503202|8502209|\n",
      "|2021-08-02|8502208|85:11:17433:001|  1627890240|    1627890240|         8502209|8502208|\n",
      "|2021-08-03|8502209|85:11:17433:001|  1627976400|    1627976400|         8503202|8502209|\n",
      "|2021-08-03|8502208|85:11:17433:001|  1627976640|    1627976640|         8502209|8502208|\n",
      "|2021-08-04|8502209|85:11:17433:001|  1628062800|    1628062800|         8503202|8502209|\n",
      "|2021-08-04|8502208|85:11:17433:001|  1628063040|    1628063040|         8502209|8502208|\n",
      "|2021-08-05|8502209|85:11:17433:001|  1628149200|    1628149200|         8503202|8502209|\n",
      "|2021-08-05|8502208|85:11:17433:001|  1628149440|    1628149440|         8502209|8502208|\n",
      "|2021-08-09|8502209|85:11:17433:001|  1628494800|    1628494800|         8503202|8502209|\n",
      "|2021-08-09|8502208|85:11:17433:001|  1628495040|    1628495040|         8502209|8502208|\n",
      "|2021-08-10|8502209|85:11:17433:001|  1628581200|    1628581200|         8503202|8502209|\n",
      "|2021-08-10|8502208|85:11:17433:001|  1628581440|    1628581440|         8502209|8502208|\n",
      "|2021-08-11|8502209|85:11:17433:001|  1628667600|    1628667600|         8503202|8502209|\n",
      "|2021-08-11|8502208|85:11:17433:001|  1628667840|    1628667840|         8502209|8502208|\n",
      "|2021-08-12|8502209|85:11:17433:001|  1628754000|    1628754000|         8503202|8502209|\n",
      "|2021-08-12|8502208|85:11:17433:001|  1628754240|    1628754240|         8502209|8502208|\n",
      "+----------+-------+---------------+------------+--------------+----------------+-------+\n",
      "only showing top 20 rows"
     ]
    }
   ],
   "source": [
    "%%spark\n",
    "\n",
    "df_a.orderBy('TRIP_ID', 'DATE', 'ARRIVAL_TIME').select(\"DATE\", \"STOP_ID\", \"TRIP_ID\", \"ARRIVAL_TIME\", \"DEPARTURE_TIME\", \"PREVIOUS_STOP_ID\", \"STOP_ID\").show(20)"
   ]
  },
  {
   "cell_type": "code",
   "execution_count": 98,
   "id": "94e5ac25-02ec-4f01-b8f5-3182d561ca12",
   "metadata": {},
   "outputs": [
    {
     "data": {
      "application/vnd.jupyter.widget-view+json": {
       "model_id": "",
       "version_major": 2,
       "version_minor": 0
      },
      "text/plain": [
       "FloatProgress(value=0.0, bar_style='info', description='Progress:', layout=Layout(height='25px', width='50%'),…"
      ]
     },
     "metadata": {},
     "output_type": "display_data"
    },
    {
     "name": "stdout",
     "output_type": "stream",
     "text": [
      "19365"
     ]
    }
   ],
   "source": [
    "%%spark\n",
    "df_a.cache()\n",
    "df_a.select(\"STOP_ID\", \"PREVIOUS_STOP_ID\").distinct().count()"
   ]
  },
  {
   "cell_type": "code",
   "execution_count": null,
   "id": "681e08e9-93d4-4cdb-a4d5-b29fe53d0fb8",
   "metadata": {},
   "outputs": [
    {
     "data": {
      "application/vnd.jupyter.widget-view+json": {
       "model_id": "",
       "version_major": 2,
       "version_minor": 0
      },
      "text/plain": [
       "FloatProgress(value=0.0, bar_style='info', description='Progress:', layout=Layout(height='25px', width='50%'),…"
      ]
     },
     "metadata": {},
     "output_type": "display_data"
    },
    {
     "name": "stdout",
     "output_type": "stream",
     "text": [
      "root\n",
      " |-- departure_id: string (nullable = true)\n",
      " |-- arrival_id: string (nullable = true)\n",
      " |-- departure_time: string (nullable = true)\n",
      " |-- arrival_time: string (nullable = true)\n",
      " |-- trip_id: string (nullable = true)\n",
      " |-- monday: string (nullable = true)\n",
      " |-- tuesday: string (nullable = true)\n",
      " |-- wednesday: string (nullable = true)\n",
      " |-- thursday: string (nullable = true)\n",
      " |-- friday: string (nullable = true)"
     ]
    }
   ],
   "source": [
    "%%spark\n",
    "\n",
    "connections_table.printSchema()"
   ]
  },
  {
   "cell_type": "code",
   "execution_count": null,
   "id": "364d35d0-1e1e-4b78-b0fe-5746e785aa5c",
   "metadata": {},
   "outputs": [
    {
     "data": {
      "application/vnd.jupyter.widget-view+json": {
       "model_id": "",
       "version_major": 2,
       "version_minor": 0
      },
      "text/plain": [
       "FloatProgress(value=0.0, bar_style='info', description='Progress:', layout=Layout(height='25px', width='50%'),…"
      ]
     },
     "metadata": {},
     "output_type": "display_data"
    },
    {
     "name": "stdout",
     "output_type": "stream",
     "text": [
      "4235"
     ]
    }
   ],
   "source": [
    "%%spark\n",
    "\n",
    "connections_table.select('departure_id', 'arrival_id').distinct().count()"
   ]
  },
  {
   "cell_type": "code",
   "execution_count": 85,
   "id": "5149c85e-e749-4257-bed8-64cab79cd2d6",
   "metadata": {},
   "outputs": [
    {
     "data": {
      "application/vnd.jupyter.widget-view+json": {
       "model_id": "",
       "version_major": 2,
       "version_minor": 0
      },
      "text/plain": [
       "FloatProgress(value=0.0, bar_style='info', description='Progress:', layout=Layout(height='25px', width='50%'),…"
      ]
     },
     "metadata": {},
     "output_type": "display_data"
    },
    {
     "name": "stdout",
     "output_type": "stream",
     "text": [
      "31711441723"
     ]
    }
   ],
   "source": [
    "%%spark\n",
    "\n",
    "\n",
    "df_2 = connections_table.join(df_a, (connections_table.departure_id == df_a.PREVIOUS_STOP_ID) & (connections_table.arrival_id == df_a.STOP_ID)).select('DAY_OF_WEEK', 'DEPARTURE_ID', 'ARRIVAL_ID', 'ARRIVAL_DELAY')\n",
    "df_2.count()"
   ]
  },
  {
   "cell_type": "code",
   "execution_count": 109,
   "id": "dff4f006-355b-47bb-ba3a-f9df65759560",
   "metadata": {},
   "outputs": [
    {
     "data": {
      "application/vnd.jupyter.widget-view+json": {
       "model_id": "",
       "version_major": 2,
       "version_minor": 0
      },
      "text/plain": [
       "FloatProgress(value=0.0, bar_style='info', description='Progress:', layout=Layout(height='25px', width='50%'),…"
      ]
     },
     "metadata": {},
     "output_type": "display_data"
    }
   ],
   "source": [
    "%%spark\n",
    "\n",
    "a = df_a.filter(df_a.DAY_OF_WEEK == 2)"
   ]
  },
  {
   "cell_type": "code",
   "execution_count": 112,
   "id": "d9ac6b93-b599-4717-8409-c5c3a7d1bd4d",
   "metadata": {},
   "outputs": [
    {
     "data": {
      "application/vnd.jupyter.widget-view+json": {
       "model_id": "",
       "version_major": 2,
       "version_minor": 0
      },
      "text/plain": [
       "FloatProgress(value=0.0, bar_style='info', description='Progress:', layout=Layout(height='25px', width='50%'),…"
      ]
     },
     "metadata": {},
     "output_type": "display_data"
    },
    {
     "name": "stdout",
     "output_type": "stream",
     "text": [
      "4124"
     ]
    }
   ],
   "source": [
    "%%spark\n",
    "connections_table.filter(connections_table.tuesday == 1).select( 'DEPARTURE_ID', 'ARRIVAL_ID').distinct().count()"
   ]
  },
  {
   "cell_type": "code",
   "execution_count": 111,
   "id": "59794766-6c67-401e-b45e-8b071ec4ce14",
   "metadata": {},
   "outputs": [
    {
     "data": {
      "application/vnd.jupyter.widget-view+json": {
       "model_id": "",
       "version_major": 2,
       "version_minor": 0
      },
      "text/plain": [
       "FloatProgress(value=0.0, bar_style='info', description='Progress:', layout=Layout(height='25px', width='50%'),…"
      ]
     },
     "metadata": {},
     "output_type": "display_data"
    },
    {
     "name": "stdout",
     "output_type": "stream",
     "text": [
      "3376"
     ]
    }
   ],
   "source": [
    "%%spark\n",
    "\n",
    "b = connections_table.filter(connections_table.tuesday == 1).join(a, (connections_table.departure_id == a.PREVIOUS_STOP_ID) &\n",
    "                                                                  (connections_table.arrival_id == a.STOP_ID)).select( 'DEPARTURE_ID', 'ARRIVAL_ID').distinct()\n",
    "b.count()"
   ]
  },
  {
   "cell_type": "code",
   "execution_count": 99,
   "id": "0faa7bff-eb83-4208-9ab2-b0c8ee5f5a71",
   "metadata": {},
   "outputs": [
    {
     "data": {
      "application/vnd.jupyter.widget-view+json": {
       "model_id": "",
       "version_major": 2,
       "version_minor": 0
      },
      "text/plain": [
       "FloatProgress(value=0.0, bar_style='info', description='Progress:', layout=Layout(height='25px', width='50%'),…"
      ]
     },
     "metadata": {},
     "output_type": "display_data"
    },
    {
     "name": "stdout",
     "output_type": "stream",
     "text": [
      "3444"
     ]
    }
   ],
   "source": []
  },
  {
   "cell_type": "code",
   "execution_count": 78,
   "id": "a6b0d03a-c525-4b09-b366-8bd3e3314732",
   "metadata": {},
   "outputs": [
    {
     "data": {
      "application/vnd.jupyter.widget-view+json": {
       "model_id": "",
       "version_major": 2,
       "version_minor": 0
      },
      "text/plain": [
       "FloatProgress(value=0.0, bar_style='info', description='Progress:', layout=Layout(height='25px', width='50%'),…"
      ]
     },
     "metadata": {},
     "output_type": "display_data"
    },
    {
     "name": "stdout",
     "output_type": "stream",
     "text": [
      "317135061"
     ]
    }
   ],
   "source": [
    "%%spark\n",
    "\n",
    "#df_2 = df_2.sample(0.01, seed=0)\n",
    "df_2.cache()\n",
    "df_2.count()"
   ]
  },
  {
   "cell_type": "code",
   "execution_count": null,
   "id": "409833f0-764e-4041-a2cb-123ffeb69e72",
   "metadata": {},
   "outputs": [],
   "source": []
  },
  {
   "cell_type": "code",
   "execution_count": null,
   "id": "f3960366-b482-4fba-8398-cccdee602342",
   "metadata": {},
   "outputs": [],
   "source": [
    "%%spark\n",
    "df_2.show(20)"
   ]
  },
  {
   "cell_type": "markdown",
   "id": "34483e13-e337-4732-97ef-b57069502a14",
   "metadata": {},
   "source": [
    "### Obtain delay cumulative distribution"
   ]
  },
  {
   "cell_type": "code",
   "execution_count": 86,
   "id": "fecd0bfe-7c08-4af9-b5ed-1134d284659e",
   "metadata": {
    "tags": []
   },
   "outputs": [
    {
     "data": {
      "application/vnd.jupyter.widget-view+json": {
       "model_id": "",
       "version_major": 2,
       "version_minor": 0
      },
      "text/plain": [
       "FloatProgress(value=0.0, bar_style='info', description='Progress:', layout=Layout(height='25px', width='50%'),…"
      ]
     },
     "metadata": {},
     "output_type": "display_data"
    }
   ],
   "source": [
    "%%spark\n",
    "from pyspark.sql import Window\n",
    "\n",
    "#compute cumulative distribution of delay over groupBy 'DAY_OF_WEEK', 'PRODUCT_ID', 'HOUR_ARRIVAL' \n",
    "cumulative_function_window = Window.partitionBy('DAY_OF_WEEK', 'DEPARTURE_ID', 'ARRIVAL_ID').orderBy('ARRIVAL_DELAY').rangeBetween(Window.unboundedPreceding, 0)\n",
    "count_window = Window.partitionBy('DAY_OF_WEEK', 'DEPARTURE_ID', 'ARRIVAL_ID')\n",
    "\n",
    "df2 = df_2.groupBy(df_2['DAY_OF_WEEK'], df_2['DEPARTURE_ID'], df_2['ARRIVAL_ID'], df_2['ARRIVAL_DELAY']).count()\n",
    "df2 = df2.withColumn(\"TOTAL_SUM\", F.sum(\"count\").over(count_window))\n",
    "df2 = df2.withColumn(\"PARTIAL_SUM\", F.sum(\"count\").over(cumulative_function_window))\n",
    "df2 = df2.withColumn(\"CUMULATIVE\", F.sum(\"count\").over(cumulative_function_window)/F.sum(\"count\").over(count_window))\n",
    "#df2.filter((df2.DEPARTURE_ID == '8500926') |(df2.ARRIVAL_ID == '8590737') | (df2.DAY_OF_WEEK ==3)).show()"
   ]
  },
  {
   "cell_type": "code",
   "execution_count": 87,
   "id": "f9bfd7cf-2350-47e3-a621-5873b270cfbd",
   "metadata": {},
   "outputs": [
    {
     "data": {
      "application/vnd.jupyter.widget-view+json": {
       "model_id": "",
       "version_major": 2,
       "version_minor": 0
      },
      "text/plain": [
       "FloatProgress(value=0.0, bar_style='info', description='Progress:', layout=Layout(height='25px', width='50%'),…"
      ]
     },
     "metadata": {},
     "output_type": "display_data"
    }
   ],
   "source": [
    "%%spark\n",
    "\n",
    "#reorder columns\n",
    "df2 = df2.select(df2[\"DEPARTURE_ID\"], df2[\"ARRIVAL_ID\"], df2[\"DAY_OF_WEEK\"], df2[\"ARRIVAL_DELAY\"].alias(\"MAX_ARRIVAL_DELAY\"), df2[\"CUMULATIVE\"])\n",
    "#df2 = df2.orderBy(df2[\"TRIP_ID\"], df2[\"DEPARTURE_ID\"], df2[\"ARRIVAL_ID\"], df2[\"DAY_OF_WEEK\"], df2[\"HOUR_ARRIVAL\"], df2[\"MAX_ARRIVAL_DELAY\"])"
   ]
  },
  {
   "cell_type": "code",
   "execution_count": 88,
   "id": "4c99a716-2b62-4614-90d3-6809aed0f4a8",
   "metadata": {},
   "outputs": [
    {
     "data": {
      "application/vnd.jupyter.widget-view+json": {
       "model_id": "",
       "version_major": 2,
       "version_minor": 0
      },
      "text/plain": [
       "FloatProgress(value=0.0, bar_style='info', description='Progress:', layout=Layout(height='25px', width='50%'),…"
      ]
     },
     "metadata": {},
     "output_type": "display_data"
    },
    {
     "name": "stdout",
     "output_type": "stream",
     "text": [
      "+------------------+\n",
      "|   avg(CUMULATIVE)|\n",
      "+------------------+\n",
      "|0.9512666984785642|\n",
      "+------------------+"
     ]
    }
   ],
   "source": [
    "%%spark\n",
    "df2.cache\n",
    "df2.select(F.mean('CUMULATIVE')).show()"
   ]
  },
  {
   "cell_type": "code",
   "execution_count": 89,
   "id": "5a297065-1377-4329-8b38-e9ed57450f69",
   "metadata": {},
   "outputs": [
    {
     "data": {
      "application/vnd.jupyter.widget-view+json": {
       "model_id": "",
       "version_major": 2,
       "version_minor": 0
      },
      "text/plain": [
       "FloatProgress(value=0.0, bar_style='info', description='Progress:', layout=Layout(height='25px', width='50%'),…"
      ]
     },
     "metadata": {},
     "output_type": "display_data"
    },
    {
     "name": "stdout",
     "output_type": "stream",
     "text": [
      "+-----------------------+\n",
      "|stddev_samp(CUMULATIVE)|\n",
      "+-----------------------+\n",
      "|    0.13696042548039175|\n",
      "+-----------------------+"
     ]
    }
   ],
   "source": [
    "%%spark \n",
    "\n",
    "df2.select(F.stddev_samp('CUMULATIVE')).show()"
   ]
  },
  {
   "cell_type": "markdown",
   "id": "563f0c28-644e-44cd-a576-289b7ec31936",
   "metadata": {},
   "source": [
    "## Split based on day"
   ]
  },
  {
   "cell_type": "code",
   "execution_count": 83,
   "id": "86782077-302c-46ce-9f1d-75c44f0241f9",
   "metadata": {},
   "outputs": [
    {
     "data": {
      "application/vnd.jupyter.widget-view+json": {
       "model_id": "",
       "version_major": 2,
       "version_minor": 0
      },
      "text/plain": [
       "FloatProgress(value=0.0, bar_style='info', description='Progress:', layout=Layout(height='25px', width='50%'),…"
      ]
     },
     "metadata": {},
     "output_type": "display_data"
    },
    {
     "name": "stdout",
     "output_type": "stream",
     "text": [
      "+------------+----------+-----------+-----------------+-------------------+\n",
      "|DEPARTURE_ID|ARRIVAL_ID|DAY_OF_WEEK|MAX_ARRIVAL_DELAY|         CUMULATIVE|\n",
      "+------------+----------+-----------+-----------------+-------------------+\n",
      "|     8500926|   8590737|          1|              0.0| 0.3191489361702128|\n",
      "|     8500926|   8590737|          1|              1.0| 0.8201160541586073|\n",
      "|     8500926|   8590737|          1|              5.0|                1.0|\n",
      "|     8500926|   8590737|          2|              0.0| 0.4947994056463596|\n",
      "|     8500926|   8590737|          2|              2.0|  0.736998514115899|\n",
      "|     8500926|   8590737|          2|              4.0|                1.0|\n",
      "|     8500926|   8590737|          3|              0.0| 0.4793650793650794|\n",
      "|     8500926|   8590737|          3|              2.0|                1.0|\n",
      "|     8500926|   8590737|          4|              0.0|0.44385026737967914|\n",
      "|     8500926|   8590737|          4|              1.0| 0.7183600713012478|\n",
      "+------------+----------+-----------+-----------------+-------------------+\n",
      "only showing top 10 rows"
     ]
    }
   ],
   "source": [
    "%%spark\n",
    "df2.orderBy('DEPARTURE_ID','ARRIVAL_ID', 'DAY_OF_WEEK', 'MAX_ARRIVAL_DELAY').show(10)"
   ]
  },
  {
   "cell_type": "code",
   "execution_count": 90,
   "id": "7bd69300-2985-4232-a2d6-d5abe78f47fd",
   "metadata": {},
   "outputs": [
    {
     "data": {
      "application/vnd.jupyter.widget-view+json": {
       "model_id": "",
       "version_major": 2,
       "version_minor": 0
      },
      "text/plain": [
       "FloatProgress(value=0.0, bar_style='info', description='Progress:', layout=Layout(height='25px', width='50%'),…"
      ]
     },
     "metadata": {},
     "output_type": "display_data"
    }
   ],
   "source": [
    "%%spark\n",
    "#all\n",
    "\n",
    "df2.write.mode('overwrite').option(\"delimiter\", \";\").option(\"header\",\"true\").format(\"csv\").save(\"/group/five-guys/confidence\")"
   ]
  },
  {
   "cell_type": "code",
   "execution_count": 123,
   "id": "627b06ed-cb4d-4cc6-acc4-cf611659c2c7",
   "metadata": {},
   "outputs": [
    {
     "data": {
      "application/vnd.jupyter.widget-view+json": {
       "model_id": "",
       "version_major": 2,
       "version_minor": 0
      },
      "text/plain": [
       "FloatProgress(value=0.0, bar_style='info', description='Progress:', layout=Layout(height='25px', width='50%'),…"
      ]
     },
     "metadata": {},
     "output_type": "display_data"
    },
    {
     "name": "stdout",
     "output_type": "stream",
     "text": [
      "+----------------+-------+\n",
      "|PREVIOUS_STOP_ID|STOP_ID|\n",
      "+----------------+-------+\n",
      "|         8503096|8503096|\n",
      "|         8503096|8503099|\n",
      "|         8503096|8503095|\n",
      "|         8503096|8590480|\n",
      "+----------------+-------+"
     ]
    }
   ],
   "source": [
    "%%spark\n",
    "df_a.filter((df_a.PREVIOUS_STOP_ID == '8503096')).select(\"PREVIOUS_STOP_ID\", \"STOP_ID\").distinct().show(1000)"
   ]
  },
  {
   "cell_type": "code",
   "execution_count": null,
   "id": "fefbfda0-dd82-41cb-b546-e5c3bfa09e9f",
   "metadata": {},
   "outputs": [],
   "source": [
    "8503096"
   ]
  }
 ],
 "metadata": {
  "kernelspec": {
   "display_name": "Python 3",
   "language": "python",
   "name": "python3"
  },
  "language_info": {
   "codemirror_mode": {
    "name": "ipython",
    "version": 3
   },
   "file_extension": ".py",
   "mimetype": "text/x-python",
   "name": "python",
   "nbconvert_exporter": "python",
   "pygments_lexer": "ipython3",
   "version": "3.9.7"
  }
 },
 "nbformat": 4,
 "nbformat_minor": 5
}
