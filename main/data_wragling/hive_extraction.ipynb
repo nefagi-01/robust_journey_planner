{
 "cells": [
  {
   "cell_type": "markdown",
   "id": "fd8f9526-205c-413c-adfd-a41d2f14c125",
   "metadata": {},
   "source": [
    "<div class=\"alert alert-block alert-warning\">\n",
    "    <b>WARNING! </b> This notebook will read the file in the HDFS and create pickle files. Since we already generated them for you, there is no need to run this notebook unless you want to verify our solution from scratch. <br>\n",
    "    To run the notebook without the risk of overwriting, we set a flag called \"overwrite\" to false. If you want to recreate the pickles, set it to true.\n",
    "</div>"
   ]
  },
  {
   "cell_type": "markdown",
   "id": "708ff5bb-ada0-486e-8bff-e74692772df5",
   "metadata": {},
   "source": [
    "# Hive extraction"
   ]
  },
  {
   "cell_type": "code",
   "execution_count": 1,
   "id": "cefc84b5-86ce-4688-869f-560bca0fa426",
   "metadata": {},
   "outputs": [],
   "source": [
    "overwrite = False"
   ]
  },
  {
   "cell_type": "code",
   "execution_count": 2,
   "id": "3969a56d-155d-43d8-947c-2ab9dad48e5f",
   "metadata": {},
   "outputs": [
    {
     "name": "stdout",
     "output_type": "stream",
     "text": [
      "Operating as: eric\n"
     ]
    }
   ],
   "source": [
    "import os\n",
    "import pandas as pd\n",
    "pd.set_option(\"display.max_columns\", 50)\n",
    "import matplotlib.pyplot as plt\n",
    "%matplotlib inline\n",
    "import plotly.express as px\n",
    "import plotly.graph_objects as go\n",
    "import warnings\n",
    "warnings.simplefilter(action='ignore', category=UserWarning)\n",
    "\n",
    "#username = os.environ['RENKU_USERNAME']\n",
    "username = \"eric\"\n",
    "hiveaddr = os.environ['HIVE_SERVER2']\n",
    "(hivehost,hiveport) = hiveaddr.split(':')\n",
    "print(\"Operating as: {0}\".format(username))"
   ]
  },
  {
   "cell_type": "code",
   "execution_count": 3,
   "id": "d29dfeb9-806a-4007-a021-58befc36023e",
   "metadata": {},
   "outputs": [],
   "source": [
    "from pyhive import hive\n",
    "\n",
    "# Create the connection\n",
    "conn = hive.connect(host=hivehost, \n",
    "                    port=hiveport,\n",
    "                    username=username) \n",
    "# Create the cursor\n",
    "cur = conn.cursor()"
   ]
  },
  {
   "cell_type": "code",
   "execution_count": 4,
   "id": "d833f6d0-09d9-4784-9567-490134fc2d3e",
   "metadata": {},
   "outputs": [],
   "source": [
    "### Create your database if it does not exist\n",
    "query = \"\"\"\n",
    "CREATE DATABASE IF NOT EXISTS {0} LOCATION '/group/five-guys/hive'\n",
    "\"\"\".format(username)\n",
    "cur.execute(query)"
   ]
  },
  {
   "cell_type": "markdown",
   "id": "293f385d-9748-457a-acd7-dfc0f2110055",
   "metadata": {},
   "source": [
    "## Connections"
   ]
  },
  {
   "cell_type": "code",
   "execution_count": 5,
   "id": "902d6939-3e43-4d5f-b91b-e524e59f88ef",
   "metadata": {},
   "outputs": [],
   "source": [
    "def retrieve_df_connections(table_name):\n",
    "    ### Create your database if it does not exist\n",
    "    \n",
    "    query = \"\"\"\n",
    "    DROP TABLE IF EXISTS {0}\n",
    "    \"\"\".format(table_name)\n",
    "    cur.execute(query)\n",
    "    \n",
    "    ### Creation of the table\n",
    "    query = \"\"\"\n",
    "    CREATE EXTERNAL TABLE {0}(\n",
    "        departure_id string,\n",
    "        arrival_id string,\n",
    "        departure_time string,\n",
    "        arrival_time string,\n",
    "        trip_id string,\n",
    "        monday string,\n",
    "        tuesday string,\n",
    "        wednesday string,\n",
    "        thursday string,\n",
    "        friday string\n",
    "    )\n",
    "    ROW FORMAT DELIMITED\n",
    "    FIELDS TERMINATED BY ','\n",
    "    STORED AS TEXTFILE\n",
    "    location '/group/five-guys/{0}'\n",
    "    tblproperties (\"skip.header.line.count\"=\"1\")\n",
    "    \"\"\".format(table_name)\n",
    "    cur.execute(query)\n",
    "    \n",
    "    query = \"\"\"\n",
    "    SELECT *\n",
    "    FROM {0}\n",
    "    \"\"\".format(table_name)\n",
    "    df = pd.read_sql(query, conn)\n",
    "    df.columns = [column.split('.')[1] for column in df.columns]\n",
    "    \n",
    "    df[\"departure_time\"] = df[\"departure_time\"].apply(lambda x: int(pd.Timestamp(x).timestamp()))\n",
    "\n",
    "    df[\"arrival_time\"] = df[\"arrival_time\"].apply(lambda x: int(pd.Timestamp(x).timestamp()))\n",
    "    \n",
    "    df[['monday', 'tuesday', 'wednesday', 'thursday', 'friday']] = df[['monday', 'tuesday', 'wednesday', 'thursday', 'friday']].replace({'0':False, '1':True})\n",
    "\n",
    "    result = list(df.itertuples(index=False, name=None))\n",
    "    \n",
    "    del df\n",
    "    \n",
    "    return result"
   ]
  },
  {
   "cell_type": "code",
   "execution_count": 6,
   "id": "1abb449b-5f45-4c81-99c9-c112196ac38b",
   "metadata": {
    "tags": []
   },
   "outputs": [],
   "source": [
    "conn_table = retrieve_df_connections(\"conn_table\")"
   ]
  },
  {
   "cell_type": "code",
   "execution_count": 7,
   "id": "3affea38-913b-4cb2-8716-ced7b53faf41",
   "metadata": {},
   "outputs": [
    {
     "name": "stdout",
     "output_type": "stream",
     "text": [
      "No overwrite, flag set to false\n"
     ]
    }
   ],
   "source": [
    "import pickle\n",
    "path_data = \"../../data/\"\n",
    "\n",
    "if overwrite:\n",
    "    pickle.dump(conn_table, open(path_data+\"connections_data.pickle\", \"wb\"))\n",
    "else: \n",
    "    print(\"No overwrite, flag set to false\")"
   ]
  },
  {
   "cell_type": "markdown",
   "id": "aa65ab2c-1877-4efb-b2a1-98c6df5070c3",
   "metadata": {},
   "source": [
    "## Trips"
   ]
  },
  {
   "cell_type": "code",
   "execution_count": 8,
   "id": "3c0dd3a3-3501-41d5-b18d-d96a104d44d6",
   "metadata": {},
   "outputs": [],
   "source": [
    "def retrieve_df_trips(table_name):\n",
    "    ### Create your database if it does not exist\n",
    "    \n",
    "    query = \"\"\"\n",
    "    DROP TABLE IF EXISTS {0}\n",
    "    \"\"\".format(table_name)\n",
    "    cur.execute(query)\n",
    "    \n",
    "    ### Creation of the table\n",
    "    query = \"\"\"\n",
    "    CREATE EXTERNAL TABLE {0}(\n",
    "        route_id string,\n",
    "        service_id string,\n",
    "        trip_id string,\n",
    "        trip_headsign string,\n",
    "        trip_short_name string,\n",
    "        direction_id string\n",
    "    )\n",
    "    ROW FORMAT DELIMITED\n",
    "    FIELDS TERMINATED BY ';'\n",
    "    STORED AS TEXTFILE\n",
    "    location '/group/five-guys/{0}'\n",
    "    tblproperties (\"skip.header.line.count\"=\"1\")\n",
    "    \"\"\".format(table_name)\n",
    "    cur.execute(query)\n",
    "    \n",
    "    query = \"\"\"\n",
    "    SELECT *\n",
    "    FROM {0}\n",
    "    \"\"\".format(table_name)\n",
    "    df = pd.read_sql(query, conn)\n",
    "    df.columns = [column.split('.')[1] for column in df.columns]\n",
    "\n",
    "    return df"
   ]
  },
  {
   "cell_type": "code",
   "execution_count": 9,
   "id": "f9fc76e8-ba74-400b-b55f-b891de4fc38d",
   "metadata": {},
   "outputs": [],
   "source": [
    "def process_trips(df):\n",
    "    routes_tot_filtered_map = df.groupby('trip_id')[['route_id', 'service_id', 'trip_headsign', 'trip_short_name', 'direction_id']].apply(lambda g: g.values.tolist()).to_dict()\n",
    "    names_cols = [\"route_id\", \"service_id\", \"trip_headsign\", \"trip_short_name\", \"direction_id\"]\n",
    "\n",
    "    map_copied = routes_tot_filtered_map.copy()\n",
    "\n",
    "    for k,v in routes_tot_filtered_map.items():\n",
    "        newdict = {}\n",
    "        for ind, element in enumerate(v[0]):\n",
    "            newdict[names_cols[ind]] = element\n",
    "        map_copied[k] = newdict\n",
    "    return map_copied"
   ]
  },
  {
   "cell_type": "code",
   "execution_count": 10,
   "id": "c9da9542-56d9-45fb-9299-5fb01d4b32d0",
   "metadata": {},
   "outputs": [],
   "source": [
    "trips_table = retrieve_df_trips(\"trips\")"
   ]
  },
  {
   "cell_type": "code",
   "execution_count": 11,
   "id": "6a2f8da1-b92e-4a74-93f5-3a029cd73c7a",
   "metadata": {},
   "outputs": [],
   "source": [
    "trips = process_trips(trips_table)"
   ]
  },
  {
   "cell_type": "code",
   "execution_count": 12,
   "id": "6d0ec662-03bb-4d9f-9441-e5d1a9776dd9",
   "metadata": {},
   "outputs": [
    {
     "name": "stdout",
     "output_type": "stream",
     "text": [
      "No overwrite, flag set to false\n"
     ]
    }
   ],
   "source": [
    "import pickle\n",
    "path_data = \"../../data/\"\n",
    "\n",
    "if overwrite:\n",
    "    pickle.dump(trips, open(path_data+\"trips.pickle\", \"wb\"))\n",
    "else: \n",
    "    print(\"No overwrite, flag set to false\")"
   ]
  },
  {
   "cell_type": "markdown",
   "id": "c7b501d9-ba05-49d2-89f0-7094bd74d6f2",
   "metadata": {},
   "source": [
    "## Stops"
   ]
  },
  {
   "cell_type": "code",
   "execution_count": 13,
   "id": "70b86d8b-8ad2-4351-b4fe-f91d5f702ff0",
   "metadata": {},
   "outputs": [],
   "source": [
    "def retrieve_df_stops(table_name):\n",
    "    ### Create your database if it does not exist\n",
    "    \n",
    "    query = \"\"\"\n",
    "    DROP TABLE IF EXISTS {0}\n",
    "    \"\"\".format(table_name)\n",
    "    cur.execute(query)\n",
    "    \n",
    "    ### Creation of the table\n",
    "    query = \"\"\"\n",
    "    CREATE EXTERNAL TABLE {0}(\n",
    "        stop_id string,\n",
    "        stop_name string,\n",
    "        stop_lat string,\n",
    "        stop_lon string,\n",
    "        parent_station string\n",
    "    )\n",
    "    ROW FORMAT DELIMITED\n",
    "    FIELDS TERMINATED BY ';'\n",
    "    STORED AS TEXTFILE\n",
    "    location '/group/five-guys/{0}'\n",
    "    tblproperties (\"skip.header.line.count\"=\"1\")\n",
    "    \"\"\".format(table_name)\n",
    "    cur.execute(query)\n",
    "    \n",
    "    query = \"\"\"\n",
    "    SELECT *\n",
    "    FROM {0}\n",
    "    \"\"\".format(table_name)\n",
    "    df = pd.read_sql(query, conn)\n",
    "    df.columns = [column.split('.')[1] for column in df.columns]\n",
    "    \n",
    "    return df"
   ]
  },
  {
   "cell_type": "code",
   "execution_count": 14,
   "id": "e64ebe91-4085-4137-85e8-0456ddc643d0",
   "metadata": {},
   "outputs": [],
   "source": [
    "stops = retrieve_df_stops(\"stops_table\")"
   ]
  },
  {
   "cell_type": "code",
   "execution_count": 15,
   "id": "66045e60-2091-4152-9974-41a4e98bb3da",
   "metadata": {},
   "outputs": [],
   "source": [
    "def process_stops(df):\n",
    "    close_stops_map = df.groupby('stop_id')[['stop_id', 'stop_name', 'stop_lat', 'stop_lon', 'parent_station']].apply(lambda g: g.values.tolist()).to_dict()\n",
    "    names_cols = ['stop_id', 'stop_name', 'stop_lat', 'stop_lon', 'parent_station']\n",
    "    \n",
    "    stops_final = close_stops_map.copy()\n",
    "\n",
    "    for k,v in close_stops_map.items():\n",
    "        newdict = {}\n",
    "        for ind, element in enumerate(v[0]):\n",
    "            newdict[names_cols[ind]] = element\n",
    "            if names_cols[ind] == \"parent_station\" and isinstance(element, str) and element!=\"\":\n",
    "                element = element.replace('Parent','').replace('P','')\n",
    "                newdict[names_cols[ind]] = element\n",
    "                if element != str(int(element)):\n",
    "                    print(element)\n",
    "        stops_final[k] = newdict\n",
    "    \n",
    "    return stops_final"
   ]
  },
  {
   "cell_type": "code",
   "execution_count": 16,
   "id": "de87935b-75e6-46c4-a676-e2686fe6caf5",
   "metadata": {
    "tags": []
   },
   "outputs": [],
   "source": [
    "stops_dict = process_stops(stops)"
   ]
  },
  {
   "cell_type": "code",
   "execution_count": 17,
   "id": "70100051-422a-4d59-ad07-cbf7390604ed",
   "metadata": {},
   "outputs": [
    {
     "name": "stdout",
     "output_type": "stream",
     "text": [
      "No overwrite, flag set to false\n"
     ]
    }
   ],
   "source": [
    "import pickle\n",
    "path_data = \"../../data/\"\n",
    "\n",
    "if overwrite:\n",
    "    pickle.dump(stops_dict, open(path_data+\"stops.pickle\", \"wb\"))\n",
    "else: \n",
    "    print(\"No overwrite, flag set to false\")"
   ]
  },
  {
   "cell_type": "markdown",
   "id": "2e1df373-bf08-43d3-9a8a-4965d5ccdb55",
   "metadata": {},
   "source": [
    "## Footpath"
   ]
  },
  {
   "cell_type": "code",
   "execution_count": 18,
   "id": "2dd19ade-b17e-4180-906e-531699b8c2ef",
   "metadata": {},
   "outputs": [],
   "source": [
    "def retrieve_df_footpath(table_name):\n",
    "    ### Create your database if it does not exist\n",
    "    \n",
    "    query = \"\"\"\n",
    "    DROP TABLE IF EXISTS {0}\n",
    "    \"\"\".format(table_name)\n",
    "    cur.execute(query)\n",
    "    \n",
    "    ### Creation of the table\n",
    "    query = \"\"\"\n",
    "    CREATE EXTERNAL TABLE {0}(\n",
    "        departure_id string,\n",
    "        arrival_id string,\n",
    "        `time` int\n",
    "    )\n",
    "    ROW FORMAT DELIMITED\n",
    "    FIELDS TERMINATED BY ';'\n",
    "    STORED AS TEXTFILE\n",
    "    location '/group/five-guys/{0}'\n",
    "    tblproperties (\"skip.header.line.count\"=\"1\")\n",
    "    \"\"\".format(table_name)\n",
    "    cur.execute(query)\n",
    "    \n",
    "    query = \"\"\"\n",
    "    SELECT *\n",
    "    FROM {0}\n",
    "    \"\"\".format(table_name)\n",
    "    df = pd.read_sql(query, conn)\n",
    "    df.columns = [column.split('.')[1] for column in df.columns]\n",
    "    \n",
    "    footpath_map = df.groupby('arrival_id')[['departure_id', 'time']].apply(lambda g: g.values.tolist()).to_dict()\n",
    "    footpath_map = {k: dict(v) for k, v in footpath_map.items()}\n",
    "    \n",
    "    \n",
    "    del df\n",
    "    \n",
    "    return footpath_map\n",
    "\n",
    "\n",
    "\n",
    "\n"
   ]
  },
  {
   "cell_type": "code",
   "execution_count": 19,
   "id": "78038ac3-d1d4-4dae-997b-3ab053eaa842",
   "metadata": {},
   "outputs": [],
   "source": [
    "footpath = retrieve_df_footpath(\"footpath\")"
   ]
  },
  {
   "cell_type": "code",
   "execution_count": 20,
   "id": "84f388fc-f230-4dcf-aaef-697df2c5f079",
   "metadata": {},
   "outputs": [
    {
     "name": "stdout",
     "output_type": "stream",
     "text": [
      "No overwrite, flag set to false\n"
     ]
    }
   ],
   "source": [
    "import pickle\n",
    "path_data = \"../../data/\"\n",
    "\n",
    "if overwrite:\n",
    "   pickle.dump(footpath, open(path_data+\"footpath.pickle\", \"wb\"))\n",
    "else: \n",
    "    print(\"No overwrite, flag set to false\")"
   ]
  },
  {
   "cell_type": "markdown",
   "id": "eb32a263-68ec-4268-ae62-25ada28464a8",
   "metadata": {},
   "source": [
    "## Routes"
   ]
  },
  {
   "cell_type": "code",
   "execution_count": 21,
   "id": "6434798c-2380-4fd3-b484-4a839ef4422d",
   "metadata": {},
   "outputs": [],
   "source": [
    "def retrieve_df_routes(table_name):\n",
    "    ### Create your database if it does not exist\n",
    "    \n",
    "    query = \"\"\"\n",
    "    DROP TABLE IF EXISTS {0}\n",
    "    \"\"\".format(table_name)\n",
    "    cur.execute(query)\n",
    "    \n",
    "    ### Creation of the table\n",
    "    query = \"\"\"\n",
    "    CREATE EXTERNAL TABLE {0}(\n",
    "        trip_id string,\n",
    "        routes_desc string,\n",
    "        route_id string\n",
    "    )\n",
    "    ROW FORMAT DELIMITED\n",
    "    FIELDS TERMINATED BY ';'\n",
    "    STORED AS TEXTFILE\n",
    "    location '/group/five-guys/{0}'\n",
    "    tblproperties (\"skip.header.line.count\"=\"1\")\n",
    "    \"\"\".format(table_name)\n",
    "    cur.execute(query)\n",
    "    \n",
    "    query = \"\"\"\n",
    "    SELECT *\n",
    "    FROM {0}\n",
    "    \"\"\".format(table_name)\n",
    "    df = pd.read_sql(query, conn)\n",
    "    df.columns = [column.split('.')[1] for column in df.columns]\n",
    "    \n",
    "    return df"
   ]
  },
  {
   "cell_type": "code",
   "execution_count": 22,
   "id": "b8a79477-6825-4838-86e1-b0a453702c6d",
   "metadata": {},
   "outputs": [],
   "source": [
    "routes = retrieve_df_routes(\"routes\")"
   ]
  },
  {
   "cell_type": "code",
   "execution_count": 23,
   "id": "bb2d1992-0e75-440e-8ed0-e742d2580070",
   "metadata": {},
   "outputs": [
    {
     "name": "stdout",
     "output_type": "stream",
     "text": [
      "No overwrite, flag set to false\n"
     ]
    }
   ],
   "source": [
    "import pickle\n",
    "path_data = \"../../data/\"\n",
    "\n",
    "if overwrite:\n",
    "   pickle.dump(routes, open(path_data+\"routes.pickle\", \"wb\"))\n",
    "else: \n",
    "    print(\"No overwrite, flag set to false\")"
   ]
  },
  {
   "cell_type": "markdown",
   "id": "bba70dd3-1ab9-4028-9c98-12a86adc9dff",
   "metadata": {},
   "source": [
    "## Confidence"
   ]
  },
  {
   "cell_type": "code",
   "execution_count": 24,
   "id": "e9e5a561-5630-48a8-8c5a-b6af49554d1c",
   "metadata": {},
   "outputs": [],
   "source": [
    "def retrieve_df_confidence(table_name):\n",
    "    ### Create your database if it does not exist\n",
    "    \n",
    "    query = \"\"\"\n",
    "    DROP TABLE IF EXISTS {0}\n",
    "    \"\"\".format(table_name)\n",
    "    cur.execute(query)\n",
    "    \n",
    "    ### Creation of the table\n",
    "    query = \"\"\"\n",
    "    CREATE EXTERNAL TABLE {0}(\n",
    "       DEPARTURE_ID string,\n",
    "       ARRIVAL_ID string,\n",
    "       DAY_OF_WEEK int,\n",
    "       MAX_ARRIVAL_DELAY float,\n",
    "       CUMULATIVE float\n",
    "    )\n",
    "    ROW FORMAT DELIMITED\n",
    "    FIELDS TERMINATED BY ';'\n",
    "    STORED AS TEXTFILE\n",
    "    location '/group/five-guys/{0}'\n",
    "    tblproperties (\"skip.header.line.count\"=\"1\")\n",
    "    \"\"\".format(table_name)\n",
    "    cur.execute(query)\n",
    "    \n",
    "    query = \"\"\"\n",
    "    SELECT DEPARTURE_ID,\n",
    "           ARRIVAL_ID,\n",
    "           DAY_OF_WEEK,\n",
    "           MAX_ARRIVAL_DELAY,\n",
    "           CUMULATIVE\n",
    "    FROM {0}\n",
    "    \"\"\".format(table_name)\n",
    "    df = pd.read_sql(query, conn)\n",
    "#   df.columns = [column.split('.')[1] for column in df.columns]\n",
    "\n",
    "    confidence = list(df.itertuples(index=False, name=None))\n",
    "    \n",
    "    del df\n",
    "    \n",
    "    return confidence"
   ]
  },
  {
   "cell_type": "code",
   "execution_count": 25,
   "id": "915e4ee6-ec45-430a-b1fd-0aa339da848f",
   "metadata": {},
   "outputs": [],
   "source": [
    "confidence = retrieve_df_confidence(\"confidence\")"
   ]
  },
  {
   "cell_type": "code",
   "execution_count": 26,
   "id": "5eb7df45-1d74-43cd-9777-afa6e55bcb52",
   "metadata": {},
   "outputs": [
    {
     "name": "stdout",
     "output_type": "stream",
     "text": [
      "453366\n"
     ]
    }
   ],
   "source": [
    "from collections import defaultdict\n",
    "main_dict = defaultdict(list)\n",
    "for c in confidence:\n",
    "    main_dict[c[0]].append(c[1:])\n",
    "#print(main_dict)\n",
    "\n",
    "\n",
    "main_dict_final = dict()\n",
    "for key, value in main_dict.items():\n",
    "    inner_dict = defaultdict(list)\n",
    "    for inner in value:\n",
    "        inner_dict[inner[0]].append(inner[1:])\n",
    "    main_dict_final[key] = dict(inner_dict)\n",
    "\n",
    "main_dict_final['8503202']['8502209']\n",
    "\n",
    "lenght = 0\n",
    "for key, value in main_dict_final.items():\n",
    "    for key2, value2 in value.items():\n",
    "        lenght += len(value[key2])\n",
    "        \n",
    "print(lenght)"
   ]
  },
  {
   "cell_type": "code",
   "execution_count": 27,
   "id": "97e01930-6f05-4112-beb3-6727385aa6a0",
   "metadata": {},
   "outputs": [
    {
     "name": "stdout",
     "output_type": "stream",
     "text": [
      "No overwrite, flag set to false\n"
     ]
    }
   ],
   "source": [
    "import pickle\n",
    "path_data = \"../../data/\"\n",
    "\n",
    "if overwrite:\n",
    "   pickle.dump(main_dict_final, open(path_data+\"confidence.pickle\", \"wb\"))\n",
    "else: \n",
    "    print(\"No overwrite, flag set to false\")"
   ]
  }
 ],
 "metadata": {
  "kernelspec": {
   "display_name": "Python 3",
   "language": "python",
   "name": "python3"
  },
  "language_info": {
   "codemirror_mode": {
    "name": "ipython",
    "version": 3
   },
   "file_extension": ".py",
   "mimetype": "text/x-python",
   "name": "python",
   "nbconvert_exporter": "python",
   "pygments_lexer": "ipython3",
   "version": "3.9.7"
  }
 },
 "nbformat": 4,
 "nbformat_minor": 5
}
