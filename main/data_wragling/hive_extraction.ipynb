{
 "cells": [
  {
   "cell_type": "code",
   "execution_count": 1,
   "id": "3969a56d-155d-43d8-947c-2ab9dad48e5f",
   "metadata": {},
   "outputs": [
    {
     "name": "stdout",
     "output_type": "stream",
     "text": [
      "Operating as: eric\n"
     ]
    }
   ],
   "source": [
    "import os\n",
    "import pandas as pd\n",
    "pd.set_option(\"display.max_columns\", 50)\n",
    "import matplotlib.pyplot as plt\n",
    "%matplotlib inline\n",
    "import plotly.express as px\n",
    "import plotly.graph_objects as go\n",
    "import warnings\n",
    "warnings.simplefilter(action='ignore', category=UserWarning)\n",
    "\n",
    "#username = os.environ['RENKU_USERNAME']\n",
    "username = \"eric\"\n",
    "hiveaddr = os.environ['HIVE_SERVER2']\n",
    "(hivehost,hiveport) = hiveaddr.split(':')\n",
    "print(\"Operating as: {0}\".format(username))"
   ]
  },
  {
   "cell_type": "code",
   "execution_count": 2,
   "id": "d29dfeb9-806a-4007-a021-58befc36023e",
   "metadata": {},
   "outputs": [],
   "source": [
    "from pyhive import hive\n",
    "\n",
    "# Create the connection\n",
    "conn = hive.connect(host=hivehost, \n",
    "                    port=hiveport,\n",
    "                    username=username) \n",
    "# Create the cursor\n",
    "cur = conn.cursor()"
   ]
  },
  {
   "cell_type": "code",
   "execution_count": 3,
   "id": "d833f6d0-09d9-4784-9567-490134fc2d3e",
   "metadata": {},
   "outputs": [],
   "source": [
    "### Create your database if it does not exist\n",
    "query = \"\"\"\n",
    "CREATE DATABASE IF NOT EXISTS {0} LOCATION '/group/five-guys/hive'\n",
    "\"\"\".format(username)\n",
    "cur.execute(query)"
   ]
  },
  {
   "cell_type": "markdown",
   "id": "293f385d-9748-457a-acd7-dfc0f2110055",
   "metadata": {},
   "source": [
    "## Connections"
   ]
  },
  {
   "cell_type": "code",
   "execution_count": 23,
   "id": "902d6939-3e43-4d5f-b91b-e524e59f88ef",
   "metadata": {},
   "outputs": [],
   "source": [
    "def retrieve_df_connections(table_name):\n",
    "    ### Create your database if it does not exist\n",
    "    \n",
    "    query = \"\"\"\n",
    "    DROP TABLE IF EXISTS {0}\n",
    "    \"\"\".format(table_name)\n",
    "    cur.execute(query)\n",
    "    \n",
    "    ### Creation of the table\n",
    "    query = \"\"\"\n",
    "    CREATE EXTERNAL TABLE {0}(\n",
    "        departure_id string,\n",
    "        arrival_id string,\n",
    "        departure_time string,\n",
    "        arrival_time string,\n",
    "        trip_id string,\n",
    "        monday string,\n",
    "        tuesday string,\n",
    "        wednesday string,\n",
    "        thursday string,\n",
    "        friday string\n",
    "    )\n",
    "    ROW FORMAT DELIMITED\n",
    "    FIELDS TERMINATED BY ','\n",
    "    STORED AS TEXTFILE\n",
    "    location '/group/five-guys/{0}'\n",
    "    tblproperties (\"skip.header.line.count\"=\"1\")\n",
    "    \"\"\".format(table_name)\n",
    "    cur.execute(query)\n",
    "    \n",
    "    query = \"\"\"\n",
    "    SELECT *\n",
    "    FROM {0}.csv\n",
    "    \"\"\".format(table_name)\n",
    "    df = pd.read_sql(query, conn)\n",
    "    df.columns = [column.split('.')[1] for column in df.columns]\n",
    "    \n",
    "    df[\"departure_time\"] = df[\"departure_time\"].apply(lambda x: int(pd.Timestamp(x).timestamp()))\n",
    "\n",
    "    df[\"arrival_time\"] = df[\"arrival_time\"].apply(lambda x: int(pd.Timestamp(x).timestamp()))\n",
    "    \n",
    "    df[['monday', 'tuesday', 'wednesday', 'thursday', 'friday']] = df[['monday', 'tuesday', 'wednesday', 'thursday', 'friday']].replace({'0':False, '1':True})\n",
    "\n",
    "    result = list(df.itertuples(index=False, name=None))\n",
    "    \n",
    "    del df\n",
    "    \n",
    "    return result\n",
    "\n"
   ]
  },
  {
   "cell_type": "code",
   "execution_count": null,
   "id": "1abb449b-5f45-4c81-99c9-c112196ac38b",
   "metadata": {
    "tags": []
   },
   "outputs": [],
   "source": [
    "conn_table = retrieve_df_connections(\"conn_table\")"
   ]
  },
  {
   "cell_type": "code",
   "execution_count": null,
   "id": "3affea38-913b-4cb2-8716-ced7b53faf41",
   "metadata": {},
   "outputs": [],
   "source": [
    "import pickle\n",
    "path_data = \"../../data/\"\n",
    "pickle.dump(conn_table, open(path_data+\"connections_data.pickle\", \"wb\"))"
   ]
  },
  {
   "cell_type": "markdown",
   "id": "aa65ab2c-1877-4efb-b2a1-98c6df5070c3",
   "metadata": {},
   "source": [
    "## Trips"
   ]
  },
  {
   "cell_type": "code",
   "execution_count": 70,
   "id": "3c0dd3a3-3501-41d5-b18d-d96a104d44d6",
   "metadata": {},
   "outputs": [],
   "source": [
    "def retrieve_df_trips(table_name):\n",
    "    ### Create your database if it does not exist\n",
    "    \n",
    "    query = \"\"\"\n",
    "    DROP TABLE IF EXISTS {0}\n",
    "    \"\"\".format(table_name)\n",
    "    cur.execute(query)\n",
    "    \n",
    "    ### Creation of the table\n",
    "    query = \"\"\"\n",
    "    CREATE EXTERNAL TABLE {0}(\n",
    "        route_id string,\n",
    "        service_id string,\n",
    "        trip_id string,\n",
    "        trip_headsign string,\n",
    "        trip_short_name string,\n",
    "        direction_id string\n",
    "    )\n",
    "    ROW FORMAT DELIMITED\n",
    "    FIELDS TERMINATED BY ';'\n",
    "    STORED AS TEXTFILE\n",
    "    location '/group/five-guys/{0}'\n",
    "    tblproperties (\"skip.header.line.count\"=\"1\")\n",
    "    \"\"\".format(table_name)\n",
    "    cur.execute(query)\n",
    "    \n",
    "    query = \"\"\"\n",
    "    SELECT *\n",
    "    FROM {0}\n",
    "    \"\"\".format(table_name)\n",
    "    df = pd.read_sql(query, conn)\n",
    "    df.columns = [column.split('.')[1] for column in df.columns]\n",
    "\n",
    "\n",
    "    \n",
    "    \n",
    "    return df\n",
    "\n",
    "\n"
   ]
  },
  {
   "cell_type": "code",
   "execution_count": 51,
   "id": "f9fc76e8-ba74-400b-b55f-b891de4fc38d",
   "metadata": {},
   "outputs": [],
   "source": [
    "def process_trips(df):\n",
    "    routes_tot_filtered_map = df.groupby('trip_id')[['route_id', 'service_id', 'trip_headsign', 'trip_short_name', 'direction_id']].apply(lambda g: g.values.tolist()).to_dict()\n",
    "    names_cols = [\"route_id\", \"service_id\", \"trip_headsign\", \"trip_short_name\", \"direction_id\"]\n",
    "\n",
    "    map_copied = routes_tot_filtered_map.copy()\n",
    "\n",
    "    for k,v in routes_tot_filtered_map.items():\n",
    "        newdict = {}\n",
    "        for ind, element in enumerate(v[0]):\n",
    "            newdict[names_cols[ind]] = element\n",
    "        map_copied[k] = newdict\n",
    "    return map_copied"
   ]
  },
  {
   "cell_type": "code",
   "execution_count": 71,
   "id": "c9da9542-56d9-45fb-9299-5fb01d4b32d0",
   "metadata": {},
   "outputs": [],
   "source": [
    "trips_table = retrieve_df_trips(\"trips\")"
   ]
  },
  {
   "cell_type": "code",
   "execution_count": 72,
   "id": "8b3145a6-7deb-4908-b13b-c2089cb27bb2",
   "metadata": {},
   "outputs": [
    {
     "data": {
      "text/html": [
       "<div>\n",
       "<style scoped>\n",
       "    .dataframe tbody tr th:only-of-type {\n",
       "        vertical-align: middle;\n",
       "    }\n",
       "\n",
       "    .dataframe tbody tr th {\n",
       "        vertical-align: top;\n",
       "    }\n",
       "\n",
       "    .dataframe thead th {\n",
       "        text-align: right;\n",
       "    }\n",
       "</style>\n",
       "<table border=\"1\" class=\"dataframe\">\n",
       "  <thead>\n",
       "    <tr style=\"text-align: right;\">\n",
       "      <th></th>\n",
       "      <th>route_id</th>\n",
       "      <th>service_id</th>\n",
       "      <th>trip_id</th>\n",
       "      <th>trip_headsign</th>\n",
       "      <th>trip_short_name</th>\n",
       "      <th>direction_id</th>\n",
       "    </tr>\n",
       "  </thead>\n",
       "  <tbody>\n",
       "    <tr>\n",
       "      <th>0</th>\n",
       "      <td>1-217-j19-1</td>\n",
       "      <td>TA+b0001</td>\n",
       "      <td>9.TA.1-217-j19-1.1.H</td>\n",
       "      <td>Affoltern a. A., Bahnhof</td>\n",
       "      <td>21719</td>\n",
       "      <td>0</td>\n",
       "    </tr>\n",
       "    <tr>\n",
       "      <th>1</th>\n",
       "      <td>1-217-j19-1</td>\n",
       "      <td>TA+b0001</td>\n",
       "      <td>15.TA.1-217-j19-1.1.H</td>\n",
       "      <td>Affoltern a. A., Bahnhof</td>\n",
       "      <td>21731</td>\n",
       "      <td>0</td>\n",
       "    </tr>\n",
       "    <tr>\n",
       "      <th>2</th>\n",
       "      <td>1-217-j19-1</td>\n",
       "      <td>TA+b0001</td>\n",
       "      <td>17.TA.1-217-j19-1.1.H</td>\n",
       "      <td>Affoltern a. A., Bahnhof</td>\n",
       "      <td>21735</td>\n",
       "      <td>0</td>\n",
       "    </tr>\n",
       "    <tr>\n",
       "      <th>3</th>\n",
       "      <td>1-217-j19-1</td>\n",
       "      <td>TA+b0001</td>\n",
       "      <td>19.TA.1-217-j19-1.1.H</td>\n",
       "      <td>Affoltern a. A., Bahnhof</td>\n",
       "      <td>21739</td>\n",
       "      <td>0</td>\n",
       "    </tr>\n",
       "    <tr>\n",
       "      <th>4</th>\n",
       "      <td>1-217-j19-1</td>\n",
       "      <td>TA+b0001</td>\n",
       "      <td>21.TA.1-217-j19-1.1.H</td>\n",
       "      <td>Affoltern a. A., Bahnhof</td>\n",
       "      <td>21743</td>\n",
       "      <td>0</td>\n",
       "    </tr>\n",
       "    <tr>\n",
       "      <th>...</th>\n",
       "      <td>...</td>\n",
       "      <td>...</td>\n",
       "      <td>...</td>\n",
       "      <td>...</td>\n",
       "      <td>...</td>\n",
       "      <td>...</td>\n",
       "    </tr>\n",
       "    <tr>\n",
       "      <th>40391</th>\n",
       "      <td>80-53-Y-j19-1</td>\n",
       "      <td>TA+b0tui</td>\n",
       "      <td>50.TA.80-53-Y-j19-1.5.H</td>\n",
       "      <td>Chur</td>\n",
       "      <td>3479</td>\n",
       "      <td>0</td>\n",
       "    </tr>\n",
       "    <tr>\n",
       "      <th>40392</th>\n",
       "      <td>80-53-Y-j19-1</td>\n",
       "      <td>TA+b0tuk</td>\n",
       "      <td>54.TA.80-53-Y-j19-1.16.H</td>\n",
       "      <td>Chur</td>\n",
       "      <td>3481</td>\n",
       "      <td>0</td>\n",
       "    </tr>\n",
       "    <tr>\n",
       "      <th>40393</th>\n",
       "      <td>80-55-Y-j19-1</td>\n",
       "      <td>TA+b0tvm</td>\n",
       "      <td>25.TA.80-55-Y-j19-1.12.H</td>\n",
       "      <td>Zürich HB</td>\n",
       "      <td>3464</td>\n",
       "      <td>0</td>\n",
       "    </tr>\n",
       "    <tr>\n",
       "      <th>40394</th>\n",
       "      <td>80-55-Y-j19-1</td>\n",
       "      <td>TA+b0tvn</td>\n",
       "      <td>33.TA.80-55-Y-j19-1.12.H</td>\n",
       "      <td>Zürich HB</td>\n",
       "      <td>3468</td>\n",
       "      <td>0</td>\n",
       "    </tr>\n",
       "    <tr>\n",
       "      <th>40395</th>\n",
       "      <td>80-55-Y-j19-1</td>\n",
       "      <td>TA+b0tvo</td>\n",
       "      <td>43.TA.80-55-Y-j19-1.12.H</td>\n",
       "      <td>Zürich HB</td>\n",
       "      <td>3472</td>\n",
       "      <td>0</td>\n",
       "    </tr>\n",
       "  </tbody>\n",
       "</table>\n",
       "<p>40396 rows × 6 columns</p>\n",
       "</div>"
      ],
      "text/plain": [
       "            route_id service_id                   trip_id  \\\n",
       "0        1-217-j19-1   TA+b0001      9.TA.1-217-j19-1.1.H   \n",
       "1        1-217-j19-1   TA+b0001     15.TA.1-217-j19-1.1.H   \n",
       "2        1-217-j19-1   TA+b0001     17.TA.1-217-j19-1.1.H   \n",
       "3        1-217-j19-1   TA+b0001     19.TA.1-217-j19-1.1.H   \n",
       "4        1-217-j19-1   TA+b0001     21.TA.1-217-j19-1.1.H   \n",
       "...              ...        ...                       ...   \n",
       "40391  80-53-Y-j19-1   TA+b0tui   50.TA.80-53-Y-j19-1.5.H   \n",
       "40392  80-53-Y-j19-1   TA+b0tuk  54.TA.80-53-Y-j19-1.16.H   \n",
       "40393  80-55-Y-j19-1   TA+b0tvm  25.TA.80-55-Y-j19-1.12.H   \n",
       "40394  80-55-Y-j19-1   TA+b0tvn  33.TA.80-55-Y-j19-1.12.H   \n",
       "40395  80-55-Y-j19-1   TA+b0tvo  43.TA.80-55-Y-j19-1.12.H   \n",
       "\n",
       "                  trip_headsign trip_short_name direction_id  \n",
       "0      Affoltern a. A., Bahnhof           21719            0  \n",
       "1      Affoltern a. A., Bahnhof           21731            0  \n",
       "2      Affoltern a. A., Bahnhof           21735            0  \n",
       "3      Affoltern a. A., Bahnhof           21739            0  \n",
       "4      Affoltern a. A., Bahnhof           21743            0  \n",
       "...                         ...             ...          ...  \n",
       "40391                      Chur            3479            0  \n",
       "40392                      Chur            3481            0  \n",
       "40393                 Zürich HB            3464            0  \n",
       "40394                 Zürich HB            3468            0  \n",
       "40395                 Zürich HB            3472            0  \n",
       "\n",
       "[40396 rows x 6 columns]"
      ]
     },
     "execution_count": 72,
     "metadata": {},
     "output_type": "execute_result"
    }
   ],
   "source": [
    "trips_table"
   ]
  },
  {
   "cell_type": "code",
   "execution_count": 73,
   "id": "6a2f8da1-b92e-4a74-93f5-3a029cd73c7a",
   "metadata": {},
   "outputs": [],
   "source": [
    "trips = process_trips(trips_table)"
   ]
  },
  {
   "cell_type": "code",
   "execution_count": 75,
   "id": "6d0ec662-03bb-4d9f-9441-e5d1a9776dd9",
   "metadata": {},
   "outputs": [],
   "source": [
    "import pickle\n",
    "path_data = \"../../data/\"\n",
    "pickle.dump(trips, open(path_data+\"trips.pickle\", \"wb\"))"
   ]
  },
  {
   "cell_type": "markdown",
   "id": "c7b501d9-ba05-49d2-89f0-7094bd74d6f2",
   "metadata": {},
   "source": [
    "## Stops"
   ]
  },
  {
   "cell_type": "code",
   "execution_count": 4,
   "id": "70b86d8b-8ad2-4351-b4fe-f91d5f702ff0",
   "metadata": {},
   "outputs": [],
   "source": [
    "def retrieve_df_stops(table_name):\n",
    "    ### Create your database if it does not exist\n",
    "    \n",
    "    query = \"\"\"\n",
    "    DROP TABLE IF EXISTS {0}\n",
    "    \"\"\".format(table_name)\n",
    "    cur.execute(query)\n",
    "    \n",
    "    ### Creation of the table\n",
    "    query = \"\"\"\n",
    "    CREATE EXTERNAL TABLE {0}(\n",
    "        stop_id string,\n",
    "        stop_name string,\n",
    "        stop_lat string,\n",
    "        stop_lon string,\n",
    "        parent_station string\n",
    "    )\n",
    "    ROW FORMAT DELIMITED\n",
    "    FIELDS TERMINATED BY ';'\n",
    "    STORED AS TEXTFILE\n",
    "    location '/group/five-guys/{0}'\n",
    "    tblproperties (\"skip.header.line.count\"=\"1\")\n",
    "    \"\"\".format(table_name)\n",
    "    cur.execute(query)\n",
    "    \n",
    "    query = \"\"\"\n",
    "    SELECT *\n",
    "    FROM {0}\n",
    "    \"\"\".format(table_name)\n",
    "    df = pd.read_sql(query, conn)\n",
    "    df.columns = [column.split('.')[1] for column in df.columns]\n",
    "    \n",
    "    return df"
   ]
  },
  {
   "cell_type": "code",
   "execution_count": 5,
   "id": "e64ebe91-4085-4137-85e8-0456ddc643d0",
   "metadata": {},
   "outputs": [
    {
     "data": {
      "text/html": [
       "<div>\n",
       "<style scoped>\n",
       "    .dataframe tbody tr th:only-of-type {\n",
       "        vertical-align: middle;\n",
       "    }\n",
       "\n",
       "    .dataframe tbody tr th {\n",
       "        vertical-align: top;\n",
       "    }\n",
       "\n",
       "    .dataframe thead th {\n",
       "        text-align: right;\n",
       "    }\n",
       "</style>\n",
       "<table border=\"1\" class=\"dataframe\">\n",
       "  <thead>\n",
       "    <tr style=\"text-align: right;\">\n",
       "      <th></th>\n",
       "      <th>stop_id</th>\n",
       "      <th>stop_name</th>\n",
       "      <th>stop_lat</th>\n",
       "      <th>stop_lon</th>\n",
       "      <th>parent_station</th>\n",
       "    </tr>\n",
       "  </thead>\n",
       "  <tbody>\n",
       "    <tr>\n",
       "      <th>0</th>\n",
       "      <td>8506895</td>\n",
       "      <td>Lufingen, Dorf</td>\n",
       "      <td>47.4886612950571</td>\n",
       "      <td>8.59365231835008</td>\n",
       "      <td></td>\n",
       "    </tr>\n",
       "    <tr>\n",
       "      <th>1</th>\n",
       "      <td>8591190</td>\n",
       "      <td>Zürich, Heuried</td>\n",
       "      <td>47.3694098744442</td>\n",
       "      <td>8.50635403902719</td>\n",
       "      <td></td>\n",
       "    </tr>\n",
       "    <tr>\n",
       "      <th>2</th>\n",
       "      <td>8573729</td>\n",
       "      <td>Bonstetten, Isenbach</td>\n",
       "      <td>47.3151613074637</td>\n",
       "      <td>8.47171500166672</td>\n",
       "      <td></td>\n",
       "    </tr>\n",
       "    <tr>\n",
       "      <th>3</th>\n",
       "      <td>8502508</td>\n",
       "      <td>Spreitenbach, Raiacker</td>\n",
       "      <td>47.4163939893986</td>\n",
       "      <td>8.37617917118731</td>\n",
       "      <td></td>\n",
       "    </tr>\n",
       "    <tr>\n",
       "      <th>4</th>\n",
       "      <td>8589111</td>\n",
       "      <td>Horgen, Gumelenstrasse</td>\n",
       "      <td>47.2608813777694</td>\n",
       "      <td>8.59208026660265</td>\n",
       "      <td></td>\n",
       "    </tr>\n",
       "    <tr>\n",
       "      <th>...</th>\n",
       "      <td>...</td>\n",
       "      <td>...</td>\n",
       "      <td>...</td>\n",
       "      <td>...</td>\n",
       "      <td>...</td>\n",
       "    </tr>\n",
       "    <tr>\n",
       "      <th>1954</th>\n",
       "      <td>8573261</td>\n",
       "      <td>Niederglatt ZH, Nöschikon</td>\n",
       "      <td>47.4953866910793</td>\n",
       "      <td>8.49499933383434</td>\n",
       "      <td></td>\n",
       "    </tr>\n",
       "    <tr>\n",
       "      <th>1955</th>\n",
       "      <td>8588311</td>\n",
       "      <td>Effretikon, Brüttenerstrasse</td>\n",
       "      <td>47.4319589521938</td>\n",
       "      <td>8.68603506218179</td>\n",
       "      <td></td>\n",
       "    </tr>\n",
       "    <tr>\n",
       "      <th>1956</th>\n",
       "      <td>8590772</td>\n",
       "      <td>Rüschlikon, Belvoir</td>\n",
       "      <td>47.3070423608591</td>\n",
       "      <td>8.54865570576227</td>\n",
       "      <td></td>\n",
       "    </tr>\n",
       "    <tr>\n",
       "      <th>1957</th>\n",
       "      <td>8573718:0:D</td>\n",
       "      <td>Birmensdorf ZH, Bahnhof</td>\n",
       "      <td>47.3569422650859</td>\n",
       "      <td>8.438800729652</td>\n",
       "      <td>Parent8573718</td>\n",
       "    </tr>\n",
       "    <tr>\n",
       "      <th>1958</th>\n",
       "      <td>8575918:0:C</td>\n",
       "      <td>Effretikon, Bahnhof</td>\n",
       "      <td>47.4251403510439</td>\n",
       "      <td>8.68615184316874</td>\n",
       "      <td>Parent8575918</td>\n",
       "    </tr>\n",
       "  </tbody>\n",
       "</table>\n",
       "<p>1959 rows × 5 columns</p>\n",
       "</div>"
      ],
      "text/plain": [
       "          stop_id                     stop_name          stop_lat  \\\n",
       "0         8506895                Lufingen, Dorf  47.4886612950571   \n",
       "1         8591190               Zürich, Heuried  47.3694098744442   \n",
       "2         8573729          Bonstetten, Isenbach  47.3151613074637   \n",
       "3         8502508        Spreitenbach, Raiacker  47.4163939893986   \n",
       "4         8589111        Horgen, Gumelenstrasse  47.2608813777694   \n",
       "...           ...                           ...               ...   \n",
       "1954      8573261     Niederglatt ZH, Nöschikon  47.4953866910793   \n",
       "1955      8588311  Effretikon, Brüttenerstrasse  47.4319589521938   \n",
       "1956      8590772           Rüschlikon, Belvoir  47.3070423608591   \n",
       "1957  8573718:0:D       Birmensdorf ZH, Bahnhof  47.3569422650859   \n",
       "1958  8575918:0:C           Effretikon, Bahnhof  47.4251403510439   \n",
       "\n",
       "              stop_lon parent_station  \n",
       "0     8.59365231835008                 \n",
       "1     8.50635403902719                 \n",
       "2     8.47171500166672                 \n",
       "3     8.37617917118731                 \n",
       "4     8.59208026660265                 \n",
       "...                ...            ...  \n",
       "1954  8.49499933383434                 \n",
       "1955  8.68603506218179                 \n",
       "1956  8.54865570576227                 \n",
       "1957    8.438800729652  Parent8573718  \n",
       "1958  8.68615184316874  Parent8575918  \n",
       "\n",
       "[1959 rows x 5 columns]"
      ]
     },
     "execution_count": 5,
     "metadata": {},
     "output_type": "execute_result"
    }
   ],
   "source": [
    "stops = retrieve_df_stops(\"stops_table\")\n",
    "stops"
   ]
  },
  {
   "cell_type": "code",
   "execution_count": 6,
   "id": "dfe6672a-e1a7-49dd-8920-685ede9d2bb9",
   "metadata": {},
   "outputs": [],
   "source": [
    "close_stops_map = stops.groupby('stop_id')[['stop_id', 'stop_name', 'stop_lat', 'stop_lon', 'parent_station']].apply(lambda g: g.values.tolist()).to_dict()\n",
    "names_cols = ['stop_id', 'stop_name', 'stop_lat', 'stop_lon', 'parent_station']"
   ]
  },
  {
   "cell_type": "code",
   "execution_count": 7,
   "id": "66045e60-2091-4152-9974-41a4e98bb3da",
   "metadata": {},
   "outputs": [],
   "source": [
    "def process_stops(df):\n",
    "    close_stops_map = df.groupby('stop_id')[['stop_id', 'stop_name', 'stop_lat', 'stop_lon', 'parent_station']].apply(lambda g: g.values.tolist()).to_dict()\n",
    "    names_cols = ['stop_id', 'stop_name', 'stop_lat', 'stop_lon', 'parent_station']\n",
    "    \n",
    "    stops_final = close_stops_map.copy()\n",
    "\n",
    "    for k,v in close_stops_map.items():\n",
    "        newdict = {}\n",
    "        for ind, element in enumerate(v[0]):\n",
    "            newdict[names_cols[ind]] = element\n",
    "            if names_cols[ind] == \"parent_station\" and isinstance(element, str) and element!=\"\":\n",
    "                element = element.replace('Parent','').replace('P','')\n",
    "                newdict[names_cols[ind]] = element\n",
    "                if element != str(int(element)):\n",
    "                    print(element)\n",
    "        stops_final[k] = newdict\n",
    "    \n",
    "    return stops_final"
   ]
  },
  {
   "cell_type": "code",
   "execution_count": 8,
   "id": "de87935b-75e6-46c4-a676-e2686fe6caf5",
   "metadata": {
    "tags": []
   },
   "outputs": [],
   "source": [
    "stops_dict = process_stops(stops)"
   ]
  },
  {
   "cell_type": "code",
   "execution_count": 18,
   "id": "3b3a8bc8-681b-470a-a3ff-120b8ba2437f",
   "metadata": {},
   "outputs": [],
   "source": [
    "stops=set(list(stops_dict.keys()))"
   ]
  },
  {
   "cell_type": "code",
   "execution_count": 9,
   "id": "70100051-422a-4d59-ad07-cbf7390604ed",
   "metadata": {},
   "outputs": [],
   "source": [
    "import pickle\n",
    "path_data = \"../../data/\"\n",
    "pickle.dump(stops_dict, open(path_data+\"stops.pickle\", \"wb\"))"
   ]
  },
  {
   "cell_type": "markdown",
   "id": "2e1df373-bf08-43d3-9a8a-4965d5ccdb55",
   "metadata": {},
   "source": [
    "## Footpath"
   ]
  },
  {
   "cell_type": "code",
   "execution_count": 4,
   "id": "2dd19ade-b17e-4180-906e-531699b8c2ef",
   "metadata": {},
   "outputs": [],
   "source": [
    "def retrieve_df_footpath(table_name):\n",
    "    ### Create your database if it does not exist\n",
    "    \n",
    "    query = \"\"\"\n",
    "    DROP TABLE IF EXISTS {0}\n",
    "    \"\"\".format(table_name)\n",
    "    cur.execute(query)\n",
    "    \n",
    "    ### Creation of the table\n",
    "    query = \"\"\"\n",
    "    CREATE EXTERNAL TABLE {0}(\n",
    "        departure_id string,\n",
    "        arrival_id string,\n",
    "        `time` int\n",
    "    )\n",
    "    ROW FORMAT DELIMITED\n",
    "    FIELDS TERMINATED BY ';'\n",
    "    STORED AS TEXTFILE\n",
    "    location '/group/five-guys/{0}'\n",
    "    tblproperties (\"skip.header.line.count\"=\"1\")\n",
    "    \"\"\".format(table_name)\n",
    "    cur.execute(query)\n",
    "    \n",
    "    query = \"\"\"\n",
    "    SELECT *\n",
    "    FROM {0}\n",
    "    \"\"\".format(table_name)\n",
    "    df = pd.read_sql(query, conn)\n",
    "    df.columns = [column.split('.')[1] for column in df.columns]\n",
    "    \n",
    "    footpath_map = df.groupby('arrival_id')[['departure_id', 'time']].apply(lambda g: g.values.tolist()).to_dict()\n",
    "    footpath_map = {k: dict(v) for k, v in footpath_map.items()}\n",
    "    \n",
    "    \n",
    "    del df\n",
    "    \n",
    "    return footpath_map\n",
    "\n",
    "\n",
    "\n",
    "\n"
   ]
  },
  {
   "cell_type": "code",
   "execution_count": null,
   "id": "78038ac3-d1d4-4dae-997b-3ab053eaa842",
   "metadata": {},
   "outputs": [],
   "source": [
    "footpath = retrieve_df_footpath(\"footpath\")"
   ]
  },
  {
   "cell_type": "code",
   "execution_count": null,
   "id": "84f388fc-f230-4dcf-aaef-697df2c5f079",
   "metadata": {},
   "outputs": [],
   "source": [
    "pickle.dump(footpath, open(path_data+\"footpath.pickle\", \"wb\"))"
   ]
  },
  {
   "cell_type": "code",
   "execution_count": 76,
   "id": "4686ea0a-fb9f-4317-bb34-ad33fdd10947",
   "metadata": {},
   "outputs": [],
   "source": [
    "\n",
    "#TO GET OBJECTS FROM PICKLE\n",
    "file = open(path_data+\"trips.pickle\",'rb')\n",
    "object_file = pickle.load(file)\n",
    "file.close()\n",
    "#object_file"
   ]
  },
  {
   "cell_type": "code",
   "execution_count": 10,
   "id": "6434798c-2380-4fd3-b484-4a839ef4422d",
   "metadata": {},
   "outputs": [],
   "source": [
    "def retrieve_df_routes(table_name):\n",
    "    ### Create your database if it does not exist\n",
    "    \n",
    "    query = \"\"\"\n",
    "    DROP TABLE IF EXISTS {0}\n",
    "    \"\"\".format(table_name)\n",
    "    cur.execute(query)\n",
    "    \n",
    "    ### Creation of the table\n",
    "    query = \"\"\"\n",
    "    CREATE EXTERNAL TABLE {0}(\n",
    "        trip_id string,\n",
    "        routes_desc string,\n",
    "        route_id string\n",
    "    )\n",
    "    ROW FORMAT DELIMITED\n",
    "    FIELDS TERMINATED BY ';'\n",
    "    STORED AS TEXTFILE\n",
    "    location '/group/five-guys/{0}'\n",
    "    tblproperties (\"skip.header.line.count\"=\"1\")\n",
    "    \"\"\".format(table_name)\n",
    "    cur.execute(query)\n",
    "    \n",
    "    query = \"\"\"\n",
    "    SELECT *\n",
    "    FROM {0}\n",
    "    \"\"\".format(table_name)\n",
    "    df = pd.read_sql(query, conn)\n",
    "    df.columns = [column.split('.')[1] for column in df.columns]\n",
    "    \n",
    "    return df\n",
    "\n",
    "\n",
    "\n",
    "\n",
    "\n"
   ]
  },
  {
   "cell_type": "code",
   "execution_count": 11,
   "id": "b8a79477-6825-4838-86e1-b0a453702c6d",
   "metadata": {},
   "outputs": [
    {
     "data": {
      "text/html": [
       "<div>\n",
       "<style scoped>\n",
       "    .dataframe tbody tr th:only-of-type {\n",
       "        vertical-align: middle;\n",
       "    }\n",
       "\n",
       "    .dataframe tbody tr th {\n",
       "        vertical-align: top;\n",
       "    }\n",
       "\n",
       "    .dataframe thead th {\n",
       "        text-align: right;\n",
       "    }\n",
       "</style>\n",
       "<table border=\"1\" class=\"dataframe\">\n",
       "  <thead>\n",
       "    <tr style=\"text-align: right;\">\n",
       "      <th></th>\n",
       "      <th>trip_id</th>\n",
       "      <th>routes_desc</th>\n",
       "      <th>route_id</th>\n",
       "    </tr>\n",
       "  </thead>\n",
       "  <tbody>\n",
       "    <tr>\n",
       "      <th>0</th>\n",
       "      <td>9.TA.1-217-j19-1.1.H</td>\n",
       "      <td>Bus</td>\n",
       "      <td>1-217-j19-1</td>\n",
       "    </tr>\n",
       "    <tr>\n",
       "      <th>1</th>\n",
       "      <td>15.TA.1-217-j19-1.1.H</td>\n",
       "      <td>Bus</td>\n",
       "      <td>1-217-j19-1</td>\n",
       "    </tr>\n",
       "    <tr>\n",
       "      <th>2</th>\n",
       "      <td>17.TA.1-217-j19-1.1.H</td>\n",
       "      <td>Bus</td>\n",
       "      <td>1-217-j19-1</td>\n",
       "    </tr>\n",
       "    <tr>\n",
       "      <th>3</th>\n",
       "      <td>19.TA.1-217-j19-1.1.H</td>\n",
       "      <td>Bus</td>\n",
       "      <td>1-217-j19-1</td>\n",
       "    </tr>\n",
       "    <tr>\n",
       "      <th>4</th>\n",
       "      <td>21.TA.1-217-j19-1.1.H</td>\n",
       "      <td>Bus</td>\n",
       "      <td>1-217-j19-1</td>\n",
       "    </tr>\n",
       "  </tbody>\n",
       "</table>\n",
       "</div>"
      ],
      "text/plain": [
       "                 trip_id routes_desc     route_id\n",
       "0   9.TA.1-217-j19-1.1.H         Bus  1-217-j19-1\n",
       "1  15.TA.1-217-j19-1.1.H         Bus  1-217-j19-1\n",
       "2  17.TA.1-217-j19-1.1.H         Bus  1-217-j19-1\n",
       "3  19.TA.1-217-j19-1.1.H         Bus  1-217-j19-1\n",
       "4  21.TA.1-217-j19-1.1.H         Bus  1-217-j19-1"
      ]
     },
     "execution_count": 11,
     "metadata": {},
     "output_type": "execute_result"
    }
   ],
   "source": [
    "routes = retrieve_df_routes(\"routes\")\n",
    "routes.head()"
   ]
  },
  {
   "cell_type": "code",
   "execution_count": 12,
   "id": "bb2d1992-0e75-440e-8ed0-e742d2580070",
   "metadata": {},
   "outputs": [],
   "source": [
    "import pickle\n",
    "path_data = \"../../data/\"\n",
    "pickle.dump(routes, open(path_data+\"routes.pickle\", \"wb\"))"
   ]
  },
  {
   "cell_type": "markdown",
   "id": "bba70dd3-1ab9-4028-9c98-12a86adc9dff",
   "metadata": {},
   "source": [
    "## Confidence"
   ]
  },
  {
   "cell_type": "code",
   "execution_count": 13,
   "id": "e9e5a561-5630-48a8-8c5a-b6af49554d1c",
   "metadata": {},
   "outputs": [],
   "source": [
    "def retrieve_df_confidence(table_name):\n",
    "    ### Create your database if it does not exist\n",
    "    \n",
    "    query = \"\"\"\n",
    "    DROP TABLE IF EXISTS {0}\n",
    "    \"\"\".format(table_name)\n",
    "    cur.execute(query)\n",
    "    \n",
    "    ### Creation of the table\n",
    "    query = \"\"\"\n",
    "    CREATE EXTERNAL TABLE {0}(\n",
    "       DEPARTURE_ID string,\n",
    "       ARRIVAL_ID string,\n",
    "       DAY_OF_WEEK int,\n",
    "       MAX_ARRIVAL_DELAY float,\n",
    "       CUMULATIVE float\n",
    "    )\n",
    "    ROW FORMAT DELIMITED\n",
    "    FIELDS TERMINATED BY ';'\n",
    "    STORED AS TEXTFILE\n",
    "    location '/group/five-guys/{0}'\n",
    "    tblproperties (\"skip.header.line.count\"=\"1\")\n",
    "    \"\"\".format(table_name)\n",
    "    cur.execute(query)\n",
    "    \n",
    "    query = \"\"\"\n",
    "    SELECT DEPARTURE_ID,\n",
    "           ARRIVAL_ID,\n",
    "           DAY_OF_WEEK,\n",
    "           MAX_ARRIVAL_DELAY,\n",
    "           CUMULATIVE\n",
    "    FROM {0}\n",
    "    \"\"\".format(table_name)\n",
    "    df = pd.read_sql(query, conn)\n",
    "#   df.columns = [column.split('.')[1] for column in df.columns]\n",
    "\n",
    "    confidence = list(df.itertuples(index=False, name=None))\n",
    "    \n",
    "    del df\n",
    "    \n",
    "    return confidence"
   ]
  },
  {
   "cell_type": "code",
   "execution_count": 14,
   "id": "915e4ee6-ec45-430a-b1fd-0aa339da848f",
   "metadata": {},
   "outputs": [],
   "source": [
    "confidence = retrieve_df_confidence(\"confidence\")"
   ]
  },
  {
   "cell_type": "code",
   "execution_count": 22,
   "id": "952ec76f-290b-4d23-9659-b2727e36de26",
   "metadata": {},
   "outputs": [
    {
     "data": {
      "text/plain": [
       "[]"
      ]
     },
     "execution_count": 22,
     "metadata": {},
     "output_type": "execute_result"
    }
   ],
   "source": [
    "[el for el in confidence if (el[0] not in stops) or (el[1] not in stops)]"
   ]
  },
  {
   "cell_type": "code",
   "execution_count": 55,
   "id": "528fdfaf-3083-4dc3-9d74-65df4d7a5df4",
   "metadata": {},
   "outputs": [],
   "source": [
    "tmp1 = [(c[0], tuple(list(c)[1:])) for c in confidence]"
   ]
  },
  {
   "cell_type": "code",
   "execution_count": 25,
   "id": "5eb7df45-1d74-43cd-9777-afa6e55bcb52",
   "metadata": {},
   "outputs": [
    {
     "name": "stdout",
     "output_type": "stream",
     "text": [
      "332647\n"
     ]
    }
   ],
   "source": [
    "from collections import defaultdict\n",
    "main_dict = defaultdict(list)\n",
    "for c in confidence:\n",
    "    main_dict[c[0]].append(c[1:])\n",
    "#print(main_dict)\n",
    "\n",
    "\n",
    "main_dict_final = dict()\n",
    "for key, value in main_dict.items():\n",
    "    inner_dict = defaultdict(list)\n",
    "    for inner in value:\n",
    "        inner_dict[inner[0]].append(inner[1:])\n",
    "    main_dict_final[key] = dict(inner_dict)\n",
    "\n",
    "main_dict_final['8503202']['8502209']\n",
    "\n",
    "lenght = 0\n",
    "for key, value in main_dict_final.items():\n",
    "    for key2, value2 in value.items():\n",
    "        lenght += len(value[key2])\n",
    "        \n",
    "print(lenght)"
   ]
  },
  {
   "cell_type": "code",
   "execution_count": 37,
   "id": "bda101ab-df8f-4c55-a732-2be36c4941a9",
   "metadata": {},
   "outputs": [
    {
     "data": {
      "text/plain": [
       "False"
      ]
     },
     "execution_count": 37,
     "metadata": {},
     "output_type": "execute_result"
    }
   ],
   "source": [
    "'8503124' in stops"
   ]
  },
  {
   "cell_type": "code",
   "execution_count": 36,
   "id": "5a09017a-2481-4522-a48a-2f02f55a66b7",
   "metadata": {},
   "outputs": [
    {
     "data": {
      "text/plain": [
       "False"
      ]
     },
     "execution_count": 36,
     "metadata": {},
     "output_type": "execute_result"
    }
   ],
   "source": [
    "'8503124' in main_dict_final.keys()"
   ]
  },
  {
   "cell_type": "code",
   "execution_count": 30,
   "id": "9c649029-b29b-4afc-b7bf-c4d18ff91f52",
   "metadata": {},
   "outputs": [
    {
     "data": {
      "text/plain": [
       "[]"
      ]
     },
     "execution_count": 30,
     "metadata": {},
     "output_type": "execute_result"
    }
   ],
   "source": [
    "[el for el in list(main_dict_final.keys()) if el not in stops]"
   ]
  },
  {
   "cell_type": "code",
   "execution_count": 28,
   "id": "97e01930-6f05-4112-beb3-6727385aa6a0",
   "metadata": {},
   "outputs": [],
   "source": [
    "import pickle\n",
    "path_data = \"../../data/\"\n",
    "pickle.dump(main_dict_final, open(path_data+\"confidence.pickle\", \"wb\"))"
   ]
  },
  {
   "cell_type": "code",
   "execution_count": 29,
   "id": "c73b8a8e-f62d-4efc-aee5-23c922ab5334",
   "metadata": {
    "tags": []
   },
   "outputs": [],
   "source": [
    "with open('../../data/confidence.pickle', 'rb') as f:\n",
    "    confidences = pickle.load(f)\n",
    "    "
   ]
  },
  {
   "cell_type": "code",
   "execution_count": null,
   "id": "07e3f909-e2d8-4d84-8dad-12941856edc4",
   "metadata": {},
   "outputs": [],
   "source": []
  }
 ],
 "metadata": {
  "kernelspec": {
   "display_name": "Python 3",
   "language": "python",
   "name": "python3"
  },
  "language_info": {
   "codemirror_mode": {
    "name": "ipython",
    "version": 3
   },
   "file_extension": ".py",
   "mimetype": "text/x-python",
   "name": "python",
   "nbconvert_exporter": "python",
   "pygments_lexer": "ipython3",
   "version": "3.9.7"
  }
 },
 "nbformat": 4,
 "nbformat_minor": 5
}
