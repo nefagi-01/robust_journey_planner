{
 "cells": [
  {
   "cell_type": "markdown",
   "id": "1b3375b4-5b0b-477f-8c54-9200c024d359",
   "metadata": {},
   "source": [
    "# FINAL PLANNER DEMOSTRATION"
   ]
  },
  {
   "cell_type": "markdown",
   "id": "9025e3eb-d16d-495d-8fa2-f6b0dbeea7e7",
   "metadata": {},
   "source": [
    "This is the only notebook that needs to be run in order to use our Journey Planner. Please, run all the cells and you will find the interactive widget in the last one. "
   ]
  },
  {
   "cell_type": "code",
   "execution_count": 1,
   "id": "8ebaa873-e1cc-4bc3-ba6d-a1764970be1d",
   "metadata": {},
   "outputs": [],
   "source": [
    "%load_ext autoreload\n",
    "%autoreload 2"
   ]
  },
  {
   "cell_type": "code",
   "execution_count": 2,
   "id": "8ad581b6-9187-4a87-bc64-3d5008bc2d4d",
   "metadata": {},
   "outputs": [],
   "source": [
    "from algorithm.planner import JourneyPlanner\n",
    "from collections import defaultdict\n",
    "import pickle\n",
    "import numpy as np\n",
    "import ipywidgets as widgets\n",
    "from IPython.display import display, clear_output\n",
    "import datetime\n",
    "import plotly.graph_objects as go\n",
    "import pandas as pd\n",
    "import plotly.express as px\n",
    "import plotly\n",
    "import matplotlib.pyplot as plt\n",
    "import pickle\n",
    "from algorithm.journey import *"
   ]
  },
  {
   "cell_type": "code",
   "execution_count": 3,
   "id": "8728ab74-d288-4aad-b301-86a5e7a70cfc",
   "metadata": {
    "tags": []
   },
   "outputs": [],
   "source": [
    "with open('../data/footpath.pickle', 'rb') as f:\n",
    "    footpaths = pickle.load(f)"
   ]
  },
  {
   "cell_type": "code",
   "execution_count": 4,
   "id": "04bd202e-a5eb-4db3-8e5f-fc92ea29545e",
   "metadata": {},
   "outputs": [],
   "source": [
    "with open('../data/trips.pickle', 'rb') as f:\n",
    "    trips = pickle.load(f)"
   ]
  },
  {
   "cell_type": "code",
   "execution_count": 5,
   "id": "846089c5-62d6-449f-8552-c0d71852c3ff",
   "metadata": {},
   "outputs": [],
   "source": [
    "with open('../data/stops.pickle', 'rb') as f:\n",
    "    stops = pickle.load(f)"
   ]
  },
  {
   "cell_type": "code",
   "execution_count": 6,
   "id": "10be9156-7cc3-41b7-bcdb-930a662911ac",
   "metadata": {},
   "outputs": [],
   "source": [
    "with open('../data/connections_data.pickle', 'rb') as f:\n",
    "    connections = pickle.load(f)"
   ]
  },
  {
   "cell_type": "code",
   "execution_count": 7,
   "id": "49f3ed56-8732-428f-a921-818b26e41b0a",
   "metadata": {},
   "outputs": [],
   "source": [
    "with open('../data/confidence.pickle', 'rb') as f:\n",
    "    confidences = pickle.load(f)"
   ]
  },
  {
   "cell_type": "code",
   "execution_count": 8,
   "id": "5377cdee-dd19-44ef-bf46-6ede547383fe",
   "metadata": {},
   "outputs": [],
   "source": [
    "with open('../data/routes.pickle', 'rb') as f:\n",
    "    routes = pickle.load(f)"
   ]
  },
  {
   "cell_type": "code",
   "execution_count": 9,
   "id": "893497ad-73d2-46f5-96e4-1335c175a2d0",
   "metadata": {},
   "outputs": [],
   "source": [
    "timetable = stops, connections, trips, footpaths, confidences"
   ]
  },
  {
   "cell_type": "code",
   "execution_count": 10,
   "id": "e3c3724a-334a-4f73-b327-ea603b0ee3f8",
   "metadata": {},
   "outputs": [],
   "source": [
    "import ipywidgets as widgets\n",
    "from IPython.display import display, clear_output"
   ]
  },
  {
   "cell_type": "code",
   "execution_count": 11,
   "id": "5537cc74-0a90-4048-a55b-414ddf42cca9",
   "metadata": {},
   "outputs": [],
   "source": [
    "stop_names = []\n",
    "for key in stops.keys():\n",
    "    stop_names.append(stops[key][\"stop_name\"])\n",
    "\n",
    "stop_names = np.unique(sorted(stop_names))        #getting all the stationnames and sorting them in alphabetical order"
   ]
  },
  {
   "cell_type": "code",
   "execution_count": 14,
   "id": "4940f696-830f-4732-aad7-7084bee8c943",
   "metadata": {},
   "outputs": [],
   "source": [
    "# Below we define all the widgets\n",
    "import datetime\n",
    "import warnings\n",
    "from visualization.visualization_helpers import visualize_map_scattermapbox\n",
    "\n",
    "warnings.simplefilter(action='ignore', category=FutureWarning)\n",
    "confidence_level =widgets.FloatSlider(\n",
    "    description = \"Confidence Interval\",\n",
    "    value=0,\n",
    "    min=0,\n",
    "    max=1.0,\n",
    "    step=0.01,\n",
    "    continuous_update=False,\n",
    "    orientation='horizontal',\n",
    "    readout=True,\n",
    "    style= {'description_width': 'initial'}\n",
    ")\n",
    "\n",
    "datetime_picker = widgets.DatePicker(\n",
    "    value = datetime.datetime.now().date(),\n",
    "    description='Date of the trip',\n",
    "    disabled=False,\n",
    "    style= {'description_width': 'initial'}\n",
    ")\n",
    "\n",
    "aux = datetime.datetime.now()\n",
    "max_arrival_time_hour = widgets.Dropdown(\n",
    "    value = datetime.datetime.now().time().hour + 3 if datetime.datetime.now().time().hour + 1 in range(10,16) else 13 ,\n",
    "    options= [i for i in range(9,18)],\n",
    "    description='Max Arrival Hour:',\n",
    "    disabled=False,\n",
    "    style= {'description_width': 'initial'}\n",
    ")\n",
    "\n",
    "max_arrival_time_minute = widgets.Dropdown(\n",
    "    value = datetime.datetime.now().time().minute,\n",
    "    options= [i for i in range(1,60)],\n",
    "    description='Max Arrival Minute:',\n",
    "    disabled=False,\n",
    "    style= {'description_width': 'initial'}\n",
    ")\n",
    "\n",
    "\n",
    "min_departure_time_hour = widgets.Dropdown(\n",
    "    value = datetime.datetime.now().time().hour if datetime.datetime.now().time().hour in range(9,15) else 11 ,\n",
    "    options= [i for i in range(9,18)],\n",
    "    description='Min Departure Hour:',\n",
    "    disabled=False,\n",
    "    style= {'description_width': 'initial'}\n",
    ")\n",
    "\n",
    "\n",
    "min_departure_time_minute = widgets.Dropdown(\n",
    "    value = datetime.datetime.now().time().minute,\n",
    "    options= [i for i in range(1,60)],\n",
    "    description='Min Departure Minute:',\n",
    "    disabled=False,\n",
    "    style= {'description_width': 'initial'}\n",
    ")\n",
    "\n",
    "\n",
    "\n",
    "departure_station = widgets.Dropdown(\n",
    "    options= stop_names,\n",
    "    description='Departure Station:',\n",
    "    disabled=False,\n",
    "    style= {'description_width': 'initial'}\n",
    ")\n",
    "\n",
    "arrival_station = widgets.Dropdown(\n",
    "    options= stop_names,\n",
    "    description='Arrival Station:',\n",
    "    disabled=False,\n",
    "    style= {'description_width': 'initial'}\n",
    ")\n",
    "\n",
    "\n",
    "max_changes = widgets.IntText(\n",
    "    value=10,\n",
    "    description='Max. number of changes:',\n",
    "    disabled=False,\n",
    ")\n",
    "\n",
    "\n",
    "\n",
    "show_k_journeys = widgets.Dropdown(\n",
    "    value = 5,\n",
    "    options= [i for i in range(1,11)],\n",
    "    description='Max n. of journeys to display:',\n",
    "    disabled=False,\n",
    "    style= {'description_width': 'initial'}\n",
    ")\n",
    "\n",
    "layout = widgets.Layout(width='auto', height='40px')\n",
    "\n",
    "button = widgets.Button(\n",
    "    description='Find the best route!',\n",
    "    disabled=False,\n",
    "    button_style='', # 'success', 'info', 'warning', 'danger' or ''\n",
    "    tooltip='Click me',\n",
    "    icon='check', # (FontAwesome names without the `fa-` prefix)\n",
    "    layout = layout\n",
    ")\n",
    "\n",
    "\n",
    "out = widgets.Output()\n",
    "\n",
    "# The following functions defines what happens when we press the button\n",
    "\n",
    "                             \n",
    "def button_action(button):\n",
    "    \n",
    "    out.clear_output()   # each time we press the button we clear the previous output\n",
    "    \n",
    "    with out:\n",
    "\n",
    "        dep_station_name = departure_station.value\n",
    "        arr_station_name = arrival_station.value\n",
    "        if dep_station_name == arr_station_name:\n",
    "            print(\"You cannot choose the same station\")\n",
    "            return\n",
    "        \n",
    "        dep_station_ids = [k for k,v in stops.items() if v['stop_name'] == dep_station_name] #exctracting all ids related to the departure station name. Later, we use only the first one (i.e. as input of the planner we only give dep_station_ids[0])\n",
    "        arr_station_ids = [k for k,v in stops.items() if v['stop_name'] == arr_station_name] #exctracting all ids related to arrival station name. Later, we use only the first one (i.e. as input of the planner we only give arr_station_ids[0])\n",
    "        \n",
    "            \n",
    "        weekday = datetime_picker.value.weekday()\n",
    "        if not(weekday in [0,1,2,3,4]):\n",
    "            print(\"You cannot choose Saturday or Sunday\")\n",
    "            return\n",
    "\n",
    "        max_time = datetime.time(max_arrival_time_hour.value, max_arrival_time_minute.value)\n",
    "        min_time = datetime.time(min_departure_time_hour.value, min_departure_time_minute.value)\n",
    "        if max_time <= min_time:\n",
    "            print(\"You cannot start after terminating the journey\")\n",
    "            return\n",
    "            \n",
    "        date_value_from_connections = datetime.datetime.fromtimestamp(connections[0][2]) #extracting the date timestamp from connections, since the algo needs this day in order to run\n",
    "\n",
    "        timestamp1 = int(datetime.datetime.combine(date_value_from_connections, min_time).timestamp()) #combining the date from connections with the min time provided by the user\n",
    "        timestamp2 = int(datetime.datetime.combine(date_value_from_connections, max_time).timestamp()) #combining the date from connections with the max time provided by the user\n",
    "        inputs = [weekday, dep_station_ids[0], arr_station_ids[0], timestamp1, timestamp2, max_changes.value, confidence_level.value]\n",
    "\n",
    "        planner = JourneyPlanner(timetable)\n",
    "        print(\"Loading...\")\n",
    "        journeys = planner.plan_route(weekday, dep_station_ids[0], arr_station_ids[0], timestamp1, timestamp2, confidence_level.value, max_changes.value, verbose=False)\n",
    "        \n",
    "\n",
    "        print(\"Done. Total Number of journeys found\", len(journeys))\n",
    "        max_journeys = show_k_journeys.value #used to visualize only first k journeys\n",
    "            \n",
    "        for i in range(len(journeys[:max_journeys])): # we plot only first k journeys\n",
    "            visualize_map_scattermapbox(journeys[i], routes, i+1) \n",
    "        \n",
    "button.on_click(button_action)"
   ]
  },
  {
   "cell_type": "code",
   "execution_count": 15,
   "id": "c3c71d78-6d86-4b5a-bc77-70cd5187a5b5",
   "metadata": {},
   "outputs": [
    {
     "data": {
      "application/vnd.jupyter.widget-view+json": {
       "model_id": "858055d19b964a798196bee594986f48",
       "version_major": 2,
       "version_minor": 0
      },
      "text/plain": [
       "DatePicker(value=datetime.date(2022, 5, 31), description='Date of the trip', style=DescriptionStyle(descriptio…"
      ]
     },
     "metadata": {},
     "output_type": "display_data"
    },
    {
     "data": {
      "application/vnd.jupyter.widget-view+json": {
       "model_id": "9b987994195d49a29edb7453e7ca2515",
       "version_major": 2,
       "version_minor": 0
      },
      "text/plain": [
       "Dropdown(description='Min Departure Hour:', index=2, options=(9, 10, 11, 12, 13, 14, 15, 16, 17), style=Descri…"
      ]
     },
     "metadata": {},
     "output_type": "display_data"
    },
    {
     "data": {
      "application/vnd.jupyter.widget-view+json": {
       "model_id": "6ea4f6f6b38b4b43922235eae333a972",
       "version_major": 2,
       "version_minor": 0
      },
      "text/plain": [
       "Dropdown(description='Min Departure Minute:', index=13, options=(1, 2, 3, 4, 5, 6, 7, 8, 9, 10, 11, 12, 13, 14…"
      ]
     },
     "metadata": {},
     "output_type": "display_data"
    },
    {
     "data": {
      "application/vnd.jupyter.widget-view+json": {
       "model_id": "af1572febef64441a058b0c550a19611",
       "version_major": 2,
       "version_minor": 0
      },
      "text/plain": [
       "Dropdown(description='Max Arrival Hour:', index=4, options=(9, 10, 11, 12, 13, 14, 15, 16, 17), style=Descript…"
      ]
     },
     "metadata": {},
     "output_type": "display_data"
    },
    {
     "data": {
      "application/vnd.jupyter.widget-view+json": {
       "model_id": "7c6ed55731bf47ef9eb24abc23654673",
       "version_major": 2,
       "version_minor": 0
      },
      "text/plain": [
       "Dropdown(description='Max Arrival Minute:', index=13, options=(1, 2, 3, 4, 5, 6, 7, 8, 9, 10, 11, 12, 13, 14, …"
      ]
     },
     "metadata": {},
     "output_type": "display_data"
    },
    {
     "data": {
      "application/vnd.jupyter.widget-view+json": {
       "model_id": "e7c9b7f3a6ac41bcbce94841e0341b2d",
       "version_major": 2,
       "version_minor": 0
      },
      "text/plain": [
       "Dropdown(description='Departure Station:', options=('Aathal', 'Adlikon b. R., Dorf', 'Adlikon b. R., Leematten…"
      ]
     },
     "metadata": {},
     "output_type": "display_data"
    },
    {
     "data": {
      "application/vnd.jupyter.widget-view+json": {
       "model_id": "18ccc683c9d040e9af90b8c339d613a7",
       "version_major": 2,
       "version_minor": 0
      },
      "text/plain": [
       "Dropdown(description='Arrival Station:', options=('Aathal', 'Adlikon b. R., Dorf', 'Adlikon b. R., Leematten',…"
      ]
     },
     "metadata": {},
     "output_type": "display_data"
    },
    {
     "data": {
      "application/vnd.jupyter.widget-view+json": {
       "model_id": "b9ead3f7de334f5da22568fa1ab4338d",
       "version_major": 2,
       "version_minor": 0
      },
      "text/plain": [
       "FloatSlider(value=0.0, continuous_update=False, description='Confidence Interval', max=1.0, step=0.01, style=S…"
      ]
     },
     "metadata": {},
     "output_type": "display_data"
    },
    {
     "data": {
      "application/vnd.jupyter.widget-view+json": {
       "model_id": "fedc2a1954a644af8b5ee394bebc04f3",
       "version_major": 2,
       "version_minor": 0
      },
      "text/plain": [
       "IntText(value=10, description='Max. number of changes:')"
      ]
     },
     "metadata": {},
     "output_type": "display_data"
    },
    {
     "data": {
      "application/vnd.jupyter.widget-view+json": {
       "model_id": "e9dd24e05df7440f8668018a12f9c680",
       "version_major": 2,
       "version_minor": 0
      },
      "text/plain": [
       "Dropdown(description='Max n. of journeys to display:', index=4, options=(1, 2, 3, 4, 5, 6, 7, 8, 9, 10), style…"
      ]
     },
     "metadata": {},
     "output_type": "display_data"
    },
    {
     "data": {
      "application/vnd.jupyter.widget-view+json": {
       "model_id": "4e9636184c3947cd88fc232497f5fbfe",
       "version_major": 2,
       "version_minor": 0
      },
      "text/plain": [
       "Button(description='Find the best route!', icon='check', layout=Layout(height='40px', width='auto'), style=But…"
      ]
     },
     "metadata": {},
     "output_type": "display_data"
    },
    {
     "data": {
      "application/vnd.jupyter.widget-view+json": {
       "model_id": "a672109a71224ca887af76d7b8577300",
       "version_major": 2,
       "version_minor": 0
      },
      "text/plain": [
       "Output()"
      ]
     },
     "metadata": {},
     "output_type": "display_data"
    }
   ],
   "source": [
    "import datetime\n",
    "display(datetime_picker, min_departure_time_hour,min_departure_time_minute, max_arrival_time_hour, max_arrival_time_minute , departure_station, arrival_station, confidence_level, max_changes, show_k_journeys, button, out)"
   ]
  },
  {
   "cell_type": "code",
   "execution_count": null,
   "id": "6450895e-68ab-4cf2-911a-8c312f5aa3b2",
   "metadata": {},
   "outputs": [],
   "source": []
  }
 ],
 "metadata": {
  "kernelspec": {
   "display_name": "Python 3",
   "language": "python",
   "name": "python3"
  },
  "language_info": {
   "codemirror_mode": {
    "name": "ipython",
    "version": 3
   },
   "file_extension": ".py",
   "mimetype": "text/x-python",
   "name": "python",
   "nbconvert_exporter": "python",
   "pygments_lexer": "ipython3",
   "version": "3.9.7"
  }
 },
 "nbformat": 4,
 "nbformat_minor": 5
}
