{
 "cells": [
  {
   "cell_type": "code",
   "execution_count": 124,
   "id": "c88b5b8c-ae57-4214-a4df-9e8e3247186d",
   "metadata": {},
   "outputs": [
    {
     "name": "stdout",
     "output_type": "stream",
     "text": [
      "The autoreload extension is already loaded. To reload it, use:\n",
      "  %reload_ext autoreload\n"
     ]
    }
   ],
   "source": [
    "%load_ext autoreload\n",
    "%autoreload 2"
   ]
  },
  {
   "cell_type": "code",
   "execution_count": 125,
   "id": "2f8bb612-328f-4fe4-9cb2-e9628a9c4c75",
   "metadata": {},
   "outputs": [],
   "source": [
    "from planner import JourneyPlanner\n",
    "from collections import defaultdict\n",
    "import pickle"
   ]
  },
  {
   "cell_type": "markdown",
   "id": "9b838113-88e4-42cf-b6bd-87e7fd722456",
   "metadata": {},
   "source": [
    "# Loading timetable"
   ]
  },
  {
   "cell_type": "code",
   "execution_count": 87,
   "id": "0cba7cb7-6317-4bab-80bd-e2600dc2d296",
   "metadata": {
    "tags": []
   },
   "outputs": [],
   "source": [
    "with open('../data/footpath.pickle', 'rb') as f:\n",
    "    footpaths = pickle.load(f)"
   ]
  },
  {
   "cell_type": "code",
   "execution_count": 88,
   "id": "762c39df-f5b3-4066-bec1-64cbde6e68fb",
   "metadata": {},
   "outputs": [],
   "source": [
    "with open('../data/trips.pickle', 'rb') as f:\n",
    "    trips = pickle.load(f)"
   ]
  },
  {
   "cell_type": "code",
   "execution_count": 89,
   "id": "78df5ff7-fcb5-4ae8-825a-615df6c2d353",
   "metadata": {},
   "outputs": [],
   "source": [
    "with open('../data/stops.pickle', 'rb') as f:\n",
    "    stops = pickle.load(f)"
   ]
  },
  {
   "cell_type": "code",
   "execution_count": 90,
   "id": "ec8a282b-d605-4b1c-a32c-858ee17ebfa0",
   "metadata": {},
   "outputs": [],
   "source": [
    "with open('../data/connections_data.pickle', 'rb') as f:\n",
    "    connections = pickle.load(f)"
   ]
  },
  {
   "cell_type": "code",
   "execution_count": 722,
   "id": "84577c49-8a44-4e50-946e-30b0222a6bfe",
   "metadata": {},
   "outputs": [],
   "source": [
    "paper_conn = [[\n",
    "    (\"y\", \"t\", 100000, 110000, \"1\"),\n",
    "    (\"z\", \"t\", 90000, 120000, \"2\"),\n",
    "    (\"x\", \"t\", 80000, 130000, \"3\"),\n",
    "    (\"x\", \"y\", 80000, 90000, \"4\"),\n",
    "    (\"s\", \"z\", 70000, 80000, \"5\"),\n",
    "    (\"s\", \"x\", 60000, 70000, \"6\"),\n",
    "    (\"s\", \"t\", 50000, 140000, \"7\")\n",
    "]]\n",
    "timetable = (None, paper_conn, None, defaultdict(lambda: list()))"
   ]
  },
  {
   "cell_type": "code",
   "execution_count": 91,
   "id": "3a64b606-ed90-43c9-8310-918a2faf45bc",
   "metadata": {},
   "outputs": [],
   "source": [
    "timetable = stops, connections, trips, footpaths"
   ]
  },
  {
   "cell_type": "markdown",
   "id": "f5ef3a62-82ae-43d7-a1f5-1d3c7b774dab",
   "metadata": {},
   "source": [
    "# Plan a route"
   ]
  },
  {
   "cell_type": "code",
   "execution_count": 4,
   "id": "7964fefd-51ec-4b99-ad55-aa12e48326ac",
   "metadata": {
    "tags": []
   },
   "outputs": [
    {
     "ename": "NameError",
     "evalue": "name 'JourneyPlanner' is not defined",
     "output_type": "error",
     "traceback": [
      "\u001b[0;31m---------------------------------------------------------------------------\u001b[0m",
      "\u001b[0;31mNameError\u001b[0m                                 Traceback (most recent call last)",
      "\u001b[0;32m<ipython-input-4-b53ba5ab0c02>\u001b[0m in \u001b[0;36m<module>\u001b[0;34m\u001b[0m\n\u001b[0;32m----> 1\u001b[0;31m \u001b[0mplanner\u001b[0m \u001b[0;34m=\u001b[0m \u001b[0mJourneyPlanner\u001b[0m\u001b[0;34m(\u001b[0m\u001b[0mtimetable\u001b[0m\u001b[0;34m)\u001b[0m\u001b[0;34m\u001b[0m\u001b[0;34m\u001b[0m\u001b[0m\n\u001b[0m\u001b[1;32m      2\u001b[0m \u001b[0;34m\u001b[0m\u001b[0m\n\u001b[1;32m      3\u001b[0m \u001b[0mjourneys\u001b[0m \u001b[0;34m=\u001b[0m \u001b[0mplanner\u001b[0m\u001b[0;34m.\u001b[0m\u001b[0mplan_route\u001b[0m\u001b[0;34m(\u001b[0m\u001b[0;36m2\u001b[0m\u001b[0;34m,\u001b[0m \u001b[0;34m\"8503315:0:2\"\u001b[0m\u001b[0;34m,\u001b[0m \u001b[0;34m\"8503380\"\u001b[0m\u001b[0;34m,\u001b[0m \u001b[0;36m1653491740\u001b[0m\u001b[0;34m,\u001b[0m \u001b[0;36m1653501740\u001b[0m\u001b[0;34m,\u001b[0m \u001b[0mmax_changes\u001b[0m \u001b[0;34m=\u001b[0m \u001b[0;36m10\u001b[0m\u001b[0;34m)\u001b[0m\u001b[0;34m\u001b[0m\u001b[0;34m\u001b[0m\u001b[0m\n",
      "\u001b[0;31mNameError\u001b[0m: name 'JourneyPlanner' is not defined"
     ]
    }
   ],
   "source": [
    "planner = JourneyPlanner(timetable)\n",
    "\n",
    "journeys = planner.plan_route(2, \"8503315:0:2\", \"8503380\", 1653491740, 1653501740, max_changes = 10)"
   ]
  },
  {
   "cell_type": "code",
   "execution_count": 3,
   "id": "a4e5645b-a7a7-427a-9ab9-df393ccdc28f",
   "metadata": {},
   "outputs": [
    {
     "ename": "NameError",
     "evalue": "name 'journeys' is not defined",
     "output_type": "error",
     "traceback": [
      "\u001b[0;31m---------------------------------------------------------------------------\u001b[0m",
      "\u001b[0;31mNameError\u001b[0m                                 Traceback (most recent call last)",
      "\u001b[0;32m<ipython-input-3-cf148e8bc0cc>\u001b[0m in \u001b[0;36m<module>\u001b[0;34m\u001b[0m\n\u001b[0;32m----> 1\u001b[0;31m \u001b[0mlen\u001b[0m\u001b[0;34m(\u001b[0m\u001b[0mjourneys\u001b[0m\u001b[0;34m)\u001b[0m\u001b[0;34m\u001b[0m\u001b[0;34m\u001b[0m\u001b[0m\n\u001b[0m",
      "\u001b[0;31mNameError\u001b[0m: name 'journeys' is not defined"
     ]
    }
   ],
   "source": [
    "len(journeys)"
   ]
  },
  {
   "cell_type": "code",
   "execution_count": 106,
   "id": "7623a931-bd00-461e-92b1-93a04baad36e",
   "metadata": {},
   "outputs": [],
   "source": [
    "def search_station_id(name):\n",
    "    for stop in stops:\n",
    "        if name in stops[stop]['stop_name']:\n",
    "            print(stop)"
   ]
  },
  {
   "cell_type": "code",
   "execution_count": 107,
   "id": "40237267-94c3-4f62-a4f8-f3f4297e2f35",
   "metadata": {},
   "outputs": [
    {
     "name": "stdout",
     "output_type": "stream",
     "text": [
      "8575942\n"
     ]
    }
   ],
   "source": [
    "search_station_id(\"Winterberg ZH, Wältiwis\")"
   ]
  },
  {
   "cell_type": "code",
   "execution_count": 67,
   "id": "7d521bd1-f8a3-49b3-8f88-c69c32daa9e4",
   "metadata": {},
   "outputs": [
    {
     "data": {
      "text/plain": [
       "{'stop_name': 'Winterberg ZH, Dorf',\n",
       " 'stop_lat': '47.4564062782486',\n",
       " 'stop_lon': '8.69305988770458',\n",
       " 'parent_station': ''}"
      ]
     },
     "execution_count": 67,
     "metadata": {},
     "output_type": "execute_result"
    }
   ],
   "source": [
    "stops['8503380']"
   ]
  },
  {
   "cell_type": "code",
   "execution_count": 62,
   "id": "052f7c64-1f6d-42c3-803e-20934b1c8cc8",
   "metadata": {},
   "outputs": [
    {
     "data": {
      "text/plain": [
       "{'stop_name': 'Winterberg ZH, Wältiwis',\n",
       " 'stop_lat': '47.4546690948399',\n",
       " 'stop_lon': '8.69626687326933',\n",
       " 'parent_station': ''}"
      ]
     },
     "execution_count": 62,
     "metadata": {},
     "output_type": "execute_result"
    }
   ],
   "source": [
    "stops['8575942']"
   ]
  }
 ],
 "metadata": {
  "kernelspec": {
   "display_name": "Python 3",
   "language": "python",
   "name": "python3"
  },
  "language_info": {
   "codemirror_mode": {
    "name": "ipython",
    "version": 3
   },
   "file_extension": ".py",
   "mimetype": "text/x-python",
   "name": "python",
   "nbconvert_exporter": "python",
   "pygments_lexer": "ipython3",
   "version": "3.9.7"
  }
 },
 "nbformat": 4,
 "nbformat_minor": 5
}
