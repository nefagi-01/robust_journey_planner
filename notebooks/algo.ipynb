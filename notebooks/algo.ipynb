{
 "cells": [
  {
   "cell_type": "code",
   "execution_count": 1,
   "id": "c88b5b8c-ae57-4214-a4df-9e8e3247186d",
   "metadata": {},
   "outputs": [],
   "source": [
    "%load_ext autoreload\n",
    "%autoreload 2"
   ]
  },
  {
   "cell_type": "code",
   "execution_count": 4,
   "id": "2f8bb612-328f-4fe4-9cb2-e9628a9c4c75",
   "metadata": {},
   "outputs": [],
   "source": [
    "from planner import JourneyPlanner\n",
    "from collections import defaultdict"
   ]
  },
  {
   "cell_type": "code",
   "execution_count": 9,
   "id": "84577c49-8a44-4e50-946e-30b0222a6bfe",
   "metadata": {},
   "outputs": [],
   "source": [
    "paper_conn = [\n",
    "    (\"y\", \"t\", 100000, 110000, \"1\"),\n",
    "    (\"z\", \"t\", 90000, 120000, \"2\"),\n",
    "    (\"x\", \"t\", 80000, 130000, \"3\"),\n",
    "    (\"x\", \"y\", 80000, 90000, \"4\"),\n",
    "    (\"s\", \"z\", 70000, 80000, \"5\"),\n",
    "    (\"s\", \"x\", 60000, 70000, \"6\"),\n",
    "    (\"s\", \"t\", 50000, 140000, \"7\")\n",
    "]\n",
    "timetable = (None, paper_conn, None, defaultdict(lambda: list()))"
   ]
  },
  {
   "cell_type": "code",
   "execution_count": 10,
   "id": "7964fefd-51ec-4b99-ad55-aa12e48326ac",
   "metadata": {},
   "outputs": [
    {
     "name": "stdout",
     "output_type": "stream",
     "text": [
      "JOURNEY 0\n",
      "At 19:26:40, take the line 2 with arrival at time 09:20:00 in t\n",
      "JOURNEY 1\n",
      "At 16:40:00, take the line 6 with arrival at time 19:26:40 in x\n",
      "After reaching station x, change from line 6 to line 3 (estimated change time of 60 seconds)\n",
      "At 22:13:20, take the line 3 with arrival at time 12:06:40 in t\n",
      "JOURNEY 2\n",
      "At 16:40:00, take the line 6 with arrival at time 19:26:40 in x\n",
      "After reaching station x, change from line 6 to line 4 (estimated change time of 60 seconds)\n",
      "At 22:13:20, take the line 4 with arrival at time 01:00:00 in y\n",
      "After reaching station y, change from line 4 to line 1 (estimated change time of 60 seconds)\n",
      "At 03:46:40, take the line 1 with arrival at time 06:33:20 in t\n"
     ]
    }
   ],
   "source": [
    "planner = JourneyPlanner(timetable)\n",
    "\n",
    "planner.plan_route(\"s\", \"t\", 40000, 150000, max_connections=3, include_earliest_arrival=True)"
   ]
  },
  {
   "cell_type": "code",
   "execution_count": null,
   "id": "0ceba238-fd17-49ab-9c8c-22e6d7c99f59",
   "metadata": {},
   "outputs": [],
   "source": []
  }
 ],
 "metadata": {
  "kernelspec": {
   "display_name": "Python 3",
   "language": "python",
   "name": "python3"
  },
  "language_info": {
   "codemirror_mode": {
    "name": "ipython",
    "version": 3
   },
   "file_extension": ".py",
   "mimetype": "text/x-python",
   "name": "python",
   "nbconvert_exporter": "python",
   "pygments_lexer": "ipython3",
   "version": "3.9.7"
  }
 },
 "nbformat": 4,
 "nbformat_minor": 5
}
