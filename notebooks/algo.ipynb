{
 "cells": [
  {
   "cell_type": "code",
   "execution_count": 2,
   "id": "a7d33852-6853-469d-a416-bb07c4d46409",
   "metadata": {},
   "outputs": [],
   "source": [
    "from collections import defaultdict\n",
    "import numpy as np"
   ]
  },
  {
   "cell_type": "code",
   "execution_count": 73,
   "id": "59db7675-8821-4eb7-97c7-d14718cbc66d",
   "metadata": {},
   "outputs": [],
   "source": [
    "# CSA helpers\n",
    "\n",
    "def search_next_departure(stop_departures, time):\n",
    "    '''\n",
    "        Search the first departure after moment time in the same stop through binary search in the list of S[stop]\n",
    "    '''\n",
    "    start = 0\n",
    "    end = len(stop_departures) - 1\n",
    "\n",
    "    next_departure_index = -1\n",
    "    while start <= end:\n",
    "        mid = (start + end) // 2;\n",
    "\n",
    "        # Search in the right side\n",
    "        if (stop_departures[mid][0] < time):\n",
    "            start = mid + 1\n",
    "\n",
    "        # Search in the left side\n",
    "        else:\n",
    "            next_departure_index = mid\n",
    "            end = mid - 1\n",
    "     \n",
    "    \n",
    "    # Search is always successful because of the last np.inf departure\n",
    "    next_departure_time = stop_departures[next_departure_index][0]\n",
    "    next_departure_pair = stop_departures[next_departure_index]\n",
    "        \n",
    "    return next_departure_index, next_departure_pair, next_departure_time\n",
    "\n",
    "def shift(vector):\n",
    "    # TODO: include max for earliest arrival\n",
    "    new_vector = vector.copy()\n",
    "    new_vector[1:] = vector[:-1]\n",
    "    new_vector[0] = np.inf\n",
    "    return new_vector\n",
    "\n",
    "def minimize(vector1, vector2):\n",
    "    return np.minimum(vector1, vector2)\n",
    "    "
   ]
  },
  {
   "cell_type": "code",
   "execution_count": 95,
   "id": "776e5efc-9798-401f-b95c-e46a9157fb20",
   "metadata": {},
   "outputs": [],
   "source": [
    "def CSA(timetable, source_stop, target_stop, min_departure_time, max_arrival_time, max_connections):\n",
    "    '''\n",
    "        Implementation of Pareto Connection Scan profile algorithm with interstop footpaths (https://arxiv.org/pdf/1703.05997.pdf)\n",
    "    '''\n",
    "    # timetable\n",
    "    stops, connections, trips, footpaths = timetable\n",
    "    S = defaultdict(lambda: [(np.inf, np.ones(max_connections) * np.inf)]) # entries of the type       stop: [(departure_time, [arrival_time_with_1_connection, ..., arrival_time_with_max_connections])]\n",
    "    T = defaultdict(lambda: np.ones(max_connections) * np.inf)\n",
    "    \n",
    "    for connection in connections:\n",
    "        c_dep_stop, c_arr_stop, c_dep_time, c_arr_time, c_trip = connection\n",
    "        \n",
    "        # PHASE 1: FIND tau_c (arrival times given this connection)\n",
    "        \n",
    "        # Arrival times by walk from c_arr_stop \n",
    "        # TODO (right now it is just a place-holder)\n",
    "        tau_1 = np.ones(max_connections) * c_arr_time if c_arr_stop == target_stop else np.inf\n",
    "        \n",
    "        # Arrival times by continuing on the same trip\n",
    "        tau_2 = T[c_trip]\n",
    "        \n",
    "        # Arrival times by moving to another trip\n",
    "        # TODO add walk time\n",
    "        tau_3 = search_next_departure(S[c_arr_stop], c_arr_time)[1][1]\n",
    "        tau_3 = shift(tau_3)\n",
    "        \n",
    "        # Find minimum per number of changes between tau_1, tau_2 and tau_3\n",
    "        tau_c = minimize(minimize(tau_1, tau_2), tau_3)\n",
    "        \n",
    "        # PHASE 2: UPDATE S\n",
    "        \n",
    "        # arrivals of earliest departure after c_dep_time from stop c_dep_stop\n",
    "        next_departure_index, next_departure_pair, _ = search_next_departure(S[c_dep_stop], c_dep_time)\n",
    "        y = next_departure_pair[1]\n",
    "        new_min_arrivals = minimize(y, tau_c)\n",
    "        if not np.array_equal(y, new_min_arrivals):\n",
    "            # add another pair before the next one\n",
    "            S[c_dep_stop].insert(next_departure_index, (c_dep_time, new_min_arrivals))\n",
    "        \n",
    "        # PHASE 2: UPDATE T\n",
    "        \n",
    "        T[c_trip] = tau_c\n",
    "        \n",
    "    return S[source_stop]"
   ]
  },
  {
   "cell_type": "code",
   "execution_count": 96,
   "id": "f65a433d-5001-4187-a1f3-269d0899a768",
   "metadata": {},
   "outputs": [
    {
     "data": {
      "text/plain": [
       "[(5, array([14., 12., 11.])),\n",
       " (6, array([inf, 12., 11.])),\n",
       " (7, array([inf, 12., 12.])),\n",
       " (inf, array([inf, inf, inf]))]"
      ]
     },
     "execution_count": 96,
     "metadata": {},
     "output_type": "execute_result"
    }
   ],
   "source": [
    "paper_conn = [\n",
    "    (\"y\", \"t\", 10, 11, \"1\"),\n",
    "    (\"z\", \"t\", 9, 12, \"2\"),\n",
    "    (\"x\", \"t\", 8, 13, \"3\"),\n",
    "    (\"x\", \"y\", 8, 9, \"4\"),\n",
    "    (\"s\", \"z\", 7, 8, \"5\"),\n",
    "    (\"s\", \"x\", 6, 7, \"6\"),\n",
    "    (\"s\", \"t\", 5, 14, \"7\")\n",
    "]\n",
    "paper_timetable = (None, paper_conn, None, None)\n",
    "\n",
    "CSA(paper_timetable, \"s\", \"t\", 4, 15, 3)"
   ]
  },
  {
   "cell_type": "code",
   "execution_count": null,
   "id": "fb0247e5-f0c1-4dd0-bc9d-5090a6f85489",
   "metadata": {},
   "outputs": [],
   "source": []
  }
 ],
 "metadata": {
  "kernelspec": {
   "display_name": "Python 3",
   "language": "python",
   "name": "python3"
  },
  "language_info": {
   "codemirror_mode": {
    "name": "ipython",
    "version": 3
   },
   "file_extension": ".py",
   "mimetype": "text/x-python",
   "name": "python",
   "nbconvert_exporter": "python",
   "pygments_lexer": "ipython3",
   "version": "3.9.7"
  }
 },
 "nbformat": 4,
 "nbformat_minor": 5
}
