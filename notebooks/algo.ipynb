{
 "cells": [
  {
   "cell_type": "code",
   "execution_count": 36,
   "id": "c88b5b8c-ae57-4214-a4df-9e8e3247186d",
   "metadata": {},
   "outputs": [
    {
     "name": "stdout",
     "output_type": "stream",
     "text": [
      "The autoreload extension is already loaded. To reload it, use:\n",
      "  %reload_ext autoreload\n"
     ]
    }
   ],
   "source": [
    "%load_ext autoreload\n",
    "%autoreload 2"
   ]
  },
  {
   "cell_type": "code",
   "execution_count": 37,
   "id": "2f8bb612-328f-4fe4-9cb2-e9628a9c4c75",
   "metadata": {},
   "outputs": [],
   "source": [
    "from planner import JourneyPlanner\n",
    "from collections import defaultdict\n",
    "import pickle"
   ]
  },
  {
   "cell_type": "markdown",
   "id": "9b838113-88e4-42cf-b6bd-87e7fd722456",
   "metadata": {},
   "source": [
    "# Loading timetable"
   ]
  },
  {
   "cell_type": "code",
   "execution_count": 38,
   "id": "0cba7cb7-6317-4bab-80bd-e2600dc2d296",
   "metadata": {
    "tags": []
   },
   "outputs": [],
   "source": [
    "with open('../data/footpath.pickle', 'rb') as f:\n",
    "    footpaths = pickle.load(f)"
   ]
  },
  {
   "cell_type": "code",
   "execution_count": 39,
   "id": "762c39df-f5b3-4066-bec1-64cbde6e68fb",
   "metadata": {},
   "outputs": [],
   "source": [
    "with open('../data/trips.pickle', 'rb') as f:\n",
    "    trips = pickle.load(f)"
   ]
  },
  {
   "cell_type": "code",
   "execution_count": 40,
   "id": "78df5ff7-fcb5-4ae8-825a-615df6c2d353",
   "metadata": {},
   "outputs": [],
   "source": [
    "with open('../data/stops.pickle', 'rb') as f:\n",
    "    stops = pickle.load(f)"
   ]
  },
  {
   "cell_type": "code",
   "execution_count": 41,
   "id": "ec8a282b-d605-4b1c-a32c-858ee17ebfa0",
   "metadata": {},
   "outputs": [],
   "source": [
    "with open('../data/connections_data.pickle', 'rb') as f:\n",
    "    connections = pickle.load(f)"
   ]
  },
  {
   "cell_type": "code",
   "execution_count": 42,
   "id": "84577c49-8a44-4e50-946e-30b0222a6bfe",
   "metadata": {},
   "outputs": [],
   "source": [
    "paper_conn = [[\n",
    "    (\"y\", \"t\", 100000, 110000, \"1\"),\n",
    "    (\"z\", \"t\", 90000, 120000, \"2\"),\n",
    "    (\"x\", \"t\", 80000, 130000, \"3\"),\n",
    "    (\"x\", \"y\", 80000, 90000, \"4\"),\n",
    "    (\"s\", \"z\", 70000, 80000, \"5\"),\n",
    "    (\"s\", \"x\", 60000, 70000, \"6\"),\n",
    "    (\"s\", \"t\", 50000, 140000, \"7\")\n",
    "]]\n",
    "timetable = (None, paper_conn, None, defaultdict(lambda: list()))"
   ]
  },
  {
   "cell_type": "code",
   "execution_count": 43,
   "id": "3a64b606-ed90-43c9-8310-918a2faf45bc",
   "metadata": {},
   "outputs": [],
   "source": [
    "timetable = stops, connections, trips, footpaths"
   ]
  },
  {
   "cell_type": "markdown",
   "id": "f5ef3a62-82ae-43d7-a1f5-1d3c7b774dab",
   "metadata": {},
   "source": [
    "# Plan a route"
   ]
  },
  {
   "cell_type": "code",
   "execution_count": 47,
   "id": "7964fefd-51ec-4b99-ad55-aa12e48326ac",
   "metadata": {
    "tags": []
   },
   "outputs": [
    {
     "name": "stdout",
     "output_type": "stream",
     "text": [
      "Starting execution of CSA...\n",
      "Starting extraction of paths... found 6205 paths.\n",
      "Starting processing of paths... processed 6205 journeys.\n",
      "Starting sorting of paths...\n"
     ]
    }
   ],
   "source": [
    "planner = JourneyPlanner(timetable)\n",
    "\n",
    "journeys = planner.plan_route(2, \"8591435\", \"8503000:0:15\", 1653485400, 1653489200, max_changes = 5, verbose=True)"
   ]
  },
  {
   "cell_type": "code",
   "execution_count": null,
   "id": "b3203328-b224-4f45-baa7-045db8f2eaed",
   "metadata": {},
   "outputs": [],
   "source": [
    "for i, journey in enumerate(journeys):\n",
    "    print(f\"JOURNEY {i + 1}\")\n",
    "    print(str(journey))"
   ]
  },
  {
   "cell_type": "code",
   "execution_count": 13,
   "id": "7623a931-bd00-461e-92b1-93a04baad36e",
   "metadata": {},
   "outputs": [],
   "source": [
    "def search_station_id(name):\n",
    "    for stop in stops:\n",
    "        if name in stops[stop]['stop_name']:\n",
    "            print(stop)"
   ]
  },
  {
   "cell_type": "code",
   "execution_count": 18,
   "id": "40237267-94c3-4f62-a4f8-f3f4297e2f35",
   "metadata": {},
   "outputs": [
    {
     "name": "stdout",
     "output_type": "stream",
     "text": [
      "8503000:0:10\n",
      "8503000:0:11\n",
      "8503000:0:12\n",
      "8503000:0:13\n",
      "8503000:0:14\n",
      "8503000:0:15\n",
      "8503000:0:16\n",
      "8503000:0:17\n",
      "8503000:0:18\n",
      "8503000:0:3\n",
      "8503000:0:31\n",
      "8503000:0:32\n",
      "8503000:0:33\n",
      "8503000:0:34\n",
      "8503000:0:4\n",
      "8503000:0:41/42\n",
      "8503000:0:43/44\n",
      "8503000:0:5\n",
      "8503000:0:6\n",
      "8503000:0:7\n",
      "8503000:0:8\n",
      "8503000:0:9\n",
      "8503088:0:21\n",
      "8503088:0:22\n"
     ]
    }
   ],
   "source": [
    "search_station_id(\"rich HB\")"
   ]
  },
  {
   "cell_type": "code",
   "execution_count": 16,
   "id": "7d521bd1-f8a3-49b3-8f88-c69c32daa9e4",
   "metadata": {},
   "outputs": [
    {
     "data": {
      "text/plain": [
       "{'stop_name': 'Zürich, Winzerstrasse Süd',\n",
       " 'stop_lat': '47.403372044054',\n",
       " 'stop_lon': '8.486123978826',\n",
       " 'parent_station': ''}"
      ]
     },
     "execution_count": 16,
     "metadata": {},
     "output_type": "execute_result"
    }
   ],
   "source": [
    "stops['8591436']"
   ]
  },
  {
   "cell_type": "code",
   "execution_count": 62,
   "id": "052f7c64-1f6d-42c3-803e-20934b1c8cc8",
   "metadata": {},
   "outputs": [
    {
     "data": {
      "text/plain": [
       "{'stop_name': 'Winterberg ZH, Wältiwis',\n",
       " 'stop_lat': '47.4546690948399',\n",
       " 'stop_lon': '8.69626687326933',\n",
       " 'parent_station': ''}"
      ]
     },
     "execution_count": 62,
     "metadata": {},
     "output_type": "execute_result"
    }
   ],
   "source": [
    "stops['8575942']"
   ]
  }
 ],
 "metadata": {
  "kernelspec": {
   "display_name": "Python 3",
   "language": "python",
   "name": "python3"
  },
  "language_info": {
   "codemirror_mode": {
    "name": "ipython",
    "version": 3
   },
   "file_extension": ".py",
   "mimetype": "text/x-python",
   "name": "python",
   "nbconvert_exporter": "python",
   "pygments_lexer": "ipython3",
   "version": "3.9.7"
  }
 },
 "nbformat": 4,
 "nbformat_minor": 5
}
