{
 "cells": [
  {
   "cell_type": "markdown",
   "id": "83980832-9ea0-47d1-9139-3df66ab28d46",
   "metadata": {},
   "source": [
    "# Sanity check"
   ]
  },
  {
   "cell_type": "code",
   "execution_count": 1,
   "id": "ceb38549-0996-481b-b98e-a7b854cb56bd",
   "metadata": {},
   "outputs": [
    {
     "name": "stdout",
     "output_type": "stream",
     "text": [
      "ceraolo\n"
     ]
    }
   ],
   "source": [
    "echo ${RENKU_USERNAME}"
   ]
  },
  {
   "cell_type": "code",
   "execution_count": 2,
   "id": "bacbd454-4728-43a7-a663-2b9acdf8172f",
   "metadata": {},
   "outputs": [
    {
     "name": "stdout",
     "output_type": "stream",
     "text": [
      "Found 6 items\n",
      "drwxrwxrwx   - hdfs hdfs          0 2022-05-16 22:27 /data/sbb/csv/stop_times/2019/05/01\n",
      "drwxrwxrwx   - hdfs hdfs          0 2022-05-16 22:28 /data/sbb/csv/stop_times/2019/05/02\n",
      "drwxrwxrwx   - hdfs hdfs          0 2022-05-16 22:28 /data/sbb/csv/stop_times/2019/05/08\n",
      "drwxrwxrwx   - hdfs hdfs          0 2022-05-16 21:45 /data/sbb/csv/stop_times/2019/05/15\n",
      "drwxrwxrwx   - hdfs hdfs          0 2022-05-16 21:45 /data/sbb/csv/stop_times/2019/05/22\n",
      "drwxrwxrwx   - hdfs hdfs          0 2022-05-16 21:45 /data/sbb/csv/stop_times/2019/05/29\n"
     ]
    }
   ],
   "source": [
    "hdfs dfs -ls /data/sbb/csv/stop_times/2019/05/"
   ]
  },
  {
   "cell_type": "code",
   "execution_count": 16,
   "id": "db652271-af9c-48cb-bcab-c4aa8ae0b6d2",
   "metadata": {},
   "outputs": [
    {
     "name": "stdout",
     "output_type": "stream",
     "text": [
      "Found 7 items\n",
      "drwxr-xr-x+  - eric hadoop          0 2022-05-24 16:15 /group/five-guys/conn_table\n",
      "drwxrwxr-x+  - eric hadoop          0 2022-05-24 15:28 /group/five-guys/fridaycsv\n",
      "drwxrwxr-x+  - hive hadoop          0 2022-05-24 14:45 /group/five-guys/hive\n",
      "drwxrwxr-x+  - eric hadoop          0 2022-05-24 14:40 /group/five-guys/mondaycsv\n",
      "drwxrwxr-x+  - eric hadoop          0 2022-05-24 15:27 /group/five-guys/thursdaycsv\n",
      "drwxrwxr-x+  - eric hadoop          0 2022-05-24 15:23 /group/five-guys/tuesdaycsv\n",
      "drwxrwxr-x+  - eric hadoop          0 2022-05-24 15:26 /group/five-guys/wednesdaycsv\n"
     ]
    }
   ],
   "source": [
    "hdfs dfs -ls /group/five-guys/"
   ]
  },
  {
   "cell_type": "code",
   "execution_count": null,
   "id": "64fa4207-cbb0-445a-9023-f161dc97d6cd",
   "metadata": {},
   "outputs": [],
   "source": []
  },
  {
   "cell_type": "markdown",
   "id": "de2e6fff-3e1a-4eed-8615-68ff2526a153",
   "metadata": {},
   "source": [
    "# Data description\n",
    "We provide a summary description of the files below. The most relevant files are marked by (+):\n",
    "\n",
    "**Note:** PK=Primary Key (unique), FK=Foreign Key (refers to a Primary Key in another table)"
   ]
  },
  {
   "cell_type": "markdown",
   "id": "0c7f494f-475a-4f47-874c-01b395bcb6b0",
   "metadata": {},
   "source": [
    "#### Stops locations"
   ]
  },
  {
   "cell_type": "markdown",
   "id": "d9201cf1-2bc4-4424-8154-4d67b8cde8b1",
   "metadata": {},
   "source": [
    "* stops.txt(+):\n",
    "\n",
    "    - `STOP_ID`: unique identifier (PK) of the stop\n",
    "    - `STOP_NAME`: long name of the stop\n",
    "    - `STOP_LAT`: stop latitude (WGS84)\n",
    "    - `STOP_LON`: stop longitude\n",
    "    - `LOCATION_TYPE`:\n",
    "    - `PARENT_STATION`: if the stop is one of many collocated at a same location, such as platforms at a train station"
   ]
  },
  {
   "cell_type": "code",
   "execution_count": 3,
   "id": "fd73c544-60f6-486d-9c8e-925498f88efe",
   "metadata": {},
   "outputs": [
    {
     "name": "stdout",
     "output_type": "stream",
     "text": [
      "\"1100006\",\"Zell (Wiesental), Bahnhof\",\"47.7046317515335\",\"7.84777215468897\",\"\",\"\"\n",
      "\"1100008\",\"Zell (Wiesental), Wilder Mann\",\"47.7100842702352\",\"7.85964788274668\",\"\",\"\"\n",
      "\"1100009\",\"Zell (Wiesental), Grönland\",\"47.7131911044794\",\"7.86290876722849\",\"\",\"\"\n",
      "\"1100010\",\"Atzenbach\",\"47.7146175266411\",\"7.8723500608659\",\"\",\"\"\n",
      "\"1100011\",\"Mambach, Brücke\",\"47.7282088873189\",\"7.8774704579861\",\"\",\"\"\n",
      "\"1100012\",\"Mambach, Mühlschau\",\"47.7340818684375\",\"7.8813871126254\",\"\",\"\"\n",
      "\"1100013\",\"Mambach, Silbersau\",\"47.7395192233867\",\"7.88223152899259\",\"\",\"\"\n",
      "\"1100014\",\"Fröhnd (Schwarzw), Wühre\",\"47.7543663509316\",\"7.88913059037559\",\"\",\"\"\n",
      "\"1100015\",\"Fröhnd (Schwarzw), Unterkastel\",\"47.7605926689054\",\"7.88553732923861\",\"\",\"\"\n",
      "\"1100016\",\"Wembach (Baden)\",\"47.7728317637339\",\"7.88772023537933\",\"\",\"\"\n",
      "cat: Unable to write to output stream.\n"
     ]
    }
   ],
   "source": [
    "hdfs dfs -cat /data/sbb/csv/allstops/stop_locations.csv | head"
   ]
  },
  {
   "cell_type": "code",
   "execution_count": 10,
   "id": "b930da15-33a1-4414-97dd-2873f98a22ad",
   "metadata": {},
   "outputs": [
    {
     "name": "stdout",
     "output_type": "stream",
     "text": [
      "cat: `/data/sbb/csv/allstops/stops.txt': No such file or directory\n"
     ]
    }
   ],
   "source": [
    "hdfs dfs -cat /data/sbb/csv/allstops/stops.txt | head"
   ]
  },
  {
   "cell_type": "markdown",
   "id": "b1acd788-9483-4b89-b506-be697a222e09",
   "metadata": {},
   "source": [
    "#### Stop Times"
   ]
  },
  {
   "cell_type": "markdown",
   "id": "f4933979-f2ca-4e1a-b31e-55757c8e835b",
   "metadata": {},
   "source": [
    "* stop_times.txt(+):\n",
    "\n",
    "    - `TRIP_ID`: identifier (FK) of the trip, unique for the day - e.g. _1.TA.1-100-j19-1.1.H_\n",
    "    - `ARRIVAL_TIME`: scheduled (local) time of arrival at the stop (same as DEPARTURE_TIME if this is the start of the journey)\n",
    "    - `DEPARTURE_TIME`: scheduled (local) time of departure at the stop \n",
    "    - `STOP_ID`: stop (station) identifier (FK), from stops.txt\n",
    "    - `STOP_SEQUENCE`: sequence number of the stop on this trip id, starting at 1.\n",
    "    - `PICKUP_TYPE`:\n",
    "    - `DROP_OFF_TYPE`:"
   ]
  },
  {
   "cell_type": "code",
   "execution_count": 4,
   "id": "4eb6da06-b97b-4447-81ab-2cfca61e4b3d",
   "metadata": {},
   "outputs": [
    {
     "name": "stdout",
     "output_type": "stream",
     "text": [
      "﻿trip_id,arrival_time,departure_time,stop_id,stop_sequence,pickup_type,drop_off_type\n",
      "\"1.TA.1-88-j18-1.1.R\",\"05:45:00\",\"05:45:00\",\"8572313\",\"1\",\"0\",\"0\"\n",
      "\"1.TA.1-88-j18-1.1.R\",\"05:46:00\",\"05:46:00\",\"8572258\",\"2\",\"0\",\"0\"\n",
      "\"1.TA.1-88-j18-1.1.R\",\"05:49:00\",\"05:49:00\",\"8580475\",\"3\",\"0\",\"0\"\n",
      "\"1.TA.1-88-j18-1.1.R\",\"05:49:00\",\"05:49:00\",\"8572256\",\"4\",\"0\",\"0\"\n",
      "\"1.TA.1-88-j18-1.1.R\",\"05:51:00\",\"05:51:00\",\"8582231\",\"5\",\"0\",\"0\"\n",
      "\"1.TA.1-88-j18-1.1.R\",\"05:51:00\",\"05:51:00\",\"8582230\",\"6\",\"0\",\"0\"\n",
      "\"2.TA.1-88-j18-1.2.R\",\"06:05:00\",\"06:05:00\",\"8582230\",\"1\",\"0\",\"0\"\n",
      "\"2.TA.1-88-j18-1.2.R\",\"06:05:00\",\"06:05:00\",\"8582231\",\"2\",\"0\",\"0\"\n",
      "\"2.TA.1-88-j18-1.2.R\",\"06:07:00\",\"06:07:00\",\"8582232\",\"3\",\"0\",\"0\"\n",
      "cat: Unable to write to output stream.\n"
     ]
    }
   ],
   "source": [
    "hdfs dfs -cat /data/sbb/csv/stop_times/2018/01/03/stop_times.txt | head"
   ]
  },
  {
   "cell_type": "markdown",
   "id": "112409eb-3ffa-4259-858c-f8c16f351e27",
   "metadata": {},
   "source": [
    "### Trips"
   ]
  },
  {
   "cell_type": "markdown",
   "id": "3ffe825d-0210-4c8f-bebf-5f3dff286e69",
   "metadata": {},
   "source": [
    "* trips.txt:\n",
    "\n",
    "    - `ROUTE_ID`: identifier (FK) for the route. A route is a sequence of stops. It is time independent.\n",
    "    - `SERVICE_ID`: identifier (FK) of a group of trips in the calendar, and for managing exceptions (e.g. holidays, etc).\n",
    "    - `TRIP_ID`: is one instance (PK) of a vehicle journey on a given route - the same route can have many trips at regular intervals; a trip may skip some of the route stops.\n",
    "    - `TRIP_HEADSIGN`: displayed to passengers, most of the time this is the (short) name of the last stop.\n",
    "    - `TRIP_SHORT_NAME`: internal identifier for the trip_headsign (note TRIP_HEADSIGN and TRIP_SHORT_NAME are only unique for an agency)\n",
    "    - `DIRECTION_ID`: if the route is bidirectional, this field indicates the direction of the trip on the route."
   ]
  },
  {
   "cell_type": "code",
   "execution_count": 5,
   "id": "1c833261-a9d6-4660-b4e0-504909fdabdf",
   "metadata": {},
   "outputs": [
    {
     "name": "stdout",
     "output_type": "stream",
     "text": [
      "﻿route_id,service_id,trip_id,trip_headsign,trip_short_name,direction_id\n",
      "\"1-9-j18-1\",\"TA+b0001\",\"4.TA.1-9-j18-1.3.H\",\"Lenzburg\",\"21916\",\"0\"\n",
      "\"1-ZB1-j18-1\",\"TA+b0001\",\"1.TA.1-ZB1-j18-1.1.R\",\"Bad Zurzach, Bahnhof\",\"101\",\"1\"\n",
      "\"1-ZB1-j18-1\",\"TA+b0001\",\"2.TA.1-ZB1-j18-1.1.R\",\"Bad Zurzach, Bahnhof\",\"103\",\"1\"\n",
      "\"1-ZB1-j18-1\",\"TA+b0001\",\"3.TA.1-ZB1-j18-1.1.R\",\"Bad Zurzach, Bahnhof\",\"105\",\"1\"\n",
      "\"1-ZB1-j18-1\",\"TA+b0001\",\"4.TA.1-ZB1-j18-1.1.R\",\"Bad Zurzach, Bahnhof\",\"107\",\"1\"\n",
      "\"1-ZB1-j18-1\",\"TA+b0001\",\"5.TA.1-ZB1-j18-1.1.R\",\"Bad Zurzach, Bahnhof\",\"109\",\"1\"\n",
      "\"1-ZB1-j18-1\",\"TA+b0001\",\"6.TA.1-ZB1-j18-1.1.R\",\"Bad Zurzach, Bahnhof\",\"111\",\"1\"\n",
      "\"1-ZB1-j18-1\",\"TA+b0001\",\"7.TA.1-ZB1-j18-1.1.R\",\"Bad Zurzach, Bahnhof\",\"113\",\"1\"\n",
      "\"1-ZB1-j18-1\",\"TA+b0001\",\"8.TA.1-ZB1-j18-1.1.R\",\"Bad Zurzach, Bahnhof\",\"115\",\"1\"\n",
      "cat: Unable to write to output stream.\n"
     ]
    }
   ],
   "source": [
    "hdfs dfs -cat /data/sbb/csv/trips/2018/01/03/trips.txt | head"
   ]
  },
  {
   "cell_type": "markdown",
   "id": "29a42bff-1145-48d4-9ad8-f3e06229bad8",
   "metadata": {
    "tags": []
   },
   "source": [
    "### Calendar"
   ]
  },
  {
   "cell_type": "markdown",
   "id": "a01d6fd0-390d-4400-9cc2-741512c79950",
   "metadata": {},
   "source": [
    "* calendar.txt:\n",
    "\n",
    "    - `SERVICE_ID`: identifier (PK) of a group of trips sharing a same calendar and calendar exception pattern.\n",
    "    - `MONDAY`..`SUNDAY`: 0 or 1 for each day of the week, indicating occurence of the service on that day.\n",
    "    - `START_DATE`: start date when weekly service id pattern is valid\n",
    "    - `END_DATE`: end date after which weekly service id pattern is no longer valid"
   ]
  },
  {
   "cell_type": "code",
   "execution_count": 6,
   "id": "318e39ff-b9ea-419c-be18-a6b91ccc9f0b",
   "metadata": {
    "tags": []
   },
   "outputs": [
    {
     "name": "stdout",
     "output_type": "stream",
     "text": [
      "﻿service_id,monday,tuesday,wednesday,thursday,friday,saturday,sunday,start_date,end_date\n",
      "\"TA+b0007\",\"1\",\"1\",\"1\",\"1\",\"1\",\"0\",\"0\",\"20171210\",\"20181208\"\n",
      "\"TA+b001s\",\"0\",\"0\",\"0\",\"0\",\"0\",\"0\",\"1\",\"20171210\",\"20181208\"\n",
      "\"TA+b001i\",\"0\",\"0\",\"0\",\"0\",\"0\",\"1\",\"0\",\"20171210\",\"20181208\"\n",
      "\"TA+b07b6\",\"0\",\"0\",\"0\",\"0\",\"0\",\"1\",\"1\",\"20171210\",\"20181208\"\n",
      "\"TA+b0ayl\",\"0\",\"0\",\"0\",\"0\",\"1\",\"0\",\"0\",\"20171210\",\"20181208\"\n",
      "\"TA+b0025\",\"1\",\"1\",\"1\",\"1\",\"1\",\"1\",\"0\",\"20171210\",\"20181208\"\n",
      "\"TA+b0d47\",\"1\",\"1\",\"1\",\"1\",\"1\",\"0\",\"0\",\"20171210\",\"20181208\"\n",
      "\"TA+b0015\",\"0\",\"0\",\"0\",\"0\",\"1\",\"1\",\"0\",\"20171210\",\"20181208\"\n",
      "\"TA+b006p\",\"0\",\"0\",\"0\",\"0\",\"0\",\"0\",\"1\",\"20171210\",\"20181208\"\n",
      "cat: Unable to write to output stream.\n"
     ]
    }
   ],
   "source": [
    "hdfs dfs -cat /data/sbb/csv/calendar/2018/01/03/calendar.txt | head"
   ]
  },
  {
   "cell_type": "markdown",
   "id": "fcc43538-50b4-4265-b881-d3b7924cb237",
   "metadata": {},
   "source": [
    "### Routes"
   ]
  },
  {
   "cell_type": "markdown",
   "id": "3438f2c1-8040-49ab-a709-3df659a33401",
   "metadata": {},
   "source": [
    "    \n",
    "* routes.txt:\n",
    "\n",
    "    - `ROUTE_ID`: identifier for the route (PK)\n",
    "    - `AGENCY_ID`: identifier of the operator (FK)\n",
    "    - `ROUTE_SHORT_NAME`: the short name of the route, usually a line number\n",
    "    - `ROUTE_LONG_NAME`: (empty)\n",
    "    - `ROUTE_DESC`: _Bus_, _Zub_, _Tram_, etc.\n",
    "    - `ROUTE_TYPE`:"
   ]
  },
  {
   "cell_type": "code",
   "execution_count": 7,
   "id": "2206b0a5-2192-47c0-9911-5a105128ab99",
   "metadata": {},
   "outputs": [
    {
     "name": "stdout",
     "output_type": "stream",
     "text": [
      "﻿route_id,agency_id,route_short_name,route_long_name,route_desc,route_type\n",
      "\"11-61-j18-1\",\"7031\",\"061\",\"\",\"Bus\",\"700\"\n",
      "\"11-62-j18-1\",\"7031\",\"062\",\"\",\"Bus\",\"700\"\n",
      "\"24-64-j18-1\",\"801\",\"064\",\"\",\"Bus\",\"700\"\n",
      "\"24-65-j18-1\",\"801\",\"065\",\"\",\"Bus\",\"700\"\n",
      "\"24-66-j18-1\",\"801\",\"066\",\"\",\"Bus\",\"700\"\n",
      "\"24-67-j18-1\",\"801\",\"067\",\"\",\"Bus\",\"700\"\n",
      "\"11-83-j18-1\",\"801\",\"083\",\"\",\"Bus\",\"700\"\n",
      "\"1-1-A-j18-1\",\"11\",\"1\",\"\",\"S-Bahn\",\"400\"\n",
      "\"1-1-B-j18-1\",\"11\",\"1\",\"\",\"S-Bahn\",\"400\"\n",
      "cat: Unable to write to output stream.\n"
     ]
    }
   ],
   "source": [
    "hdfs dfs -cat /data/sbb/csv/routes/2018/01/03/routes.txt | head"
   ]
  },
  {
   "cell_type": "markdown",
   "id": "f1cf9b93-4028-4a05-9521-2c3682f0a0a9",
   "metadata": {},
   "source": [
    "### Other"
   ]
  },
  {
   "cell_type": "markdown",
   "id": "75b09b37-0bf3-4f7e-8185-71e2ca57b97d",
   "metadata": {},
   "source": [
    "The other files are:\n",
    "\n",
    "* _calendar-dates.txt_ contains exceptions to the weekly patterns expressed in _calendar.txt_.\n",
    "* _agency.txt_ has the details of the operators\n",
    "* _transfers.txt_ contains the transfer times between stops or platforms."
   ]
  },
  {
   "cell_type": "code",
   "execution_count": 8,
   "id": "7e227372-f1e2-4e2b-97e0-30d2f86b671c",
   "metadata": {},
   "outputs": [
    {
     "name": "stdout",
     "output_type": "stream",
     "text": [
      "﻿from_stop_id,to_stop_id,transfer_type,min_transfer_time\n",
      "\"8500309:0:2\",\"8500309:0:4\",\"2\",\"180\"\n",
      "\"8500309:0:2\",\"8500309:0:5\",\"2\",\"180\"\n",
      "\"8500309:0:2\",\"8500309:0:3\",\"2\",\"180\"\n",
      "\"8500309:0:2\",\"8500309:0:1\",\"2\",\"180\"\n",
      "\"8500309:0:2\",\"8500309:0:5B\",\"2\",\"180\"\n",
      "\"8500305:0:3\",\"8500305:0:1\",\"2\",\"180\"\n",
      "\"8500305:0:3\",\"8500305:0:2\",\"2\",\"180\"\n",
      "\"8500304:0:1\",\"8500304:0:2\",\"2\",\"120\"\n",
      "\"8500320:0:4\",\"8500320:0:2\",\"2\",\"120\"\n",
      "cat: Unable to write to output stream.\n"
     ]
    }
   ],
   "source": [
    "hdfs dfs -cat /data/sbb/csv/transfers/2018/01/03/transfers.txt | head"
   ]
  },
  {
   "cell_type": "code",
   "execution_count": null,
   "id": "d002a9d1-37cf-49f0-af4f-87e8c4d2c2d9",
   "metadata": {},
   "outputs": [],
   "source": []
  }
 ],
 "metadata": {
  "kernelspec": {
   "display_name": "Bash",
   "language": "bash",
   "name": "bash"
  },
  "language_info": {
   "codemirror_mode": "shell",
   "file_extension": ".sh",
   "mimetype": "text/x-sh",
   "name": "bash"
  }
 },
 "nbformat": 4,
 "nbformat_minor": 5
}
