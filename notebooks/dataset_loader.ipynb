{
 "cells": [
  {
   "cell_type": "markdown",
   "id": "84900873-2e6a-42ce-a1f1-cf721552e731",
   "metadata": {},
   "source": [
    "# Data Wrangling"
   ]
  },
  {
   "cell_type": "markdown",
   "id": "c8183342-5992-4c0b-8923-07c457a7c72f",
   "metadata": {},
   "source": [
    "## Spark Loading"
   ]
  },
  {
   "cell_type": "code",
   "execution_count": 1,
   "id": "e314f4b1-05bd-4f35-89df-a302865c25d7",
   "metadata": {},
   "outputs": [],
   "source": [
    "%load_ext sparkmagic.magics"
   ]
  },
  {
   "cell_type": "code",
   "execution_count": 2,
   "id": "fabe5282-98a6-4d13-9b17-ae190021bf38",
   "metadata": {},
   "outputs": [],
   "source": [
    "import os\n",
    "from IPython import get_ipython\n",
    "username = os.environ['RENKU_USERNAME']\n",
    "server = \"http://iccluster029.iccluster.epfl.ch:8998\"\n",
    "\n",
    "# set the application name as \"<your_gaspar_id>-homework3\"\n",
    "get_ipython().run_cell_magic(\n",
    "    'spark',\n",
    "    line='config', \n",
    "    cell=\"\"\"{{ \"name\": \"{0}-homework3\", \"executorMemory\": \"4G\", \"executorCores\": 4, \"numExecutors\": 10, \"driverMemory\": \"4G\"}}\"\"\".format(username)\n",
    ")"
   ]
  },
  {
   "cell_type": "code",
   "execution_count": 3,
   "id": "7ba317bf-acb0-4bcc-b9dd-5bded845cb00",
   "metadata": {},
   "outputs": [
    {
     "name": "stdout",
     "output_type": "stream",
     "text": [
      "Starting Spark application\n"
     ]
    },
    {
     "data": {
      "text/html": [
       "<table>\n",
       "<tr><th>ID</th><th>YARN Application ID</th><th>Kind</th><th>State</th><th>Spark UI</th><th>Driver log</th><th>User</th><th>Current session?</th></tr><tr><td>5397</td><td>application_1649870447656_2016</td><td>pyspark</td><td>idle</td><td><a target=\"_blank\" href=\"http://iccluster029.iccluster.epfl.ch:8088/proxy/application_1649870447656_2016/\">Link</a></td><td><a target=\"_blank\" href=\"http://iccluster060.iccluster.epfl.ch:8042/node/containerlogs/container_e04_1649870447656_2016_01_000001/eric\">Link</a></td><td>None</td><td>✔</td></tr></table>"
      ],
      "text/plain": [
       "<IPython.core.display.HTML object>"
      ]
     },
     "metadata": {},
     "output_type": "display_data"
    },
    {
     "data": {
      "application/vnd.jupyter.widget-view+json": {
       "model_id": "",
       "version_major": 2,
       "version_minor": 0
      },
      "text/plain": [
       "FloatProgress(value=0.0, bar_style='info', description='Progress:', layout=Layout(height='25px', width='50%'),…"
      ]
     },
     "metadata": {},
     "output_type": "display_data"
    },
    {
     "name": "stdout",
     "output_type": "stream",
     "text": [
      "SparkSession available as 'spark'.\n"
     ]
    }
   ],
   "source": [
    "get_ipython().run_line_magic(\n",
    "    \"spark\", \"add -s {0}-homework3 -l python -u {1} -k\".format(username, server)\n",
    ")"
   ]
  },
  {
   "cell_type": "code",
   "execution_count": 4,
   "id": "0ff65f3a-a31f-492d-b388-5741ea427bcb",
   "metadata": {},
   "outputs": [
    {
     "data": {
      "application/vnd.jupyter.widget-view+json": {
       "model_id": "",
       "version_major": 2,
       "version_minor": 0
      },
      "text/plain": [
       "FloatProgress(value=0.0, bar_style='info', description='Progress:', layout=Layout(height='25px', width='50%'),…"
      ]
     },
     "metadata": {},
     "output_type": "display_data"
    },
    {
     "name": "stdout",
     "output_type": "stream",
     "text": [
      "We are using Spark 2.3.2.3.1.4.0-315"
     ]
    }
   ],
   "source": [
    "%%spark\n",
    "print('We are using Spark %s' % spark.version)"
   ]
  },
  {
   "cell_type": "markdown",
   "id": "6fd5b2a2-0161-4210-a946-5108596bc82f",
   "metadata": {},
   "source": [
    "## Stops 15km from Zürich HB (8503000) (lat, lon) = (47.378177, 8.540192)"
   ]
  },
  {
   "cell_type": "code",
   "execution_count": 5,
   "id": "17ff8920-acb8-48c0-b2ba-60565b705691",
   "metadata": {},
   "outputs": [
    {
     "data": {
      "application/vnd.jupyter.widget-view+json": {
       "model_id": "",
       "version_major": 2,
       "version_minor": 0
      },
      "text/plain": [
       "FloatProgress(value=0.0, bar_style='info', description='Progress:', layout=Layout(height='25px', width='50%'),…"
      ]
     },
     "metadata": {},
     "output_type": "display_data"
    },
    {
     "name": "stdout",
     "output_type": "stream",
     "text": [
      "+-------+--------------------+----------------+----------------+----+----+\n",
      "|    _c0|                 _c1|             _c2|             _c3| _c4| _c5|\n",
      "+-------+--------------------+----------------+----------------+----+----+\n",
      "|1100006|Zell (Wiesental),...|47.7046317515335|7.84777215468897|null|null|\n",
      "|1100008|Zell (Wiesental),...|47.7100842702352|7.85964788274668|null|null|\n",
      "|1100009|Zell (Wiesental),...|47.7131911044794|7.86290876722849|null|null|\n",
      "|1100010|           Atzenbach|47.7146175266411| 7.8723500608659|null|null|\n",
      "|1100011|     Mambach, Brücke|47.7282088873189| 7.8774704579861|null|null|\n",
      "|1100012|  Mambach, Mühlschau|47.7340818684375| 7.8813871126254|null|null|\n",
      "|1100013|  Mambach, Silbersau|47.7395192233867|7.88223152899259|null|null|\n",
      "|1100014|Fröhnd (Schwarzw)...|47.7543663509316|7.88913059037559|null|null|\n",
      "|1100015|Fröhnd (Schwarzw)...|47.7605926689054|7.88553732923861|null|null|\n",
      "|1100016|     Wembach (Baden)|47.7728317637339|7.88772023537933|null|null|\n",
      "+-------+--------------------+----------------+----------------+----+----+\n",
      "only showing top 10 rows"
     ]
    }
   ],
   "source": [
    "%%spark\n",
    "all_stops = spark.read.csv('/data/sbb/csv/allstops/stop_locations.csv')\n",
    "all_stops.show(10)"
   ]
  },
  {
   "cell_type": "code",
   "execution_count": 6,
   "id": "99b409b5-3b9e-4aef-a490-ca4db5863084",
   "metadata": {},
   "outputs": [
    {
     "data": {
      "application/vnd.jupyter.widget-view+json": {
       "model_id": "",
       "version_major": 2,
       "version_minor": 0
      },
      "text/plain": [
       "FloatProgress(value=0.0, bar_style='info', description='Progress:', layout=Layout(height='25px', width='50%'),…"
      ]
     },
     "metadata": {},
     "output_type": "display_data"
    },
    {
     "name": "stdout",
     "output_type": "stream",
     "text": [
      "+-------+--------------------+----------------+----------------+\n",
      "|stop_id|           stop_name|             lat|             lon|\n",
      "+-------+--------------------+----------------+----------------+\n",
      "|1100006|Zell (Wiesental),...|47.7046317515335|7.84777215468897|\n",
      "|1100008|Zell (Wiesental),...|47.7100842702352|7.85964788274668|\n",
      "|1100009|Zell (Wiesental),...|47.7131911044794|7.86290876722849|\n",
      "|1100010|           Atzenbach|47.7146175266411| 7.8723500608659|\n",
      "|1100011|     Mambach, Brücke|47.7282088873189| 7.8774704579861|\n",
      "|1100012|  Mambach, Mühlschau|47.7340818684375| 7.8813871126254|\n",
      "|1100013|  Mambach, Silbersau|47.7395192233867|7.88223152899259|\n",
      "|1100014|Fröhnd (Schwarzw)...|47.7543663509316|7.88913059037559|\n",
      "|1100015|Fröhnd (Schwarzw)...|47.7605926689054|7.88553732923861|\n",
      "|1100016|     Wembach (Baden)|47.7728317637339|7.88772023537933|\n",
      "+-------+--------------------+----------------+----------------+\n",
      "only showing top 10 rows"
     ]
    }
   ],
   "source": [
    "%%spark\n",
    "all_stops = all_stops.withColumnRenamed('_c0','stop_id')\n",
    "all_stops = all_stops.withColumnRenamed('_c1','stop_name')\n",
    "all_stops = all_stops.withColumnRenamed('_c2','lat')\n",
    "all_stops = all_stops.withColumnRenamed('_c3','lon')\n",
    "all_stops = all_stops.drop('_c4','_c5')\n",
    "all_stops.show(10)"
   ]
  },
  {
   "cell_type": "code",
   "execution_count": 7,
   "id": "1e1fcaac-936a-4d67-8734-1dcd5a076779",
   "metadata": {},
   "outputs": [
    {
     "data": {
      "application/vnd.jupyter.widget-view+json": {
       "model_id": "",
       "version_major": 2,
       "version_minor": 0
      },
      "text/plain": [
       "FloatProgress(value=0.0, bar_style='info', description='Progress:', layout=Layout(height='25px', width='50%'),…"
      ]
     },
     "metadata": {},
     "output_type": "display_data"
    },
    {
     "name": "stdout",
     "output_type": "stream",
     "text": [
      "+-------+--------------------+----------------+----------------+--------------------+------------------+\n",
      "|stop_id|           stop_name|             lat|             lon|                   a|          distance|\n",
      "+-------+--------------------+----------------+----------------+--------------------+------------------+\n",
      "|1100006|Zell (Wiesental),...|47.7046317515335|7.84777215468897|2.475398503604094...|  63396.0142787592|\n",
      "|1100008|Zell (Wiesental),...|47.7100842702352|7.85964788274668|2.445985737384344...| 63018.24892966985|\n",
      "|1100009|Zell (Wiesental),...|47.7131911044794|7.86290876722849|2.446306465224431...| 63022.38043559904|\n",
      "|1100010|           Atzenbach|47.7146175266411| 7.8723500608659|2.409494241610368E-5|62546.396144882805|\n",
      "|1100011|     Mambach, Brücke|47.7282088873189| 7.8774704579861|2.456510835903595E-5| 63153.68854022285|\n",
      "|1100012|  Mambach, Mühlschau|47.7340818684375| 7.8813871126254|2.469960438154199...| 63326.33982721011|\n",
      "|1100013|  Mambach, Silbersau|47.7395192233867|7.88223152899259|2.495646733487268...| 63654.77127801601|\n",
      "|1100014|Fröhnd (Schwarzw)...|47.7543663509316|7.88913059037559|2.547298854211806E-5|64310.131065547204|\n",
      "|1100015|Fröhnd (Schwarzw)...|47.7605926689054|7.88553732923861|2.599356935698943...| 64963.95278339824|\n",
      "|1100016|     Wembach (Baden)|47.7728317637339|7.88772023537933|2.661545713079305E-5|  65736.4871120164|\n",
      "+-------+--------------------+----------------+----------------+--------------------+------------------+\n",
      "only showing top 10 rows"
     ]
    }
   ],
   "source": [
    "%%spark\n",
    "import pyspark.sql.functions as F\n",
    "zur_hp_lat = 47.378177\n",
    "zur_hp_lon = 8.540192\n",
    "\n",
    "all_stops = all_stops.withColumn(\"a\", (\n",
    "        F.pow(F.sin(F.radians(zur_hp_lat - F.col(\"lat\")) / 2), 2) +\n",
    "        F.cos(F.radians(F.col(\"lat\"))) * F.cos(F.radians(F.lit(zur_hp_lat))) *\n",
    "        F.pow(F.sin(F.radians(zur_hp_lon - F.col(\"lon\")) / 2), 2)\n",
    "    )).withColumn(\"distance\", F.atan2(F.sqrt(F.col(\"a\")), F.sqrt(-F.col(\"a\") + 1)) * 12742000)\n",
    "\n",
    "all_stops.show(10)"
   ]
  },
  {
   "cell_type": "code",
   "execution_count": 8,
   "id": "fba8f90b-6b55-4961-9f46-5da1b057ce7b",
   "metadata": {},
   "outputs": [
    {
     "data": {
      "application/vnd.jupyter.widget-view+json": {
       "model_id": "",
       "version_major": 2,
       "version_minor": 0
      },
      "text/plain": [
       "FloatProgress(value=0.0, bar_style='info', description='Progress:', layout=Layout(height='25px', width='50%'),…"
      ]
     },
     "metadata": {},
     "output_type": "display_data"
    },
    {
     "name": "stdout",
     "output_type": "stream",
     "text": [
      "+-------------+--------------------+----------------+----------------+\n",
      "|      stop_id|           stop_name|             lat|             lon|\n",
      "+-------------+--------------------+----------------+----------------+\n",
      "|          176|Zimmerberg-Basist...|47.3516780901371|8.52195777551452|\n",
      "|      8500926|Oetwil a.d.L., Sc...|47.4236270123012| 8.4031825286317|\n",
      "|      8502075|Zürich Flughafen,...|47.4510244676285|8.56372943623189|\n",
      "|      8502186|Dietikon Stoffelbach|47.3933267759652|8.39896044679575|\n",
      "|    8502186:0|Dietikon Stoffelbach|47.3933997509195|8.39894248049007|\n",
      "|8502186:0:1/2|Dietikon Stoffelbach|47.3933997509195|8.39894248049007|\n",
      "|     8502186P|Dietikon Stoffelbach|47.3933997509195|8.39894248049007|\n",
      "|      8502187|Rudolfstetten Hof...|47.3646702178563|8.37695172233176|\n",
      "|    8502187:0|Rudolfstetten Hof...|47.3647371479356|8.37703257070734|\n",
      "|8502187:0:1/2|Rudolfstetten Hof...|47.3647371479356|8.37703257070734|\n",
      "+-------------+--------------------+----------------+----------------+\n",
      "only showing top 10 rows"
     ]
    }
   ],
   "source": [
    "%%spark\n",
    "close_stops = all_stops.filter(all_stops['distance'] <= 15000).drop('a','distance')\n",
    "close_stops.show(10)"
   ]
  },
  {
   "cell_type": "code",
   "execution_count": 9,
   "id": "b4868bd6-efc6-4110-83b3-d9c1cba99d95",
   "metadata": {},
   "outputs": [
    {
     "data": {
      "application/vnd.jupyter.widget-view+json": {
       "model_id": "",
       "version_major": 2,
       "version_minor": 0
      },
      "text/plain": [
       "FloatProgress(value=0.0, bar_style='info', description='Progress:', layout=Layout(height='25px', width='50%'),…"
      ]
     },
     "metadata": {},
     "output_type": "display_data"
    },
    {
     "name": "stdout",
     "output_type": "stream",
     "text": [
      "2122"
     ]
    }
   ],
   "source": [
    "%%spark\n",
    "close_stops.count()"
   ]
  },
  {
   "cell_type": "markdown",
   "id": "21270217-a12d-4860-a3fa-be64c363b044",
   "metadata": {},
   "source": [
    "## Weekly timetable"
   ]
  },
  {
   "cell_type": "markdown",
   "id": "fe275468-21df-418c-9427-4df024046d6c",
   "metadata": {},
   "source": [
    "Considered period: May 13-17, 2019"
   ]
  },
  {
   "cell_type": "code",
   "execution_count": 10,
   "id": "542d62de-7bbe-49c9-a891-09aa612ca62b",
   "metadata": {},
   "outputs": [
    {
     "data": {
      "application/vnd.jupyter.widget-view+json": {
       "model_id": "",
       "version_major": 2,
       "version_minor": 0
      },
      "text/plain": [
       "FloatProgress(value=0.0, bar_style='info', description='Progress:', layout=Layout(height='25px', width='50%'),…"
      ]
     },
     "metadata": {},
     "output_type": "display_data"
    }
   ],
   "source": [
    "%%spark\n",
    "all_trips1 = spark.read.csv('/data/sbb/csv/stop_times/2019/05/08/stop_times.txt', header=True)\n",
    "all_trips2 = spark.read.csv('/data/sbb/csv/stop_times/2019/05/15/stop_times.txt', header=True)"
   ]
  },
  {
   "cell_type": "code",
   "execution_count": 11,
   "id": "e5826832-af7e-4582-aafb-7d3404154dac",
   "metadata": {},
   "outputs": [
    {
     "data": {
      "application/vnd.jupyter.widget-view+json": {
       "model_id": "",
       "version_major": 2,
       "version_minor": 0
      },
      "text/plain": [
       "FloatProgress(value=0.0, bar_style='info', description='Progress:', layout=Layout(height='25px', width='50%'),…"
      ]
     },
     "metadata": {},
     "output_type": "display_data"
    },
    {
     "name": "stdout",
     "output_type": "stream",
     "text": [
      "10862563"
     ]
    }
   ],
   "source": [
    "%%spark\n",
    "all_trips1.count()"
   ]
  },
  {
   "cell_type": "code",
   "execution_count": 12,
   "id": "5db620e7-a85b-46cd-9c05-189486125176",
   "metadata": {},
   "outputs": [
    {
     "data": {
      "application/vnd.jupyter.widget-view+json": {
       "model_id": "",
       "version_major": 2,
       "version_minor": 0
      },
      "text/plain": [
       "FloatProgress(value=0.0, bar_style='info', description='Progress:', layout=Layout(height='25px', width='50%'),…"
      ]
     },
     "metadata": {},
     "output_type": "display_data"
    },
    {
     "name": "stdout",
     "output_type": "stream",
     "text": [
      "11128930"
     ]
    }
   ],
   "source": [
    "%%spark\n",
    "all_trips2.count()"
   ]
  },
  {
   "cell_type": "code",
   "execution_count": 13,
   "id": "51e30844-d23e-4cdf-a1c4-77aab2a6816c",
   "metadata": {},
   "outputs": [
    {
     "data": {
      "application/vnd.jupyter.widget-view+json": {
       "model_id": "",
       "version_major": 2,
       "version_minor": 0
      },
      "text/plain": [
       "FloatProgress(value=0.0, bar_style='info', description='Progress:', layout=Layout(height='25px', width='50%'),…"
      ]
     },
     "metadata": {},
     "output_type": "display_data"
    },
    {
     "name": "stdout",
     "output_type": "stream",
     "text": [
      "+-------------------+------------+--------------+-------+-------------+-----------+-------------+\n",
      "|            trip_id|arrival_time|departure_time|stop_id|stop_sequence|pickup_type|drop_off_type|\n",
      "+-------------------+------------+--------------+-------+-------------+-----------+-------------+\n",
      "|1.TA.1-84-j19-1.1.H|    06:13:00|      06:13:00|8572249|            1|          0|            0|\n",
      "|1.TA.1-84-j19-1.1.H|    06:14:00|      06:14:00|8577508|            2|          0|            0|\n",
      "|1.TA.1-84-j19-1.1.H|    06:15:00|      06:15:00|8581070|            3|          0|            0|\n",
      "|1.TA.1-84-j19-1.1.H|    06:16:00|      06:16:00|8578360|            4|          0|            0|\n",
      "|1.TA.1-84-j19-1.1.H|    06:17:00|      06:17:00|8583448|            5|          0|            0|\n",
      "|1.TA.1-84-j19-1.1.H|    06:18:00|      06:19:00|8578359|            6|          0|            0|\n",
      "|1.TA.1-84-j19-1.1.H|    06:24:00|      06:24:00|8578358|            7|          0|            0|\n",
      "|1.TA.1-84-j19-1.1.H|    06:25:00|      06:25:00|8582802|            8|          0|            0|\n",
      "|1.TA.1-84-j19-1.1.H|    06:27:00|      06:27:00|8578348|            9|          0|            0|\n",
      "|1.TA.1-84-j19-1.1.H|    06:43:00|      06:43:00|8594994|           10|          0|            0|\n",
      "+-------------------+------------+--------------+-------+-------------+-----------+-------------+\n",
      "only showing top 10 rows"
     ]
    }
   ],
   "source": [
    "%%spark\n",
    "all_trips_tot = all_trips1.union(all_trips2)\n",
    "all_trips_tot.show(10)"
   ]
  },
  {
   "cell_type": "code",
   "execution_count": 14,
   "id": "c413a444-3378-4fbf-965b-1bb1fd0c5a01",
   "metadata": {},
   "outputs": [
    {
     "data": {
      "application/vnd.jupyter.widget-view+json": {
       "model_id": "",
       "version_major": 2,
       "version_minor": 0
      },
      "text/plain": [
       "FloatProgress(value=0.0, bar_style='info', description='Progress:', layout=Layout(height='25px', width='50%'),…"
      ]
     },
     "metadata": {},
     "output_type": "display_data"
    },
    {
     "name": "stdout",
     "output_type": "stream",
     "text": [
      "+-----------+----------+--------------------+-------------------+---------------+------------+\n",
      "|   route_id|service_id|             trip_id|      trip_headsign|trip_short_name|direction_id|\n",
      "+-----------+----------+--------------------+-------------------+---------------+------------+\n",
      "| 1-85-j19-1|  TA+b0001| 2.TA.1-85-j19-1.1.H|Schöftland, Bahnhof|          85003|           0|\n",
      "|1-1-C-j19-1|  TA+b0001|5.TA.1-1-C-j19-1.3.R| Zofingen, Altachen|            108|           1|\n",
      "|1-1-C-j19-1|  TA+b0001|7.TA.1-1-C-j19-1.3.R| Zofingen, Altachen|            112|           1|\n",
      "|1-1-C-j19-1|  TA+b0001|9.TA.1-1-C-j19-1.3.R| Zofingen, Altachen|            116|           1|\n",
      "|1-1-C-j19-1|  TA+b0001|11.TA.1-1-C-j19-1...| Zofingen, Altachen|            120|           1|\n",
      "|1-1-C-j19-1|  TA+b0001|13.TA.1-1-C-j19-1...| Zofingen, Altachen|            124|           1|\n",
      "|1-1-C-j19-1|  TA+b0001|15.TA.1-1-C-j19-1...| Zofingen, Altachen|            128|           1|\n",
      "|1-1-C-j19-1|  TA+b0001|17.TA.1-1-C-j19-1...| Zofingen, Altachen|            132|           1|\n",
      "|1-1-C-j19-1|  TA+b0001|18.TA.1-1-C-j19-1...| Zofingen, Altachen|            134|           1|\n",
      "|1-1-C-j19-1|  TA+b0001|19.TA.1-1-C-j19-1...| Zofingen, Altachen|            136|           1|\n",
      "+-----------+----------+--------------------+-------------------+---------------+------------+\n",
      "only showing top 10 rows"
     ]
    }
   ],
   "source": [
    "%%spark\n",
    "routes1 = spark.read.csv('/data/sbb/csv/trips/2019/05/08/trips.txt', header=True)\n",
    "routes2 = spark.read.csv('/data/sbb/csv/trips/2019/05/15/trips.txt', header=True)\n",
    "routes_tot = routes1.union(routes2)\n",
    "routes_tot.show(10)"
   ]
  },
  {
   "cell_type": "code",
   "execution_count": 15,
   "id": "061248b3-c3e4-4c66-be5d-328549033169",
   "metadata": {},
   "outputs": [
    {
     "data": {
      "application/vnd.jupyter.widget-view+json": {
       "model_id": "",
       "version_major": 2,
       "version_minor": 0
      },
      "text/plain": [
       "FloatProgress(value=0.0, bar_style='info', description='Progress:', layout=Layout(height='25px', width='50%'),…"
      ]
     },
     "metadata": {},
     "output_type": "display_data"
    },
    {
     "name": "stdout",
     "output_type": "stream",
     "text": [
      "+--------------------+------------+--------------+------------+-------------+-----------+-------------+-------------+----------+--------------------+--------------------+---------------+------------+\n",
      "|             trip_id|arrival_time|departure_time|     stop_id|stop_sequence|pickup_type|drop_off_type|     route_id|service_id|             trip_id|       trip_headsign|trip_short_name|direction_id|\n",
      "+--------------------+------------+--------------+------------+-------------+-----------+-------------+-------------+----------+--------------------+--------------------+---------------+------------+\n",
      "|1.TA.11-12-B-j19-...|    08:30:00|      08:30:00|     8582915|            1|          0|            0|11-12-B-j19-1|  TA+b0deu|1.TA.11-12-B-j19-...|Flims Dorf, Bergb...|            202|           1|\n",
      "|1.TA.11-12-B-j19-...|    08:31:00|      08:31:00|     8582916|            2|          0|            0|11-12-B-j19-1|  TA+b0deu|1.TA.11-12-B-j19-...|Flims Dorf, Bergb...|            202|           1|\n",
      "|1.TA.11-12-B-j19-...|    08:33:00|      08:33:00|     8582917|            3|          0|            0|11-12-B-j19-1|  TA+b0deu|1.TA.11-12-B-j19-...|Flims Dorf, Bergb...|            202|           1|\n",
      "|1.TA.11-12-B-j19-...|    08:35:00|      08:35:00|     8574680|            4|          0|            0|11-12-B-j19-1|  TA+b0deu|1.TA.11-12-B-j19-...|Flims Dorf, Bergb...|            202|           1|\n",
      "|1.TA.12-1-A-j19-1...|    01:30:00|      01:30:00|8505000:0:11|            1|          0|            0| 12-1-A-j19-1|  TA+b08ff|1.TA.12-1-A-j19-1...|              Sursee|          31100|           0|\n",
      "|1.TA.12-1-A-j19-1...|    01:30:00|      01:30:00|8505000:0:11|            1|          0|            0| 12-1-A-j19-1|  TA+b099q|1.TA.12-1-A-j19-1...|              Sursee|          31100|           0|\n",
      "|1.TA.12-1-A-j19-1...|    01:35:00|      01:35:00| 8502021:0:1|            2|          0|            0| 12-1-A-j19-1|  TA+b08ff|1.TA.12-1-A-j19-1...|              Sursee|          31100|           0|\n",
      "|1.TA.12-1-A-j19-1...|    01:35:00|      01:35:00| 8502021:0:1|            2|          0|            0| 12-1-A-j19-1|  TA+b099q|1.TA.12-1-A-j19-1...|              Sursee|          31100|           0|\n",
      "|1.TA.12-1-A-j19-1...|    01:36:00|      01:37:00| 8502028:0:1|            3|          0|            0| 12-1-A-j19-1|  TA+b08ff|1.TA.12-1-A-j19-1...|              Sursee|          31100|           0|\n",
      "|1.TA.12-1-A-j19-1...|    01:36:00|      01:37:00| 8502028:0:1|            3|          0|            0| 12-1-A-j19-1|  TA+b099q|1.TA.12-1-A-j19-1...|              Sursee|          31100|           0|\n",
      "+--------------------+------------+--------------+------------+-------------+-----------+-------------+-------------+----------+--------------------+--------------------+---------------+------------+\n",
      "only showing top 10 rows"
     ]
    }
   ],
   "source": [
    "%%spark\n",
    "trips_with_routes = all_trips_tot.join(routes_tot, all_trips_tot.trip_id == routes_tot.trip_id)\n",
    "trips_with_routes.show(10)"
   ]
  },
  {
   "cell_type": "code",
   "execution_count": 16,
   "id": "a06f0626-4474-46d2-8507-bde9add5ae01",
   "metadata": {},
   "outputs": [
    {
     "data": {
      "application/vnd.jupyter.widget-view+json": {
       "model_id": "",
       "version_major": 2,
       "version_minor": 0
      },
      "text/plain": [
       "FloatProgress(value=0.0, bar_style='info', description='Progress:', layout=Layout(height='25px', width='50%'),…"
      ]
     },
     "metadata": {},
     "output_type": "display_data"
    },
    {
     "name": "stdout",
     "output_type": "stream",
     "text": [
      "+--------------------+----------+\n",
      "|             trip_id|service_id|\n",
      "+--------------------+----------+\n",
      "|1.TA.11-12-B-j19-...|  TA+b0deu|\n",
      "|1.TA.12-1-A-j19-1...|  TA+b099q|\n",
      "|1.TA.12-1-A-j19-1...|  TA+b08ff|\n",
      "|1.TA.16-440-j19-1...|  TA+b0007|\n",
      "|1.TA.16-440-j19-1...|  TA+b0ei3|\n",
      "|1.TA.23-792-j19-1...|  TA+b000o|\n",
      "|1.TA.26-18-j19-1.1.H|  TA+b06tm|\n",
      "|1.TA.26-18-j19-1.1.H|  TA+b0b46|\n",
      "|1.TA.26-833-j19-1...|  TA+b002d|\n",
      "|1.TA.26-853-j19-1...|  TA+b001t|\n",
      "+--------------------+----------+\n",
      "only showing top 10 rows"
     ]
    }
   ],
   "source": [
    "%%spark\n",
    "trips_with_routes = trips_with_routes.select(all_trips_tot.trip_id, 'service_id').distinct()\n",
    "trips_with_routes.show(10)"
   ]
  },
  {
   "cell_type": "code",
   "execution_count": 17,
   "id": "81659e3d-1c04-485d-9f32-f13e3701540d",
   "metadata": {},
   "outputs": [
    {
     "data": {
      "application/vnd.jupyter.widget-view+json": {
       "model_id": "",
       "version_major": 2,
       "version_minor": 0
      },
      "text/plain": [
       "FloatProgress(value=0.0, bar_style='info', description='Progress:', layout=Layout(height='25px', width='50%'),…"
      ]
     },
     "metadata": {},
     "output_type": "display_data"
    },
    {
     "name": "stdout",
     "output_type": "stream",
     "text": [
      "+----------+------+-------+---------+--------+------+--------+------+----------+--------+\n",
      "|service_id|monday|tuesday|wednesday|thursday|friday|saturday|sunday|start_date|end_date|\n",
      "+----------+------+-------+---------+--------+------+--------+------+----------+--------+\n",
      "|  TA+b06hv|     0|      0|        0|       0|     0|       0|     1|  20181209|20191214|\n",
      "|  TA+b0036|     0|      0|        0|       0|     0|       0|     1|  20181209|20191214|\n",
      "|  TA+b0ha1|     0|      0|        0|       0|     0|       1|     0|  20181209|20191214|\n",
      "|  TA+b0nha|     1|      1|        1|       1|     0|       0|     1|  20181209|20191214|\n",
      "|  TA+b022q|     1|      1|        1|       1|     0|       0|     0|  20181209|20191214|\n",
      "|  TA+b025m|     0|      0|        0|       0|     1|       0|     0|  20181209|20191214|\n",
      "|  TA+b0ms4|     0|      0|        0|       0|     0|       0|     1|  20181209|20191214|\n",
      "|  TA+b0nvl|     0|      0|        0|       0|     0|       1|     1|  20181209|20191214|\n",
      "|  TA+b0nz0|     0|      0|        0|       0|     1|       1|     0|  20181209|20191214|\n",
      "|  TA+b0mx6|     0|      0|        0|       0|     0|       1|     1|  20181209|20191214|\n",
      "+----------+------+-------+---------+--------+------+--------+------+----------+--------+\n",
      "only showing top 10 rows"
     ]
    }
   ],
   "source": [
    "%%spark\n",
    "cal1 = spark.read.csv('/data/sbb/csv/calendar/2019/05/08/calendar.txt', header=True)\n",
    "cal2 = spark.read.csv('/data/sbb/csv/calendar/2019/05/15/calendar.txt', header=True)\n",
    "cal_tot = cal1.union(cal2).distinct()\n",
    "cal_tot.show(10)"
   ]
  },
  {
   "cell_type": "code",
   "execution_count": 18,
   "id": "f9a69104-3457-44dc-a10e-bdc9df43ad19",
   "metadata": {},
   "outputs": [
    {
     "data": {
      "application/vnd.jupyter.widget-view+json": {
       "model_id": "",
       "version_major": 2,
       "version_minor": 0
      },
      "text/plain": [
       "FloatProgress(value=0.0, bar_style='info', description='Progress:', layout=Layout(height='25px', width='50%'),…"
      ]
     },
     "metadata": {},
     "output_type": "display_data"
    },
    {
     "name": "stdout",
     "output_type": "stream",
     "text": [
      "+----------+------+-------+---------+--------+------+--------+------+----------+--------+\n",
      "|service_id|monday|tuesday|wednesday|thursday|friday|saturday|sunday|start_date|end_date|\n",
      "+----------+------+-------+---------+--------+------+--------+------+----------+--------+\n",
      "|  TA+b0nha|     1|      1|        1|       1|     0|       0|     1|  20181209|20191214|\n",
      "|  TA+b022q|     1|      1|        1|       1|     0|       0|     0|  20181209|20191214|\n",
      "|  TA+b025m|     0|      0|        0|       0|     1|       0|     0|  20181209|20191214|\n",
      "|  TA+b0nz0|     0|      0|        0|       0|     1|       1|     0|  20181209|20191214|\n",
      "|  TA+b0o2i|     1|      0|        0|       1|     0|       0|     0|  20181209|20191214|\n",
      "|  TA+b0obi|     1|      1|        1|       1|     1|       0|     0|  20181209|20191214|\n",
      "|  TA+b0obp|     0|      1|        0|       0|     1|       1|     1|  20181209|20191214|\n",
      "|  TA+b0gtx|     1|      1|        1|       1|     1|       0|     1|  20181209|20191214|\n",
      "|  TA+b0g2l|     1|      1|        0|       0|     0|       1|     1|  20181209|20191214|\n",
      "|  TA+b0kb5|     1|      1|        0|       0|     0|       0|     0|  20181209|20191214|\n",
      "+----------+------+-------+---------+--------+------+--------+------+----------+--------+\n",
      "only showing top 10 rows"
     ]
    }
   ],
   "source": [
    "%%spark\n",
    "cal_filtered = cal_tot.filter((cal_tot.monday == 1) | (cal_tot.tuesday == 1) | (cal_tot.wednesday == 1) | (cal_tot.thursday == 1) | (cal_tot.friday == 1))\n",
    "cal_filtered_dates = cal_filtered.filter((cal_tot.start_date <= '20190513') & (cal_tot.end_date >= '20190518'))\n",
    "cal_filtered_dates.show(10)"
   ]
  },
  {
   "cell_type": "code",
   "execution_count": 19,
   "id": "ea4bd72f-abbc-46d0-8b74-3301cfeb85a3",
   "metadata": {},
   "outputs": [
    {
     "data": {
      "application/vnd.jupyter.widget-view+json": {
       "model_id": "",
       "version_major": 2,
       "version_minor": 0
      },
      "text/plain": [
       "FloatProgress(value=0.0, bar_style='info', description='Progress:', layout=Layout(height='25px', width='50%'),…"
      ]
     },
     "metadata": {},
     "output_type": "display_data"
    }
   ],
   "source": [
    "%%spark\n",
    "service_ids = cal_filtered_dates.select('service_id')"
   ]
  },
  {
   "cell_type": "code",
   "execution_count": 23,
   "id": "172f16af-cd08-46b5-aa40-d3fd252f1ff6",
   "metadata": {},
   "outputs": [
    {
     "data": {
      "application/vnd.jupyter.widget-view+json": {
       "model_id": "",
       "version_major": 2,
       "version_minor": 0
      },
      "text/plain": [
       "FloatProgress(value=0.0, bar_style='info', description='Progress:', layout=Layout(height='25px', width='50%'),…"
      ]
     },
     "metadata": {},
     "output_type": "display_data"
    },
    {
     "name": "stdout",
     "output_type": "stream",
     "text": [
      "+--------------------+\n",
      "|             trip_id|\n",
      "+--------------------+\n",
      "|1.TA.11-12-B-j19-...|\n",
      "|1.TA.12-1-A-j19-1...|\n",
      "|1.TA.16-440-j19-1...|\n",
      "|1.TA.23-792-j19-1...|\n",
      "|1.TA.26-18-j19-1.1.H|\n",
      "|1.TA.26-833-j19-1...|\n",
      "|1.TA.30-32-Y-j19-...|\n",
      "|1.TA.6-20-B-j19-1...|\n",
      "|1.TA.6-M13-j19-1.1.H|\n",
      "|1.TA.61-211-Y-j19...|\n",
      "+--------------------+\n",
      "only showing top 10 rows"
     ]
    }
   ],
   "source": [
    "%%spark\n",
    "service_ids.select('service_id')\n",
    "trips_in_period = trips_with_routes.join(service_ids, service_ids.service_id == trips_with_routes.service_id,'inner').select('trip_id').distinct()\n",
    "trips_in_period.show(10)"
   ]
  },
  {
   "cell_type": "code",
   "execution_count": 24,
   "id": "bf4b3435-edbc-431f-aecf-93b6cf750d11",
   "metadata": {},
   "outputs": [
    {
     "data": {
      "application/vnd.jupyter.widget-view+json": {
       "model_id": "",
       "version_major": 2,
       "version_minor": 0
      },
      "text/plain": [
       "FloatProgress(value=0.0, bar_style='info', description='Progress:', layout=Layout(height='25px', width='50%'),…"
      ]
     },
     "metadata": {},
     "output_type": "display_data"
    },
    {
     "name": "stdout",
     "output_type": "stream",
     "text": [
      "1676912"
     ]
    }
   ],
   "source": [
    "%%spark\n",
    "trips_in_period_list = trips_in_period.select('trip_id').distinct().rdd.flatMap(lambda x: x).collect()\n",
    "final_trips = all_trips_tot.join(trips_in_period, trips_in_period.trip_id == routes_tot.trip_id).distinct()\n",
    "final_trips.show(10)"
   ]
  },
  {
   "cell_type": "code",
   "execution_count": 26,
   "id": "eaa7b4a4-257c-4f14-a99b-3a62b365f2cf",
   "metadata": {},
   "outputs": [
    {
     "ename": "NameError",
     "evalue": "name 'all_trips_tot' is not defined",
     "output_type": "error",
     "traceback": [
      "\u001b[0;31m---------------------------------------------------------------------------\u001b[0m",
      "\u001b[0;31mNameError\u001b[0m                                 Traceback (most recent call last)",
      "\u001b[0;32m<ipython-input-26-1d23c07924ce>\u001b[0m in \u001b[0;36m<module>\u001b[0;34m\u001b[0m\n\u001b[0;32m----> 1\u001b[0;31m \u001b[0mall_trips_tot\u001b[0m\u001b[0;34m.\u001b[0m\u001b[0mcount\u001b[0m\u001b[0;34m(\u001b[0m\u001b[0;34m)\u001b[0m\u001b[0;34m\u001b[0m\u001b[0;34m\u001b[0m\u001b[0m\n\u001b[0m",
      "\u001b[0;31mNameError\u001b[0m: name 'all_trips_tot' is not defined"
     ]
    }
   ],
   "source": [
    "%%spark\n",
    "all_trips_tot.count()"
   ]
  },
  {
   "cell_type": "code",
   "execution_count": null,
   "id": "28272097-b7e1-422c-a00a-380855fb8348",
   "metadata": {},
   "outputs": [],
   "source": [
    "%%spark\n",
    "final_trips.count()"
   ]
  },
  {
   "cell_type": "code",
   "execution_count": null,
   "id": "700c56b3-f1e8-40e5-87fd-c604abdb95e3",
   "metadata": {},
   "outputs": [],
   "source": []
  }
 ],
 "metadata": {
  "kernelspec": {
   "display_name": "Python 3",
   "language": "python",
   "name": "python3"
  },
  "language_info": {
   "codemirror_mode": {
    "name": "ipython",
    "version": 3
   },
   "file_extension": ".py",
   "mimetype": "text/x-python",
   "name": "python",
   "nbconvert_exporter": "python",
   "pygments_lexer": "ipython3",
   "version": "3.9.7"
  }
 },
 "nbformat": 4,
 "nbformat_minor": 5
}
