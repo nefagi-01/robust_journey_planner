{
 "cells": [
  {
   "cell_type": "markdown",
   "id": "84900873-2e6a-42ce-a1f1-cf721552e731",
   "metadata": {},
   "source": [
    "# Data Wrangling"
   ]
  },
  {
   "cell_type": "markdown",
   "id": "c8183342-5992-4c0b-8923-07c457a7c72f",
   "metadata": {},
   "source": [
    "## Spark Loading"
   ]
  },
  {
   "cell_type": "code",
   "execution_count": 1,
   "id": "e314f4b1-05bd-4f35-89df-a302865c25d7",
   "metadata": {},
   "outputs": [],
   "source": [
    "%load_ext sparkmagic.magics"
   ]
  },
  {
   "cell_type": "code",
   "execution_count": 2,
   "id": "167eb6b6-2ae9-43e3-9b18-27224f3199ce",
   "metadata": {},
   "outputs": [],
   "source": [
    "import pickle\n",
    "path_data = \"../data/\""
   ]
  },
  {
   "cell_type": "code",
   "execution_count": 3,
   "id": "62a7b68d-5a30-4b01-aab8-1c2850b4e499",
   "metadata": {},
   "outputs": [],
   "source": [
    "# pull from lfs\n",
    "! git lfs pull"
   ]
  },
  {
   "cell_type": "code",
   "execution_count": 4,
   "id": "fabe5282-98a6-4d13-9b17-ae190021bf38",
   "metadata": {},
   "outputs": [],
   "source": [
    "import os\n",
    "from IPython import get_ipython\n",
    "username = os.environ['RENKU_USERNAME']\n",
    "server = \"http://iccluster029.iccluster.epfl.ch:8998\"\n",
    "\n",
    "# set the application name as \"<your_gaspar_id>-homework3\"\n",
    "get_ipython().run_cell_magic(\n",
    "    'spark',\n",
    "    line='config', \n",
    "    cell=\"\"\"{{ \"name\": \"{0}-homework3\", \"executorMemory\": \"4G\", \"executorCores\": 4, \"numExecutors\": 10, \"driverMemory\": \"4G\"}}\"\"\".format(username)\n",
    ")"
   ]
  },
  {
   "cell_type": "code",
   "execution_count": 5,
   "id": "7ba317bf-acb0-4bcc-b9dd-5bded845cb00",
   "metadata": {},
   "outputs": [
    {
     "name": "stdout",
     "output_type": "stream",
     "text": [
      "Starting Spark application\n"
     ]
    },
    {
     "data": {
      "text/html": [
       "<table>\n",
       "<tr><th>ID</th><th>YARN Application ID</th><th>Kind</th><th>State</th><th>Spark UI</th><th>Driver log</th><th>User</th><th>Current session?</th></tr><tr><td>6466</td><td>application_1652960972356_1924</td><td>pyspark</td><td>idle</td><td><a target=\"_blank\" href=\"http://iccluster029.iccluster.epfl.ch:8088/proxy/application_1652960972356_1924/\">Link</a></td><td><a target=\"_blank\" href=\"http://iccluster057.iccluster.epfl.ch:8042/node/containerlogs/container_e05_1652960972356_1924_01_000001/eric\">Link</a></td><td>None</td><td>✔</td></tr></table>"
      ],
      "text/plain": [
       "<IPython.core.display.HTML object>"
      ]
     },
     "metadata": {},
     "output_type": "display_data"
    },
    {
     "data": {
      "application/vnd.jupyter.widget-view+json": {
       "model_id": "",
       "version_major": 2,
       "version_minor": 0
      },
      "text/plain": [
       "FloatProgress(value=0.0, bar_style='info', description='Progress:', layout=Layout(height='25px', width='50%'),…"
      ]
     },
     "metadata": {},
     "output_type": "display_data"
    },
    {
     "name": "stdout",
     "output_type": "stream",
     "text": [
      "SparkSession available as 'spark'.\n"
     ]
    }
   ],
   "source": [
    "get_ipython().run_line_magic(\n",
    "    \"spark\", \"add -s {0}-homework3 -l python -u {1} -k\".format(username, server)\n",
    ")"
   ]
  },
  {
   "cell_type": "code",
   "execution_count": 6,
   "id": "0ff65f3a-a31f-492d-b388-5741ea427bcb",
   "metadata": {},
   "outputs": [
    {
     "data": {
      "application/vnd.jupyter.widget-view+json": {
       "model_id": "",
       "version_major": 2,
       "version_minor": 0
      },
      "text/plain": [
       "FloatProgress(value=0.0, bar_style='info', description='Progress:', layout=Layout(height='25px', width='50%'),…"
      ]
     },
     "metadata": {},
     "output_type": "display_data"
    },
    {
     "name": "stdout",
     "output_type": "stream",
     "text": [
      "We are using Spark 2.3.2.3.1.4.0-315"
     ]
    }
   ],
   "source": [
    "%%spark\n",
    "print('We are using Spark %s' % spark.version)"
   ]
  },
  {
   "cell_type": "markdown",
   "id": "6fd5b2a2-0161-4210-a946-5108596bc82f",
   "metadata": {},
   "source": [
    "## Stops 15km from Zürich HB (8503000) (lat, lon) = (47.378177, 8.540192)"
   ]
  },
  {
   "cell_type": "code",
   "execution_count": 7,
   "id": "17ff8920-acb8-48c0-b2ba-60565b705691",
   "metadata": {},
   "outputs": [
    {
     "data": {
      "application/vnd.jupyter.widget-view+json": {
       "model_id": "",
       "version_major": 2,
       "version_minor": 0
      },
      "text/plain": [
       "FloatProgress(value=0.0, bar_style='info', description='Progress:', layout=Layout(height='25px', width='50%'),…"
      ]
     },
     "metadata": {},
     "output_type": "display_data"
    },
    {
     "name": "stdout",
     "output_type": "stream",
     "text": [
      "+-------+--------------------+----------------+----------------+----+----+\n",
      "|    _c0|                 _c1|             _c2|             _c3| _c4| _c5|\n",
      "+-------+--------------------+----------------+----------------+----+----+\n",
      "|1100006|Zell (Wiesental),...|47.7046317515335|7.84777215468897|null|null|\n",
      "|1100008|Zell (Wiesental),...|47.7100842702352|7.85964788274668|null|null|\n",
      "|1100009|Zell (Wiesental),...|47.7131911044794|7.86290876722849|null|null|\n",
      "|1100010|           Atzenbach|47.7146175266411| 7.8723500608659|null|null|\n",
      "|1100011|     Mambach, Brücke|47.7282088873189| 7.8774704579861|null|null|\n",
      "|1100012|  Mambach, Mühlschau|47.7340818684375| 7.8813871126254|null|null|\n",
      "|1100013|  Mambach, Silbersau|47.7395192233867|7.88223152899259|null|null|\n",
      "|1100014|Fröhnd (Schwarzw)...|47.7543663509316|7.88913059037559|null|null|\n",
      "|1100015|Fröhnd (Schwarzw)...|47.7605926689054|7.88553732923861|null|null|\n",
      "|1100016|     Wembach (Baden)|47.7728317637339|7.88772023537933|null|null|\n",
      "+-------+--------------------+----------------+----------------+----+----+\n",
      "only showing top 10 rows"
     ]
    }
   ],
   "source": [
    "%%spark\n",
    "all_stops = spark.read.csv('/data/sbb/csv/allstops/stop_locations.csv')\n",
    "all_stops.show(10)"
   ]
  },
  {
   "cell_type": "code",
   "execution_count": 8,
   "id": "99b409b5-3b9e-4aef-a490-ca4db5863084",
   "metadata": {},
   "outputs": [
    {
     "data": {
      "application/vnd.jupyter.widget-view+json": {
       "model_id": "",
       "version_major": 2,
       "version_minor": 0
      },
      "text/plain": [
       "FloatProgress(value=0.0, bar_style='info', description='Progress:', layout=Layout(height='25px', width='50%'),…"
      ]
     },
     "metadata": {},
     "output_type": "display_data"
    },
    {
     "name": "stdout",
     "output_type": "stream",
     "text": [
      "+-------+--------------------+----------------+----------------+\n",
      "|stop_id|           stop_name|             lat|             lon|\n",
      "+-------+--------------------+----------------+----------------+\n",
      "|1100006|Zell (Wiesental),...|47.7046317515335|7.84777215468897|\n",
      "|1100008|Zell (Wiesental),...|47.7100842702352|7.85964788274668|\n",
      "|1100009|Zell (Wiesental),...|47.7131911044794|7.86290876722849|\n",
      "|1100010|           Atzenbach|47.7146175266411| 7.8723500608659|\n",
      "|1100011|     Mambach, Brücke|47.7282088873189| 7.8774704579861|\n",
      "|1100012|  Mambach, Mühlschau|47.7340818684375| 7.8813871126254|\n",
      "|1100013|  Mambach, Silbersau|47.7395192233867|7.88223152899259|\n",
      "|1100014|Fröhnd (Schwarzw)...|47.7543663509316|7.88913059037559|\n",
      "|1100015|Fröhnd (Schwarzw)...|47.7605926689054|7.88553732923861|\n",
      "|1100016|     Wembach (Baden)|47.7728317637339|7.88772023537933|\n",
      "+-------+--------------------+----------------+----------------+\n",
      "only showing top 10 rows"
     ]
    }
   ],
   "source": [
    "%%spark\n",
    "all_stops = all_stops.withColumnRenamed('_c0','stop_id')\n",
    "all_stops = all_stops.withColumnRenamed('_c1','stop_name')\n",
    "all_stops = all_stops.withColumnRenamed('_c2','lat')\n",
    "all_stops = all_stops.withColumnRenamed('_c3','lon')\n",
    "all_stops = all_stops.drop('_c4','_c5')\n",
    "all_stops.show(10)"
   ]
  },
  {
   "cell_type": "code",
   "execution_count": 9,
   "id": "1e1fcaac-936a-4d67-8734-1dcd5a076779",
   "metadata": {},
   "outputs": [
    {
     "data": {
      "application/vnd.jupyter.widget-view+json": {
       "model_id": "",
       "version_major": 2,
       "version_minor": 0
      },
      "text/plain": [
       "FloatProgress(value=0.0, bar_style='info', description='Progress:', layout=Layout(height='25px', width='50%'),…"
      ]
     },
     "metadata": {},
     "output_type": "display_data"
    },
    {
     "name": "stdout",
     "output_type": "stream",
     "text": [
      "+-------+--------------------+----------------+----------------+--------------------+------------------+\n",
      "|stop_id|           stop_name|             lat|             lon|                   a|          distance|\n",
      "+-------+--------------------+----------------+----------------+--------------------+------------------+\n",
      "|1100006|Zell (Wiesental),...|47.7046317515335|7.84777215468897|2.475398503604094...|  63396.0142787592|\n",
      "|1100008|Zell (Wiesental),...|47.7100842702352|7.85964788274668|2.445985737384344...| 63018.24892966985|\n",
      "|1100009|Zell (Wiesental),...|47.7131911044794|7.86290876722849|2.446306465224431...| 63022.38043559904|\n",
      "|1100010|           Atzenbach|47.7146175266411| 7.8723500608659|2.409494241610368E-5|62546.396144882805|\n",
      "|1100011|     Mambach, Brücke|47.7282088873189| 7.8774704579861|2.456510835903595E-5| 63153.68854022285|\n",
      "|1100012|  Mambach, Mühlschau|47.7340818684375| 7.8813871126254|2.469960438154199...| 63326.33982721011|\n",
      "|1100013|  Mambach, Silbersau|47.7395192233867|7.88223152899259|2.495646733487268...| 63654.77127801601|\n",
      "|1100014|Fröhnd (Schwarzw)...|47.7543663509316|7.88913059037559|2.547298854211806E-5|64310.131065547204|\n",
      "|1100015|Fröhnd (Schwarzw)...|47.7605926689054|7.88553732923861|2.599356935698943...| 64963.95278339824|\n",
      "|1100016|     Wembach (Baden)|47.7728317637339|7.88772023537933|2.661545713079305E-5|  65736.4871120164|\n",
      "+-------+--------------------+----------------+----------------+--------------------+------------------+\n",
      "only showing top 10 rows"
     ]
    }
   ],
   "source": [
    "%%spark\n",
    "import pyspark.sql.functions as F\n",
    "zur_hp_lat = 47.378177\n",
    "zur_hp_lon = 8.540192\n",
    "\n",
    "all_stops_distance = all_stops.withColumn(\"a\", (\n",
    "        F.pow(F.sin(F.radians(zur_hp_lat - F.col(\"lat\")) / 2), 2) +\n",
    "        F.cos(F.radians(F.col(\"lat\"))) * F.cos(F.radians(F.lit(zur_hp_lat))) *\n",
    "        F.pow(F.sin(F.radians(zur_hp_lon - F.col(\"lon\")) / 2), 2)\n",
    "    )).withColumn(\"distance\", F.atan2(F.sqrt(F.col(\"a\")), F.sqrt(-F.col(\"a\") + 1)) * 12742000)\n",
    "\n",
    "all_stops_distance.show(10)"
   ]
  },
  {
   "cell_type": "code",
   "execution_count": 10,
   "id": "fba8f90b-6b55-4961-9f46-5da1b057ce7b",
   "metadata": {},
   "outputs": [
    {
     "data": {
      "application/vnd.jupyter.widget-view+json": {
       "model_id": "",
       "version_major": 2,
       "version_minor": 0
      },
      "text/plain": [
       "FloatProgress(value=0.0, bar_style='info', description='Progress:', layout=Layout(height='25px', width='50%'),…"
      ]
     },
     "metadata": {},
     "output_type": "display_data"
    },
    {
     "name": "stdout",
     "output_type": "stream",
     "text": [
      "+-------------+--------------------+----------------+----------------+\n",
      "|      stop_id|           stop_name|             lat|             lon|\n",
      "+-------------+--------------------+----------------+----------------+\n",
      "|          176|Zimmerberg-Basist...|47.3516780901371|8.52195777551452|\n",
      "|      8500926|Oetwil a.d.L., Sc...|47.4236270123012| 8.4031825286317|\n",
      "|      8502075|Zürich Flughafen,...|47.4510244676285|8.56372943623189|\n",
      "|      8502186|Dietikon Stoffelbach|47.3933267759652|8.39896044679575|\n",
      "|    8502186:0|Dietikon Stoffelbach|47.3933997509195|8.39894248049007|\n",
      "|8502186:0:1/2|Dietikon Stoffelbach|47.3933997509195|8.39894248049007|\n",
      "|     8502186P|Dietikon Stoffelbach|47.3933997509195|8.39894248049007|\n",
      "|      8502187|Rudolfstetten Hof...|47.3646702178563|8.37695172233176|\n",
      "|    8502187:0|Rudolfstetten Hof...|47.3647371479356|8.37703257070734|\n",
      "|8502187:0:1/2|Rudolfstetten Hof...|47.3647371479356|8.37703257070734|\n",
      "+-------------+--------------------+----------------+----------------+\n",
      "only showing top 10 rows"
     ]
    }
   ],
   "source": [
    "%%spark\n",
    "close_stops = all_stops_distance.filter(all_stops_distance['distance'] <= 15000).drop('a','distance')\n",
    "close_stops.show(10)"
   ]
  },
  {
   "cell_type": "code",
   "execution_count": 22,
   "id": "b4868bd6-efc6-4110-83b3-d9c1cba99d95",
   "metadata": {},
   "outputs": [
    {
     "data": {
      "application/vnd.jupyter.widget-view+json": {
       "model_id": "",
       "version_major": 2,
       "version_minor": 0
      },
      "text/plain": [
       "FloatProgress(value=0.0, bar_style='info', description='Progress:', layout=Layout(height='25px', width='50%'),…"
      ]
     },
     "metadata": {},
     "output_type": "display_data"
    },
    {
     "name": "stdout",
     "output_type": "stream",
     "text": [
      "2122"
     ]
    }
   ],
   "source": [
    "%%spark\n",
    "close_stops.count()"
   ]
  },
  {
   "cell_type": "markdown",
   "id": "21270217-a12d-4860-a3fa-be64c363b044",
   "metadata": {},
   "source": [
    "## Weekly timetable"
   ]
  },
  {
   "cell_type": "markdown",
   "id": "fe275468-21df-418c-9427-4df024046d6c",
   "metadata": {},
   "source": [
    "Considered period: May 08-14, 2019 (then we exclude the weekends)"
   ]
  },
  {
   "cell_type": "code",
   "execution_count": 23,
   "id": "542d62de-7bbe-49c9-a891-09aa612ca62b",
   "metadata": {},
   "outputs": [
    {
     "data": {
      "application/vnd.jupyter.widget-view+json": {
       "model_id": "",
       "version_major": 2,
       "version_minor": 0
      },
      "text/plain": [
       "FloatProgress(value=0.0, bar_style='info', description='Progress:', layout=Layout(height='25px', width='50%'),…"
      ]
     },
     "metadata": {},
     "output_type": "display_data"
    }
   ],
   "source": [
    "%%spark\n",
    "all_trips1 = spark.read.csv('/data/sbb/csv/stop_times/2019/05/08/stop_times.txt', header=True)"
   ]
  },
  {
   "cell_type": "code",
   "execution_count": 24,
   "id": "e5826832-af7e-4582-aafb-7d3404154dac",
   "metadata": {},
   "outputs": [
    {
     "data": {
      "application/vnd.jupyter.widget-view+json": {
       "model_id": "",
       "version_major": 2,
       "version_minor": 0
      },
      "text/plain": [
       "FloatProgress(value=0.0, bar_style='info', description='Progress:', layout=Layout(height='25px', width='50%'),…"
      ]
     },
     "metadata": {},
     "output_type": "display_data"
    },
    {
     "name": "stdout",
     "output_type": "stream",
     "text": [
      "10862563"
     ]
    }
   ],
   "source": [
    "%%spark\n",
    "all_trips1.count()"
   ]
  },
  {
   "cell_type": "code",
   "execution_count": 29,
   "id": "45df46dc-a87e-41a0-85a5-d76b33f240c0",
   "metadata": {},
   "outputs": [
    {
     "data": {
      "application/vnd.jupyter.widget-view+json": {
       "model_id": "",
       "version_major": 2,
       "version_minor": 0
      },
      "text/plain": [
       "FloatProgress(value=0.0, bar_style='info', description='Progress:', layout=Layout(height='25px', width='50%'),…"
      ]
     },
     "metadata": {},
     "output_type": "display_data"
    },
    {
     "name": "stdout",
     "output_type": "stream",
     "text": [
      "10413974"
     ]
    }
   ],
   "source": [
    "%%spark\n",
    "all_trips1.filter(all_trips1.arrival_time==all_trips1.departure_time).count()"
   ]
  },
  {
   "cell_type": "code",
   "execution_count": 30,
   "id": "51e30844-d23e-4cdf-a1c4-77aab2a6816c",
   "metadata": {},
   "outputs": [
    {
     "data": {
      "application/vnd.jupyter.widget-view+json": {
       "model_id": "",
       "version_major": 2,
       "version_minor": 0
      },
      "text/plain": [
       "FloatProgress(value=0.0, bar_style='info', description='Progress:', layout=Layout(height='25px', width='50%'),…"
      ]
     },
     "metadata": {},
     "output_type": "display_data"
    },
    {
     "name": "stdout",
     "output_type": "stream",
     "text": [
      "+-------------------+------------+--------------+-------+-------------+-----------+-------------+\n",
      "|            trip_id|arrival_time|departure_time|stop_id|stop_sequence|pickup_type|drop_off_type|\n",
      "+-------------------+------------+--------------+-------+-------------+-----------+-------------+\n",
      "|1.TA.1-84-j19-1.1.H|    06:13:00|      06:13:00|8572249|            1|          0|            0|\n",
      "|1.TA.1-84-j19-1.1.H|    06:14:00|      06:14:00|8577508|            2|          0|            0|\n",
      "|1.TA.1-84-j19-1.1.H|    06:15:00|      06:15:00|8581070|            3|          0|            0|\n",
      "|1.TA.1-84-j19-1.1.H|    06:16:00|      06:16:00|8578360|            4|          0|            0|\n",
      "|1.TA.1-84-j19-1.1.H|    06:17:00|      06:17:00|8583448|            5|          0|            0|\n",
      "|1.TA.1-84-j19-1.1.H|    06:18:00|      06:19:00|8578359|            6|          0|            0|\n",
      "|1.TA.1-84-j19-1.1.H|    06:24:00|      06:24:00|8578358|            7|          0|            0|\n",
      "|1.TA.1-84-j19-1.1.H|    06:25:00|      06:25:00|8582802|            8|          0|            0|\n",
      "|1.TA.1-84-j19-1.1.H|    06:27:00|      06:27:00|8578348|            9|          0|            0|\n",
      "|1.TA.1-84-j19-1.1.H|    06:43:00|      06:43:00|8594994|           10|          0|            0|\n",
      "+-------------------+------------+--------------+-------+-------------+-----------+-------------+\n",
      "only showing top 10 rows"
     ]
    }
   ],
   "source": [
    "%%spark\n",
    "all_trips_tot = all_trips1\n",
    "all_trips_tot.show(10)"
   ]
  },
  {
   "cell_type": "code",
   "execution_count": 31,
   "id": "c413a444-3378-4fbf-965b-1bb1fd0c5a01",
   "metadata": {},
   "outputs": [
    {
     "data": {
      "application/vnd.jupyter.widget-view+json": {
       "model_id": "",
       "version_major": 2,
       "version_minor": 0
      },
      "text/plain": [
       "FloatProgress(value=0.0, bar_style='info', description='Progress:', layout=Layout(height='25px', width='50%'),…"
      ]
     },
     "metadata": {},
     "output_type": "display_data"
    },
    {
     "name": "stdout",
     "output_type": "stream",
     "text": [
      "+-----------+----------+--------------------+-------------------+---------------+------------+\n",
      "|   route_id|service_id|             trip_id|      trip_headsign|trip_short_name|direction_id|\n",
      "+-----------+----------+--------------------+-------------------+---------------+------------+\n",
      "| 1-85-j19-1|  TA+b0001| 2.TA.1-85-j19-1.1.H|Schöftland, Bahnhof|          85003|           0|\n",
      "|1-1-C-j19-1|  TA+b0001|5.TA.1-1-C-j19-1.3.R| Zofingen, Altachen|            108|           1|\n",
      "|1-1-C-j19-1|  TA+b0001|7.TA.1-1-C-j19-1.3.R| Zofingen, Altachen|            112|           1|\n",
      "|1-1-C-j19-1|  TA+b0001|9.TA.1-1-C-j19-1.3.R| Zofingen, Altachen|            116|           1|\n",
      "|1-1-C-j19-1|  TA+b0001|11.TA.1-1-C-j19-1...| Zofingen, Altachen|            120|           1|\n",
      "|1-1-C-j19-1|  TA+b0001|13.TA.1-1-C-j19-1...| Zofingen, Altachen|            124|           1|\n",
      "|1-1-C-j19-1|  TA+b0001|15.TA.1-1-C-j19-1...| Zofingen, Altachen|            128|           1|\n",
      "|1-1-C-j19-1|  TA+b0001|17.TA.1-1-C-j19-1...| Zofingen, Altachen|            132|           1|\n",
      "|1-1-C-j19-1|  TA+b0001|18.TA.1-1-C-j19-1...| Zofingen, Altachen|            134|           1|\n",
      "|1-1-C-j19-1|  TA+b0001|19.TA.1-1-C-j19-1...| Zofingen, Altachen|            136|           1|\n",
      "+-----------+----------+--------------------+-------------------+---------------+------------+\n",
      "only showing top 10 rows"
     ]
    }
   ],
   "source": [
    "%%spark\n",
    "routes1 = spark.read.csv('/data/sbb/csv/trips/2019/05/08/trips.txt', header=True)\n",
    "routes_tot = routes1\n",
    "routes_tot.show(10)"
   ]
  },
  {
   "cell_type": "code",
   "execution_count": 32,
   "id": "061248b3-c3e4-4c66-be5d-328549033169",
   "metadata": {},
   "outputs": [
    {
     "data": {
      "application/vnd.jupyter.widget-view+json": {
       "model_id": "",
       "version_major": 2,
       "version_minor": 0
      },
      "text/plain": [
       "FloatProgress(value=0.0, bar_style='info', description='Progress:', layout=Layout(height='25px', width='50%'),…"
      ]
     },
     "metadata": {},
     "output_type": "display_data"
    },
    {
     "name": "stdout",
     "output_type": "stream",
     "text": [
      "+--------------------+------------+--------------+------------+-------------+-----------+-------------+------------+----------+--------------------+--------------+---------------+------------+\n",
      "|             trip_id|arrival_time|departure_time|     stop_id|stop_sequence|pickup_type|drop_off_type|    route_id|service_id|             trip_id| trip_headsign|trip_short_name|direction_id|\n",
      "+--------------------+------------+--------------+------------+-------------+-----------+-------------+------------+----------+--------------------+--------------+---------------+------------+\n",
      "|1.TA.12-1-A-j19-1...|    01:30:00|      01:30:00|8505000:0:11|            1|          0|            0|12-1-A-j19-1|  TA+b099q|1.TA.12-1-A-j19-1...|        Sursee|          31100|           0|\n",
      "|1.TA.12-1-A-j19-1...|    01:35:00|      01:35:00| 8502021:0:1|            2|          0|            0|12-1-A-j19-1|  TA+b099q|1.TA.12-1-A-j19-1...|        Sursee|          31100|           0|\n",
      "|1.TA.12-1-A-j19-1...|    01:36:00|      01:37:00| 8502028:0:1|            3|          0|            0|12-1-A-j19-1|  TA+b099q|1.TA.12-1-A-j19-1...|        Sursee|          31100|           0|\n",
      "|1.TA.12-1-A-j19-1...|    01:39:00|      01:39:00| 8502012:0:1|            4|          0|            0|12-1-A-j19-1|  TA+b099q|1.TA.12-1-A-j19-1...|        Sursee|          31100|           0|\n",
      "|1.TA.12-1-A-j19-1...|    01:41:00|      01:41:00| 8502020:0:2|            5|          0|            0|12-1-A-j19-1|  TA+b099q|1.TA.12-1-A-j19-1...|        Sursee|          31100|           0|\n",
      "|1.TA.12-1-A-j19-1...|    01:47:00|      01:47:00| 8502009:0:2|            6|          0|            0|12-1-A-j19-1|  TA+b099q|1.TA.12-1-A-j19-1...|        Sursee|          31100|           0|\n",
      "|1.TA.12-1-A-j19-1...|    01:50:00|      01:50:00| 8502008:0:1|            7|          0|            0|12-1-A-j19-1|  TA+b099q|1.TA.12-1-A-j19-1...|        Sursee|          31100|           0|\n",
      "|1.TA.12-1-A-j19-1...|    01:52:00|      01:52:00| 8502011:0:2|            8|          0|            0|12-1-A-j19-1|  TA+b099q|1.TA.12-1-A-j19-1...|        Sursee|          31100|           0|\n",
      "|1.TA.12-1-A-j19-1...|    01:56:00|      01:56:00| 8502007:0:2|            9|          0|            0|12-1-A-j19-1|  TA+b099q|1.TA.12-1-A-j19-1...|        Sursee|          31100|           0|\n",
      "|1.TA.16-440-j19-1...|    06:30:00|      06:30:00|     8574776|            1|          0|            0|16-440-j19-1|  TA+b0007|1.TA.16-440-j19-1...|Flums, Bahnhof|          44001|           0|\n",
      "+--------------------+------------+--------------+------------+-------------+-----------+-------------+------------+----------+--------------------+--------------+---------------+------------+\n",
      "only showing top 10 rows"
     ]
    }
   ],
   "source": [
    "%%spark\n",
    "trips_with_routes = all_trips_tot.join(routes_tot, all_trips_tot.trip_id == routes_tot.trip_id)\n",
    "trips_with_routes.show(10)"
   ]
  },
  {
   "cell_type": "code",
   "execution_count": 33,
   "id": "a06f0626-4474-46d2-8507-bde9add5ae01",
   "metadata": {},
   "outputs": [
    {
     "data": {
      "application/vnd.jupyter.widget-view+json": {
       "model_id": "",
       "version_major": 2,
       "version_minor": 0
      },
      "text/plain": [
       "FloatProgress(value=0.0, bar_style='info', description='Progress:', layout=Layout(height='25px', width='50%'),…"
      ]
     },
     "metadata": {},
     "output_type": "display_data"
    },
    {
     "name": "stdout",
     "output_type": "stream",
     "text": [
      "+--------------------+----------+\n",
      "|             trip_id|service_id|\n",
      "+--------------------+----------+\n",
      "|1.TA.12-1-A-j19-1...|  TA+b099q|\n",
      "|1.TA.16-440-j19-1...|  TA+b0007|\n",
      "|1.TA.23-792-j19-1...|  TA+b000o|\n",
      "|1.TA.26-18-j19-1.1.H|  TA+b0b46|\n",
      "|1.TA.26-833-j19-1...|  TA+b002d|\n",
      "|1.TA.26-853-j19-1...|  TA+b001t|\n",
      "|1.TA.30-32-Y-j19-...|  TA+b09sz|\n",
      "| 1.TA.5-21-j19-1.1.H|  TA+b08w1|\n",
      "|1.TA.6-M13-j19-1.1.H|  TA+b0bou|\n",
      "|1.TA.61-211-Y-j19...|  TA+b0786|\n",
      "+--------------------+----------+\n",
      "only showing top 10 rows"
     ]
    }
   ],
   "source": [
    "%%spark\n",
    "trips_with_routes = trips_with_routes.select(all_trips_tot.trip_id, 'service_id').distinct()\n",
    "trips_with_routes.show(10)"
   ]
  },
  {
   "cell_type": "code",
   "execution_count": 34,
   "id": "81659e3d-1c04-485d-9f32-f13e3701540d",
   "metadata": {},
   "outputs": [
    {
     "data": {
      "application/vnd.jupyter.widget-view+json": {
       "model_id": "",
       "version_major": 2,
       "version_minor": 0
      },
      "text/plain": [
       "FloatProgress(value=0.0, bar_style='info', description='Progress:', layout=Layout(height='25px', width='50%'),…"
      ]
     },
     "metadata": {},
     "output_type": "display_data"
    },
    {
     "name": "stdout",
     "output_type": "stream",
     "text": [
      "+----------+------+-------+---------+--------+------+--------+------+----------+--------+\n",
      "|service_id|monday|tuesday|wednesday|thursday|friday|saturday|sunday|start_date|end_date|\n",
      "+----------+------+-------+---------+--------+------+--------+------+----------+--------+\n",
      "|  TA+b06hv|     0|      0|        0|       0|     0|       0|     1|  20181209|20191214|\n",
      "|  TA+b0036|     0|      0|        0|       0|     0|       0|     1|  20181209|20191214|\n",
      "|  TA+b0ha1|     0|      0|        0|       0|     0|       1|     0|  20181209|20191214|\n",
      "|  TA+b0nha|     1|      1|        1|       1|     0|       0|     1|  20181209|20191214|\n",
      "|  TA+b022q|     1|      1|        1|       1|     0|       0|     0|  20181209|20191214|\n",
      "|  TA+b025m|     0|      0|        0|       0|     1|       0|     0|  20181209|20191214|\n",
      "|  TA+b0ms4|     0|      0|        0|       0|     0|       0|     1|  20181209|20191214|\n",
      "|  TA+b0nvl|     0|      0|        0|       0|     0|       1|     1|  20181209|20191214|\n",
      "|  TA+b0nz0|     0|      0|        0|       0|     1|       1|     0|  20181209|20191214|\n",
      "|  TA+b0mx6|     0|      0|        0|       0|     0|       1|     1|  20181209|20191214|\n",
      "+----------+------+-------+---------+--------+------+--------+------+----------+--------+\n",
      "only showing top 10 rows"
     ]
    }
   ],
   "source": [
    "%%spark\n",
    "cal1 = spark.read.csv('/data/sbb/csv/calendar/2019/05/08/calendar.txt', header=True)\n",
    "cal_tot = cal1.distinct()\n",
    "cal_tot.show(10)"
   ]
  },
  {
   "cell_type": "code",
   "execution_count": 35,
   "id": "f9a69104-3457-44dc-a10e-bdc9df43ad19",
   "metadata": {},
   "outputs": [
    {
     "data": {
      "application/vnd.jupyter.widget-view+json": {
       "model_id": "",
       "version_major": 2,
       "version_minor": 0
      },
      "text/plain": [
       "FloatProgress(value=0.0, bar_style='info', description='Progress:', layout=Layout(height='25px', width='50%'),…"
      ]
     },
     "metadata": {},
     "output_type": "display_data"
    },
    {
     "name": "stdout",
     "output_type": "stream",
     "text": [
      "+----------+------+-------+---------+--------+------+--------+------+----------+--------+\n",
      "|service_id|monday|tuesday|wednesday|thursday|friday|saturday|sunday|start_date|end_date|\n",
      "+----------+------+-------+---------+--------+------+--------+------+----------+--------+\n",
      "|  TA+b0nha|     1|      1|        1|       1|     0|       0|     1|  20181209|20191214|\n",
      "|  TA+b022q|     1|      1|        1|       1|     0|       0|     0|  20181209|20191214|\n",
      "|  TA+b025m|     0|      0|        0|       0|     1|       0|     0|  20181209|20191214|\n",
      "|  TA+b0nz0|     0|      0|        0|       0|     1|       1|     0|  20181209|20191214|\n",
      "|  TA+b0o2i|     1|      0|        0|       1|     0|       0|     0|  20181209|20191214|\n",
      "|  TA+b0obi|     1|      1|        1|       1|     1|       0|     0|  20181209|20191214|\n",
      "|  TA+b0obp|     0|      1|        0|       0|     1|       1|     1|  20181209|20191214|\n",
      "|  TA+b0gtx|     1|      1|        1|       1|     1|       0|     1|  20181209|20191214|\n",
      "|  TA+b0g2l|     1|      1|        0|       0|     0|       1|     1|  20181209|20191214|\n",
      "|  TA+b0kb5|     1|      1|        0|       0|     0|       0|     0|  20181209|20191214|\n",
      "+----------+------+-------+---------+--------+------+--------+------+----------+--------+\n",
      "only showing top 10 rows"
     ]
    }
   ],
   "source": [
    "%%spark\n",
    "cal_filtered = cal_tot.filter((cal_tot.monday == 1) | (cal_tot.tuesday == 1) | (cal_tot.wednesday == 1) | (cal_tot.thursday == 1) | (cal_tot.friday == 1))\n",
    "cal_filtered_dates = cal_filtered.filter((cal_tot.start_date <= '20190513') & (cal_tot.end_date >= '20190518'))\n",
    "cal_filtered_dates.show(10)"
   ]
  },
  {
   "cell_type": "code",
   "execution_count": 36,
   "id": "ea4bd72f-abbc-46d0-8b74-3301cfeb85a3",
   "metadata": {},
   "outputs": [
    {
     "data": {
      "application/vnd.jupyter.widget-view+json": {
       "model_id": "",
       "version_major": 2,
       "version_minor": 0
      },
      "text/plain": [
       "FloatProgress(value=0.0, bar_style='info', description='Progress:', layout=Layout(height='25px', width='50%'),…"
      ]
     },
     "metadata": {},
     "output_type": "display_data"
    }
   ],
   "source": [
    "%%spark\n",
    "service_ids = cal_filtered_dates.drop('start_date', 'end_date', 'saturday', 'sunday')"
   ]
  },
  {
   "cell_type": "code",
   "execution_count": 37,
   "id": "172f16af-cd08-46b5-aa40-d3fd252f1ff6",
   "metadata": {},
   "outputs": [
    {
     "data": {
      "application/vnd.jupyter.widget-view+json": {
       "model_id": "",
       "version_major": 2,
       "version_minor": 0
      },
      "text/plain": [
       "FloatProgress(value=0.0, bar_style='info', description='Progress:', layout=Layout(height='25px', width='50%'),…"
      ]
     },
     "metadata": {},
     "output_type": "display_data"
    },
    {
     "name": "stdout",
     "output_type": "stream",
     "text": [
      "+--------------------+----------+------+-------+---------+--------+------+\n",
      "|             trip_id|service_id|monday|tuesday|wednesday|thursday|friday|\n",
      "+--------------------+----------+------+-------+---------+--------+------+\n",
      "|1.TA.12-1-A-j19-1...|  TA+b099q|     0|      1|        1|       0|     1|\n",
      "|1.TA.16-440-j19-1...|  TA+b0007|     1|      1|        1|       1|     1|\n",
      "|1.TA.23-792-j19-1...|  TA+b000o|     0|      0|        0|       0|     1|\n",
      "|1.TA.26-18-j19-1.1.H|  TA+b0b46|     1|      1|        1|       1|     1|\n",
      "|1.TA.26-833-j19-1...|  TA+b002d|     0|      0|        0|       0|     1|\n",
      "|1.TA.30-32-Y-j19-...|  TA+b09sz|     0|      1|        0|       0|     0|\n",
      "|1.TA.6-M13-j19-1.1.H|  TA+b0bou|     0|      0|        0|       0|     1|\n",
      "|1.TA.61-211-Y-j19...|  TA+b0786|     1|      1|        1|       1|     1|\n",
      "|1.TA.61-40-Y-j19-...|  TA+b0001|     1|      1|        1|       1|     1|\n",
      "|1.TA.61-479-Y-j19...|  TA+b04d0|     0|      0|        1|       1|     1|\n",
      "+--------------------+----------+------+-------+---------+--------+------+\n",
      "only showing top 10 rows"
     ]
    }
   ],
   "source": [
    "%%spark\n",
    "service_ids.select('service_id')\n",
    "trips_in_period = trips_with_routes.join(service_ids, service_ids.service_id == trips_with_routes.service_id,'inner').drop(trips_with_routes.service_id).distinct()\n",
    "trips_in_period.show(10)"
   ]
  },
  {
   "cell_type": "code",
   "execution_count": 38,
   "id": "bf4b3435-edbc-431f-aecf-93b6cf750d11",
   "metadata": {},
   "outputs": [
    {
     "data": {
      "application/vnd.jupyter.widget-view+json": {
       "model_id": "",
       "version_major": 2,
       "version_minor": 0
      },
      "text/plain": [
       "FloatProgress(value=0.0, bar_style='info', description='Progress:', layout=Layout(height='25px', width='50%'),…"
      ]
     },
     "metadata": {},
     "output_type": "display_data"
    },
    {
     "name": "stdout",
     "output_type": "stream",
     "text": [
      "+------------+--------------+------------+-------------+-----------+-------------+--------------------+----------+------+-------+---------+--------+------+\n",
      "|arrival_time|departure_time|     stop_id|stop_sequence|pickup_type|drop_off_type|             trip_id|service_id|monday|tuesday|wednesday|thursday|friday|\n",
      "+------------+--------------+------------+-------------+-----------+-------------+--------------------+----------+------+-------+---------+--------+------+\n",
      "|    01:30:00|      01:30:00|8505000:0:11|            1|          0|            0|1.TA.12-1-A-j19-1...|  TA+b099q|     0|      1|        1|       0|     1|\n",
      "|    01:35:00|      01:35:00| 8502021:0:1|            2|          0|            0|1.TA.12-1-A-j19-1...|  TA+b099q|     0|      1|        1|       0|     1|\n",
      "|    01:36:00|      01:37:00| 8502028:0:1|            3|          0|            0|1.TA.12-1-A-j19-1...|  TA+b099q|     0|      1|        1|       0|     1|\n",
      "|    01:39:00|      01:39:00| 8502012:0:1|            4|          0|            0|1.TA.12-1-A-j19-1...|  TA+b099q|     0|      1|        1|       0|     1|\n",
      "|    01:41:00|      01:41:00| 8502020:0:2|            5|          0|            0|1.TA.12-1-A-j19-1...|  TA+b099q|     0|      1|        1|       0|     1|\n",
      "|    01:47:00|      01:47:00| 8502009:0:2|            6|          0|            0|1.TA.12-1-A-j19-1...|  TA+b099q|     0|      1|        1|       0|     1|\n",
      "|    01:50:00|      01:50:00| 8502008:0:1|            7|          0|            0|1.TA.12-1-A-j19-1...|  TA+b099q|     0|      1|        1|       0|     1|\n",
      "|    01:52:00|      01:52:00| 8502011:0:2|            8|          0|            0|1.TA.12-1-A-j19-1...|  TA+b099q|     0|      1|        1|       0|     1|\n",
      "|    01:56:00|      01:56:00| 8502007:0:2|            9|          0|            0|1.TA.12-1-A-j19-1...|  TA+b099q|     0|      1|        1|       0|     1|\n",
      "|    06:30:00|      06:30:00|     8574776|            1|          0|            0|1.TA.16-440-j19-1...|  TA+b0007|     1|      1|        1|       1|     1|\n",
      "+------------+--------------+------------+-------------+-----------+-------------+--------------------+----------+------+-------+---------+--------+------+\n",
      "only showing top 10 rows"
     ]
    }
   ],
   "source": [
    "%%spark\n",
    "final_trips = all_trips_tot.join(trips_in_period, trips_in_period.trip_id == all_trips_tot.trip_id).distinct().drop(all_trips_tot.trip_id)\n",
    "final_trips.show(10)"
   ]
  },
  {
   "cell_type": "code",
   "execution_count": 39,
   "id": "eaa7b4a4-257c-4f14-a99b-3a62b365f2cf",
   "metadata": {},
   "outputs": [
    {
     "data": {
      "application/vnd.jupyter.widget-view+json": {
       "model_id": "",
       "version_major": 2,
       "version_minor": 0
      },
      "text/plain": [
       "FloatProgress(value=0.0, bar_style='info', description='Progress:', layout=Layout(height='25px', width='50%'),…"
      ]
     },
     "metadata": {},
     "output_type": "display_data"
    },
    {
     "name": "stdout",
     "output_type": "stream",
     "text": [
      "10862563"
     ]
    }
   ],
   "source": [
    "%%spark\n",
    "all_trips_tot.count()"
   ]
  },
  {
   "cell_type": "code",
   "execution_count": 40,
   "id": "28272097-b7e1-422c-a00a-380855fb8348",
   "metadata": {},
   "outputs": [
    {
     "data": {
      "application/vnd.jupyter.widget-view+json": {
       "model_id": "",
       "version_major": 2,
       "version_minor": 0
      },
      "text/plain": [
       "FloatProgress(value=0.0, bar_style='info', description='Progress:', layout=Layout(height='25px', width='50%'),…"
      ]
     },
     "metadata": {},
     "output_type": "display_data"
    },
    {
     "name": "stdout",
     "output_type": "stream",
     "text": [
      "7008267"
     ]
    }
   ],
   "source": [
    "%%spark\n",
    "final_trips.count()"
   ]
  },
  {
   "cell_type": "markdown",
   "id": "c7b1ddbc-9e4b-4191-8f7d-81cee957f5f5",
   "metadata": {},
   "source": [
    "### Considering working hours from 8:00 to 19:59"
   ]
  },
  {
   "cell_type": "code",
   "execution_count": 43,
   "id": "0fd92098-e4ae-4de5-a932-c3fd9d241597",
   "metadata": {},
   "outputs": [
    {
     "data": {
      "application/vnd.jupyter.widget-view+json": {
       "model_id": "",
       "version_major": 2,
       "version_minor": 0
      },
      "text/plain": [
       "FloatProgress(value=0.0, bar_style='info', description='Progress:', layout=Layout(height='25px', width='50%'),…"
      ]
     },
     "metadata": {},
     "output_type": "display_data"
    },
    {
     "name": "stdout",
     "output_type": "stream",
     "text": [
      "+------------+--------------+-----------+-------------+-----------+-------------+--------------------+----------+------+-------+---------+--------+------+\n",
      "|arrival_time|departure_time|stop_id    |stop_sequence|pickup_type|drop_off_type|trip_id             |service_id|monday|tuesday|wednesday|thursday|friday|\n",
      "+------------+--------------+-----------+-------------+-----------+-------------+--------------------+----------+------+-------+---------+--------+------+\n",
      "|10:41:00    |10:41:00      |8503064    |1            |0          |0            |1.TA.26-18-j19-1.1.H|TA+b0b46  |1     |1      |1        |1       |1     |\n",
      "|10:45:00    |10:45:00      |8503065:0:1|2            |0          |0            |1.TA.26-18-j19-1.1.H|TA+b0b46  |1     |1      |1        |1       |1     |\n",
      "|10:46:00    |10:46:00      |8503074    |3            |0          |0            |1.TA.26-18-j19-1.1.H|TA+b0b46  |1     |1      |1        |1       |1     |\n",
      "|10:47:00    |10:47:00      |8503068    |4            |0          |0            |1.TA.26-18-j19-1.1.H|TA+b0b46  |1     |1      |1        |1       |1     |\n",
      "|10:48:00    |10:48:00      |8503066    |5            |0          |0            |1.TA.26-18-j19-1.1.H|TA+b0b46  |1     |1      |1        |1       |1     |\n",
      "|10:50:00    |10:50:00      |8503075    |6            |0          |0            |1.TA.26-18-j19-1.1.H|TA+b0b46  |1     |1      |1        |1       |1     |\n",
      "|10:52:00    |10:52:00      |8503067    |7            |0          |0            |1.TA.26-18-j19-1.1.H|TA+b0b46  |1     |1      |1        |1       |1     |\n",
      "|10:53:00    |10:53:00      |8503077    |8            |0          |0            |1.TA.26-18-j19-1.1.H|TA+b0b46  |1     |1      |1        |1       |1     |\n",
      "|10:54:00    |10:54:00      |8503078    |9            |0          |0            |1.TA.26-18-j19-1.1.H|TA+b0b46  |1     |1      |1        |1       |1     |\n",
      "|10:57:00    |10:57:00      |8591315    |10           |0          |0            |1.TA.26-18-j19-1.1.H|TA+b0b46  |1     |1      |1        |1       |1     |\n",
      "+------------+--------------+-----------+-------------+-----------+-------------+--------------------+----------+------+-------+---------+--------+------+\n",
      "only showing top 10 rows"
     ]
    }
   ],
   "source": [
    "%%spark\n",
    "import pyspark.sql.functions as F\n",
    "\n",
    "final_trips = final_trips.filter(F.hour(final_trips.arrival_time).between(9,17) & F.hour(final_trips.departure_time).between(9,17))\n",
    "final_trips.show(10, truncate=False)"
   ]
  },
  {
   "cell_type": "code",
   "execution_count": 52,
   "id": "2b7d0396-6a62-420f-b98f-17bc011f8624",
   "metadata": {},
   "outputs": [
    {
     "data": {
      "application/vnd.jupyter.widget-view+json": {
       "model_id": "",
       "version_major": 2,
       "version_minor": 0
      },
      "text/plain": [
       "FloatProgress(value=0.0, bar_style='info', description='Progress:', layout=Layout(height='25px', width='50%'),…"
      ]
     },
     "metadata": {},
     "output_type": "display_data"
    },
    {
     "name": "stdout",
     "output_type": "stream",
     "text": [
      "3777527"
     ]
    }
   ],
   "source": [
    "%%spark\n",
    "final_trips.count()"
   ]
  },
  {
   "cell_type": "markdown",
   "id": "d27bffee-c2b3-49eb-9940-a696c61f09f6",
   "metadata": {},
   "source": [
    "### Keeping only trip_ids that contains a stop in the area of Zurich"
   ]
  },
  {
   "cell_type": "code",
   "execution_count": 54,
   "id": "8ee6ae76-3ee7-4c37-81dc-b229e29669e2",
   "metadata": {},
   "outputs": [
    {
     "data": {
      "application/vnd.jupyter.widget-view+json": {
       "model_id": "",
       "version_major": 2,
       "version_minor": 0
      },
      "text/plain": [
       "FloatProgress(value=0.0, bar_style='info', description='Progress:', layout=Layout(height='25px', width='50%'),…"
      ]
     },
     "metadata": {},
     "output_type": "display_data"
    },
    {
     "name": "stdout",
     "output_type": "stream",
     "text": [
      "+--------------------+\n",
      "|             trip_id|\n",
      "+--------------------+\n",
      "|1.TA.26-18-j19-1.1.H|\n",
      "|1.TA.63-138-Y-j19...|\n",
      "|1001.TA.26-213-j1...|\n",
      "|1014.TA.26-520-j1...|\n",
      "|1017.TA.26-151-j1...|\n",
      "|1023.TA.26-4-j19-...|\n",
      "|1029.TA.26-LAF-j1...|\n",
      "|103.TA.26-510-j19...|\n",
      "|1039.TA.26-200-j1...|\n",
      "|1082.TA.26-201-j1...|\n",
      "+--------------------+\n",
      "only showing top 10 rows"
     ]
    }
   ],
   "source": [
    "%%spark\n",
    "final_close_trips_ids = final_trips.join(close_stops, final_trips.stop_id == close_stops.stop_id , 'inner').select('trip_id').distinct()\n",
    "final_close_trips_ids.show(10)"
   ]
  },
  {
   "cell_type": "code",
   "execution_count": 87,
   "id": "e0c6b7dc-e394-412a-8a34-0d3cd6b7f9b8",
   "metadata": {},
   "outputs": [
    {
     "data": {
      "application/vnd.jupyter.widget-view+json": {
       "model_id": "",
       "version_major": 2,
       "version_minor": 0
      },
      "text/plain": [
       "FloatProgress(value=0.0, bar_style='info', description='Progress:', layout=Layout(height='25px', width='50%'),…"
      ]
     },
     "metadata": {},
     "output_type": "display_data"
    },
    {
     "name": "stdout",
     "output_type": "stream",
     "text": [
      "+------------+--------------+-------------+-----------+-------------+----------+------+-------+---------+--------+------+--------------------+-------+\n",
      "|arrival_time|departure_time|stop_sequence|pickup_type|drop_off_type|service_id|monday|tuesday|wednesday|thursday|friday|             trip_id|stop_id|\n",
      "+------------+--------------+-------------+-----------+-------------+----------+------+-------+---------+--------+------+--------------------+-------+\n",
      "|    11:07:00|      11:07:00|           15|          0|            0|  TA+b0ltl|     1|      1|        1|       1|     1|1023.TA.26-4-j19-...|8591282|\n",
      "|    12:35:00|      12:35:00|            1|          0|            0|  TA+b0831|     0|      0|        0|       1|     0|1419.TA.26-LAF-j1...|8503082|\n",
      "|    16:40:00|      16:40:00|            5|          0|            0|  TA+b0c2a|     1|      0|        0|       0|     0|1901.TA.26-2-A-j1...|8576197|\n",
      "|    09:16:00|      09:16:00|           11|          0|            0|  TA+b03hu|     1|      1|        1|       1|     1|274.TA.26-184-j19...|8590474|\n",
      "|    16:03:00|      16:05:00|            3|          0|            0|  TA+b074n|     0|      0|        1|       0|     0|391.TA.26-787-j19...|8590539|\n",
      "|    14:59:00|      14:59:00|           11|          0|            0|  TA+b0lti|     1|      1|        1|       1|     1|424.TA.26-17-j19-...|8591110|\n",
      "|    09:01:00|      09:01:00|            3|          0|            0|  TA+b0f30|     1|      1|        1|       1|     1|426.TA.26-131-j19...|8593250|\n",
      "|    11:04:00|      11:04:00|           12|          0|            0|  TA+b05my|     1|      0|        0|       0|     0|456.TA.26-2-A-j19...|8591079|\n",
      "|    17:52:00|      17:52:00|            2|          0|            0|  TA+b06ge|     1|      1|        1|       1|     1|458.TA.26-80-j19-...|8591272|\n",
      "|    09:49:00|      09:49:00|           17|          0|            0|  TA+b0a3r|     0|      0|        0|       0|     1|545.TA.26-485-j19...|8576257|\n",
      "|    15:28:00|      15:28:00|            1|          0|            0|  TA+b0lti|     1|      1|        1|       1|     1|59.TA.26-2-A-j19-...|8590318|\n",
      "|    10:36:00|      10:36:00|           17|          0|            0|  TA+b074v|     0|      0|        0|       0|     1|632.TA.26-521-j19...|8573211|\n",
      "|    10:04:00|      10:04:00|            2|          0|            0|  TA+b092m|     1|      1|        1|       1|     1| 7.TA.1-44-j19-1.1.R|8591891|\n",
      "|    13:31:00|      13:31:00|            3|          0|            0|  TA+b0f2x|     1|      1|        1|       1|     1|783.TA.26-759-j19...|8573214|\n",
      "|    15:08:00|      15:08:00|           11|          0|            0|  TA+b0k4k|     1|      0|        1|       1|     1|199.TA.26-40-j19-...|8591103|\n",
      "|    12:52:00|      12:52:00|            5|          0|            0|  TA+b0amm|     0|      0|        0|       0|     1|270.TA.79-228-j19...|8573730|\n",
      "|    15:01:00|      15:01:00|           10|          0|            0|  TA+b0ll3|     1|      1|        1|       1|     0|348.TA.26-521-j19...|8573226|\n",
      "|    10:00:00|      10:00:00|           12|          0|            0|  TA+b0a3r|     0|      0|        0|       0|     1|3571.TA.26-9-B-j1...|8591255|\n",
      "|    09:48:00|      09:48:00|           13|          0|            0|  TA+b0003|     1|      1|        1|       1|     1|359.TA.26-72-j19-...|8591145|\n",
      "|    17:38:00|      17:38:00|            9|          0|            0|  TA+b0lig|     1|      1|        1|       1|     0|442.TA.1-245-j19-...|8580302|\n",
      "+------------+--------------+-------------+-----------+-------------+----------+------+-------+---------+--------+------+--------------------+-------+\n",
      "only showing top 20 rows"
     ]
    }
   ],
   "source": [
    "%%spark\n",
    "final_close_trips1 = final_trips.join(final_close_trips_ids, final_trips.trip_id == final_close_trips_ids.trip_id).drop(final_close_trips_ids.trip_id).distinct()\n",
    "final_close_trips2 = final_close_trips1.join(all_stops_distance, all_stops_distance.stop_id == final_close_trips1.stop_id).drop(final_close_trips1.stop_id).distinct()\n",
    "final_close_trips_filtered = final_close_trips2.filter(all_stops_distance['distance'] <= 18000).drop('a','distance', 'lat', 'lon', 'stop_name')\n",
    "final_close_trips_filtered.show()"
   ]
  },
  {
   "cell_type": "code",
   "execution_count": 88,
   "id": "fbb1f767-f91f-4f8f-8926-f977ec338c6a",
   "metadata": {},
   "outputs": [
    {
     "data": {
      "application/vnd.jupyter.widget-view+json": {
       "model_id": "",
       "version_major": 2,
       "version_minor": 0
      },
      "text/plain": [
       "FloatProgress(value=0.0, bar_style='info', description='Progress:', layout=Layout(height='25px', width='50%'),…"
      ]
     },
     "metadata": {},
     "output_type": "display_data"
    },
    {
     "name": "stdout",
     "output_type": "stream",
     "text": [
      "535866"
     ]
    }
   ],
   "source": [
    "%%spark\n",
    "final_close_trips_filtered.cache()\n",
    "final_close_trips_filtered.count()\n",
    "#final_close_trips.count()"
   ]
  },
  {
   "cell_type": "markdown",
   "id": "a8b23f30-e244-42c0-bb7b-1fba9b4204e4",
   "metadata": {},
   "source": [
    "## Create timetable"
   ]
  },
  {
   "cell_type": "markdown",
   "id": "47b40790-05d5-42f1-9dc3-fe39e8b94794",
   "metadata": {},
   "source": [
    "As request by the paper "
   ]
  },
  {
   "cell_type": "markdown",
   "id": "581363da-a71e-4222-b2e9-0d03e5a71a22",
   "metadata": {},
   "source": [
    "### stops Table"
   ]
  },
  {
   "cell_type": "code",
   "execution_count": 57,
   "id": "41ada792-807b-427d-bd06-51cba02735ca",
   "metadata": {},
   "outputs": [
    {
     "data": {
      "application/vnd.jupyter.widget-view+json": {
       "model_id": "",
       "version_major": 2,
       "version_minor": 0
      },
      "text/plain": [
       "FloatProgress(value=0.0, bar_style='info', description='Progress:', layout=Layout(height='25px', width='50%'),…"
      ]
     },
     "metadata": {},
     "output_type": "display_data"
    },
    {
     "name": "stdout",
     "output_type": "stream",
     "text": [
      "+-----------+\n",
      "|    stop_id|\n",
      "+-----------+\n",
      "|8505004:0:4|\n",
      "|    8591190|\n",
      "|    8506895|\n",
      "|    8573729|\n",
      "|    8589111|\n",
      "|    8590819|\n",
      "|    8502508|\n",
      "|8506010:0:2|\n",
      "|8516218:0:1|\n",
      "|8503306:0:2|\n",
      "+-----------+\n",
      "only showing top 10 rows"
     ]
    }
   ],
   "source": [
    "%%spark\n",
    "stops_table = final_close_trips_filtered.select(final_close_trips_filtered.stop_id).distinct()\n",
    "stops_table.show(10)"
   ]
  },
  {
   "cell_type": "code",
   "execution_count": 58,
   "id": "17618d0d-4616-4bcb-ba3b-f9ff0b4057f1",
   "metadata": {},
   "outputs": [
    {
     "data": {
      "application/vnd.jupyter.widget-view+json": {
       "model_id": "",
       "version_major": 2,
       "version_minor": 0
      },
      "text/plain": [
       "FloatProgress(value=0.0, bar_style='info', description='Progress:', layout=Layout(height='25px', width='50%'),…"
      ]
     },
     "metadata": {},
     "output_type": "display_data"
    },
    {
     "data": {
      "application/vnd.jupyter.widget-view+json": {
       "model_id": "",
       "version_major": 2,
       "version_minor": 0
      },
      "text/plain": [
       "FloatProgress(value=0.0, bar_style='info', description='Progress:', layout=Layout(height='25px', width='50%'),…"
      ]
     },
     "metadata": {},
     "output_type": "display_data"
    }
   ],
   "source": [
    "%%spark -o all_stops\n",
    "\n",
    "all_stops = spark.read.csv('/data/sbb/csv/allstops/stop_locations.csv')\n",
    "\n",
    "all_stops = all_stops.withColumnRenamed('_c0','stop_id')\n",
    "all_stops = all_stops.withColumnRenamed('_c1','stop_name')\n",
    "all_stops = all_stops.withColumnRenamed('_c2','stop_lat')\n",
    "all_stops = all_stops.withColumnRenamed('_c3','stop_lon')\n",
    "all_stops = all_stops.withColumnRenamed('_c4','location_type')\n",
    "all_stops = all_stops.withColumnRenamed('_c5','parent_station')\n",
    "\n",
    "all_stops = all_stops.join(stops_table, \"stop_id\" ,\"inner\")"
   ]
  },
  {
   "cell_type": "code",
   "execution_count": 59,
   "id": "bc43d48e-7eb6-426e-a402-0b2c3c1a0572",
   "metadata": {
    "tags": []
   },
   "outputs": [],
   "source": [
    "for i in all_stops[\"stop_id\"]:\n",
    "    if \"Parent\" in i:\n",
    "        print(i)"
   ]
  },
  {
   "cell_type": "code",
   "execution_count": 60,
   "id": "f5eb292e-d331-44b3-8951-de62f1f96674",
   "metadata": {},
   "outputs": [],
   "source": [
    "\n",
    "close_stops_map = all_stops.groupby('stop_id')[['stop_name', 'stop_lat', 'stop_lon', 'parent_station']].apply(lambda g: g.values.tolist()).to_dict()\n",
    "names_cols = ['stop_name', 'stop_lat', 'stop_lon', 'parent_station']\n",
    "\n",
    "stops_final = close_stops_map.copy()\n",
    "\n",
    "for k,v in close_stops_map.items():\n",
    "    newdict = {}\n",
    "    for ind, element in enumerate(v[0]):\n",
    "        newdict[names_cols[ind]] = element\n",
    "        if names_cols[ind] == \"parent_station\" and isinstance(element, str):\n",
    "            if element[:6]==\"Parent\":\n",
    "                element = element[6:]\n",
    "                newdict[names_cols[ind]] = element\n",
    "            if element[-1]==\"P\":\n",
    "                element = element[:-1]\n",
    "                newdict[names_cols[ind]] = element\n",
    "            if element != str(int(element)):\n",
    "                print(element)\n",
    "    stops_final[k] = newdict\n",
    "\n"
   ]
  },
  {
   "cell_type": "code",
   "execution_count": 61,
   "id": "b907f9ad-5daa-432d-ad7c-8793df4de189",
   "metadata": {},
   "outputs": [],
   "source": [
    "#Line to save the data - commented out as already saved\n",
    "#pickle.dump(stops_final, open(path_data+\"stops.pickle\", \"wb\"))"
   ]
  },
  {
   "cell_type": "markdown",
   "id": "d8cd9244-fc60-4c1c-9403-0605f90db681",
   "metadata": {},
   "source": [
    "### connections Table"
   ]
  },
  {
   "cell_type": "code",
   "execution_count": 62,
   "id": "871d571d-2797-4284-8c80-41a48fdf9927",
   "metadata": {},
   "outputs": [
    {
     "data": {
      "application/vnd.jupyter.widget-view+json": {
       "model_id": "",
       "version_major": 2,
       "version_minor": 0
      },
      "text/plain": [
       "FloatProgress(value=0.0, bar_style='info', description='Progress:', layout=Layout(height='25px', width='50%'),…"
      ]
     },
     "metadata": {},
     "output_type": "display_data"
    },
    {
     "name": "stdout",
     "output_type": "stream",
     "text": [
      "+--------------------+------+-------+---------+--------+------+\n",
      "|             trip_id|monday|tuesday|wednesday|thursday|friday|\n",
      "+--------------------+------+-------+---------+--------+------+\n",
      "|1.TA.26-18-j19-1.1.H|     1|      1|        1|       1|     1|\n",
      "|1.TA.63-138-Y-j19...|     0|      0|        1|       0|     0|\n",
      "|1001.TA.26-213-j1...|     0|      0|        0|       0|     1|\n",
      "|1014.TA.26-520-j1...|     1|      1|        1|       1|     0|\n",
      "|1017.TA.26-151-j1...|     1|      1|        1|       1|     0|\n",
      "|1023.TA.26-4-j19-...|     1|      1|        1|       1|     1|\n",
      "|1029.TA.26-LAF-j1...|     1|      1|        1|       1|     0|\n",
      "|103.TA.26-510-j19...|     0|      0|        0|       0|     1|\n",
      "|1039.TA.26-200-j1...|     0|      0|        0|       0|     1|\n",
      "|1082.TA.26-201-j1...|     0|      0|        0|       0|     1|\n",
      "+--------------------+------+-------+---------+--------+------+\n",
      "only showing top 10 rows"
     ]
    }
   ],
   "source": [
    "%%spark\n",
    "trip_ids_with_days_table = final_close_trips_filtered.select('trip_id', 'monday', 'tuesday', 'wednesday', 'thursday', 'friday').distinct()\n",
    "trip_ids_with_days_table.show(10)"
   ]
  },
  {
   "cell_type": "code",
   "execution_count": 63,
   "id": "9dc838ba-d764-4363-a438-02fbfbe220bf",
   "metadata": {},
   "outputs": [
    {
     "data": {
      "application/vnd.jupyter.widget-view+json": {
       "model_id": "",
       "version_major": 2,
       "version_minor": 0
      },
      "text/plain": [
       "FloatProgress(value=0.0, bar_style='info', description='Progress:', layout=Layout(height='25px', width='50%'),…"
      ]
     },
     "metadata": {},
     "output_type": "display_data"
    },
    {
     "name": "stdout",
     "output_type": "stream",
     "text": [
      "+----------------+--------------+------------+-------------+--------------------+\n",
      "|old_arrival_time|departure_time|departure_id|stop_sequence|             trip_id|\n",
      "+----------------+--------------+------------+-------------+--------------------+\n",
      "|        15:10:00|      15:10:00|     8573710|            1|1.TA.1-245-j19-1.1.H|\n",
      "|        15:11:00|      15:11:00|     8591341|            2|1.TA.1-245-j19-1.1.H|\n",
      "|        15:13:00|      15:13:00|     8502572|            3|1.TA.1-245-j19-1.1.H|\n",
      "|        15:15:00|      15:15:00|     8580912|            4|1.TA.1-245-j19-1.1.H|\n",
      "|        15:17:00|      15:17:00|     8503610|            5|1.TA.1-245-j19-1.1.H|\n",
      "|        15:18:00|      15:18:00|     8573711|            6|1.TA.1-245-j19-1.1.H|\n",
      "|        15:21:00|      15:21:00|     8503709|            7|1.TA.1-245-j19-1.1.H|\n",
      "|        15:23:00|      15:23:00|     8503699|            8|1.TA.1-245-j19-1.1.H|\n",
      "|        15:24:00|      15:24:00|     8503580|            9|1.TA.1-245-j19-1.1.H|\n",
      "|        15:25:00|      15:25:00|     8503698|           10|1.TA.1-245-j19-1.1.H|\n",
      "|        15:28:00|      15:31:00| 8573718:0:C|           11|1.TA.1-245-j19-1.1.H|\n",
      "|        15:32:00|      15:32:00|     8502950|           12|1.TA.1-245-j19-1.1.H|\n",
      "|        15:33:00|      15:33:00|     8573719|           13|1.TA.1-245-j19-1.1.H|\n",
      "|        15:36:00|      15:36:00|     8502876|           14|1.TA.1-245-j19-1.1.H|\n",
      "|        15:37:00|      15:37:00|     8583755|           15|1.TA.1-245-j19-1.1.H|\n",
      "|        15:39:00|      15:39:00|     8573720|           16|1.TA.1-245-j19-1.1.H|\n",
      "|        15:40:00|      15:40:00|     8503598|           17|1.TA.1-245-j19-1.1.H|\n",
      "|        15:43:00|      15:43:00|     8573721|           18|1.TA.1-245-j19-1.1.H|\n",
      "|        15:44:00|      15:44:00|     8573722|           19|1.TA.1-245-j19-1.1.H|\n",
      "|        15:45:00|      15:45:00|     8573723|           20|1.TA.1-245-j19-1.1.H|\n",
      "|        15:47:00|      15:47:00|     8572646|           21|1.TA.1-245-j19-1.1.H|\n",
      "|        15:48:00|      15:48:00|     8502570|           22|1.TA.1-245-j19-1.1.H|\n",
      "|        15:50:00|      15:50:00|     8572647|           23|1.TA.1-245-j19-1.1.H|\n",
      "|        15:50:00|      15:50:00|     8502571|           24|1.TA.1-245-j19-1.1.H|\n",
      "|        15:51:00|      15:51:00|     8580302|           25|1.TA.1-245-j19-1.1.H|\n",
      "|        15:52:00|      15:52:00|     8502567|           26|1.TA.1-245-j19-1.1.H|\n",
      "|        15:54:00|      15:54:00|     8502566|           27|1.TA.1-245-j19-1.1.H|\n",
      "|        15:56:00|      15:56:00|     8502577|           28|1.TA.1-245-j19-1.1.H|\n",
      "|        15:58:00|      15:58:00|     8502565|           29|1.TA.1-245-j19-1.1.H|\n",
      "|        16:00:00|      16:00:00|     8582054|           30|1.TA.1-245-j19-1.1.H|\n",
      "+----------------+--------------+------------+-------------+--------------------+\n",
      "only showing top 30 rows"
     ]
    }
   ],
   "source": [
    "%%spark\n",
    "working_table = final_close_trips_filtered.withColumn('stop_sequence',final_close_trips_filtered.stop_sequence.cast('int')).orderBy('trip_id', 'stop_sequence').drop('service_id', 'pickup_type', 'drop_off_type', 'monday',  'tuesday', 'thursday', 'wednesday', 'thursday', 'friday')\n",
    "working_table = working_table.withColumnRenamed('stop_id','departure_id')\n",
    "working_table = working_table.withColumnRenamed('arrival_time','old_arrival_time')\n",
    "working_table.show(30)"
   ]
  },
  {
   "cell_type": "code",
   "execution_count": 64,
   "id": "266c4463-ef6e-4ed2-bffe-df51e81bc77f",
   "metadata": {},
   "outputs": [
    {
     "data": {
      "application/vnd.jupyter.widget-view+json": {
       "model_id": "",
       "version_major": 2,
       "version_minor": 0
      },
      "text/plain": [
       "FloatProgress(value=0.0, bar_style='info', description='Progress:', layout=Layout(height='25px', width='50%'),…"
      ]
     },
     "metadata": {},
     "output_type": "display_data"
    },
    {
     "name": "stdout",
     "output_type": "stream",
     "text": [
      "+----------------+--------------+------------+-------------+--------------------+------------+-----------+\n",
      "|old_arrival_time|departure_time|departure_id|stop_sequence|             trip_id|arrival_time| arrival_id|\n",
      "+----------------+--------------+------------+-------------+--------------------+------------+-----------+\n",
      "|        10:41:00|      10:41:00|     8503064|            1|1.TA.26-18-j19-1.1.H|    10:45:00|8503065:0:1|\n",
      "|        10:45:00|      10:45:00| 8503065:0:1|            2|1.TA.26-18-j19-1.1.H|    10:46:00|    8503074|\n",
      "|        10:46:00|      10:46:00|     8503074|            3|1.TA.26-18-j19-1.1.H|    10:47:00|    8503068|\n",
      "|        10:47:00|      10:47:00|     8503068|            4|1.TA.26-18-j19-1.1.H|    10:48:00|    8503066|\n",
      "|        10:48:00|      10:48:00|     8503066|            5|1.TA.26-18-j19-1.1.H|    10:50:00|    8503075|\n",
      "|        10:50:00|      10:50:00|     8503075|            6|1.TA.26-18-j19-1.1.H|    10:52:00|    8503067|\n",
      "|        10:52:00|      10:52:00|     8503067|            7|1.TA.26-18-j19-1.1.H|    10:53:00|    8503077|\n",
      "|        10:53:00|      10:53:00|     8503077|            8|1.TA.26-18-j19-1.1.H|    10:54:00|    8503078|\n",
      "|        10:54:00|      10:54:00|     8503078|            9|1.TA.26-18-j19-1.1.H|    10:57:00|    8591315|\n",
      "|        10:57:00|      10:57:00|     8591315|           10|1.TA.26-18-j19-1.1.H|    10:59:00|    8530811|\n",
      "+----------------+--------------+------------+-------------+--------------------+------------+-----------+\n",
      "only showing top 10 rows"
     ]
    }
   ],
   "source": [
    "%%spark\n",
    "import pyspark.sql.functions as F\n",
    "from pyspark.sql.window import Window\n",
    "\n",
    "w = Window().partitionBy('trip_id').orderBy('stop_sequence')\n",
    "table_a = working_table.select(\"*\",F.lag(\"old_arrival_time\", -1).over(w).alias(\"arrival_time\"), F.lag(\"departure_id\", -1).over(w).alias(\"arrival_id\")).na.drop()\n",
    "table_a.show(10)"
   ]
  },
  {
   "cell_type": "code",
   "execution_count": 65,
   "id": "f8057ee1-29c8-4836-810a-ab77fd5e7c3b",
   "metadata": {},
   "outputs": [
    {
     "data": {
      "application/vnd.jupyter.widget-view+json": {
       "model_id": "",
       "version_major": 2,
       "version_minor": 0
      },
      "text/plain": [
       "FloatProgress(value=0.0, bar_style='info', description='Progress:', layout=Layout(height='25px', width='50%'),…"
      ]
     },
     "metadata": {},
     "output_type": "display_data"
    },
    {
     "name": "stdout",
     "output_type": "stream",
     "text": [
      "+------------+-----------+--------------+------------+--------------------+------+-------+---------+--------+------+\n",
      "|departure_id| arrival_id|departure_time|arrival_time|             trip_id|monday|tuesday|wednesday|thursday|friday|\n",
      "+------------+-----------+--------------+------------+--------------------+------+-------+---------+--------+------+\n",
      "|     8503064|8503065:0:1|      10:41:00|    10:45:00|1.TA.26-18-j19-1.1.H|     1|      1|        1|       1|     1|\n",
      "| 8503065:0:1|    8503074|      10:45:00|    10:46:00|1.TA.26-18-j19-1.1.H|     1|      1|        1|       1|     1|\n",
      "|     8503074|    8503068|      10:46:00|    10:47:00|1.TA.26-18-j19-1.1.H|     1|      1|        1|       1|     1|\n",
      "|     8503068|    8503066|      10:47:00|    10:48:00|1.TA.26-18-j19-1.1.H|     1|      1|        1|       1|     1|\n",
      "|     8503066|    8503075|      10:48:00|    10:50:00|1.TA.26-18-j19-1.1.H|     1|      1|        1|       1|     1|\n",
      "|     8503075|    8503067|      10:50:00|    10:52:00|1.TA.26-18-j19-1.1.H|     1|      1|        1|       1|     1|\n",
      "|     8503067|    8503077|      10:52:00|    10:53:00|1.TA.26-18-j19-1.1.H|     1|      1|        1|       1|     1|\n",
      "|     8503077|    8503078|      10:53:00|    10:54:00|1.TA.26-18-j19-1.1.H|     1|      1|        1|       1|     1|\n",
      "|     8503078|    8591315|      10:54:00|    10:57:00|1.TA.26-18-j19-1.1.H|     1|      1|        1|       1|     1|\n",
      "|     8591315|    8530811|      10:57:00|    10:59:00|1.TA.26-18-j19-1.1.H|     1|      1|        1|       1|     1|\n",
      "+------------+-----------+--------------+------------+--------------------+------+-------+---------+--------+------+\n",
      "only showing top 10 rows"
     ]
    }
   ],
   "source": [
    "%%spark\n",
    "import pyspark.sql.functions as F\n",
    "from pyspark.sql.window import Window\n",
    "\n",
    "final_table = table_a.join(trip_ids_with_days_table, table_a.trip_id == trip_ids_with_days_table.trip_id)\n",
    "connections_table = final_table.drop('old_arrival_time', 'stop_sequence').select('departure_id', 'arrival_id', 'departure_time', 'arrival_time', table_a.trip_id, 'monday', 'tuesday', 'wednesday', 'thursday', 'friday')\n",
    "connections_table.show(10)"
   ]
  },
  {
   "cell_type": "code",
   "execution_count": 66,
   "id": "09588b86-9a33-4755-8598-2c2ad051704a",
   "metadata": {},
   "outputs": [
    {
     "data": {
      "application/vnd.jupyter.widget-view+json": {
       "model_id": "",
       "version_major": 2,
       "version_minor": 0
      },
      "text/plain": [
       "FloatProgress(value=0.0, bar_style='info', description='Progress:', layout=Layout(height='25px', width='50%'),…"
      ]
     },
     "metadata": {},
     "output_type": "display_data"
    },
    {
     "name": "stdout",
     "output_type": "stream",
     "text": [
      "0"
     ]
    }
   ],
   "source": [
    "%%spark\n",
    "connections_table.filter(connections_table.arrival_time < connections_table.departure_time).count()"
   ]
  },
  {
   "cell_type": "code",
   "execution_count": 67,
   "id": "9e350b17-875b-43f4-8320-888e918b0161",
   "metadata": {},
   "outputs": [
    {
     "data": {
      "application/vnd.jupyter.widget-view+json": {
       "model_id": "",
       "version_major": 2,
       "version_minor": 0
      },
      "text/plain": [
       "FloatProgress(value=0.0, bar_style='info', description='Progress:', layout=Layout(height='25px', width='50%'),…"
      ]
     },
     "metadata": {},
     "output_type": "display_data"
    },
    {
     "name": "stdout",
     "output_type": "stream",
     "text": [
      "543044"
     ]
    }
   ],
   "source": [
    "%%spark\n",
    "connections_table.count()"
   ]
  },
  {
   "cell_type": "markdown",
   "id": "ca07b60a-e28b-4dd9-8ee6-6ea505346288",
   "metadata": {},
   "source": [
    "#### Monday"
   ]
  },
  {
   "cell_type": "code",
   "execution_count": 44,
   "id": "bc5b9350-99c0-4efc-8cea-d6648964b820",
   "metadata": {},
   "outputs": [
    {
     "data": {
      "application/vnd.jupyter.widget-view+json": {
       "model_id": "",
       "version_major": 2,
       "version_minor": 0
      },
      "text/plain": [
       "FloatProgress(value=0.0, bar_style='info', description='Progress:', layout=Layout(height='25px', width='50%'),…"
      ]
     },
     "metadata": {},
     "output_type": "display_data"
    },
    {
     "data": {
      "application/vnd.jupyter.widget-view+json": {
       "model_id": "",
       "version_major": 2,
       "version_minor": 0
      },
      "text/plain": [
       "FloatProgress(value=0.0, bar_style='info', description='Progress:', layout=Layout(height='25px', width='50%'),…"
      ]
     },
     "metadata": {},
     "output_type": "display_data"
    }
   ],
   "source": [
    "%%spark -o connections_table_monday_full_sorted\n",
    "from pyspark.sql.functions import desc\n",
    "#Monday\n",
    "#filter for day\n",
    "connections_table_monday = connections_table.filter(connections_table.monday == '1')\n",
    "#drop useless columns\n",
    "connections_table_monday = connections_table_monday.drop('monday', 'tuesday', 'wednesday', 'thursday', 'friday')\n",
    "#sort \n",
    "connections_table_monday_full_sorted = connections_table_monday.orderBy(desc(\"departure_time\"))\n",
    "#ordering of columns\n",
    "connections_table_monday_full_sorted = connections_table_monday_full_sorted.select(\"departure_id\", \"arrival_id\", \"departure_time\", \"arrival_time\", \"trip_id\")"
   ]
  },
  {
   "cell_type": "code",
   "execution_count": 64,
   "id": "ef156b43-5283-4b37-91cc-5e47f544109e",
   "metadata": {},
   "outputs": [
    {
     "data": {
      "application/vnd.jupyter.widget-view+json": {
       "model_id": "",
       "version_major": 2,
       "version_minor": 0
      },
      "text/plain": [
       "FloatProgress(value=0.0, bar_style='info', description='Progress:', layout=Layout(height='25px', width='50%'),…"
      ]
     },
     "metadata": {},
     "output_type": "display_data"
    }
   ],
   "source": [
    "%%spark\n",
    "#connections_table_monday_full_sorted.write.mode('overwrite').option(\"header\",\"true\").format(\"csv\").save(\"/group/five-guys/mondaycsv\")"
   ]
  },
  {
   "cell_type": "code",
   "execution_count": 74,
   "id": "f7d5ad15-48b5-4c05-96be-cd50ef6f5c52",
   "metadata": {},
   "outputs": [
    {
     "data": {
      "application/vnd.jupyter.widget-view+json": {
       "model_id": "",
       "version_major": 2,
       "version_minor": 0
      },
      "text/plain": [
       "FloatProgress(value=0.0, bar_style='info', description='Progress:', layout=Layout(height='25px', width='50%'),…"
      ]
     },
     "metadata": {},
     "output_type": "display_data"
    },
    {
     "name": "stdout",
     "output_type": "stream",
     "text": [
      "511838"
     ]
    }
   ],
   "source": [
    "%%spark\n",
    "connections_table_monday_full_sorted.count()"
   ]
  },
  {
   "cell_type": "code",
   "execution_count": 75,
   "id": "cda3b25b-b8e7-435f-b7f4-c81cea9005d7",
   "metadata": {},
   "outputs": [
    {
     "data": {
      "application/vnd.jupyter.widget-view+json": {
       "model_id": "",
       "version_major": 2,
       "version_minor": 0
      },
      "text/plain": [
       "FloatProgress(value=0.0, bar_style='info', description='Progress:', layout=Layout(height='25px', width='50%'),…"
      ]
     },
     "metadata": {},
     "output_type": "display_data"
    },
    {
     "name": "stdout",
     "output_type": "stream",
     "text": [
      "420007"
     ]
    }
   ],
   "source": [
    "%%spark\n",
    "connections_table_tuesday_full_sorted.count()"
   ]
  },
  {
   "cell_type": "code",
   "execution_count": 76,
   "id": "a4015c02-a9db-48eb-aab6-718a62e5c16e",
   "metadata": {},
   "outputs": [
    {
     "data": {
      "application/vnd.jupyter.widget-view+json": {
       "model_id": "",
       "version_major": 2,
       "version_minor": 0
      },
      "text/plain": [
       "FloatProgress(value=0.0, bar_style='info', description='Progress:', layout=Layout(height='25px', width='50%'),…"
      ]
     },
     "metadata": {},
     "output_type": "display_data"
    },
    {
     "name": "stdout",
     "output_type": "stream",
     "text": [
      "444517"
     ]
    }
   ],
   "source": [
    "%%spark\n",
    "connections_table_wednesday_full_sorted.count()"
   ]
  },
  {
   "cell_type": "code",
   "execution_count": 77,
   "id": "b7d767e4-39e9-42cd-987e-a41b72051ece",
   "metadata": {},
   "outputs": [
    {
     "data": {
      "application/vnd.jupyter.widget-view+json": {
       "model_id": "",
       "version_major": 2,
       "version_minor": 0
      },
      "text/plain": [
       "FloatProgress(value=0.0, bar_style='info', description='Progress:', layout=Layout(height='25px', width='50%'),…"
      ]
     },
     "metadata": {},
     "output_type": "display_data"
    },
    {
     "name": "stdout",
     "output_type": "stream",
     "text": [
      "418219"
     ]
    }
   ],
   "source": [
    "%%spark\n",
    "connections_table_thursday_full_sorted.count()"
   ]
  },
  {
   "cell_type": "code",
   "execution_count": 78,
   "id": "aeb71e01-580c-4ce4-ac12-c29cc56b31c7",
   "metadata": {},
   "outputs": [
    {
     "data": {
      "application/vnd.jupyter.widget-view+json": {
       "model_id": "",
       "version_major": 2,
       "version_minor": 0
      },
      "text/plain": [
       "FloatProgress(value=0.0, bar_style='info', description='Progress:', layout=Layout(height='25px', width='50%'),…"
      ]
     },
     "metadata": {},
     "output_type": "display_data"
    },
    {
     "name": "stdout",
     "output_type": "stream",
     "text": [
      "482454"
     ]
    }
   ],
   "source": [
    "%%spark\n",
    "connections_table_friday_full_sorted.count()"
   ]
  },
  {
   "cell_type": "code",
   "execution_count": 45,
   "id": "fb7051d5-51b6-4456-bddb-df7efbabda7e",
   "metadata": {},
   "outputs": [],
   "source": [
    "#Saving Monday\n",
    "#import pandas as pd\n",
    "#connections_table_monday_full_sorted[\"departure_time\"] = connections_table_monday_full_sorted[\"departure_time\"].apply(lambda x: int(pd.Timestamp(x).timestamp()))\n",
    "\n",
    "#connections_table_monday_full_sorted[\"arrival_time\"] = connections_table_monday_full_sorted[\"arrival_time\"].apply(lambda x: int(pd.Timestamp(x).timestamp()))\n",
    "\n",
    "#result_monday = list(connections_table_monday_full_sorted.itertuples(index=False, name=None))\n",
    "\n",
    "#connections_data= [] #initialize complete list\n",
    "c#onnections_data.append(result_monday)"
   ]
  },
  {
   "cell_type": "markdown",
   "id": "9e7f5d23-7202-435f-bda7-12467c687608",
   "metadata": {},
   "source": [
    "#### Tuesday"
   ]
  },
  {
   "cell_type": "code",
   "execution_count": 67,
   "id": "43561650-426c-4e06-82d8-8e90973f65f4",
   "metadata": {
    "tags": []
   },
   "outputs": [
    {
     "data": {
      "application/vnd.jupyter.widget-view+json": {
       "model_id": "",
       "version_major": 2,
       "version_minor": 0
      },
      "text/plain": [
       "FloatProgress(value=0.0, bar_style='info', description='Progress:', layout=Layout(height='25px', width='50%'),…"
      ]
     },
     "metadata": {},
     "output_type": "display_data"
    }
   ],
   "source": [
    "%%spark\n",
    "#Tuesday\n",
    "#filter for day\n",
    "connections_table_tuesday = connections_table.filter(connections_table.tuesday == '1')\n",
    "#drop useless columns\n",
    "connections_table_tuesday = connections_table_tuesday.drop('monday', 'tuesday', 'wednesday', 'thursday', 'friday')\n",
    "#sort \n",
    "connections_table_tuesday_full_sorted = connections_table_tuesday.orderBy(desc(\"departure_time\"))\n",
    "#ordering of columns\n",
    "connections_table_tuesday_full_sorted = connections_table_tuesday_full_sorted.select(\"departure_id\", \"arrival_id\", \"departure_time\", \"arrival_time\", \"trip_id\")"
   ]
  },
  {
   "cell_type": "code",
   "execution_count": 68,
   "id": "ac286556-0775-45a2-a5e1-2b7ace361f59",
   "metadata": {},
   "outputs": [
    {
     "data": {
      "application/vnd.jupyter.widget-view+json": {
       "model_id": "",
       "version_major": 2,
       "version_minor": 0
      },
      "text/plain": [
       "FloatProgress(value=0.0, bar_style='info', description='Progress:', layout=Layout(height='25px', width='50%'),…"
      ]
     },
     "metadata": {},
     "output_type": "display_data"
    }
   ],
   "source": [
    "%%spark\n",
    "#connections_table_tuesday_full_sorted.write.mode('overwrite').option(\"header\",\"true\").format(\"csv\").save(\"/group/five-guys/tuesdaycsv\")"
   ]
  },
  {
   "cell_type": "code",
   "execution_count": 47,
   "id": "6b215500-7612-45d0-8468-b9e76ddeff44",
   "metadata": {},
   "outputs": [],
   "source": [
    "#Saving Tuesday\n",
    "#connections_table_tuesday_full_sorted[\"departure_time\"] = connections_table_tuesday_full_sorted[\"departure_time\"].apply(lambda x: int(pd.Timestamp(x).timestamp()))\n",
    "\n",
    "#connections_table_tuesday_full_sorted[\"arrival_time\"] = connections_table_tuesday_full_sorted[\"arrival_time\"].apply(lambda x: int(pd.Timestamp(x).timestamp()))\n",
    "\n",
    "#result_tuesday = list(connections_table_tuesday_full_sorted.itertuples(index=False, name=None))\n",
    "\n",
    "#connections_data.append(result_tuesday)"
   ]
  },
  {
   "cell_type": "markdown",
   "id": "67e3ca8c-3477-412d-a203-41c4b212299a",
   "metadata": {},
   "source": [
    "#### Wednesday"
   ]
  },
  {
   "cell_type": "code",
   "execution_count": 48,
   "id": "a43fb992-1c97-4b81-bc6f-c0710b1ef3de",
   "metadata": {},
   "outputs": [
    {
     "data": {
      "application/vnd.jupyter.widget-view+json": {
       "model_id": "",
       "version_major": 2,
       "version_minor": 0
      },
      "text/plain": [
       "FloatProgress(value=0.0, bar_style='info', description='Progress:', layout=Layout(height='25px', width='50%'),…"
      ]
     },
     "metadata": {},
     "output_type": "display_data"
    },
    {
     "data": {
      "application/vnd.jupyter.widget-view+json": {
       "model_id": "",
       "version_major": 2,
       "version_minor": 0
      },
      "text/plain": [
       "FloatProgress(value=0.0, bar_style='info', description='Progress:', layout=Layout(height='25px', width='50%'),…"
      ]
     },
     "metadata": {},
     "output_type": "display_data"
    }
   ],
   "source": [
    "%%spark -o connections_table_wednesday_full_sorted\n",
    "#Wednesday \n",
    "#filter for day\n",
    "connections_table_wednesday = connections_table.filter(connections_table.wednesday == '1')\n",
    "#drop useless columns\n",
    "connections_table_wednesday = connections_table_wednesday.drop('monday', 'tuesday', 'wednesday', 'thursday', 'friday')\n",
    "#sort \n",
    "connections_table_wednesday_full_sorted = connections_table_wednesday.orderBy(desc(\"departure_time\"))\n",
    "#ordering of columns\n",
    "connections_table_wednesday_full_sorted = connections_table_wednesday_full_sorted.select(\"departure_id\", \"arrival_id\", \"departure_time\", \"arrival_time\", \"trip_id\")"
   ]
  },
  {
   "cell_type": "code",
   "execution_count": 69,
   "id": "8f49b81d-3ec8-4ecd-84df-51dea5de9fe1",
   "metadata": {},
   "outputs": [
    {
     "data": {
      "application/vnd.jupyter.widget-view+json": {
       "model_id": "",
       "version_major": 2,
       "version_minor": 0
      },
      "text/plain": [
       "FloatProgress(value=0.0, bar_style='info', description='Progress:', layout=Layout(height='25px', width='50%'),…"
      ]
     },
     "metadata": {},
     "output_type": "display_data"
    }
   ],
   "source": [
    "%%spark\n",
    "#connections_table_wednesday_full_sorted.write.mode('overwrite').option(\"header\",\"true\").format(\"csv\").save(\"/group/five-guys/wednesdaycsv\")"
   ]
  },
  {
   "cell_type": "code",
   "execution_count": 49,
   "id": "a26a2504-6a80-493b-8f94-f18e5e8e1dbb",
   "metadata": {},
   "outputs": [],
   "source": [
    "#Saving Wednesday\n",
    "#connections_table_wednesday_full_sorted[\"departure_time\"] = connections_table_wednesday_full_sorted[\"departure_time\"].apply(lambda x: int(pd.Timestamp(x).timestamp()))\n",
    "\n",
    "#connections_table_wednesday_full_sorted[\"arrival_time\"] = connections_table_wednesday_full_sorted[\"arrival_time\"].apply(lambda x: int(pd.Timestamp(x).timestamp()))\n",
    "\n",
    "#result_wednesday = list(connections_table_wednesday_full_sorted.itertuples(index=False, name=None))\n",
    "\n",
    "#connections_data.append(result_wednesday)"
   ]
  },
  {
   "cell_type": "markdown",
   "id": "074c21e2-89ad-4306-adab-7c683466d372",
   "metadata": {},
   "source": [
    "#### Thursday"
   ]
  },
  {
   "cell_type": "code",
   "execution_count": 70,
   "id": "4602452b-33d1-4e66-8b77-f92c67014ac1",
   "metadata": {},
   "outputs": [
    {
     "data": {
      "application/vnd.jupyter.widget-view+json": {
       "model_id": "",
       "version_major": 2,
       "version_minor": 0
      },
      "text/plain": [
       "FloatProgress(value=0.0, bar_style='info', description='Progress:', layout=Layout(height='25px', width='50%'),…"
      ]
     },
     "metadata": {},
     "output_type": "display_data"
    }
   ],
   "source": [
    "%%spark\n",
    "#Thursday\n",
    "#filter for day\n",
    "connections_table_thursday = connections_table.filter(connections_table.thursday == '1')\n",
    "#drop useless columns\n",
    "connections_table_thursday = connections_table_thursday.drop('monday', 'tuesday', 'wednesday', 'thursday', 'friday')\n",
    "#sort \n",
    "connections_table_thursday_full_sorted = connections_table_thursday.orderBy(desc(\"departure_time\"))\n",
    "#ordering of columns\n",
    "connections_table_thursday_full_sorted = connections_table_thursday_full_sorted.select(\"departure_id\", \"arrival_id\", \"departure_time\", \"arrival_time\", \"trip_id\")"
   ]
  },
  {
   "cell_type": "code",
   "execution_count": 71,
   "id": "cc089c23-c25b-4d6b-a646-65e12d1857bf",
   "metadata": {},
   "outputs": [
    {
     "data": {
      "application/vnd.jupyter.widget-view+json": {
       "model_id": "",
       "version_major": 2,
       "version_minor": 0
      },
      "text/plain": [
       "FloatProgress(value=0.0, bar_style='info', description='Progress:', layout=Layout(height='25px', width='50%'),…"
      ]
     },
     "metadata": {},
     "output_type": "display_data"
    }
   ],
   "source": [
    "%%spark\n",
    "#connections_table_thursday_full_sorted.write.mode('overwrite').option(\"header\",\"true\").format(\"csv\").save(\"/group/five-guys/thursdaycsv\")"
   ]
  },
  {
   "cell_type": "code",
   "execution_count": null,
   "id": "69635263-60d4-45ae-9c3b-6275edc6ad19",
   "metadata": {},
   "outputs": [],
   "source": [
    "#Saving Thursday \n",
    "#connections_table_thursday_full_sorted[\"departure_time\"] = connections_table_thursday_full_sorted[\"departure_time\"].apply(lambda x: int(pd.Timestamp(x).timestamp()))\n",
    "\n",
    "#connections_table_thursday_full_sorted[\"arrival_time\"] = connections_table_thursday_full_sorted[\"arrival_time\"].apply(lambda x: int(pd.Timestamp(x).timestamp()))\n",
    "\n",
    "#result_thursday = list(connections_table_thursday_full_sorted.itertuples(index=False, name=None))\n",
    "\n",
    "#connections_data.append(result_thursday)"
   ]
  },
  {
   "cell_type": "markdown",
   "id": "d6081b1d-8761-48be-a16f-b0c9d66714a1",
   "metadata": {},
   "source": [
    "#### Friday"
   ]
  },
  {
   "cell_type": "code",
   "execution_count": 72,
   "id": "e07103c3-a1bf-4de3-83c2-c7605a335071",
   "metadata": {},
   "outputs": [
    {
     "data": {
      "application/vnd.jupyter.widget-view+json": {
       "model_id": "",
       "version_major": 2,
       "version_minor": 0
      },
      "text/plain": [
       "FloatProgress(value=0.0, bar_style='info', description='Progress:', layout=Layout(height='25px', width='50%'),…"
      ]
     },
     "metadata": {},
     "output_type": "display_data"
    }
   ],
   "source": [
    "%%spark\n",
    "#Friday \n",
    "#filter for day\n",
    "connections_table_friday = connections_table.filter(connections_table.friday == '1')\n",
    "#drop useless columns\n",
    "connections_table_friday = connections_table_friday.drop('monday', 'tuesday', 'wednesday', 'thursday', 'friday')\n",
    "#sort \n",
    "connections_table_friday_full_sorted = connections_table_friday.orderBy(desc(\"departure_time\"))\n",
    "#ordering of columns\n",
    "connections_table_friday_full_sorted = connections_table_friday_full_sorted.select(\"departure_id\", \"arrival_id\", \"departure_time\", \"arrival_time\", \"trip_id\")"
   ]
  },
  {
   "cell_type": "code",
   "execution_count": 73,
   "id": "ed30379a-9ada-4125-a845-2afa795d4e32",
   "metadata": {},
   "outputs": [
    {
     "data": {
      "application/vnd.jupyter.widget-view+json": {
       "model_id": "",
       "version_major": 2,
       "version_minor": 0
      },
      "text/plain": [
       "FloatProgress(value=0.0, bar_style='info', description='Progress:', layout=Layout(height='25px', width='50%'),…"
      ]
     },
     "metadata": {},
     "output_type": "display_data"
    }
   ],
   "source": [
    "%%spark\n",
    "#connections_table_friday_full_sorted.write.mode('overwrite').option(\"header\",\"true\").format(\"csv\").save(\"/group/five-guys/fridaycsv\")"
   ]
  },
  {
   "cell_type": "code",
   "execution_count": null,
   "id": "416b3926-5c62-40a9-9917-a05466450a12",
   "metadata": {},
   "outputs": [],
   "source": [
    "#Saving Friday\n",
    "#connections_table_friday_full_sorted[\"departure_time\"] = connections_table_friday_full_sorted[\"departure_time\"].apply(lambda x: int(pd.Timestamp(x).timestamp()))\n",
    "\n",
    "#connections_table_friday_full_sorted[\"arrival_time\"] = connections_table_friday_full_sorted[\"arrival_time\"].apply(lambda x: int(pd.Timestamp(x).timestamp()))\n",
    "\n",
    "#result_friday = list(connections_table_friday_full_sorted.itertuples(index=False, name=None))\n",
    "\n",
    "#connections_data.append(result_friday)"
   ]
  },
  {
   "cell_type": "code",
   "execution_count": null,
   "id": "38fb78e5-827c-48e1-bfa2-60dcfed82fcd",
   "metadata": {},
   "outputs": [],
   "source": []
  },
  {
   "cell_type": "code",
   "execution_count": null,
   "id": "1e755da4-255e-4d87-9134-cc1f488d7f3e",
   "metadata": {},
   "outputs": [],
   "source": [
    "#Saving everything together\n",
    "\n",
    "pickle.dump(connections_data, open(path_data+\"connections_data.pickle\", \"wb\"))\n"
   ]
  },
  {
   "cell_type": "markdown",
   "id": "95930006-3817-4e5b-ab43-8d58d3ede49a",
   "metadata": {},
   "source": [
    "### trips Table"
   ]
  },
  {
   "cell_type": "code",
   "execution_count": null,
   "id": "29590eef-8ab5-47f0-a7c1-115fa84625eb",
   "metadata": {},
   "outputs": [],
   "source": [
    "%%spark\n",
    "final_close_trips_filtered.filter(final_close_trips_filtered.arrival_time<final_close_trips_filtered.departure_time).count()"
   ]
  },
  {
   "cell_type": "code",
   "execution_count": null,
   "id": "9e222ce6-45fe-4452-9946-bdcba4a53879",
   "metadata": {},
   "outputs": [],
   "source": [
    "%%spark\n",
    "final_close_trips_filtered.filter(final_close_trips_filtered.arrival_time>final_close_trips_filtered.departure_time).count()"
   ]
  },
  {
   "cell_type": "code",
   "execution_count": null,
   "id": "a39dadb4-4a33-4780-b8f0-332a9a963433",
   "metadata": {},
   "outputs": [],
   "source": [
    "%%spark\n",
    "final_close_trips_filtered.filter(final_close_trips_filtered.arrival_time==final_close_trips_filtered.departure_time).count()"
   ]
  },
  {
   "cell_type": "code",
   "execution_count": null,
   "id": "1a2b6ca5-bd82-4a0e-8b96-a8dcfddfdb60",
   "metadata": {},
   "outputs": [],
   "source": [
    "%%spark\n",
    "\n",
    "trips_table = final_close_trips_filtered.select(final_close_trips_filtered.trip_id).distinct()\n",
    "trips_table.show(10)"
   ]
  },
  {
   "cell_type": "code",
   "execution_count": null,
   "id": "43ebbc66-acd3-4fb6-b680-180c36e5202f",
   "metadata": {},
   "outputs": [],
   "source": [
    "%%spark -o routes_tot_filtered\n",
    "#trips as described in the readme, but filtered for time and distance\n",
    "\n",
    "routes_tot_filtered = routes_tot.join(trips_table, \"trip_id\" ,\"inner\")\n",
    "\n"
   ]
  },
  {
   "cell_type": "code",
   "execution_count": null,
   "id": "7f513328-097b-4fd3-86d9-dc70f70bc28e",
   "metadata": {
    "tags": []
   },
   "outputs": [],
   "source": [
    "\n",
    "routes_tot_filtered_map = routes_tot_filtered.groupby('trip_id')[['route_id', 'service_id', 'trip_headsign', 'trip_short_name', 'direction_id']].apply(lambda g: g.values.tolist()).to_dict()\n",
    "names_cols = [\"route_id\", \"service_id\", \"trip_headsign\", \"trip_short_name\", \"direction_id\"]\n",
    "\n",
    "map_copied = routes_tot_filtered_map.copy()\n",
    "\n",
    "for k,v in routes_tot_filtered_map.items():\n",
    "    newdict = {}\n",
    "    for ind, element in enumerate(v[0]):\n",
    "        newdict[names_cols[ind]] = element\n",
    "    map_copied[k] = newdict\n"
   ]
  },
  {
   "cell_type": "code",
   "execution_count": null,
   "id": "583654e9-fca8-4e53-94cf-80f47c404505",
   "metadata": {
    "tags": []
   },
   "outputs": [],
   "source": [
    "#Line to save the data - commented out as already saved\n",
    "#pickle.dump(map_copied, open(path_data+\"trips.pickle\", \"wb\"))\n"
   ]
  },
  {
   "cell_type": "code",
   "execution_count": null,
   "id": "b23caf6f-dfb2-4e33-9b26-a19067f4bf96",
   "metadata": {},
   "outputs": [],
   "source": [
    "#!git lfs track \"/home/jovyan/work/final-assignment/data/connections_data.pickle\"\n",
    "#!git lfs track \"/home/jovyan/work/final-assignment/data/stops.pickle\"\n",
    "#!git lfs track \"/home/jovyan/work/final-assignment/data/trips.pickle\"\n",
    "\n",
    "#!git add .gitattributes\n",
    "#!git commit -m \"tutti i vari pickle\"\n",
    "#!git push"
   ]
  },
  {
   "cell_type": "markdown",
   "id": "fadf1b69-7d05-4de0-9738-4669acc11427",
   "metadata": {},
   "source": [
    "### Footpath table"
   ]
  },
  {
   "cell_type": "code",
   "execution_count": null,
   "id": "27b73e2f-f963-4c21-a7e3-c71868c97159",
   "metadata": {},
   "outputs": [],
   "source": [
    "%%spark -o footpath_table\n",
    "\n",
    "#add attributes lat, lon to stops_table\n",
    "stops_table_expanded = stops_table.join(all_stops, 'stop_id', 'inner')\n",
    "#create all possible pairs between stops\n",
    "stops_table_expanded_a = stops_table_expanded.select([F.col(c).alias(\"a_\"+c) for c in stops_table_expanded.columns])\n",
    "stops_table_expanded_b = stops_table_expanded.select([F.col(c).alias(\"b_\"+c) for c in stops_table_expanded.columns])\n",
    "cartesian_product = stops_table_expanded_a.crossJoin(stops_table_expanded_b)\n",
    "#compute distance for all pairs\n",
    "stops_table_distance = cartesian_product.withColumn(\"a\", (\n",
    "        F.pow(F.sin(F.radians(F.col(\"a_stop_lat\") - F.col(\"b_stop_lat\")) / 2), 2) +\n",
    "        F.cos(F.radians(F.col(\"b_stop_lat\"))) * F.cos(F.radians(F.col(\"a_stop_lat\"))) *\n",
    "        F.pow(F.sin(F.radians(F.col(\"a_stop_lon\") - F.col(\"b_stop_lon\")) / 2), 2)\n",
    "    )).withColumn(\"distance\", F.atan2(F.sqrt(F.col(\"a\")), F.sqrt(-F.col(\"a\") + 1)) * 12742000)\n",
    "#filter pair with distance shorter than 500m\n",
    "stops_table_distance = stops_table_distance.filter(stops_table_distance.distance <= 500)\n",
    "#compute time considering walking speed of 50m/1min\n",
    "#time is in seconds\n",
    "stops_table_time = stops_table_distance.withColumn('time', F.round((stops_table_distance['distance']/F.lit(50))*F.lit(60), 0).cast('int'))\n",
    "footpath_table = stops_table_time.select(stops_table_time.a_stop_id.alias('departure_id'), stops_table_time.b_stop_id.alias('arrival_id'), stops_table_time.time)\n",
    "#remove pairs where arrival == departure\n",
    "footpath_table = footpath_table.filter(footpath_table.departure_id != footpath_table.arrival_id)\n",
    "footpath_table.show(10)"
   ]
  },
  {
   "cell_type": "code",
   "execution_count": null,
   "id": "166f67d8-f89d-41c2-8dec-25da0d59b2f5",
   "metadata": {},
   "outputs": [],
   "source": [
    "#transform list of tuple into dictionary of dictionaries\n",
    "footpath_map = footpath_table.groupby('arrival_id')[['departure_id', 'time']].apply(lambda g: g.values.tolist()).to_dict()\n",
    "footpath_map = {k: dict(v) for k, v in footpath_map.items()}\n",
    "#convert and save the dictionary to pickle\n",
    "pickle.dump(footpath_map, open(path_data+\"footpath_map.pickle\", \"wb\"))"
   ]
  },
  {
   "cell_type": "code",
   "execution_count": null,
   "id": "0f47c646-f3f6-4ef1-94d7-a57d8f272f3d",
   "metadata": {},
   "outputs": [],
   "source": [
    "!git lfs track \"../data/footpath_map.pickle\"\n",
    "!git add .gitattributes\n",
    "!git commit -m \"footpath_map.pickle\"\n",
    "!git push"
   ]
  },
  {
   "cell_type": "code",
   "execution_count": null,
   "id": "f6bc4f54-3f68-4317-a417-d27781451e6f",
   "metadata": {},
   "outputs": [],
   "source": []
  }
 ],
 "metadata": {
  "kernelspec": {
   "display_name": "Python 3",
   "language": "python",
   "name": "python3"
  },
  "language_info": {
   "codemirror_mode": {
    "name": "ipython",
    "version": 3
   },
   "file_extension": ".py",
   "mimetype": "text/x-python",
   "name": "python",
   "nbconvert_exporter": "python",
   "pygments_lexer": "ipython3",
   "version": "3.9.7"
  }
 },
 "nbformat": 4,
 "nbformat_minor": 5
}
