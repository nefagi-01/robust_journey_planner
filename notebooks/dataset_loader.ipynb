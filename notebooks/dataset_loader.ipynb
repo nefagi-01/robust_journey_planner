{
 "cells": [
  {
   "cell_type": "markdown",
   "id": "84900873-2e6a-42ce-a1f1-cf721552e731",
   "metadata": {},
   "source": [
    "# Data Wrangling"
   ]
  },
  {
   "cell_type": "markdown",
   "id": "c8183342-5992-4c0b-8923-07c457a7c72f",
   "metadata": {},
   "source": [
    "## Spark Loading"
   ]
  },
  {
   "cell_type": "code",
   "execution_count": 3,
   "id": "e314f4b1-05bd-4f35-89df-a302865c25d7",
   "metadata": {},
   "outputs": [
    {
     "ename": "TypeError",
     "evalue": "options must be a list of values or a list of (label, value) tuples",
     "output_type": "error",
     "traceback": [
      "\u001b[0;31m---------------------------------------------------------------------------\u001b[0m",
      "\u001b[0;31mTypeError\u001b[0m                                 Traceback (most recent call last)",
      "\u001b[0;32m<ipython-input-3-e552417e69ee>\u001b[0m in \u001b[0;36m<module>\u001b[0;34m\u001b[0m\n\u001b[0;32m----> 1\u001b[0;31m \u001b[0mget_ipython\u001b[0m\u001b[0;34m(\u001b[0m\u001b[0;34m)\u001b[0m\u001b[0;34m.\u001b[0m\u001b[0mrun_line_magic\u001b[0m\u001b[0;34m(\u001b[0m\u001b[0;34m'load_ext'\u001b[0m\u001b[0;34m,\u001b[0m \u001b[0;34m'sparkmagic.magics'\u001b[0m\u001b[0;34m)\u001b[0m\u001b[0;34m\u001b[0m\u001b[0;34m\u001b[0m\u001b[0m\n\u001b[0m",
      "\u001b[0;32m/opt/conda/lib/python3.9/site-packages/IPython/core/interactiveshell.py\u001b[0m in \u001b[0;36mrun_line_magic\u001b[0;34m(self, magic_name, line, _stack_depth)\u001b[0m\n\u001b[1;32m   2349\u001b[0m                 \u001b[0mkwargs\u001b[0m\u001b[0;34m[\u001b[0m\u001b[0;34m'local_ns'\u001b[0m\u001b[0;34m]\u001b[0m \u001b[0;34m=\u001b[0m \u001b[0mself\u001b[0m\u001b[0;34m.\u001b[0m\u001b[0mget_local_scope\u001b[0m\u001b[0;34m(\u001b[0m\u001b[0mstack_depth\u001b[0m\u001b[0;34m)\u001b[0m\u001b[0;34m\u001b[0m\u001b[0;34m\u001b[0m\u001b[0m\n\u001b[1;32m   2350\u001b[0m             \u001b[0;32mwith\u001b[0m \u001b[0mself\u001b[0m\u001b[0;34m.\u001b[0m\u001b[0mbuiltin_trap\u001b[0m\u001b[0;34m:\u001b[0m\u001b[0;34m\u001b[0m\u001b[0;34m\u001b[0m\u001b[0m\n\u001b[0;32m-> 2351\u001b[0;31m                 \u001b[0mresult\u001b[0m \u001b[0;34m=\u001b[0m \u001b[0mfn\u001b[0m\u001b[0;34m(\u001b[0m\u001b[0;34m*\u001b[0m\u001b[0margs\u001b[0m\u001b[0;34m,\u001b[0m \u001b[0;34m**\u001b[0m\u001b[0mkwargs\u001b[0m\u001b[0;34m)\u001b[0m\u001b[0;34m\u001b[0m\u001b[0;34m\u001b[0m\u001b[0m\n\u001b[0m\u001b[1;32m   2352\u001b[0m             \u001b[0;32mreturn\u001b[0m \u001b[0mresult\u001b[0m\u001b[0;34m\u001b[0m\u001b[0;34m\u001b[0m\u001b[0m\n\u001b[1;32m   2353\u001b[0m \u001b[0;34m\u001b[0m\u001b[0m\n",
      "\u001b[0;32m/opt/conda/lib/python3.9/site-packages/decorator.py\u001b[0m in \u001b[0;36mfun\u001b[0;34m(*args, **kw)\u001b[0m\n\u001b[1;32m    230\u001b[0m             \u001b[0;32mif\u001b[0m \u001b[0;32mnot\u001b[0m \u001b[0mkwsyntax\u001b[0m\u001b[0;34m:\u001b[0m\u001b[0;34m\u001b[0m\u001b[0;34m\u001b[0m\u001b[0m\n\u001b[1;32m    231\u001b[0m                 \u001b[0margs\u001b[0m\u001b[0;34m,\u001b[0m \u001b[0mkw\u001b[0m \u001b[0;34m=\u001b[0m \u001b[0mfix\u001b[0m\u001b[0;34m(\u001b[0m\u001b[0margs\u001b[0m\u001b[0;34m,\u001b[0m \u001b[0mkw\u001b[0m\u001b[0;34m,\u001b[0m \u001b[0msig\u001b[0m\u001b[0;34m)\u001b[0m\u001b[0;34m\u001b[0m\u001b[0;34m\u001b[0m\u001b[0m\n\u001b[0;32m--> 232\u001b[0;31m             \u001b[0;32mreturn\u001b[0m \u001b[0mcaller\u001b[0m\u001b[0;34m(\u001b[0m\u001b[0mfunc\u001b[0m\u001b[0;34m,\u001b[0m \u001b[0;34m*\u001b[0m\u001b[0;34m(\u001b[0m\u001b[0mextras\u001b[0m \u001b[0;34m+\u001b[0m \u001b[0margs\u001b[0m\u001b[0;34m)\u001b[0m\u001b[0;34m,\u001b[0m \u001b[0;34m**\u001b[0m\u001b[0mkw\u001b[0m\u001b[0;34m)\u001b[0m\u001b[0;34m\u001b[0m\u001b[0;34m\u001b[0m\u001b[0m\n\u001b[0m\u001b[1;32m    233\u001b[0m     \u001b[0mfun\u001b[0m\u001b[0;34m.\u001b[0m\u001b[0m__name__\u001b[0m \u001b[0;34m=\u001b[0m \u001b[0mfunc\u001b[0m\u001b[0;34m.\u001b[0m\u001b[0m__name__\u001b[0m\u001b[0;34m\u001b[0m\u001b[0;34m\u001b[0m\u001b[0m\n\u001b[1;32m    234\u001b[0m     \u001b[0mfun\u001b[0m\u001b[0;34m.\u001b[0m\u001b[0m__doc__\u001b[0m \u001b[0;34m=\u001b[0m \u001b[0mfunc\u001b[0m\u001b[0;34m.\u001b[0m\u001b[0m__doc__\u001b[0m\u001b[0;34m\u001b[0m\u001b[0;34m\u001b[0m\u001b[0m\n",
      "\u001b[0;32m/opt/conda/lib/python3.9/site-packages/IPython/core/magic.py\u001b[0m in \u001b[0;36m<lambda>\u001b[0;34m(f, *a, **k)\u001b[0m\n\u001b[1;32m    185\u001b[0m     \u001b[0;31m# but it's overkill for just that one bit of state.\u001b[0m\u001b[0;34m\u001b[0m\u001b[0;34m\u001b[0m\u001b[0m\n\u001b[1;32m    186\u001b[0m     \u001b[0;32mdef\u001b[0m \u001b[0mmagic_deco\u001b[0m\u001b[0;34m(\u001b[0m\u001b[0marg\u001b[0m\u001b[0;34m)\u001b[0m\u001b[0;34m:\u001b[0m\u001b[0;34m\u001b[0m\u001b[0;34m\u001b[0m\u001b[0m\n\u001b[0;32m--> 187\u001b[0;31m         \u001b[0mcall\u001b[0m \u001b[0;34m=\u001b[0m \u001b[0;32mlambda\u001b[0m \u001b[0mf\u001b[0m\u001b[0;34m,\u001b[0m \u001b[0;34m*\u001b[0m\u001b[0ma\u001b[0m\u001b[0;34m,\u001b[0m \u001b[0;34m**\u001b[0m\u001b[0mk\u001b[0m\u001b[0;34m:\u001b[0m \u001b[0mf\u001b[0m\u001b[0;34m(\u001b[0m\u001b[0;34m*\u001b[0m\u001b[0ma\u001b[0m\u001b[0;34m,\u001b[0m \u001b[0;34m**\u001b[0m\u001b[0mk\u001b[0m\u001b[0;34m)\u001b[0m\u001b[0;34m\u001b[0m\u001b[0;34m\u001b[0m\u001b[0m\n\u001b[0m\u001b[1;32m    188\u001b[0m \u001b[0;34m\u001b[0m\u001b[0m\n\u001b[1;32m    189\u001b[0m         \u001b[0;32mif\u001b[0m \u001b[0mcallable\u001b[0m\u001b[0;34m(\u001b[0m\u001b[0marg\u001b[0m\u001b[0;34m)\u001b[0m\u001b[0;34m:\u001b[0m\u001b[0;34m\u001b[0m\u001b[0;34m\u001b[0m\u001b[0m\n",
      "\u001b[0;32m/opt/conda/lib/python3.9/site-packages/IPython/core/magics/extension.py\u001b[0m in \u001b[0;36mload_ext\u001b[0;34m(self, module_str)\u001b[0m\n\u001b[1;32m     31\u001b[0m         \u001b[0;32mif\u001b[0m \u001b[0;32mnot\u001b[0m \u001b[0mmodule_str\u001b[0m\u001b[0;34m:\u001b[0m\u001b[0;34m\u001b[0m\u001b[0;34m\u001b[0m\u001b[0m\n\u001b[1;32m     32\u001b[0m             \u001b[0;32mraise\u001b[0m \u001b[0mUsageError\u001b[0m\u001b[0;34m(\u001b[0m\u001b[0;34m'Missing module name.'\u001b[0m\u001b[0;34m)\u001b[0m\u001b[0;34m\u001b[0m\u001b[0;34m\u001b[0m\u001b[0m\n\u001b[0;32m---> 33\u001b[0;31m         \u001b[0mres\u001b[0m \u001b[0;34m=\u001b[0m \u001b[0mself\u001b[0m\u001b[0;34m.\u001b[0m\u001b[0mshell\u001b[0m\u001b[0;34m.\u001b[0m\u001b[0mextension_manager\u001b[0m\u001b[0;34m.\u001b[0m\u001b[0mload_extension\u001b[0m\u001b[0;34m(\u001b[0m\u001b[0mmodule_str\u001b[0m\u001b[0;34m)\u001b[0m\u001b[0;34m\u001b[0m\u001b[0;34m\u001b[0m\u001b[0m\n\u001b[0m\u001b[1;32m     34\u001b[0m \u001b[0;34m\u001b[0m\u001b[0m\n\u001b[1;32m     35\u001b[0m         \u001b[0;32mif\u001b[0m \u001b[0mres\u001b[0m \u001b[0;34m==\u001b[0m \u001b[0;34m'already loaded'\u001b[0m\u001b[0;34m:\u001b[0m\u001b[0;34m\u001b[0m\u001b[0;34m\u001b[0m\u001b[0m\n",
      "\u001b[0;32m/opt/conda/lib/python3.9/site-packages/IPython/core/extensions.py\u001b[0m in \u001b[0;36mload_extension\u001b[0;34m(self, module_str)\u001b[0m\n\u001b[1;32m     85\u001b[0m                               dir=compress_user(self.ipython_extension_dir)))\n\u001b[1;32m     86\u001b[0m             \u001b[0mmod\u001b[0m \u001b[0;34m=\u001b[0m \u001b[0msys\u001b[0m\u001b[0;34m.\u001b[0m\u001b[0mmodules\u001b[0m\u001b[0;34m[\u001b[0m\u001b[0mmodule_str\u001b[0m\u001b[0;34m]\u001b[0m\u001b[0;34m\u001b[0m\u001b[0;34m\u001b[0m\u001b[0m\n\u001b[0;32m---> 87\u001b[0;31m             \u001b[0;32mif\u001b[0m \u001b[0mself\u001b[0m\u001b[0;34m.\u001b[0m\u001b[0m_call_load_ipython_extension\u001b[0m\u001b[0;34m(\u001b[0m\u001b[0mmod\u001b[0m\u001b[0;34m)\u001b[0m\u001b[0;34m:\u001b[0m\u001b[0;34m\u001b[0m\u001b[0;34m\u001b[0m\u001b[0m\n\u001b[0m\u001b[1;32m     88\u001b[0m                 \u001b[0mself\u001b[0m\u001b[0;34m.\u001b[0m\u001b[0mloaded\u001b[0m\u001b[0;34m.\u001b[0m\u001b[0madd\u001b[0m\u001b[0;34m(\u001b[0m\u001b[0mmodule_str\u001b[0m\u001b[0;34m)\u001b[0m\u001b[0;34m\u001b[0m\u001b[0;34m\u001b[0m\u001b[0m\n\u001b[1;32m     89\u001b[0m             \u001b[0;32melse\u001b[0m\u001b[0;34m:\u001b[0m\u001b[0;34m\u001b[0m\u001b[0;34m\u001b[0m\u001b[0m\n",
      "\u001b[0;32m/opt/conda/lib/python3.9/site-packages/IPython/core/extensions.py\u001b[0m in \u001b[0;36m_call_load_ipython_extension\u001b[0;34m(self, mod)\u001b[0m\n\u001b[1;32m    132\u001b[0m     \u001b[0;32mdef\u001b[0m \u001b[0m_call_load_ipython_extension\u001b[0m\u001b[0;34m(\u001b[0m\u001b[0mself\u001b[0m\u001b[0;34m,\u001b[0m \u001b[0mmod\u001b[0m\u001b[0;34m)\u001b[0m\u001b[0;34m:\u001b[0m\u001b[0;34m\u001b[0m\u001b[0;34m\u001b[0m\u001b[0m\n\u001b[1;32m    133\u001b[0m         \u001b[0;32mif\u001b[0m \u001b[0mhasattr\u001b[0m\u001b[0;34m(\u001b[0m\u001b[0mmod\u001b[0m\u001b[0;34m,\u001b[0m \u001b[0;34m'load_ipython_extension'\u001b[0m\u001b[0;34m)\u001b[0m\u001b[0;34m:\u001b[0m\u001b[0;34m\u001b[0m\u001b[0;34m\u001b[0m\u001b[0m\n\u001b[0;32m--> 134\u001b[0;31m             \u001b[0mmod\u001b[0m\u001b[0;34m.\u001b[0m\u001b[0mload_ipython_extension\u001b[0m\u001b[0;34m(\u001b[0m\u001b[0mself\u001b[0m\u001b[0;34m.\u001b[0m\u001b[0mshell\u001b[0m\u001b[0;34m)\u001b[0m\u001b[0;34m\u001b[0m\u001b[0;34m\u001b[0m\u001b[0m\n\u001b[0m\u001b[1;32m    135\u001b[0m             \u001b[0;32mreturn\u001b[0m \u001b[0;32mTrue\u001b[0m\u001b[0;34m\u001b[0m\u001b[0;34m\u001b[0m\u001b[0m\n\u001b[1;32m    136\u001b[0m \u001b[0;34m\u001b[0m\u001b[0m\n",
      "\u001b[0;32m/opt/conda/lib/python3.9/site-packages/sparkmagic/magics/remotesparkmagics.py\u001b[0m in \u001b[0;36mload_ipython_extension\u001b[0;34m(ip)\u001b[0m\n\u001b[1;32m    192\u001b[0m \u001b[0;34m\u001b[0m\u001b[0m\n\u001b[1;32m    193\u001b[0m \u001b[0;32mdef\u001b[0m \u001b[0mload_ipython_extension\u001b[0m\u001b[0;34m(\u001b[0m\u001b[0mip\u001b[0m\u001b[0;34m)\u001b[0m\u001b[0;34m:\u001b[0m\u001b[0;34m\u001b[0m\u001b[0;34m\u001b[0m\u001b[0m\n\u001b[0;32m--> 194\u001b[0;31m     \u001b[0mip\u001b[0m\u001b[0;34m.\u001b[0m\u001b[0mregister_magics\u001b[0m\u001b[0;34m(\u001b[0m\u001b[0mRemoteSparkMagics\u001b[0m\u001b[0;34m)\u001b[0m\u001b[0;34m\u001b[0m\u001b[0;34m\u001b[0m\u001b[0m\n\u001b[0m",
      "\u001b[0;32m/opt/conda/lib/python3.9/site-packages/IPython/core/magic.py\u001b[0m in \u001b[0;36mregister\u001b[0;34m(self, *magic_objects)\u001b[0m\n\u001b[1;32m    403\u001b[0m             \u001b[0;32mif\u001b[0m \u001b[0misinstance\u001b[0m\u001b[0;34m(\u001b[0m\u001b[0mm\u001b[0m\u001b[0;34m,\u001b[0m \u001b[0mtype\u001b[0m\u001b[0;34m)\u001b[0m\u001b[0;34m:\u001b[0m\u001b[0;34m\u001b[0m\u001b[0;34m\u001b[0m\u001b[0m\n\u001b[1;32m    404\u001b[0m                 \u001b[0;31m# If we're given an uninstantiated class\u001b[0m\u001b[0;34m\u001b[0m\u001b[0;34m\u001b[0m\u001b[0m\n\u001b[0;32m--> 405\u001b[0;31m                 \u001b[0mm\u001b[0m \u001b[0;34m=\u001b[0m \u001b[0mm\u001b[0m\u001b[0;34m(\u001b[0m\u001b[0mshell\u001b[0m\u001b[0;34m=\u001b[0m\u001b[0mself\u001b[0m\u001b[0;34m.\u001b[0m\u001b[0mshell\u001b[0m\u001b[0;34m)\u001b[0m\u001b[0;34m\u001b[0m\u001b[0;34m\u001b[0m\u001b[0m\n\u001b[0m\u001b[1;32m    406\u001b[0m \u001b[0;34m\u001b[0m\u001b[0m\n\u001b[1;32m    407\u001b[0m             \u001b[0;31m# Now that we have an instance, we can register it and update the\u001b[0m\u001b[0;34m\u001b[0m\u001b[0;34m\u001b[0m\u001b[0m\n",
      "\u001b[0;32m/opt/conda/lib/python3.9/site-packages/sparkmagic/magics/remotesparkmagics.py\u001b[0m in \u001b[0;36m__init__\u001b[0;34m(self, shell, data, widget)\u001b[0m\n\u001b[1;32m     29\u001b[0m         \u001b[0mself\u001b[0m\u001b[0;34m.\u001b[0m\u001b[0mendpoints\u001b[0m \u001b[0;34m=\u001b[0m \u001b[0;34m{\u001b[0m\u001b[0;34m}\u001b[0m\u001b[0;34m\u001b[0m\u001b[0;34m\u001b[0m\u001b[0m\n\u001b[1;32m     30\u001b[0m         \u001b[0;32mif\u001b[0m \u001b[0mwidget\u001b[0m \u001b[0;32mis\u001b[0m \u001b[0;32mNone\u001b[0m\u001b[0;34m:\u001b[0m\u001b[0;34m\u001b[0m\u001b[0;34m\u001b[0m\u001b[0m\n\u001b[0;32m---> 31\u001b[0;31m             \u001b[0mwidget\u001b[0m \u001b[0;34m=\u001b[0m \u001b[0mMagicsControllerWidget\u001b[0m\u001b[0;34m(\u001b[0m\u001b[0mself\u001b[0m\u001b[0;34m.\u001b[0m\u001b[0mspark_controller\u001b[0m\u001b[0;34m,\u001b[0m \u001b[0mIpyWidgetFactory\u001b[0m\u001b[0;34m(\u001b[0m\u001b[0;34m)\u001b[0m\u001b[0;34m,\u001b[0m \u001b[0mself\u001b[0m\u001b[0;34m.\u001b[0m\u001b[0mipython_display\u001b[0m\u001b[0;34m)\u001b[0m\u001b[0;34m\u001b[0m\u001b[0;34m\u001b[0m\u001b[0m\n\u001b[0m\u001b[1;32m     32\u001b[0m         \u001b[0mself\u001b[0m\u001b[0;34m.\u001b[0m\u001b[0mmanage_widget\u001b[0m \u001b[0;34m=\u001b[0m \u001b[0mwidget\u001b[0m\u001b[0;34m\u001b[0m\u001b[0;34m\u001b[0m\u001b[0m\n\u001b[1;32m     33\u001b[0m \u001b[0;34m\u001b[0m\u001b[0m\n",
      "\u001b[0;32m/opt/conda/lib/python3.9/site-packages/sparkmagic/controllerwidget/magicscontrollerwidget.py\u001b[0m in \u001b[0;36m__init__\u001b[0;34m(self, spark_controller, ipywidget_factory, ipython_display, endpoints)\u001b[0m\n\u001b[1;32m     20\u001b[0m         \u001b[0mself\u001b[0m\u001b[0;34m.\u001b[0m\u001b[0mendpoints\u001b[0m \u001b[0;34m=\u001b[0m \u001b[0mendpoints\u001b[0m\u001b[0;34m\u001b[0m\u001b[0;34m\u001b[0m\u001b[0m\n\u001b[1;32m     21\u001b[0m \u001b[0;34m\u001b[0m\u001b[0m\n\u001b[0;32m---> 22\u001b[0;31m         \u001b[0mself\u001b[0m\u001b[0;34m.\u001b[0m\u001b[0m_refresh\u001b[0m\u001b[0;34m(\u001b[0m\u001b[0;34m)\u001b[0m\u001b[0;34m\u001b[0m\u001b[0;34m\u001b[0m\u001b[0m\n\u001b[0m\u001b[1;32m     23\u001b[0m \u001b[0;34m\u001b[0m\u001b[0m\n\u001b[1;32m     24\u001b[0m     \u001b[0;32mdef\u001b[0m \u001b[0mrun\u001b[0m\u001b[0;34m(\u001b[0m\u001b[0mself\u001b[0m\u001b[0;34m)\u001b[0m\u001b[0;34m:\u001b[0m\u001b[0;34m\u001b[0m\u001b[0;34m\u001b[0m\u001b[0m\n",
      "\u001b[0;32m/opt/conda/lib/python3.9/site-packages/sparkmagic/controllerwidget/magicscontrollerwidget.py\u001b[0m in \u001b[0;36m_refresh\u001b[0;34m(self)\u001b[0m\n\u001b[1;32m     45\u001b[0m \u001b[0;34m\u001b[0m\u001b[0m\n\u001b[1;32m     46\u001b[0m     \u001b[0;32mdef\u001b[0m \u001b[0m_refresh\u001b[0m\u001b[0;34m(\u001b[0m\u001b[0mself\u001b[0m\u001b[0;34m)\u001b[0m\u001b[0;34m:\u001b[0m\u001b[0;34m\u001b[0m\u001b[0;34m\u001b[0m\u001b[0m\n\u001b[0;32m---> 47\u001b[0;31m         self.endpoints_dropdown_widget = self.ipywidget_factory.get_dropdown(\n\u001b[0m\u001b[1;32m     48\u001b[0m             \u001b[0mdescription\u001b[0m\u001b[0;34m=\u001b[0m\u001b[0;34m\"Endpoint:\"\u001b[0m\u001b[0;34m,\u001b[0m\u001b[0;34m\u001b[0m\u001b[0;34m\u001b[0m\u001b[0m\n\u001b[1;32m     49\u001b[0m             \u001b[0moptions\u001b[0m\u001b[0;34m=\u001b[0m\u001b[0mself\u001b[0m\u001b[0;34m.\u001b[0m\u001b[0mendpoints\u001b[0m\u001b[0;34m\u001b[0m\u001b[0;34m\u001b[0m\u001b[0m\n",
      "\u001b[0;32m/opt/conda/lib/python3.9/site-packages/hdijupyterutils/ipywidgetfactory.py\u001b[0m in \u001b[0;36mget_dropdown\u001b[0;34m(**kwargs)\u001b[0m\n\u001b[1;32m     30\u001b[0m     \u001b[0;34m@\u001b[0m\u001b[0mstaticmethod\u001b[0m\u001b[0;34m\u001b[0m\u001b[0;34m\u001b[0m\u001b[0m\n\u001b[1;32m     31\u001b[0m     \u001b[0;32mdef\u001b[0m \u001b[0mget_dropdown\u001b[0m\u001b[0;34m(\u001b[0m\u001b[0;34m**\u001b[0m\u001b[0mkwargs\u001b[0m\u001b[0;34m)\u001b[0m\u001b[0;34m:\u001b[0m\u001b[0;34m\u001b[0m\u001b[0;34m\u001b[0m\u001b[0m\n\u001b[0;32m---> 32\u001b[0;31m         \u001b[0;32mreturn\u001b[0m \u001b[0mDropdown\u001b[0m\u001b[0;34m(\u001b[0m\u001b[0;34m**\u001b[0m\u001b[0mkwargs\u001b[0m\u001b[0;34m)\u001b[0m\u001b[0;34m\u001b[0m\u001b[0;34m\u001b[0m\u001b[0m\n\u001b[0m\u001b[1;32m     33\u001b[0m \u001b[0;34m\u001b[0m\u001b[0m\n\u001b[1;32m     34\u001b[0m     \u001b[0;34m@\u001b[0m\u001b[0mstaticmethod\u001b[0m\u001b[0;34m\u001b[0m\u001b[0;34m\u001b[0m\u001b[0m\n",
      "\u001b[0;32m/opt/conda/lib/python3.9/site-packages/ipywidgets/widgets/widget_selection.py\u001b[0m in \u001b[0;36m__init__\u001b[0;34m(self, *args, **kwargs)\u001b[0m\n\u001b[1;32m    171\u001b[0m         \u001b[0mself\u001b[0m\u001b[0;34m.\u001b[0m\u001b[0m_initializing_traits_\u001b[0m \u001b[0;34m=\u001b[0m \u001b[0;32mTrue\u001b[0m\u001b[0;34m\u001b[0m\u001b[0;34m\u001b[0m\u001b[0m\n\u001b[1;32m    172\u001b[0m         \u001b[0mkwargs\u001b[0m\u001b[0;34m[\u001b[0m\u001b[0;34m'options'\u001b[0m\u001b[0;34m]\u001b[0m \u001b[0;34m=\u001b[0m \u001b[0m_exhaust_iterable\u001b[0m\u001b[0;34m(\u001b[0m\u001b[0mkwargs\u001b[0m\u001b[0;34m.\u001b[0m\u001b[0mget\u001b[0m\u001b[0;34m(\u001b[0m\u001b[0;34m'options'\u001b[0m\u001b[0;34m,\u001b[0m \u001b[0;34m(\u001b[0m\u001b[0;34m)\u001b[0m\u001b[0;34m)\u001b[0m\u001b[0;34m)\u001b[0m\u001b[0;34m\u001b[0m\u001b[0;34m\u001b[0m\u001b[0m\n\u001b[0;32m--> 173\u001b[0;31m         \u001b[0mself\u001b[0m\u001b[0;34m.\u001b[0m\u001b[0m_options_full\u001b[0m \u001b[0;34m=\u001b[0m \u001b[0m_make_options\u001b[0m\u001b[0;34m(\u001b[0m\u001b[0mkwargs\u001b[0m\u001b[0;34m[\u001b[0m\u001b[0;34m'options'\u001b[0m\u001b[0;34m]\u001b[0m\u001b[0;34m)\u001b[0m\u001b[0;34m\u001b[0m\u001b[0;34m\u001b[0m\u001b[0m\n\u001b[0m\u001b[1;32m    174\u001b[0m         \u001b[0mself\u001b[0m\u001b[0;34m.\u001b[0m\u001b[0m_propagate_options\u001b[0m\u001b[0;34m(\u001b[0m\u001b[0;32mNone\u001b[0m\u001b[0;34m)\u001b[0m\u001b[0;34m\u001b[0m\u001b[0;34m\u001b[0m\u001b[0m\n\u001b[1;32m    175\u001b[0m \u001b[0;34m\u001b[0m\u001b[0m\n",
      "\u001b[0;32m/opt/conda/lib/python3.9/site-packages/ipywidgets/widgets/widget_selection.py\u001b[0m in \u001b[0;36m_make_options\u001b[0;34m(x)\u001b[0m\n\u001b[1;32m    113\u001b[0m     \"\"\"\n\u001b[1;32m    114\u001b[0m     \u001b[0;32mif\u001b[0m \u001b[0misinstance\u001b[0m\u001b[0;34m(\u001b[0m\u001b[0mx\u001b[0m\u001b[0;34m,\u001b[0m \u001b[0mMapping\u001b[0m\u001b[0;34m)\u001b[0m\u001b[0;34m:\u001b[0m\u001b[0;34m\u001b[0m\u001b[0;34m\u001b[0m\u001b[0m\n\u001b[0;32m--> 115\u001b[0;31m         \u001b[0;32mraise\u001b[0m \u001b[0mTypeError\u001b[0m\u001b[0;34m(\u001b[0m\u001b[0;34m\"options must be a list of values or a list of (label, value) tuples\"\u001b[0m\u001b[0;34m)\u001b[0m\u001b[0;34m\u001b[0m\u001b[0;34m\u001b[0m\u001b[0m\n\u001b[0m\u001b[1;32m    116\u001b[0m \u001b[0;34m\u001b[0m\u001b[0m\n\u001b[1;32m    117\u001b[0m     \u001b[0;31m# only iterate once through the options.\u001b[0m\u001b[0;34m\u001b[0m\u001b[0;34m\u001b[0m\u001b[0m\n",
      "\u001b[0;31mTypeError\u001b[0m: options must be a list of values or a list of (label, value) tuples"
     ]
    }
   ],
   "source": [
    "%load_ext sparkmagic.magics"
   ]
  },
  {
   "cell_type": "code",
   "execution_count": null,
   "id": "167eb6b6-2ae9-43e3-9b18-27224f3199ce",
   "metadata": {},
   "outputs": [],
   "source": [
    "import pickle\n",
    "path_data = \"../data/\""
   ]
  },
  {
   "cell_type": "code",
   "execution_count": null,
   "id": "62a7b68d-5a30-4b01-aab8-1c2850b4e499",
   "metadata": {},
   "outputs": [],
   "source": [
    "# pull from lfs\n",
    "! git lfs pull"
   ]
  },
  {
   "cell_type": "code",
   "execution_count": null,
   "id": "fabe5282-98a6-4d13-9b17-ae190021bf38",
   "metadata": {},
   "outputs": [],
   "source": [
    "import os\n",
    "from IPython import get_ipython\n",
    "username = os.environ['RENKU_USERNAME']\n",
    "server = \"http://iccluster029.iccluster.epfl.ch:8998\"\n",
    "\n",
    "# set the application name as \"<your_gaspar_id>-homework3\"\n",
    "get_ipython().run_cell_magic(\n",
    "    'spark',\n",
    "    line='config', \n",
    "    cell=\"\"\"{{ \"name\": \"{0}-homework3\", \"executorMemory\": \"4G\", \"executorCores\": 4, \"numExecutors\": 10, \"driverMemory\": \"4G\"}}\"\"\".format(username)\n",
    ")"
   ]
  },
  {
   "cell_type": "code",
   "execution_count": 2,
   "id": "7ba317bf-acb0-4bcc-b9dd-5bded845cb00",
   "metadata": {},
   "outputs": [
    {
     "ename": "NameError",
     "evalue": "name 'username' is not defined",
     "output_type": "error",
     "traceback": [
      "\u001b[0;31m---------------------------------------------------------------------------\u001b[0m",
      "\u001b[0;31mNameError\u001b[0m                                 Traceback (most recent call last)",
      "\u001b[0;32m<ipython-input-2-3e01a5ccebc2>\u001b[0m in \u001b[0;36m<module>\u001b[0;34m\u001b[0m\n\u001b[1;32m      1\u001b[0m get_ipython().run_line_magic(\n\u001b[0;32m----> 2\u001b[0;31m     \u001b[0;34m\"spark\"\u001b[0m\u001b[0;34m,\u001b[0m \u001b[0;34m\"add -s {0}-homework3 -l python -u {1} -k\"\u001b[0m\u001b[0;34m.\u001b[0m\u001b[0mformat\u001b[0m\u001b[0;34m(\u001b[0m\u001b[0musername\u001b[0m\u001b[0;34m,\u001b[0m \u001b[0mserver\u001b[0m\u001b[0;34m)\u001b[0m\u001b[0;34m\u001b[0m\u001b[0;34m\u001b[0m\u001b[0m\n\u001b[0m\u001b[1;32m      3\u001b[0m )\n",
      "\u001b[0;31mNameError\u001b[0m: name 'username' is not defined"
     ]
    }
   ],
   "source": [
    "get_ipython().run_line_magic(\n",
    "    \"spark\", \"add -s {0}-homework3 -l python -u {1} -k\".format(username, server)\n",
    ")"
   ]
  },
  {
   "cell_type": "code",
   "execution_count": 6,
   "id": "0ff65f3a-a31f-492d-b388-5741ea427bcb",
   "metadata": {},
   "outputs": [
    {
     "name": "stderr",
     "output_type": "stream",
     "text": [
      "An error was encountered:\n",
      "You need to have at least 1 client created to execute commands.\n"
     ]
    }
   ],
   "source": [
    "%%spark\n",
    "print('We are using Spark %s' % spark.version)"
   ]
  },
  {
   "cell_type": "markdown",
   "id": "6fd5b2a2-0161-4210-a946-5108596bc82f",
   "metadata": {},
   "source": [
    "## Stops 15km from Zürich HB (8503000) (lat, lon) = (47.378177, 8.540192)"
   ]
  },
  {
   "cell_type": "code",
   "execution_count": 7,
   "id": "17ff8920-acb8-48c0-b2ba-60565b705691",
   "metadata": {},
   "outputs": [
    {
     "name": "stderr",
     "output_type": "stream",
     "text": [
      "An error was encountered:\n",
      "You need to have at least 1 client created to execute commands.\n"
     ]
    }
   ],
   "source": [
    "%%spark\n",
    "all_stops = spark.read.csv('/data/sbb/csv/allstops/stop_locations.csv')\n",
    "all_stops.show(10)"
   ]
  },
  {
   "cell_type": "code",
   "execution_count": 8,
   "id": "99b409b5-3b9e-4aef-a490-ca4db5863084",
   "metadata": {},
   "outputs": [
    {
     "name": "stderr",
     "output_type": "stream",
     "text": [
      "An error was encountered:\n",
      "You need to have at least 1 client created to execute commands.\n"
     ]
    }
   ],
   "source": [
    "%%spark\n",
    "all_stops = all_stops.withColumnRenamed('_c0','stop_id')\n",
    "all_stops = all_stops.withColumnRenamed('_c1','stop_name')\n",
    "all_stops = all_stops.withColumnRenamed('_c2','lat')\n",
    "all_stops = all_stops.withColumnRenamed('_c3','lon')\n",
    "all_stops = all_stops.drop('_c4','_c5')\n",
    "all_stops.show(10)"
   ]
  },
  {
   "cell_type": "code",
   "execution_count": 9,
   "id": "1e1fcaac-936a-4d67-8734-1dcd5a076779",
   "metadata": {},
   "outputs": [
    {
     "name": "stderr",
     "output_type": "stream",
     "text": [
      "An error was encountered:\n",
      "You need to have at least 1 client created to execute commands.\n"
     ]
    }
   ],
   "source": [
    "%%spark\n",
    "import pyspark.sql.functions as F\n",
    "zur_hp_lat = 47.378177\n",
    "zur_hp_lon = 8.540192\n",
    "\n",
    "all_stops_distance = all_stops.withColumn(\"a\", (\n",
    "        F.pow(F.sin(F.radians(zur_hp_lat - F.col(\"lat\")) / 2), 2) +\n",
    "        F.cos(F.radians(F.col(\"lat\"))) * F.cos(F.radians(F.lit(zur_hp_lat))) *\n",
    "        F.pow(F.sin(F.radians(zur_hp_lon - F.col(\"lon\")) / 2), 2)\n",
    "    )).withColumn(\"distance\", F.atan2(F.sqrt(F.col(\"a\")), F.sqrt(-F.col(\"a\") + 1)) * 12742000)\n",
    "\n",
    "all_stops_distance.show(10)"
   ]
  },
  {
   "cell_type": "code",
   "execution_count": 10,
   "id": "fba8f90b-6b55-4961-9f46-5da1b057ce7b",
   "metadata": {},
   "outputs": [
    {
     "name": "stderr",
     "output_type": "stream",
     "text": [
      "An error was encountered:\n",
      "You need to have at least 1 client created to execute commands.\n"
     ]
    }
   ],
   "source": [
    "%%spark\n",
    "close_stops = all_stops_distance.filter(all_stops_distance['distance'] <= 15000).drop('a','distance')\n",
    "close_stops.show(10)"
   ]
  },
  {
   "cell_type": "code",
   "execution_count": 11,
   "id": "b4868bd6-efc6-4110-83b3-d9c1cba99d95",
   "metadata": {},
   "outputs": [
    {
     "name": "stderr",
     "output_type": "stream",
     "text": [
      "An error was encountered:\n",
      "You need to have at least 1 client created to execute commands.\n"
     ]
    }
   ],
   "source": [
    "%%spark\n",
    "close_stops.count()"
   ]
  },
  {
   "cell_type": "markdown",
   "id": "21270217-a12d-4860-a3fa-be64c363b044",
   "metadata": {},
   "source": [
    "## Weekly timetable"
   ]
  },
  {
   "cell_type": "markdown",
   "id": "fe275468-21df-418c-9427-4df024046d6c",
   "metadata": {},
   "source": [
    "Considered period: May 08-14, 2019 (then we exclude the weekends)"
   ]
  },
  {
   "cell_type": "code",
   "execution_count": 12,
   "id": "542d62de-7bbe-49c9-a891-09aa612ca62b",
   "metadata": {},
   "outputs": [
    {
     "name": "stderr",
     "output_type": "stream",
     "text": [
      "An error was encountered:\n",
      "You need to have at least 1 client created to execute commands.\n"
     ]
    }
   ],
   "source": [
    "%%spark\n",
    "all_trips1 = spark.read.csv('/data/sbb/csv/stop_times/2019/05/08/stop_times.txt', header=True)\n",
    "#all_trips2 = spark.read.csv('/data/sbb/csv/stop_times/2019/05/15/stop_times.txt', header=True)"
   ]
  },
  {
   "cell_type": "code",
   "execution_count": 13,
   "id": "e5826832-af7e-4582-aafb-7d3404154dac",
   "metadata": {},
   "outputs": [
    {
     "name": "stderr",
     "output_type": "stream",
     "text": [
      "An error was encountered:\n",
      "You need to have at least 1 client created to execute commands.\n"
     ]
    }
   ],
   "source": [
    "%%spark\n",
    "all_trips1.count()"
   ]
  },
  {
   "cell_type": "code",
   "execution_count": 14,
   "id": "5db620e7-a85b-46cd-9c05-189486125176",
   "metadata": {},
   "outputs": [
    {
     "name": "stderr",
     "output_type": "stream",
     "text": [
      "An error was encountered:\n",
      "You need to have at least 1 client created to execute commands.\n"
     ]
    }
   ],
   "source": [
    "%%spark\n",
    "#all_trips2.count()"
   ]
  },
  {
   "cell_type": "code",
   "execution_count": 15,
   "id": "45df46dc-a87e-41a0-85a5-d76b33f240c0",
   "metadata": {},
   "outputs": [
    {
     "name": "stderr",
     "output_type": "stream",
     "text": [
      "An error was encountered:\n",
      "You need to have at least 1 client created to execute commands.\n"
     ]
    }
   ],
   "source": [
    "%%spark\n",
    "all_trips1.filter(all_trips1.arrival_time==all_trips1.departure_time).count()"
   ]
  },
  {
   "cell_type": "code",
   "execution_count": 16,
   "id": "51e30844-d23e-4cdf-a1c4-77aab2a6816c",
   "metadata": {},
   "outputs": [
    {
     "name": "stderr",
     "output_type": "stream",
     "text": [
      "An error was encountered:\n",
      "You need to have at least 1 client created to execute commands.\n"
     ]
    }
   ],
   "source": [
    "%%spark\n",
    "#all_trips_tot = all_trips1.union(all_trips2)\n",
    "all_trips_tot = all_trips1\n",
    "all_trips_tot.show(10)"
   ]
  },
  {
   "cell_type": "code",
   "execution_count": 17,
   "id": "c413a444-3378-4fbf-965b-1bb1fd0c5a01",
   "metadata": {},
   "outputs": [
    {
     "name": "stderr",
     "output_type": "stream",
     "text": [
      "An error was encountered:\n",
      "You need to have at least 1 client created to execute commands.\n"
     ]
    }
   ],
   "source": [
    "%%spark\n",
    "routes1 = spark.read.csv('/data/sbb/csv/trips/2019/05/08/trips.txt', header=True)\n",
    "#routes2 = spark.read.csv('/data/sbb/csv/trips/2019/05/15/trips.txt', header=True)\n",
    "#routes_tot = routes1.union(routes2)\n",
    "routes_tot = routes1\n",
    "routes_tot.show(10)"
   ]
  },
  {
   "cell_type": "code",
   "execution_count": 18,
   "id": "061248b3-c3e4-4c66-be5d-328549033169",
   "metadata": {},
   "outputs": [
    {
     "name": "stderr",
     "output_type": "stream",
     "text": [
      "An error was encountered:\n",
      "You need to have at least 1 client created to execute commands.\n"
     ]
    }
   ],
   "source": [
    "%%spark\n",
    "trips_with_routes = all_trips_tot.join(routes_tot, all_trips_tot.trip_id == routes_tot.trip_id)\n",
    "trips_with_routes.show(10)"
   ]
  },
  {
   "cell_type": "code",
   "execution_count": 19,
   "id": "a06f0626-4474-46d2-8507-bde9add5ae01",
   "metadata": {},
   "outputs": [
    {
     "name": "stderr",
     "output_type": "stream",
     "text": [
      "An error was encountered:\n",
      "You need to have at least 1 client created to execute commands.\n"
     ]
    }
   ],
   "source": [
    "%%spark\n",
    "trips_with_routes = trips_with_routes.select(all_trips_tot.trip_id, 'service_id').distinct()\n",
    "trips_with_routes.show(10)"
   ]
  },
  {
   "cell_type": "code",
   "execution_count": 20,
   "id": "81659e3d-1c04-485d-9f32-f13e3701540d",
   "metadata": {},
   "outputs": [
    {
     "name": "stderr",
     "output_type": "stream",
     "text": [
      "An error was encountered:\n",
      "You need to have at least 1 client created to execute commands.\n"
     ]
    }
   ],
   "source": [
    "%%spark\n",
    "cal1 = spark.read.csv('/data/sbb/csv/calendar/2019/05/08/calendar.txt', header=True)\n",
    "#cal2 = spark.read.csv('/data/sbb/csv/calendar/2019/05/15/calendar.txt', header=True)\n",
    "#cal_tot = cal1.union(cal2).distinct()\n",
    "cal_tot = cal1.distinct()\n",
    "cal_tot.show(10)"
   ]
  },
  {
   "cell_type": "code",
   "execution_count": 21,
   "id": "f9a69104-3457-44dc-a10e-bdc9df43ad19",
   "metadata": {},
   "outputs": [
    {
     "name": "stderr",
     "output_type": "stream",
     "text": [
      "An error was encountered:\n",
      "You need to have at least 1 client created to execute commands.\n"
     ]
    }
   ],
   "source": [
    "%%spark\n",
    "cal_filtered = cal_tot.filter((cal_tot.monday == 1) | (cal_tot.tuesday == 1) | (cal_tot.wednesday == 1) | (cal_tot.thursday == 1) | (cal_tot.friday == 1))\n",
    "cal_filtered_dates = cal_filtered.filter((cal_tot.start_date <= '20190513') & (cal_tot.end_date >= '20190518'))\n",
    "cal_filtered_dates.show(10)"
   ]
  },
  {
   "cell_type": "code",
   "execution_count": 22,
   "id": "ea4bd72f-abbc-46d0-8b74-3301cfeb85a3",
   "metadata": {},
   "outputs": [
    {
     "name": "stderr",
     "output_type": "stream",
     "text": [
      "An error was encountered:\n",
      "You need to have at least 1 client created to execute commands.\n"
     ]
    }
   ],
   "source": [
    "%%spark\n",
    "service_ids = cal_filtered_dates.drop('start_date', 'end_date', 'saturday', 'sunday')"
   ]
  },
  {
   "cell_type": "code",
   "execution_count": 23,
   "id": "172f16af-cd08-46b5-aa40-d3fd252f1ff6",
   "metadata": {},
   "outputs": [
    {
     "name": "stderr",
     "output_type": "stream",
     "text": [
      "An error was encountered:\n",
      "You need to have at least 1 client created to execute commands.\n"
     ]
    }
   ],
   "source": [
    "%%spark\n",
    "service_ids.select('service_id')\n",
    "trips_in_period = trips_with_routes.join(service_ids, service_ids.service_id == trips_with_routes.service_id,'inner').drop(trips_with_routes.service_id).distinct()\n",
    "trips_in_period.show(10)"
   ]
  },
  {
   "cell_type": "code",
   "execution_count": 24,
   "id": "bf4b3435-edbc-431f-aecf-93b6cf750d11",
   "metadata": {},
   "outputs": [
    {
     "name": "stderr",
     "output_type": "stream",
     "text": [
      "An error was encountered:\n",
      "You need to have at least 1 client created to execute commands.\n"
     ]
    }
   ],
   "source": [
    "%%spark\n",
    "final_trips = all_trips_tot.join(trips_in_period, trips_in_period.trip_id == all_trips_tot.trip_id).distinct().drop(all_trips_tot.trip_id)\n",
    "final_trips.show(10)"
   ]
  },
  {
   "cell_type": "code",
   "execution_count": 25,
   "id": "eaa7b4a4-257c-4f14-a99b-3a62b365f2cf",
   "metadata": {},
   "outputs": [
    {
     "name": "stderr",
     "output_type": "stream",
     "text": [
      "An error was encountered:\n",
      "You need to have at least 1 client created to execute commands.\n"
     ]
    }
   ],
   "source": [
    "%%spark\n",
    "all_trips_tot.count()"
   ]
  },
  {
   "cell_type": "code",
   "execution_count": 26,
   "id": "28272097-b7e1-422c-a00a-380855fb8348",
   "metadata": {},
   "outputs": [
    {
     "name": "stderr",
     "output_type": "stream",
     "text": [
      "An error was encountered:\n",
      "You need to have at least 1 client created to execute commands.\n"
     ]
    }
   ],
   "source": [
    "%%spark\n",
    "final_trips.count()"
   ]
  },
  {
   "cell_type": "markdown",
   "id": "c7b1ddbc-9e4b-4191-8f7d-81cee957f5f5",
   "metadata": {},
   "source": [
    "### Considering working hours from 9:00 to 16:59"
   ]
  },
  {
   "cell_type": "code",
   "execution_count": 27,
   "id": "0fd92098-e4ae-4de5-a932-c3fd9d241597",
   "metadata": {},
   "outputs": [
    {
     "name": "stderr",
     "output_type": "stream",
     "text": [
      "An error was encountered:\n",
      "You need to have at least 1 client created to execute commands.\n"
     ]
    }
   ],
   "source": [
    "%%spark\n",
    "import pyspark.sql.functions as F\n",
    "\n",
    "final_trips = final_trips.filter(F.hour(final_trips.arrival_time).between(9,17) & F.hour(final_trips.departure_time).between(9,17))\n",
    "final_trips.show(10, truncate=False)"
   ]
  },
  {
   "cell_type": "code",
   "execution_count": 28,
   "id": "2b7d0396-6a62-420f-b98f-17bc011f8624",
   "metadata": {},
   "outputs": [
    {
     "name": "stderr",
     "output_type": "stream",
     "text": [
      "An error was encountered:\n",
      "You need to have at least 1 client created to execute commands.\n"
     ]
    }
   ],
   "source": [
    "%%spark\n",
    "final_trips.count()"
   ]
  },
  {
   "cell_type": "markdown",
   "id": "d27bffee-c2b3-49eb-9940-a696c61f09f6",
   "metadata": {},
   "source": [
    "### Keeping only trip_ids that contains a stop in the area of Zurich"
   ]
  },
  {
   "cell_type": "code",
   "execution_count": 29,
   "id": "8ee6ae76-3ee7-4c37-81dc-b229e29669e2",
   "metadata": {},
   "outputs": [
    {
     "name": "stderr",
     "output_type": "stream",
     "text": [
      "An error was encountered:\n",
      "You need to have at least 1 client created to execute commands.\n"
     ]
    }
   ],
   "source": [
    "%%spark\n",
    "final_close_trips_ids = final_trips.join(close_stops, final_trips.stop_id == close_stops.stop_id , 'inner').select('trip_id').distinct()\n",
    "final_close_trips_ids.show(10)"
   ]
  },
  {
   "cell_type": "code",
   "execution_count": 30,
   "id": "e0c6b7dc-e394-412a-8a34-0d3cd6b7f9b8",
   "metadata": {},
   "outputs": [
    {
     "name": "stderr",
     "output_type": "stream",
     "text": [
      "An error was encountered:\n",
      "You need to have at least 1 client created to execute commands.\n"
     ]
    }
   ],
   "source": [
    "%%spark\n",
    "final_close_trips1 = final_trips.join(final_close_trips_ids, final_trips.trip_id == final_close_trips_ids.trip_id).drop(final_close_trips_ids.trip_id).distinct()\n",
    "final_close_trips2 = final_close_trips1.join(all_stops_distance, all_stops_distance.stop_id == final_close_trips1.stop_id).drop(final_close_trips1.stop_id).distinct()\n",
    "final_close_trips_filtered = final_close_trips2.filter(all_stops_distance['distance'] <= 18000).drop('a','distance', 'lat', 'lon', 'stop_name')\n",
    "final_close_trips_filtered.show()"
   ]
  },
  {
   "cell_type": "code",
   "execution_count": 31,
   "id": "fbb1f767-f91f-4f8f-8926-f977ec338c6a",
   "metadata": {},
   "outputs": [
    {
     "name": "stderr",
     "output_type": "stream",
     "text": [
      "An error was encountered:\n",
      "You need to have at least 1 client created to execute commands.\n"
     ]
    }
   ],
   "source": [
    "%%spark\n",
    "final_close_trips_filtered.cache()\n",
    "final_close_trips_filtered.count()"
   ]
  },
  {
   "cell_type": "markdown",
   "id": "78435b27-ac87-4d55-aa1d-729db082a32b",
   "metadata": {},
   "source": [
    "### Making table to link type of mean of transport to trip_ids"
   ]
  },
  {
   "cell_type": "code",
   "execution_count": null,
   "id": "3c184f75-c662-45ec-8cfd-14dac9384daf",
   "metadata": {},
   "outputs": [],
   "source": [
    "%%spark\n",
    "trips_id = final_close_trips_filtered.select(\"trip_id\").distinct()\n",
    "trips = spark.read.csv('/data/sbb/csv/trips/2019/05/08/trips.txt', header=True)\n",
    "\n",
    "trips_filtered = trips.join(trips_id, \"trip_id\", \"inner\")\n",
    "\n",
    "trips_filtered = trips_filtered.select(\"trip_id\", \"route_id\")\n",
    "\n",
    "routes = spark.read.csv('/data/sbb/csv/routes/2019/05/08/routes.txt', header=True)\n",
    "routes_descs = routes.select(\"route_desc\", \"route_id\")\n",
    "\n",
    "joined_routes = routes_descs.join(trips_filtered, \"route_id\", \"inner\")\n",
    "\n",
    "joined_routes = joined_routes.select(\"trip_id\", \"route_desc\")\n",
    "\n",
    "joined_routes.show(10)\n"
   ]
  },
  {
   "cell_type": "code",
   "execution_count": null,
   "id": "19a472b1-f966-49a2-96b8-abc2910555a6",
   "metadata": {},
   "outputs": [],
   "source": [
    "%%spark\n",
    "#joined_routes.write.mode('overwrite').option(\"delimiter\", \";\").option(\"header\",\"true\").format(\"csv\").save(\"/group/five-guys/routes\")"
   ]
  },
  {
   "cell_type": "markdown",
   "id": "a8b23f30-e244-42c0-bb7b-1fba9b4204e4",
   "metadata": {},
   "source": [
    "## Create timetable"
   ]
  },
  {
   "cell_type": "markdown",
   "id": "47b40790-05d5-42f1-9dc3-fe39e8b94794",
   "metadata": {},
   "source": [
    "As request by the paper "
   ]
  },
  {
   "cell_type": "markdown",
   "id": "581363da-a71e-4222-b2e9-0d03e5a71a22",
   "metadata": {},
   "source": [
    "### stops Table"
   ]
  },
  {
   "cell_type": "code",
   "execution_count": 32,
   "id": "41ada792-807b-427d-bd06-51cba02735ca",
   "metadata": {},
   "outputs": [
    {
     "data": {
      "application/vnd.jupyter.widget-view+json": {
       "model_id": "",
       "version_major": 2,
       "version_minor": 0
      },
      "text/plain": [
       "FloatProgress(value=0.0, bar_style='info', description='Progress:', layout=Layout(height='25px', width='50%'),…"
      ]
     },
     "metadata": {},
     "output_type": "display_data"
    },
    {
     "name": "stdout",
     "output_type": "stream",
     "text": [
      "+-----------+\n",
      "|    stop_id|\n",
      "+-----------+\n",
      "|    8503078|\n",
      "|    8506895|\n",
      "|    8589111|\n",
      "|    8591284|\n",
      "|    8590819|\n",
      "|    8573729|\n",
      "|    8591190|\n",
      "|    8502508|\n",
      "|    8503376|\n",
      "|8503306:0:2|\n",
      "+-----------+\n",
      "only showing top 10 rows"
     ]
    }
   ],
   "source": [
    "%%spark\n",
    "stops_table = final_close_trips_filtered.select(final_close_trips_filtered.stop_id).distinct()\n",
    "stops_table.show(10)"
   ]
  },
  {
   "cell_type": "code",
   "execution_count": 33,
   "id": "17618d0d-4616-4bcb-ba3b-f9ff0b4057f1",
   "metadata": {},
   "outputs": [
    {
     "data": {
      "application/vnd.jupyter.widget-view+json": {
       "model_id": "",
       "version_major": 2,
       "version_minor": 0
      },
      "text/plain": [
       "FloatProgress(value=0.0, bar_style='info', description='Progress:', layout=Layout(height='25px', width='50%'),…"
      ]
     },
     "metadata": {},
     "output_type": "display_data"
    }
   ],
   "source": [
    "%%spark\n",
    "\n",
    "all_stops = spark.read.csv('/data/sbb/csv/allstops/stop_locations.csv')\n",
    "\n",
    "all_stops = all_stops.withColumnRenamed('_c0','stop_id')\n",
    "all_stops = all_stops.withColumnRenamed('_c1','stop_name')\n",
    "all_stops = all_stops.withColumnRenamed('_c2','stop_lat')\n",
    "all_stops = all_stops.withColumnRenamed('_c3','stop_lon')\n",
    "all_stops = all_stops.withColumnRenamed('_c4','location_type')\n",
    "all_stops = all_stops.withColumnRenamed('_c5','parent_station')\n",
    "all_stops = all_stops.drop('location_type')\n",
    "\n",
    "all_stops_full = all_stops.join(stops_table, \"stop_id\" ,\"inner\")"
   ]
  },
  {
   "cell_type": "code",
   "execution_count": 34,
   "id": "e61ebfb9-d84c-49cd-a8c5-540cd2a553d8",
   "metadata": {},
   "outputs": [
    {
     "data": {
      "application/vnd.jupyter.widget-view+json": {
       "model_id": "",
       "version_major": 2,
       "version_minor": 0
      },
      "text/plain": [
       "FloatProgress(value=0.0, bar_style='info', description='Progress:', layout=Layout(height='25px', width='50%'),…"
      ]
     },
     "metadata": {},
     "output_type": "display_data"
    },
    {
     "name": "stdout",
     "output_type": "stream",
     "text": [
      "+-------+--------------------+----------------+----------------+--------------+\n",
      "|stop_id|           stop_name|        stop_lat|        stop_lon|parent_station|\n",
      "+-------+--------------------+----------------+----------------+--------------+\n",
      "|1100150|Schlächtenhaus, S...|47.6898550981112|7.74233688977719|          null|\n",
      "|1100376|Brombach (LÖ), Fr...|47.6314693778999|7.68696473565635|          null|\n",
      "|1100411|Häg-Ehrsberg, Ehr...|  47.74319213737|7.90619858077624|          null|\n",
      "|1101439|   Gailingen, Schule|47.6948133619046|8.75378600091951|          null|\n",
      "|1101511|Hoppetenzell, Sar...|47.8931911144564|9.01140485813517|          null|\n",
      "|1101517|           Igelswies|48.0050619291514|9.13811222897787|          null|\n",
      "|1101664|  Liptingen, Rathaus|47.9384005993389|8.90860165700622|          null|\n",
      "|1102913|Lindau (D), Westl...|47.5459998093133|9.67818836101854|          null|\n",
      "|1103354|Tettnang, Bärenplatz|47.6711364278945|9.59007261478699|          null|\n",
      "|1103389|Tettnang, Gut Kal...|47.6844488440805|9.59567810216068|          null|\n",
      "+-------+--------------------+----------------+----------------+--------------+\n",
      "only showing top 10 rows"
     ]
    }
   ],
   "source": [
    "%%spark\n",
    "all_stops_full.show(10)\n",
    "#all_stops_full.printSchema()"
   ]
  },
  {
   "cell_type": "code",
   "execution_count": 35,
   "id": "7b3e817c-dacb-460b-af1c-e1a231823f6a",
   "metadata": {},
   "outputs": [
    {
     "data": {
      "application/vnd.jupyter.widget-view+json": {
       "model_id": "",
       "version_major": 2,
       "version_minor": 0
      },
      "text/plain": [
       "FloatProgress(value=0.0, bar_style='info', description='Progress:', layout=Layout(height='25px', width='50%'),…"
      ]
     },
     "metadata": {},
     "output_type": "display_data"
    }
   ],
   "source": [
    "%%spark\n",
    "#all_stops_full.write.mode('overwrite').option(\"delimiter\", \";\").option(\"header\",\"true\").format(\"csv\").save(\"/group/five-guys/stops_table\")"
   ]
  },
  {
   "cell_type": "markdown",
   "id": "d8cd9244-fc60-4c1c-9403-0605f90db681",
   "metadata": {},
   "source": [
    "### connections Table"
   ]
  },
  {
   "cell_type": "code",
   "execution_count": 36,
   "id": "871d571d-2797-4284-8c80-41a48fdf9927",
   "metadata": {},
   "outputs": [
    {
     "data": {
      "application/vnd.jupyter.widget-view+json": {
       "model_id": "",
       "version_major": 2,
       "version_minor": 0
      },
      "text/plain": [
       "FloatProgress(value=0.0, bar_style='info', description='Progress:', layout=Layout(height='25px', width='50%'),…"
      ]
     },
     "metadata": {},
     "output_type": "display_data"
    },
    {
     "name": "stdout",
     "output_type": "stream",
     "text": [
      "+--------------------+------+-------+---------+--------+------+\n",
      "|             trip_id|monday|tuesday|wednesday|thursday|friday|\n",
      "+--------------------+------+-------+---------+--------+------+\n",
      "|1.TA.26-18-j19-1.1.H|     1|      1|        1|       1|     1|\n",
      "|1.TA.63-138-Y-j19...|     0|      0|        1|       0|     0|\n",
      "|1001.TA.26-213-j1...|     0|      0|        0|       0|     1|\n",
      "|1014.TA.26-520-j1...|     1|      1|        1|       1|     0|\n",
      "|1017.TA.26-151-j1...|     1|      1|        1|       1|     0|\n",
      "|1023.TA.26-4-j19-...|     1|      1|        1|       1|     1|\n",
      "|1029.TA.26-LAF-j1...|     1|      1|        1|       1|     0|\n",
      "|103.TA.26-510-j19...|     0|      0|        0|       0|     1|\n",
      "|1039.TA.26-200-j1...|     0|      0|        0|       0|     1|\n",
      "|1082.TA.26-201-j1...|     0|      0|        0|       0|     1|\n",
      "+--------------------+------+-------+---------+--------+------+\n",
      "only showing top 10 rows"
     ]
    }
   ],
   "source": [
    "%%spark\n",
    "trip_ids_with_days_table = final_close_trips_filtered.select('trip_id', 'monday', 'tuesday', 'wednesday', 'thursday', 'friday').distinct()\n",
    "trip_ids_with_days_table.show(10)"
   ]
  },
  {
   "cell_type": "code",
   "execution_count": 37,
   "id": "9dc838ba-d764-4363-a438-02fbfbe220bf",
   "metadata": {},
   "outputs": [
    {
     "data": {
      "application/vnd.jupyter.widget-view+json": {
       "model_id": "",
       "version_major": 2,
       "version_minor": 0
      },
      "text/plain": [
       "FloatProgress(value=0.0, bar_style='info', description='Progress:', layout=Layout(height='25px', width='50%'),…"
      ]
     },
     "metadata": {},
     "output_type": "display_data"
    },
    {
     "name": "stdout",
     "output_type": "stream",
     "text": [
      "+----------------+--------------+-------------+--------------------+------------+\n",
      "|old_arrival_time|departure_time|stop_sequence|             trip_id|departure_id|\n",
      "+----------------+--------------+-------------+--------------------+------------+\n",
      "|        15:10:00|      15:10:00|            1|1.TA.1-245-j19-1.1.H|     8573710|\n",
      "|        15:11:00|      15:11:00|            2|1.TA.1-245-j19-1.1.H|     8591341|\n",
      "|        15:13:00|      15:13:00|            3|1.TA.1-245-j19-1.1.H|     8502572|\n",
      "|        15:15:00|      15:15:00|            4|1.TA.1-245-j19-1.1.H|     8580912|\n",
      "|        15:17:00|      15:17:00|            5|1.TA.1-245-j19-1.1.H|     8503610|\n",
      "|        15:18:00|      15:18:00|            6|1.TA.1-245-j19-1.1.H|     8573711|\n",
      "|        15:21:00|      15:21:00|            7|1.TA.1-245-j19-1.1.H|     8503709|\n",
      "|        15:23:00|      15:23:00|            8|1.TA.1-245-j19-1.1.H|     8503699|\n",
      "|        15:24:00|      15:24:00|            9|1.TA.1-245-j19-1.1.H|     8503580|\n",
      "|        15:25:00|      15:25:00|           10|1.TA.1-245-j19-1.1.H|     8503698|\n",
      "|        15:28:00|      15:31:00|           11|1.TA.1-245-j19-1.1.H| 8573718:0:C|\n",
      "|        15:32:00|      15:32:00|           12|1.TA.1-245-j19-1.1.H|     8502950|\n",
      "|        15:33:00|      15:33:00|           13|1.TA.1-245-j19-1.1.H|     8573719|\n",
      "|        15:36:00|      15:36:00|           14|1.TA.1-245-j19-1.1.H|     8502876|\n",
      "|        15:37:00|      15:37:00|           15|1.TA.1-245-j19-1.1.H|     8583755|\n",
      "|        15:39:00|      15:39:00|           16|1.TA.1-245-j19-1.1.H|     8573720|\n",
      "|        15:40:00|      15:40:00|           17|1.TA.1-245-j19-1.1.H|     8503598|\n",
      "|        15:43:00|      15:43:00|           18|1.TA.1-245-j19-1.1.H|     8573721|\n",
      "|        15:44:00|      15:44:00|           19|1.TA.1-245-j19-1.1.H|     8573722|\n",
      "|        15:45:00|      15:45:00|           20|1.TA.1-245-j19-1.1.H|     8573723|\n",
      "|        15:47:00|      15:47:00|           21|1.TA.1-245-j19-1.1.H|     8572646|\n",
      "|        15:48:00|      15:48:00|           22|1.TA.1-245-j19-1.1.H|     8502570|\n",
      "|        15:50:00|      15:50:00|           23|1.TA.1-245-j19-1.1.H|     8572647|\n",
      "|        15:50:00|      15:50:00|           24|1.TA.1-245-j19-1.1.H|     8502571|\n",
      "|        15:51:00|      15:51:00|           25|1.TA.1-245-j19-1.1.H|     8580302|\n",
      "|        15:52:00|      15:52:00|           26|1.TA.1-245-j19-1.1.H|     8502567|\n",
      "|        15:54:00|      15:54:00|           27|1.TA.1-245-j19-1.1.H|     8502566|\n",
      "|        15:56:00|      15:56:00|           28|1.TA.1-245-j19-1.1.H|     8502577|\n",
      "|        15:58:00|      15:58:00|           29|1.TA.1-245-j19-1.1.H|     8502565|\n",
      "|        17:06:00|      17:06:00|            1|1.TA.1-315-j19-1.1.H|     8595708|\n",
      "+----------------+--------------+-------------+--------------------+------------+\n",
      "only showing top 30 rows"
     ]
    }
   ],
   "source": [
    "%%spark\n",
    "working_table = final_close_trips_filtered.withColumn('stop_sequence',final_close_trips_filtered.stop_sequence.cast('int')).orderBy('trip_id', 'stop_sequence').drop('service_id', 'pickup_type', 'drop_off_type', 'monday',  'tuesday', 'thursday', 'wednesday', 'thursday', 'friday')\n",
    "working_table = working_table.withColumnRenamed('stop_id','departure_id')\n",
    "working_table = working_table.withColumnRenamed('arrival_time','old_arrival_time')\n",
    "working_table.show(30)"
   ]
  },
  {
   "cell_type": "code",
   "execution_count": 38,
   "id": "266c4463-ef6e-4ed2-bffe-df51e81bc77f",
   "metadata": {},
   "outputs": [
    {
     "data": {
      "application/vnd.jupyter.widget-view+json": {
       "model_id": "",
       "version_major": 2,
       "version_minor": 0
      },
      "text/plain": [
       "FloatProgress(value=0.0, bar_style='info', description='Progress:', layout=Layout(height='25px', width='50%'),…"
      ]
     },
     "metadata": {},
     "output_type": "display_data"
    },
    {
     "name": "stdout",
     "output_type": "stream",
     "text": [
      "+----------------+--------------+-------------+--------------------+------------+------------+-----------+\n",
      "|old_arrival_time|departure_time|stop_sequence|             trip_id|departure_id|arrival_time| arrival_id|\n",
      "+----------------+--------------+-------------+--------------------+------------+------------+-----------+\n",
      "|        10:41:00|      10:41:00|            1|1.TA.26-18-j19-1.1.H|     8503064|    10:45:00|8503065:0:1|\n",
      "|        10:45:00|      10:45:00|            2|1.TA.26-18-j19-1.1.H| 8503065:0:1|    10:46:00|    8503074|\n",
      "|        10:46:00|      10:46:00|            3|1.TA.26-18-j19-1.1.H|     8503074|    10:47:00|    8503068|\n",
      "|        10:47:00|      10:47:00|            4|1.TA.26-18-j19-1.1.H|     8503068|    10:48:00|    8503066|\n",
      "|        10:48:00|      10:48:00|            5|1.TA.26-18-j19-1.1.H|     8503066|    10:50:00|    8503075|\n",
      "|        10:50:00|      10:50:00|            6|1.TA.26-18-j19-1.1.H|     8503075|    10:52:00|    8503067|\n",
      "|        10:52:00|      10:52:00|            7|1.TA.26-18-j19-1.1.H|     8503067|    10:53:00|    8503077|\n",
      "|        10:53:00|      10:53:00|            8|1.TA.26-18-j19-1.1.H|     8503077|    10:54:00|    8503078|\n",
      "|        10:54:00|      10:54:00|            9|1.TA.26-18-j19-1.1.H|     8503078|    10:57:00|    8591315|\n",
      "|        10:57:00|      10:57:00|           10|1.TA.26-18-j19-1.1.H|     8591315|    10:59:00|    8530811|\n",
      "+----------------+--------------+-------------+--------------------+------------+------------+-----------+\n",
      "only showing top 10 rows"
     ]
    }
   ],
   "source": [
    "%%spark\n",
    "import pyspark.sql.functions as F\n",
    "from pyspark.sql.window import Window\n",
    "\n",
    "w = Window().partitionBy('trip_id').orderBy('stop_sequence')\n",
    "table_a = working_table.select(\"*\",F.lag(\"old_arrival_time\", -1).over(w).alias(\"arrival_time\"), F.lag(\"departure_id\", -1).over(w).alias(\"arrival_id\")).na.drop()\n",
    "table_a.show(10)"
   ]
  },
  {
   "cell_type": "code",
   "execution_count": 39,
   "id": "f8057ee1-29c8-4836-810a-ab77fd5e7c3b",
   "metadata": {},
   "outputs": [
    {
     "data": {
      "application/vnd.jupyter.widget-view+json": {
       "model_id": "",
       "version_major": 2,
       "version_minor": 0
      },
      "text/plain": [
       "FloatProgress(value=0.0, bar_style='info', description='Progress:', layout=Layout(height='25px', width='50%'),…"
      ]
     },
     "metadata": {},
     "output_type": "display_data"
    },
    {
     "name": "stdout",
     "output_type": "stream",
     "text": [
      "+------------+----------+--------------+------------+--------------------+------+-------+---------+--------+------+\n",
      "|departure_id|arrival_id|departure_time|arrival_time|             trip_id|monday|tuesday|wednesday|thursday|friday|\n",
      "+------------+----------+--------------+------------+--------------------+------+-------+---------+--------+------+\n",
      "|     8503082|   8503081|      13:20:00|    13:25:00|1029.TA.26-LAF-j1...|     1|      1|        1|       1|     0|\n",
      "|     8591023|   8591028|      16:46:00|    16:49:00|120.TA.26-91-j19-...|     1|      1|        1|       1|     1|\n",
      "|     8591903|   8591023|      16:45:00|    16:46:00|120.TA.26-91-j19-...|     1|      1|        1|       1|     1|\n",
      "|     8591024|   8591903|      16:44:00|    16:45:00|120.TA.26-91-j19-...|     1|      1|        1|       1|     1|\n",
      "|     8591029|   8591024|      16:44:00|    16:44:00|120.TA.26-91-j19-...|     1|      1|        1|       1|     1|\n",
      "|     8591400|   8591029|      16:43:00|    16:44:00|120.TA.26-91-j19-...|     1|      1|        1|       1|     1|\n",
      "|     8591399|   8591400|      16:43:00|    16:43:00|120.TA.26-91-j19-...|     1|      1|        1|       1|     1|\n",
      "|     8591432|   8591399|      16:42:00|    16:43:00|120.TA.26-91-j19-...|     1|      1|        1|       1|     1|\n",
      "|     8591360|   8591432|      16:41:00|    16:42:00|120.TA.26-91-j19-...|     1|      1|        1|       1|     1|\n",
      "|     8591300|   8591360|      16:40:00|    16:41:00|120.TA.26-91-j19-...|     1|      1|        1|       1|     1|\n",
      "+------------+----------+--------------+------------+--------------------+------+-------+---------+--------+------+\n",
      "only showing top 10 rows"
     ]
    }
   ],
   "source": [
    "%%spark\n",
    "import pyspark.sql.functions as F\n",
    "from pyspark.sql.window import Window\n",
    "\n",
    "final_table = table_a.join(trip_ids_with_days_table, table_a.trip_id == trip_ids_with_days_table.trip_id)\n",
    "connections_table = final_table.drop('old_arrival_time', 'stop_sequence').select('departure_id', 'arrival_id', 'departure_time', 'arrival_time', table_a.trip_id, 'monday', 'tuesday', 'wednesday', 'thursday', 'friday')\n",
    "connections_table.show(10)"
   ]
  },
  {
   "cell_type": "code",
   "execution_count": 40,
   "id": "09588b86-9a33-4755-8598-2c2ad051704a",
   "metadata": {},
   "outputs": [
    {
     "data": {
      "application/vnd.jupyter.widget-view+json": {
       "model_id": "",
       "version_major": 2,
       "version_minor": 0
      },
      "text/plain": [
       "FloatProgress(value=0.0, bar_style='info', description='Progress:', layout=Layout(height='25px', width='50%'),…"
      ]
     },
     "metadata": {},
     "output_type": "display_data"
    },
    {
     "name": "stdout",
     "output_type": "stream",
     "text": [
      "0"
     ]
    }
   ],
   "source": [
    "%%spark\n",
    "connections_table.filter(connections_table.arrival_time < connections_table.departure_time).count()"
   ]
  },
  {
   "cell_type": "code",
   "execution_count": 41,
   "id": "9e350b17-875b-43f4-8320-888e918b0161",
   "metadata": {},
   "outputs": [
    {
     "data": {
      "application/vnd.jupyter.widget-view+json": {
       "model_id": "",
       "version_major": 2,
       "version_minor": 0
      },
      "text/plain": [
       "FloatProgress(value=0.0, bar_style='info', description='Progress:', layout=Layout(height='25px', width='50%'),…"
      ]
     },
     "metadata": {},
     "output_type": "display_data"
    },
    {
     "name": "stdout",
     "output_type": "stream",
     "text": [
      "495470"
     ]
    }
   ],
   "source": [
    "%%spark\n",
    "connections_table.count()"
   ]
  },
  {
   "cell_type": "markdown",
   "id": "0f286db9-dab4-4073-9e58-ec3caabb2b52",
   "metadata": {},
   "source": [
    "## Full table"
   ]
  },
  {
   "cell_type": "code",
   "execution_count": 42,
   "id": "4d765e25-b925-4982-956b-595e5be4b574",
   "metadata": {},
   "outputs": [
    {
     "data": {
      "application/vnd.jupyter.widget-view+json": {
       "model_id": "",
       "version_major": 2,
       "version_minor": 0
      },
      "text/plain": [
       "FloatProgress(value=0.0, bar_style='info', description='Progress:', layout=Layout(height='25px', width='50%'),…"
      ]
     },
     "metadata": {},
     "output_type": "display_data"
    },
    {
     "name": "stdout",
     "output_type": "stream",
     "text": [
      "+------------+----------+--------------+------------+--------------------+------+-------+---------+--------+------+\n",
      "|departure_id|arrival_id|departure_time|arrival_time|             trip_id|monday|tuesday|wednesday|thursday|friday|\n",
      "+------------+----------+--------------+------------+--------------------+------+-------+---------+--------+------+\n",
      "|     8502879|   8570706|      17:59:00|    17:59:00|1198.TA.26-215-j1...|     0|      0|        0|       0|     1|\n",
      "|     8503690|   8583053|      17:59:00|    17:59:00|234.TA.26-236-j19...|     0|      0|        0|       0|     1|\n",
      "|     8502879|   8570706|      17:59:00|    17:59:00|1415.TA.26-215-j1...|     1|      1|        1|       1|     0|\n",
      "|     8503709|   8574684|      17:59:00|    17:59:00|179.TA.26-201-j19...|     0|      0|        0|       0|     1|\n",
      "|     8591333|   8591116|      17:59:00|    17:59:00|482.TA.26-78-j19-...|     1|      1|        1|       1|     1|\n",
      "|     8503709|   8574684|      17:59:00|    17:59:00|585.TA.26-201-j19...|     1|      1|        1|       1|     0|\n",
      "|     8502879|   8570706|      17:59:00|    17:59:00|1580.TA.26-215-j1...|     1|      1|        1|       1|     0|\n",
      "|     8575927|   8594339|      17:59:00|    17:59:00|234.TA.26-640-j19...|     0|      0|        0|       0|     1|\n",
      "|     8502879|   8570706|      17:59:00|    17:59:00|1285.TA.26-215-j1...|     0|      0|        0|       0|     1|\n",
      "|     8502879|   8570706|      17:59:00|    17:59:00|1075.TA.26-215-j1...|     0|      0|        0|       0|     1|\n",
      "+------------+----------+--------------+------------+--------------------+------+-------+---------+--------+------+\n",
      "only showing top 10 rows"
     ]
    }
   ],
   "source": [
    "%%spark\n",
    "from pyspark.sql.functions import desc\n",
    "connections_table = connections_table.orderBy(desc(\"departure_time\"))\n",
    "connections_table.show(10)\n",
    "#ordering of columns\n",
    "#connections_table = connections_table_monday_full_sorted.select(\"departure_id\", \"arrival_id\", \"departure_time\", \"arrival_time\", \"trip_id\")"
   ]
  },
  {
   "cell_type": "code",
   "execution_count": 43,
   "id": "8e6800c2-9f81-41ee-b780-b9ae844d5321",
   "metadata": {},
   "outputs": [
    {
     "data": {
      "application/vnd.jupyter.widget-view+json": {
       "model_id": "",
       "version_major": 2,
       "version_minor": 0
      },
      "text/plain": [
       "FloatProgress(value=0.0, bar_style='info', description='Progress:', layout=Layout(height='25px', width='50%'),…"
      ]
     },
     "metadata": {},
     "output_type": "display_data"
    }
   ],
   "source": [
    "%%spark\n",
    "#connections_table.write.mode('overwrite').option(\"header\",\"true\").format(\"csv\").save(\"/group/five-guys/conn_table\")"
   ]
  },
  {
   "cell_type": "markdown",
   "id": "95930006-3817-4e5b-ab43-8d58d3ede49a",
   "metadata": {},
   "source": [
    "### trips Table"
   ]
  },
  {
   "cell_type": "code",
   "execution_count": 44,
   "id": "1a2b6ca5-bd82-4a0e-8b96-a8dcfddfdb60",
   "metadata": {},
   "outputs": [
    {
     "data": {
      "application/vnd.jupyter.widget-view+json": {
       "model_id": "",
       "version_major": 2,
       "version_minor": 0
      },
      "text/plain": [
       "FloatProgress(value=0.0, bar_style='info', description='Progress:', layout=Layout(height='25px', width='50%'),…"
      ]
     },
     "metadata": {},
     "output_type": "display_data"
    },
    {
     "name": "stdout",
     "output_type": "stream",
     "text": [
      "+--------------------+\n",
      "|             trip_id|\n",
      "+--------------------+\n",
      "|1.TA.26-18-j19-1.1.H|\n",
      "|1.TA.63-138-Y-j19...|\n",
      "|1001.TA.26-213-j1...|\n",
      "|1014.TA.26-520-j1...|\n",
      "|1017.TA.26-151-j1...|\n",
      "|1023.TA.26-4-j19-...|\n",
      "|1029.TA.26-LAF-j1...|\n",
      "|103.TA.26-510-j19...|\n",
      "|1039.TA.26-200-j1...|\n",
      "|1082.TA.26-201-j1...|\n",
      "+--------------------+\n",
      "only showing top 10 rows"
     ]
    }
   ],
   "source": [
    "%%spark\n",
    "#final_close_trips_filtered = final_close_trips.filter(final_close_trips.arrival_time>final_close_trips.departure_time)\n",
    "trips_table = final_close_trips_filtered.select(final_close_trips_filtered.trip_id).distinct()\n",
    "trips_table.show(10)"
   ]
  },
  {
   "cell_type": "code",
   "execution_count": 45,
   "id": "43ebbc66-acd3-4fb6-b680-180c36e5202f",
   "metadata": {},
   "outputs": [
    {
     "data": {
      "application/vnd.jupyter.widget-view+json": {
       "model_id": "",
       "version_major": 2,
       "version_minor": 0
      },
      "text/plain": [
       "FloatProgress(value=0.0, bar_style='info', description='Progress:', layout=Layout(height='25px', width='50%'),…"
      ]
     },
     "metadata": {},
     "output_type": "display_data"
    },
    {
     "name": "stdout",
     "output_type": "stream",
     "text": [
      "+--------------------+-----------+----------+--------------------+---------------+------------+\n",
      "|             trip_id|   route_id|service_id|       trip_headsign|trip_short_name|direction_id|\n",
      "+--------------------+-----------+----------+--------------------+---------------+------------+\n",
      "|9.TA.1-217-j19-1.1.H|1-217-j19-1|  TA+b0001|Affoltern a. A., ...|          21719|           0|\n",
      "|15.TA.1-217-j19-1...|1-217-j19-1|  TA+b0001|Affoltern a. A., ...|          21731|           0|\n",
      "|17.TA.1-217-j19-1...|1-217-j19-1|  TA+b0001|Affoltern a. A., ...|          21735|           0|\n",
      "|19.TA.1-217-j19-1...|1-217-j19-1|  TA+b0001|Affoltern a. A., ...|          21739|           0|\n",
      "|21.TA.1-217-j19-1...|1-217-j19-1|  TA+b0001|Affoltern a. A., ...|          21743|           0|\n",
      "|23.TA.1-217-j19-1...|1-217-j19-1|  TA+b0001|Affoltern a. A., ...|          21747|           0|\n",
      "|11.TA.1-217-j19-1...|1-217-j19-1|  TA+b0001|Affoltern a. A., ...|          21723|           0|\n",
      "|25.TA.1-217-j19-1...|1-217-j19-1|  TA+b0001|Affoltern a. A., ...|          21751|           0|\n",
      "|13.TA.1-217-j19-1...|1-217-j19-1|  TA+b0001|Affoltern a. A., ...|          21727|           0|\n",
      "|44.TA.1-217-j19-1...|1-217-j19-1|  TA+b0001|    Muri AG, Bahnhof|          21722|           1|\n",
      "+--------------------+-----------+----------+--------------------+---------------+------------+\n",
      "only showing top 10 rows"
     ]
    }
   ],
   "source": [
    "%%spark \n",
    "#trips as described in the readme, but filtered for time and distance\n",
    "\n",
    "trips_table_filtered = routes_tot.join(trips_table, \"trip_id\" ,\"inner\")\n",
    "trips_table_filtered.show(10)"
   ]
  },
  {
   "cell_type": "code",
   "execution_count": 46,
   "id": "0e442db4-e963-437b-be5f-56719750c28d",
   "metadata": {},
   "outputs": [
    {
     "data": {
      "application/vnd.jupyter.widget-view+json": {
       "model_id": "",
       "version_major": 2,
       "version_minor": 0
      },
      "text/plain": [
       "FloatProgress(value=0.0, bar_style='info', description='Progress:', layout=Layout(height='25px', width='50%'),…"
      ]
     },
     "metadata": {},
     "output_type": "display_data"
    }
   ],
   "source": [
    "%%spark\n",
    "trips_table_filtered = trips_table_filtered.select(\"route_id\", \"service_id\", \"trip_id\", \"trip_headsign\", \"trip_short_name\", \"direction_id\")"
   ]
  },
  {
   "cell_type": "code",
   "execution_count": 47,
   "id": "0f73a9a7-dce2-4d6c-a28b-b9c44212d391",
   "metadata": {},
   "outputs": [
    {
     "data": {
      "application/vnd.jupyter.widget-view+json": {
       "model_id": "",
       "version_major": 2,
       "version_minor": 0
      },
      "text/plain": [
       "FloatProgress(value=0.0, bar_style='info', description='Progress:', layout=Layout(height='25px', width='50%'),…"
      ]
     },
     "metadata": {},
     "output_type": "display_data"
    }
   ],
   "source": [
    "%%spark\n",
    "trips_table_filtered.write.mode('overwrite').option(\"delimiter\", \";\").option(\"header\",\"true\").format(\"csv\").save(\"/group/five-guys/trips\")"
   ]
  },
  {
   "cell_type": "markdown",
   "id": "fadf1b69-7d05-4de0-9738-4669acc11427",
   "metadata": {},
   "source": [
    "### Footpath table"
   ]
  },
  {
   "cell_type": "code",
   "execution_count": 49,
   "id": "27b73e2f-f963-4c21-a7e3-c71868c97159",
   "metadata": {},
   "outputs": [
    {
     "data": {
      "application/vnd.jupyter.widget-view+json": {
       "model_id": "",
       "version_major": 2,
       "version_minor": 0
      },
      "text/plain": [
       "FloatProgress(value=0.0, bar_style='info', description='Progress:', layout=Layout(height='25px', width='50%'),…"
      ]
     },
     "metadata": {},
     "output_type": "display_data"
    },
    {
     "name": "stdout",
     "output_type": "stream",
     "text": [
      "+------------+-----------+----+\n",
      "|departure_id| arrival_id|time|\n",
      "+------------+-----------+----+\n",
      "| 8503306:0:2|    8590541| 528|\n",
      "|     8506895|    8573228| 402|\n",
      "|     8591190|    8591170| 311|\n",
      "|     8591284|    8591116| 479|\n",
      "|     8591284|    8591274| 327|\n",
      "|     8503078|    8591903| 471|\n",
      "|     8589111|    8590655| 583|\n",
      "|     8589111|    8594182| 293|\n",
      "| 8503306:0:2|8503306:0:1|   0|\n",
      "|     8589111|    8502208| 351|\n",
      "+------------+-----------+----+\n",
      "only showing top 10 rows"
     ]
    }
   ],
   "source": [
    "%%spark\n",
    "\n",
    "#add attributes lat, lon to stops_table\n",
    "stops_table_expanded = stops_table.join(all_stops, 'stop_id', 'inner')\n",
    "#create all possible pairs between stops\n",
    "stops_table_expanded_a = stops_table_expanded.select([F.col(c).alias(\"a_\"+c) for c in stops_table_expanded.columns])\n",
    "stops_table_expanded_b = stops_table_expanded.select([F.col(c).alias(\"b_\"+c) for c in stops_table_expanded.columns])\n",
    "cartesian_product = stops_table_expanded_a.crossJoin(stops_table_expanded_b)\n",
    "#compute distance for all pairs\n",
    "stops_table_distance = cartesian_product.withColumn(\"a\", (\n",
    "        F.pow(F.sin(F.radians(F.col(\"a_stop_lat\") - F.col(\"b_stop_lat\")) / 2), 2) +\n",
    "        F.cos(F.radians(F.col(\"b_stop_lat\"))) * F.cos(F.radians(F.col(\"a_stop_lat\"))) *\n",
    "        F.pow(F.sin(F.radians(F.col(\"a_stop_lon\") - F.col(\"b_stop_lon\")) / 2), 2)\n",
    "    )).withColumn(\"distance\", F.atan2(F.sqrt(F.col(\"a\")), F.sqrt(-F.col(\"a\") + 1)) * 12742000)\n",
    "#filter pair with distance shorter than 500m\n",
    "stops_table_distance = stops_table_distance.filter(stops_table_distance.distance <= 500)\n",
    "#compute time considering walking speed of 50m/1min\n",
    "#time is in seconds\n",
    "stops_table_time = stops_table_distance.withColumn('time', F.round((stops_table_distance['distance']/F.lit(50))*F.lit(60), 0).cast('int'))\n",
    "footpath_table = stops_table_time.select(stops_table_time.a_stop_id.alias('departure_id'), stops_table_time.b_stop_id.alias('arrival_id'), stops_table_time.time)\n",
    "#remove pairs where arrival == departure\n",
    "footpath_table = footpath_table.filter(footpath_table.departure_id != footpath_table.arrival_id)\n",
    "footpath_table.show(10)"
   ]
  },
  {
   "cell_type": "code",
   "execution_count": 50,
   "id": "2acbb5d3-d575-4237-a6f0-66d0fb49f343",
   "metadata": {},
   "outputs": [
    {
     "data": {
      "application/vnd.jupyter.widget-view+json": {
       "model_id": "",
       "version_major": 2,
       "version_minor": 0
      },
      "text/plain": [
       "FloatProgress(value=0.0, bar_style='info', description='Progress:', layout=Layout(height='25px', width='50%'),…"
      ]
     },
     "metadata": {},
     "output_type": "display_data"
    },
    {
     "name": "stdout",
     "output_type": "stream",
     "text": [
      "root\n",
      " |-- departure_id: string (nullable = true)\n",
      " |-- arrival_id: string (nullable = true)\n",
      " |-- time: integer (nullable = true)"
     ]
    }
   ],
   "source": [
    "%%spark\n",
    "footpath_table.printSchema()"
   ]
  },
  {
   "cell_type": "code",
   "execution_count": null,
   "id": "23aaba95-6b00-4025-938f-b5d34f80afb3",
   "metadata": {},
   "outputs": [
    {
     "data": {
      "application/vnd.jupyter.widget-view+json": {
       "model_id": "3580533efeb4475995e4bcf1e612fc7e",
       "version_major": 2,
       "version_minor": 0
      },
      "text/plain": [
       "FloatProgress(value=0.0, bar_style='info', description='Progress:', layout=Layout(height='25px', width='50%'),…"
      ]
     },
     "metadata": {},
     "output_type": "display_data"
    }
   ],
   "source": [
    "%%spark\n",
    "footpath_table.write.mode('overwrite').option(\"delimiter\", \";\").option(\"header\",\"true\").format(\"csv\").save(\"/group/five-guys/footpath\")"
   ]
  },
  {
   "cell_type": "code",
   "execution_count": null,
   "id": "166f67d8-f89d-41c2-8dec-25da0d59b2f5",
   "metadata": {},
   "outputs": [],
   "source": [
    "#transform list of tuple into dictionary of dictionaries\n",
    "#footpath_map = footpath_table.groupby('arrival_id')[['departure_id', 'time']].apply(lambda g: g.values.tolist()).to_dict()\n",
    "#footpath_map = {k: dict(v) for k, v in footpath_map.items()}\n",
    "#convert and save the dictionary to pickle\n",
    "#pickle.dump(footpath_map, open(path_data+\"footpath_map.pickle\", \"wb\"))"
   ]
  },
  {
   "cell_type": "code",
   "execution_count": null,
   "id": "0f47c646-f3f6-4ef1-94d7-a57d8f272f3d",
   "metadata": {},
   "outputs": [],
   "source": [
    "#!git lfs track \"../data/footpath_map.pickle\"\n",
    "#!git add .gitattributes\n",
    "#!git commit -m \"footpath_map.pickle\"\n",
    "#!git push"
   ]
  },
  {
   "cell_type": "markdown",
   "id": "9f9195f1-76ff-46be-91f9-601bda4ed4a2",
   "metadata": {},
   "source": [
    "## Confidence"
   ]
  },
  {
   "cell_type": "markdown",
   "id": "df09531d-bc1d-428c-aaa1-91c86bf2150c",
   "metadata": {},
   "source": [
    "### Import data"
   ]
  },
  {
   "cell_type": "code",
   "execution_count": 53,
   "id": "db96eae0-a2ec-4132-a22d-e5133bb9bc3f",
   "metadata": {},
   "outputs": [
    {
     "data": {
      "application/vnd.jupyter.widget-view+json": {
       "model_id": "",
       "version_major": 2,
       "version_minor": 0
      },
      "text/plain": [
       "FloatProgress(value=0.0, bar_style='info', description='Progress:', layout=Layout(height='25px', width='50%'),…"
      ]
     },
     "metadata": {},
     "output_type": "display_data"
    },
    {
     "name": "stdout",
     "output_type": "stream",
     "text": [
      "root\n",
      " |-- stop_id: string (nullable = true)"
     ]
    }
   ],
   "source": [
    "%%spark\n",
    "#import filtered stop_ids\n",
    "stops_table = spark.read.option(\"header\",True).options(delimiter=';').csv(\"/group/five-guys/stops_table\")\n",
    "stops_table = stops_table.select(stops_table.stop_id)\n",
    "stops_table.printSchema()"
   ]
  },
  {
   "cell_type": "code",
   "execution_count": 54,
   "id": "5fc09acf-f9e8-4af2-af7a-a100612d2a20",
   "metadata": {},
   "outputs": [
    {
     "data": {
      "application/vnd.jupyter.widget-view+json": {
       "model_id": "",
       "version_major": 2,
       "version_minor": 0
      },
      "text/plain": [
       "FloatProgress(value=0.0, bar_style='info', description='Progress:', layout=Layout(height='25px', width='50%'),…"
      ]
     },
     "metadata": {},
     "output_type": "display_data"
    }
   ],
   "source": [
    "%%spark\n",
    "actual_data = spark.read.orc('/data/sbb/orc/istdaten')\n",
    "#actual_data.printSchema()"
   ]
  },
  {
   "cell_type": "code",
   "execution_count": 55,
   "id": "faa71373-50f0-4ecc-9b9c-4ec82db0ba6b",
   "metadata": {},
   "outputs": [
    {
     "data": {
      "application/vnd.jupyter.widget-view+json": {
       "model_id": "",
       "version_major": 2,
       "version_minor": 0
      },
      "text/plain": [
       "FloatProgress(value=0.0, bar_style='info', description='Progress:', layout=Layout(height='25px', width='50%'),…"
      ]
     },
     "metadata": {},
     "output_type": "display_data"
    }
   ],
   "source": [
    "%%spark\n",
    "#subsample\n",
    "actual_data = actual_data.sample(0.001, seed=0)"
   ]
  },
  {
   "cell_type": "markdown",
   "id": "de201ab6-d62a-4b0f-936e-417520400bed",
   "metadata": {},
   "source": [
    "### Rename columns"
   ]
  },
  {
   "cell_type": "markdown",
   "id": "ee0dca60-144a-43fa-b2b0-116893c395b0",
   "metadata": {},
   "source": [
    "Columns are renamed in English as follows:\n",
    "- `betriebstag` to DATE\n",
    "- `produkt_id` to PRODUCT_ID\n",
    "- `fahrt_bezeichner` to TRIP_ID\n",
    "- `bpuic` to STOP_ID\n",
    "- `haltestellen_name` to STOP_NAME\n",
    "- `ankunftszeit` to ARRIVAL_TIME\n",
    "- `an_prognose_status` to ARRIVAL_TIME_STATUS\n",
    "- `an_prognose` to ACTUAL_ARRIVAL_TIME\n",
    "- `abfahrtszeit` to DEPARTURE_TIME\n",
    "- `ab_prognose_status` to DEPARTURE_TIME_STATUS\n",
    "- `ab_prognose` to ACTUAL_DEPARTURE_TIME"
   ]
  },
  {
   "cell_type": "code",
   "execution_count": 56,
   "id": "c9fd06ba-8651-405a-b0f2-eec211ba02d4",
   "metadata": {},
   "outputs": [
    {
     "data": {
      "application/vnd.jupyter.widget-view+json": {
       "model_id": "",
       "version_major": 2,
       "version_minor": 0
      },
      "text/plain": [
       "FloatProgress(value=0.0, bar_style='info', description='Progress:', layout=Layout(height='25px', width='50%'),…"
      ]
     },
     "metadata": {},
     "output_type": "display_data"
    }
   ],
   "source": [
    "%%spark\n",
    "\n",
    "#rename columns in english\n",
    "actual_data = actual_data.select(actual_data.betriebstag.alias('DATE'),\\\n",
    "                                 actual_data.produkt_id.alias('PRODUCT_ID'),\\\n",
    "                                 actual_data.bpuic.alias('STOP_ID'),\\\n",
    "                                 actual_data.haltestellen_name.alias('STOP_NAME'),\\\n",
    "                                 actual_data.fahrt_bezeichner.alias('TRIP_ID'),\\\n",
    "                                 actual_data.ankunftszeit.alias('ARRIVAL_TIME'),\\\n",
    "                                 actual_data.an_prognose_status.alias('ARRIVAL_TIME_STATUS'),\\\n",
    "                                 actual_data.an_prognose.alias('ACTUAL_ARRIVAL_TIME'),\\\n",
    "                                 actual_data.abfahrtszeit.alias('DEPARTURE_TIME'),\\\n",
    "                                 actual_data.ab_prognose_status.alias('DEPARTURE_TIME_STATUS'),\n",
    "                                 actual_data.ab_prognose.alias('ACTUAL_DEPARTURE_TIME'))"
   ]
  },
  {
   "cell_type": "markdown",
   "id": "aabf0839-8c7f-497d-850e-1c29ab52356f",
   "metadata": {},
   "source": [
    "### Filter stop_id"
   ]
  },
  {
   "cell_type": "code",
   "execution_count": 57,
   "id": "da6de003-536d-46d5-8b84-23464b05f06c",
   "metadata": {},
   "outputs": [
    {
     "data": {
      "application/vnd.jupyter.widget-view+json": {
       "model_id": "",
       "version_major": 2,
       "version_minor": 0
      },
      "text/plain": [
       "FloatProgress(value=0.0, bar_style='info', description='Progress:', layout=Layout(height='25px', width='50%'),…"
      ]
     },
     "metadata": {},
     "output_type": "display_data"
    }
   ],
   "source": [
    "%%spark\n",
    "#use only stop_ids from stops_table\n",
    "tmp = actual_data.join(stops_table, (actual_data['STOP_ID'] == stops_table['stop_id']), how='inner')\n",
    "actual_data = tmp.select(actual_data.DATE,\\\n",
    "                                 actual_data.PRODUCT_ID,\\\n",
    "                                 actual_data.STOP_ID,\\\n",
    "                                 actual_data.STOP_NAME,\\\n",
    "                                 actual_data.TRIP_ID,\\\n",
    "                                 actual_data.ARRIVAL_TIME,\\\n",
    "                                 actual_data.ARRIVAL_TIME_STATUS,\\\n",
    "                                 actual_data.ACTUAL_ARRIVAL_TIME,\\\n",
    "                                 actual_data.DEPARTURE_TIME,\\\n",
    "                                 actual_data.DEPARTURE_TIME_STATUS,\n",
    "                                 actual_data.ACTUAL_DEPARTURE_TIME\n",
    "                        )"
   ]
  },
  {
   "cell_type": "markdown",
   "id": "005a184c-8f59-4494-9e34-ba34c8a52a4f",
   "metadata": {},
   "source": [
    "### Prepare table"
   ]
  },
  {
   "cell_type": "code",
   "execution_count": 58,
   "id": "7f796a76-e95b-4d64-8abd-0c7854ab6867",
   "metadata": {},
   "outputs": [
    {
     "data": {
      "application/vnd.jupyter.widget-view+json": {
       "model_id": "",
       "version_major": 2,
       "version_minor": 0
      },
      "text/plain": [
       "FloatProgress(value=0.0, bar_style='info', description='Progress:', layout=Layout(height='25px', width='50%'),…"
      ]
     },
     "metadata": {},
     "output_type": "display_data"
    }
   ],
   "source": [
    "%%spark\n",
    "import pyspark.sql.functions as F\n",
    "# F.date_format(F.to_timestamp(df_used.timestamp_s), 'yyyy-MM-dd HH:mm:ss').alias('date'))\n",
    "df = actual_data.withColumn('DATE', F.date_format(F.to_timestamp(actual_data.DATE, 'dd.MM.yyyy'), 'yyyy-MM-dd'))"
   ]
  },
  {
   "cell_type": "code",
   "execution_count": 59,
   "id": "257e9be3-a846-46dc-bf4f-27d09e8f367c",
   "metadata": {},
   "outputs": [
    {
     "data": {
      "application/vnd.jupyter.widget-view+json": {
       "model_id": "",
       "version_major": 2,
       "version_minor": 0
      },
      "text/plain": [
       "FloatProgress(value=0.0, bar_style='info', description='Progress:', layout=Layout(height='25px', width='50%'),…"
      ]
     },
     "metadata": {},
     "output_type": "display_data"
    }
   ],
   "source": [
    "%%spark\n",
    "import pyspark.sql.functions as F\n",
    "\n",
    "df = df.withColumn('DAY_OF_WEEK', ((F.dayofweek(df['DATE'])+5)%7)+1)"
   ]
  },
  {
   "cell_type": "code",
   "execution_count": 60,
   "id": "79a55747-16fa-4a1b-9db0-7013ca9cce0f",
   "metadata": {},
   "outputs": [
    {
     "data": {
      "application/vnd.jupyter.widget-view+json": {
       "model_id": "",
       "version_major": 2,
       "version_minor": 0
      },
      "text/plain": [
       "FloatProgress(value=0.0, bar_style='info', description='Progress:', layout=Layout(height='25px', width='50%'),…"
      ]
     },
     "metadata": {},
     "output_type": "display_data"
    }
   ],
   "source": [
    "%%spark\n",
    "import pyspark.sql.functions as F\n",
    "\n",
    "#remove entries with ARRIVAL_TIME_STATUS and DEPARTURE_TIME_STATUS unknown\n",
    "df = df.filter(df['ARRIVAL_TIME_STATUS'] != 'UNBEKANNT')\n",
    "df = df.filter(df['DEPARTURE_TIME_STATUS'] != 'UNBEKANNT')\n",
    "\n",
    "#remove entries with ARRIVAL_TIME_STATUS and DEPARTURE_TIME_STATUS is empty\n",
    "df = df.filter(df['ARRIVAL_TIME_STATUS'] != '')\n",
    "df = df.filter(df['DEPARTURE_TIME_STATUS'] != '')\n",
    "\n",
    "#remove entries with PRODUCT_ID empty\n",
    "df = df.filter(df['PRODUCT_ID'] != '')\n",
    "\n",
    "#remove entries with STOP_ID empty\n",
    "df = df.filter(df['STOP_ID'] != '')\n",
    "\n",
    "#remove entries with STOP_NAME empty\n",
    "df = df.filter(df['STOP_NAME'] != '')\n",
    "\n",
    "#remove entries with TRIP_ID empty\n",
    "df = df.filter(df['TRIP_ID'] != '')\n",
    "\n",
    "#transform to unix_timestamp\n",
    "df = df.withColumn('ARRIVAL_TIME', F.unix_timestamp(df.ARRIVAL_TIME, 'dd.MM.yyyy HH:mm'))\n",
    "df = df.withColumn('ACTUAL_ARRIVAL_TIME', F.unix_timestamp(df.ACTUAL_ARRIVAL_TIME, 'dd.MM.yyyy HH:mm'))\n",
    "df = df.withColumn('DEPARTURE_TIME', F.unix_timestamp(df.DEPARTURE_TIME, 'dd.MM.yyyy HH:mm'))\n",
    "df = df.withColumn('ACTUAL_DEPARTURE_TIME', F.unix_timestamp(df.ACTUAL_DEPARTURE_TIME, 'dd.MM.yyyy HH:mm'))\n",
    "\n",
    "#fill null with 0 \n",
    "#When the stop is the start or end of a journey, the corresponding columns will be empty (ANKUNFTSZEIT/ABFAHRTSZEIT)\n",
    "df = df.na.fill({'ARRIVAL_TIME' : 0, 'ACTUAL_ARRIVAL_TIME' : 0, 'DEPARTURE_TIME' : 0, 'ACTUAL_DEPARTURE_TIME' : 0})\n",
    "\n",
    "#compute delay\n",
    "df = df.withColumn('ARRIVAL_DELAY', F.when((df['ACTUAL_ARRIVAL_TIME']-df['ARRIVAL_TIME'] )< 0, 0).otherwise(df['ACTUAL_ARRIVAL_TIME']-df['ARRIVAL_TIME']))\n",
    "df = df.withColumn('DEPARTURE_DELAY', F.when((df['ACTUAL_DEPARTURE_TIME']-df['DEPARTURE_TIME'] )< 0, 0).otherwise(df['ACTUAL_DEPARTURE_TIME']-df['DEPARTURE_TIME']))\n",
    "\n",
    "#convert seconds in minutes\n",
    "df = df.withColumn('ARRIVAL_DELAY', F.round(df['ARRIVAL_DELAY']/60))\n",
    "df = df.withColumn('DEPARTURE_DELAY', F.round(df['DEPARTURE_DELAY']/60))"
   ]
  },
  {
   "cell_type": "code",
   "execution_count": 61,
   "id": "285451cc-663e-40d1-b19c-379fb041ed3f",
   "metadata": {},
   "outputs": [
    {
     "data": {
      "application/vnd.jupyter.widget-view+json": {
       "model_id": "",
       "version_major": 2,
       "version_minor": 0
      },
      "text/plain": [
       "FloatProgress(value=0.0, bar_style='info', description='Progress:', layout=Layout(height='25px', width='50%'),…"
      ]
     },
     "metadata": {},
     "output_type": "display_data"
    }
   ],
   "source": [
    "%%spark\n",
    "\n",
    "#define HOUR_ARRIVAL\n",
    "df = df.withColumn('HOUR_ARRIVAL', F.hour(F.from_unixtime(df['ARRIVAL_TIME'])))\n",
    "df = df.withColumn('HOUR_DEPARTURE', F.hour(F.from_unixtime(df['DEPARTURE_TIME'])))"
   ]
  },
  {
   "cell_type": "markdown",
   "id": "bba85021-6a28-4744-9c69-7171eb9770de",
   "metadata": {},
   "source": [
    "### Filter data based on simplifying assumptions"
   ]
  },
  {
   "cell_type": "markdown",
   "id": "1e57e9a1-a2cf-4cea-984e-fcb399edfb73",
   "metadata": {},
   "source": [
    "We only consider journeys at reasonable hours of the day, and on a typical business day.\n",
    "- `day`: from Monday to Friday\n",
    "- `hours`: first departure at 9:00, last arrival at 17"
   ]
  },
  {
   "cell_type": "code",
   "execution_count": 62,
   "id": "a5f593c0-6aef-4473-9881-ac435ab7a4f6",
   "metadata": {},
   "outputs": [
    {
     "data": {
      "application/vnd.jupyter.widget-view+json": {
       "model_id": "",
       "version_major": 2,
       "version_minor": 0
      },
      "text/plain": [
       "FloatProgress(value=0.0, bar_style='info', description='Progress:', layout=Layout(height='25px', width='50%'),…"
      ]
     },
     "metadata": {},
     "output_type": "display_data"
    }
   ],
   "source": [
    "%%spark\n",
    "\n",
    "#business day\n",
    "df = df.filter(df['DAY_OF_WEEK'] <6)\n",
    "#reasonable hours of the day\n",
    "df = df.filter(F.hour(F.from_unixtime(df['DEPARTURE_TIME']))>=9)\n",
    "df = df.filter(F.hour(F.from_unixtime(df['ARRIVAL_TIME']))<=17)"
   ]
  },
  {
   "cell_type": "code",
   "execution_count": 63,
   "id": "caaffdb7-10fc-4c04-a9d7-76d8a7da0f61",
   "metadata": {},
   "outputs": [
    {
     "data": {
      "application/vnd.jupyter.widget-view+json": {
       "model_id": "",
       "version_major": 2,
       "version_minor": 0
      },
      "text/plain": [
       "FloatProgress(value=0.0, bar_style='info', description='Progress:', layout=Layout(height='25px', width='50%'),…"
      ]
     },
     "metadata": {},
     "output_type": "display_data"
    },
    {
     "name": "stdout",
     "output_type": "stream",
     "text": [
      "DataFrame[DATE: string, PRODUCT_ID: string, STOP_ID: string, STOP_NAME: string, TRIP_ID: string, ARRIVAL_TIME: bigint, ARRIVAL_TIME_STATUS: string, ACTUAL_ARRIVAL_TIME: bigint, DEPARTURE_TIME: bigint, DEPARTURE_TIME_STATUS: string, ACTUAL_DEPARTURE_TIME: bigint, DAY_OF_WEEK: int, ARRIVAL_DELAY: double, DEPARTURE_DELAY: double, HOUR_ARRIVAL: int, HOUR_DEPARTURE: int]"
     ]
    }
   ],
   "source": [
    "%%spark\n",
    "\n",
    "df.cache()"
   ]
  },
  {
   "cell_type": "code",
   "execution_count": 64,
   "id": "516d6e88-b1fb-4e04-b18d-21d38281a4cf",
   "metadata": {},
   "outputs": [
    {
     "data": {
      "application/vnd.jupyter.widget-view+json": {
       "model_id": "",
       "version_major": 2,
       "version_minor": 0
      },
      "text/plain": [
       "FloatProgress(value=0.0, bar_style='info', description='Progress:', layout=Layout(height='25px', width='50%'),…"
      ]
     },
     "metadata": {},
     "output_type": "display_data"
    }
   ],
   "source": [
    "%%spark\n",
    "\n",
    "#create all possible pairs between stops\n",
    "df_A = df.select([F.col(c).alias(\"A_\"+c) for c in df.columns])\n",
    "df_B = df.select([F.col(c).alias(\"B_\"+c) for c in df.columns])\n",
    "\n",
    "df_1 = connections_table.join(df_A, connections_table.departure_id == df_A.A_STOP_ID, how='inner')\n",
    "df_1 = df_1.join(df_B, (df_1.arrival_id == df_B.B_STOP_ID) & (df_1.A_DATE == df_B.B_DATE))\n",
    "\n",
    "df_2 = df_1.select(df_1.A_DAY_OF_WEEK.alias('DAY_OF_WEEK'),\\\n",
    "                   df_1.A_STOP_ID.alias('DEPARTURE_ID'),\\\n",
    "                   df_1.B_STOP_ID.alias('ARRIVAL_ID'),\\\n",
    "                   df_1.B_HOUR_ARRIVAL.alias('HOUR_ARRIVAL'),\\\n",
    "                   df_1.B_ARRIVAL_DELAY.alias('ARRIVAL_DELAY')\n",
    "                  )\n"
   ]
  },
  {
   "cell_type": "code",
   "execution_count": 65,
   "id": "333856e3-68c9-43a6-b08a-7d0f109dc227",
   "metadata": {},
   "outputs": [],
   "source": [
    "# %%spark\n",
    "\n",
    "# #create all possible pairs between stops\n",
    "# df_A = df.select([F.col(c).alias(\"A_\"+c) for c in df.columns])\n",
    "# df_B = df.select([F.col(c).alias(\"B_\"+c) for c in df.columns])\n",
    "# cp = df_A.crossJoin(df_B)\n",
    "# #keep only pairs (A_STOP_ID, B_STOP_ID) that are in connections_table\n",
    "\n",
    "# df_1 = cp.join(connections_table, (connections_table.departure_id == cp.A_STOP_ID) & (connections_table.arrival_id == cp.B_STOP_ID), how='inner')\n",
    "# #select only interesting fields\n",
    "# df_2 = df_1.select(df_1.A_DAY_OF_WEEK.alias('DAY_OF_WEEK'),\\\n",
    "#                    df_1.A_STOP_ID.alias('DEPARTURE_ID'),\\\n",
    "#                    df_1.B_STOP_ID.alias('ARRIVAL_ID'),\\\n",
    "#                    df_1.B_HOUR_ARRIVAL.alias('HOUR_ARRIVAL'),\\\n",
    "#                    df_1.trip_id.alias('TRIP_ID'),\\\n",
    "#                    df_1.B_ARRIVAL_DELAY.alias('ARRIVAL_DELAY')\n",
    "#                   )\n",
    "# df_2.cache()"
   ]
  },
  {
   "cell_type": "markdown",
   "id": "34483e13-e337-4732-97ef-b57069502a14",
   "metadata": {},
   "source": [
    "### Obtain delay cumulative distribution"
   ]
  },
  {
   "cell_type": "code",
   "execution_count": 66,
   "id": "fecd0bfe-7c08-4af9-b5ed-1134d284659e",
   "metadata": {},
   "outputs": [
    {
     "data": {
      "application/vnd.jupyter.widget-view+json": {
       "model_id": "",
       "version_major": 2,
       "version_minor": 0
      },
      "text/plain": [
       "FloatProgress(value=0.0, bar_style='info', description='Progress:', layout=Layout(height='25px', width='50%'),…"
      ]
     },
     "metadata": {},
     "output_type": "display_data"
    }
   ],
   "source": [
    "%%spark\n",
    "from pyspark.sql import Window\n",
    "\n",
    "#compute cumulative distribution of delay over groupBy 'DAY_OF_WEEK', 'PRODUCT_ID', 'HOUR_ARRIVAL' \n",
    "cumulative_function_window = Window.partitionBy('DAY_OF_WEEK', 'DEPARTURE_ID', 'ARRIVAL_ID', 'TRIP_ID').orderBy('ARRIVAL_DELAY').rangeBetween(Window.unboundedPreceding, 0)\n",
    "count_window = Window.partitionBy('DAY_OF_WEEK', 'DEPARTURE_ID', 'ARRIVAL_ID', 'TRIP_ID')\n",
    "\n",
    "df2 = df_2.groupBy(df_2['DAY_OF_WEEK'], df_2['DEPARTURE_ID'], df_2['ARRIVAL_ID'], df_2['ARRIVAL_DELAY'], df_2['TRIP_ID']).count()\n",
    "df2 = df2.withColumn(\"TOTAL_SUM\", F.sum(\"count\").over(count_window))\n",
    "df2 = df2.withColumn(\"PARTIAL_SUM\", F.sum(\"count\").over(cumulative_function_window))\n",
    "df2 = df2.withColumn(\"CUMULATIVE\", F.sum(\"count\").over(cumulative_function_window)/F.sum(\"count\").over(count_window))"
   ]
  },
  {
   "cell_type": "code",
   "execution_count": 67,
   "id": "f9bfd7cf-2350-47e3-a621-5873b270cfbd",
   "metadata": {},
   "outputs": [
    {
     "data": {
      "application/vnd.jupyter.widget-view+json": {
       "model_id": "",
       "version_major": 2,
       "version_minor": 0
      },
      "text/plain": [
       "FloatProgress(value=0.0, bar_style='info', description='Progress:', layout=Layout(height='25px', width='50%'),…"
      ]
     },
     "metadata": {},
     "output_type": "display_data"
    }
   ],
   "source": [
    "%%spark\n",
    "\n",
    "#reorder columns\n",
    "df2 = df2.select(df2[\"TRIP_ID\"], df2[\"DEPARTURE_ID\"], df2[\"ARRIVAL_ID\"], df2[\"DAY_OF_WEEK\"], df2[\"ARRIVAL_DELAY\"].alias(\"MAX_ARRIVAL_DELAY\"), df2[\"CUMULATIVE\"])\n",
    "#df2 = df2.orderBy(df2[\"TRIP_ID\"], df2[\"DEPARTURE_ID\"], df2[\"ARRIVAL_ID\"], df2[\"DAY_OF_WEEK\"], df2[\"HOUR_ARRIVAL\"], df2[\"MAX_ARRIVAL_DELAY\"])"
   ]
  },
  {
   "cell_type": "markdown",
   "id": "563f0c28-644e-44cd-a576-289b7ec31936",
   "metadata": {},
   "source": [
    "## Split based on day"
   ]
  },
  {
   "cell_type": "code",
   "execution_count": 69,
   "id": "86782077-302c-46ce-9f1d-75c44f0241f9",
   "metadata": {},
   "outputs": [
    {
     "data": {
      "application/vnd.jupyter.widget-view+json": {
       "model_id": "",
       "version_major": 2,
       "version_minor": 0
      },
      "text/plain": [
       "FloatProgress(value=0.0, bar_style='info', description='Progress:', layout=Layout(height='25px', width='50%'),…"
      ]
     },
     "metadata": {},
     "output_type": "display_data"
    },
    {
     "name": "stdout",
     "output_type": "stream",
     "text": [
      "+--------------------+------------+----------+-----------+-----------------+------------------+\n",
      "|             TRIP_ID|DEPARTURE_ID|ARRIVAL_ID|DAY_OF_WEEK|MAX_ARRIVAL_DELAY|        CUMULATIVE|\n",
      "+--------------------+------------+----------+-----------+-----------------+------------------+\n",
      "|229.TA.26-301-j19...|     8500926|   8590737|          1|              0.0|               0.5|\n",
      "|229.TA.26-301-j19...|     8500926|   8590737|          1|              1.0|               1.0|\n",
      "|248.TA.26-301-j19...|     8500926|   8590737|          1|              0.0|               0.5|\n",
      "|248.TA.26-301-j19...|     8500926|   8590737|          1|              1.0|               1.0|\n",
      "|25.TA.30-56-Y-j19...|     8502209|   8503202|          1|              0.0|0.7142857142857143|\n",
      "|25.TA.30-56-Y-j19...|     8502209|   8503202|          1|              1.0|               1.0|\n",
      "|45.TA.1-17-A-j19-...|     8502274|   8502275|          1|              0.0|               1.0|\n",
      "|379.TA.26-184-j19...|     8502495|   8591081|          1|              0.0|0.7681159420289855|\n",
      "|379.TA.26-184-j19...|     8502495|   8591081|          1|              1.0|               1.0|\n",
      "|91.TA.26-303-j19-...|     8502508|   8590268|          1|              0.0|               0.5|\n",
      "+--------------------+------------+----------+-----------+-----------------+------------------+\n",
      "only showing top 10 rows"
     ]
    }
   ],
   "source": [
    "%%spark\n",
    "df2.show(10)"
   ]
  },
  {
   "cell_type": "code",
   "execution_count": 70,
   "id": "7bd69300-2985-4232-a2d6-d5abe78f47fd",
   "metadata": {},
   "outputs": [
    {
     "data": {
      "application/vnd.jupyter.widget-view+json": {
       "model_id": "",
       "version_major": 2,
       "version_minor": 0
      },
      "text/plain": [
       "FloatProgress(value=0.0, bar_style='info', description='Progress:', layout=Layout(height='25px', width='50%'),…"
      ]
     },
     "metadata": {},
     "output_type": "display_data"
    }
   ],
   "source": [
    "%%spark\n",
    "#all\n",
    "\n",
    "df2.write.mode('overwrite').option(\"delimiter\", \";\").option(\"header\",\"true\").format(\"csv\").save(\"/group/five-guys/confidence\")"
   ]
  },
  {
   "cell_type": "code",
   "execution_count": 71,
   "id": "59a3c284-1156-476c-ba9a-56f7103265a6",
   "metadata": {},
   "outputs": [
    {
     "data": {
      "application/vnd.jupyter.widget-view+json": {
       "model_id": "",
       "version_major": 2,
       "version_minor": 0
      },
      "text/plain": [
       "FloatProgress(value=0.0, bar_style='info', description='Progress:', layout=Layout(height='25px', width='50%'),…"
      ]
     },
     "metadata": {},
     "output_type": "display_data"
    }
   ],
   "source": [
    "%%spark\n",
    "#monday\n",
    "\n",
    "df2_monday = df2.filter(df2.DAY_OF_WEEK == 1)\n",
    "df2_monday.write.mode('overwrite').option(\"delimiter\", \";\").option(\"header\",\"true\").format(\"csv\").save(\"/group/five-guys/confidence_monday\")"
   ]
  },
  {
   "cell_type": "code",
   "execution_count": null,
   "id": "665c26f8-22c7-443e-a7d2-b113ea01cfbf",
   "metadata": {},
   "outputs": [],
   "source": [
    "%%spark\n",
    "#tuesday\n",
    "\n",
    "df2_tuesday = df2.filter(df2.DAY_OF_WEEK == 2)\n",
    "df2_tuesday.write.mode('overwrite').option(\"delimiter\", \";\").option(\"header\",\"true\").format(\"csv\").save(\"/group/five-guys/confidence_tuesday\")"
   ]
  },
  {
   "cell_type": "code",
   "execution_count": null,
   "id": "a9141f33-c684-4030-8990-286853a7b3b5",
   "metadata": {},
   "outputs": [],
   "source": [
    "%%spark\n",
    "#wednesday\n",
    "\n",
    "df2_wednesday = df2.filter(df2.DAY_OF_WEEK == 3)\n",
    "df2_wednesday.write.mode('overwrite').option(\"delimiter\", \";\").option(\"header\",\"true\").format(\"csv\").save(\"/group/five-guys/confidence_wednesday\")"
   ]
  },
  {
   "cell_type": "code",
   "execution_count": null,
   "id": "1e4dcf47-4e0c-45da-90c2-03699141cc10",
   "metadata": {},
   "outputs": [],
   "source": [
    "%%spark\n",
    "#thursday\n",
    "\n",
    "df2_thursday = df2.filter(df2.DAY_OF_WEEK == 4)\n",
    "df2_thursday.write.mode('overwrite').option(\"delimiter\", \";\").option(\"header\",\"true\").format(\"csv\").save(\"/group/five-guys/confidence_thursday\")"
   ]
  },
  {
   "cell_type": "code",
   "execution_count": null,
   "id": "0966f8eb-92dc-48ec-9862-8fda7524edb3",
   "metadata": {},
   "outputs": [],
   "source": [
    "%%spark\n",
    "#friday\n",
    "\n",
    "df2_friday = df2.filter(df2.DAY_OF_WEEK == 5)\n",
    "df2_friday.write.mode('overwrite').option(\"delimiter\", \";\").option(\"header\",\"true\").format(\"csv\").save(\"/group/five-guys/confidence_friday\")"
   ]
  }
 ],
 "metadata": {
  "kernelspec": {
   "display_name": "Python 3",
   "language": "python",
   "name": "python3"
  },
  "language_info": {
   "codemirror_mode": {
    "name": "ipython",
    "version": 3
   },
   "file_extension": ".py",
   "mimetype": "text/x-python",
   "name": "python",
   "nbconvert_exporter": "python",
   "pygments_lexer": "ipython3",
   "version": "3.9.7"
  }
 },
 "nbformat": 4,
 "nbformat_minor": 5
}
