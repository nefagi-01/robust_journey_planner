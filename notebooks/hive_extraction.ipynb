{
 "cells": [
  {
   "cell_type": "code",
   "execution_count": 1,
   "id": "3969a56d-155d-43d8-947c-2ab9dad48e5f",
   "metadata": {},
   "outputs": [
    {
     "name": "stdout",
     "output_type": "stream",
     "text": [
      "Operating as: ceraolo\n"
     ]
    }
   ],
   "source": [
    "import os\n",
    "import pandas as pd\n",
    "pd.set_option(\"display.max_columns\", 50)\n",
    "import matplotlib.pyplot as plt\n",
    "%matplotlib inline\n",
    "import plotly.express as px\n",
    "import plotly.graph_objects as go\n",
    "import warnings\n",
    "warnings.simplefilter(action='ignore', category=UserWarning)\n",
    "\n",
    "username = os.environ['RENKU_USERNAME']\n",
    "hiveaddr = os.environ['HIVE_SERVER2']\n",
    "(hivehost,hiveport) = hiveaddr.split(':')\n",
    "print(\"Operating as: {0}\".format(username))"
   ]
  },
  {
   "cell_type": "code",
   "execution_count": 2,
   "id": "d29dfeb9-806a-4007-a021-58befc36023e",
   "metadata": {},
   "outputs": [],
   "source": [
    "from pyhive import hive\n",
    "\n",
    "# Create the connection\n",
    "conn = hive.connect(host=hivehost, \n",
    "                    port=hiveport,\n",
    "                    username=username) \n",
    "# Create the cursor\n",
    "cur = conn.cursor()"
   ]
  },
  {
   "cell_type": "code",
   "execution_count": 3,
   "id": "d833f6d0-09d9-4784-9567-490134fc2d3e",
   "metadata": {},
   "outputs": [],
   "source": [
    "### Create your database if it does not exist\n",
    "query = \"\"\"\n",
    "CREATE DATABASE IF NOT EXISTS {0} LOCATION '/group/five-guys/hive'\n",
    "\"\"\".format(username)\n",
    "cur.execute(query)"
   ]
  },
  {
   "cell_type": "code",
   "execution_count": 4,
   "id": "8d89f3df-02ee-4fea-ad3f-bd6b23feef78",
   "metadata": {},
   "outputs": [],
   "source": [
    "def retrieve_df(table_name):\n",
    "    ### Create your database if it does not exist\n",
    "    query = \"\"\"\n",
    "    CREATE DATABASE IF NOT EXISTS {0} LOCATION '/group/five-guys/hive'\n",
    "    \"\"\".format(username)\n",
    "    cur.execute(query)\n",
    "    \n",
    "    query = \"\"\"\n",
    "    DROP TABLE IF EXISTS {0}\n",
    "    \"\"\".format(table_name)\n",
    "    cur.execute(query)\n",
    "    \n",
    "    ### Creation of the table\n",
    "    query = \"\"\"\n",
    "    CREATE EXTERNAL TABLE {0}(\n",
    "        departure_id string,\n",
    "        arrival_id string,\n",
    "        departure_time string,\n",
    "        arrival_time string,\n",
    "        trip_id string   \n",
    "    )\n",
    "    ROW FORMAT DELIMITED\n",
    "    FIELDS TERMINATED BY ','\n",
    "    STORED AS TEXTFILE\n",
    "    location '/group/five-guys/{0}'\n",
    "    tblproperties (\"skip.header.line.count\"=\"1\")\n",
    "    \"\"\".format(table_name)\n",
    "    cur.execute(query)\n",
    "    \n",
    "    query = \"\"\"\n",
    "    SELECT *\n",
    "    FROM {0}\n",
    "    \"\"\".format(table_name)\n",
    "    df = pd.read_sql(query, conn)\n",
    "    df.columns = [column.split('.')[1] for column in df.columns]\n",
    "    \n",
    "    df[\"departure_time\"] = df[\"departure_time\"].apply(lambda x: int(pd.Timestamp(x).timestamp()))\n",
    "\n",
    "    df[\"arrival_time\"] = df[\"arrival_time\"].apply(lambda x: int(pd.Timestamp(x).timestamp()))\n",
    "    \n",
    "    result = list(df.itertuples(index=False, name=None))\n",
    "    \n",
    "    del df\n",
    "    \n",
    "    return result\n"
   ]
  },
  {
   "cell_type": "code",
   "execution_count": null,
   "id": "46db10fd-5b3a-4cbc-b5d9-1154bd10f4bb",
   "metadata": {
    "tags": []
   },
   "outputs": [
    {
     "name": "stdout",
     "output_type": "stream",
     "text": [
      "mondaycsv done\n",
      "tuesdaycsv done\n"
     ]
    }
   ],
   "source": [
    "connections_list = []\n",
    "files_names = [\"mondaycsv\", \"tuesdaycsv\", \"wednesdaycsv\", \"thursdaycsv\", \"fridaycsv\"]\n",
    "\n",
    "for name in files_names:\n",
    "    connections_list.append(retrieve_df(name))\n",
    "    print(name + \" done\")\n",
    "\n",
    "\n"
   ]
  },
  {
   "cell_type": "code",
   "execution_count": null,
   "id": "3affea38-913b-4cb2-8716-ced7b53faf41",
   "metadata": {},
   "outputs": [],
   "source": [
    "import pickle\n",
    "path_data = \"../data/\"\n",
    "pickle.dump(connections_list, open(path_data+\"connections_data.pickle\", \"wb\"))"
   ]
  },
  {
   "cell_type": "code",
   "execution_count": null,
   "id": "cbaf8b87-47cc-4296-9ca1-8e97a5f727e5",
   "metadata": {},
   "outputs": [],
   "source": []
  }
 ],
 "metadata": {
  "kernelspec": {
   "display_name": "Python 3",
   "language": "python",
   "name": "python3"
  },
  "language_info": {
   "codemirror_mode": {
    "name": "ipython",
    "version": 3
   },
   "file_extension": ".py",
   "mimetype": "text/x-python",
   "name": "python",
   "nbconvert_exporter": "python",
   "pygments_lexer": "ipython3",
   "version": "3.9.7"
  }
 },
 "nbformat": 4,
 "nbformat_minor": 5
}
