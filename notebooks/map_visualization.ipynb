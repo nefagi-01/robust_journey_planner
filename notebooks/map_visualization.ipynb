{
 "cells": [
  {
   "cell_type": "markdown",
   "id": "9b838113-88e4-42cf-b6bd-87e7fd722456",
   "metadata": {},
   "source": [
    "# Loading timetable"
   ]
  },
  {
   "cell_type": "code",
   "execution_count": 1,
   "id": "2e94ecaa-bb17-4336-8cc1-4edb7520a171",
   "metadata": {},
   "outputs": [],
   "source": [
    "%load_ext autoreload\n",
    "%autoreload 2"
   ]
  },
  {
   "cell_type": "code",
   "execution_count": 2,
   "id": "48c5f57a-ab6c-4658-b468-cf7cc7001c69",
   "metadata": {},
   "outputs": [],
   "source": [
    "from planner import JourneyPlanner\n",
    "from collections import defaultdict\n",
    "import pickle\n",
    "import numpy as np"
   ]
  },
  {
   "cell_type": "code",
   "execution_count": 3,
   "id": "cc11dc82-8a0a-4d18-81c5-faf0e1cda8ae",
   "metadata": {
    "tags": []
   },
   "outputs": [],
   "source": [
    "with open('../data/footpath.pickle', 'rb') as f:\n",
    "    footpaths = pickle.load(f)"
   ]
  },
  {
   "cell_type": "code",
   "execution_count": 4,
   "id": "2b364462-6479-4fa2-bf92-a41e0d8a8301",
   "metadata": {},
   "outputs": [],
   "source": [
    "with open('../data/trips.pickle', 'rb') as f:\n",
    "    trips = pickle.load(f)"
   ]
  },
  {
   "cell_type": "code",
   "execution_count": 5,
   "id": "fd10e9f1-0997-4636-86e8-049940d73754",
   "metadata": {},
   "outputs": [],
   "source": [
    "with open('../data/stops.pickle', 'rb') as f:\n",
    "    stops = pickle.load(f)"
   ]
  },
  {
   "cell_type": "code",
   "execution_count": 6,
   "id": "09aac307-79b3-4221-8e91-7112727d05ae",
   "metadata": {},
   "outputs": [],
   "source": [
    "with open('../data/connections_data.pickle', 'rb') as f:\n",
    "    connections = pickle.load(f)"
   ]
  },
  {
   "cell_type": "code",
   "execution_count": 7,
   "id": "a5776ce1-ba25-45cf-bead-43552b24fbd9",
   "metadata": {},
   "outputs": [],
   "source": [
    "with open('../data/confidence.pickle', 'rb') as f:\n",
    "    confidences = pickle.load(f)"
   ]
  },
  {
   "cell_type": "code",
   "execution_count": 8,
   "id": "670f43af-c317-43b4-be09-71e824d95730",
   "metadata": {},
   "outputs": [],
   "source": [
    "with open('../data/routes.pickle', 'rb') as f:\n",
    "    routes = pickle.load(f)"
   ]
  },
  {
   "cell_type": "code",
   "execution_count": 9,
   "id": "6bd81eb3-1fe7-44b4-a7ae-a370f50cfe1b",
   "metadata": {},
   "outputs": [
    {
     "data": {
      "text/plain": [
       "array(['Bus', 'Eurocity', 'Eurostar', 'Extrazug', 'ICE', 'InterRegio',\n",
       "       'Intercity', 'Luftseilbahn', 'RegioExpress', 'S-Bahn', 'Schiff',\n",
       "       'Standseilbahn', 'TGV', 'Taxi', 'Tram'], dtype=object)"
      ]
     },
     "execution_count": 9,
     "metadata": {},
     "output_type": "execute_result"
    }
   ],
   "source": [
    "np.unique(routes.routes_desc)"
   ]
  },
  {
   "cell_type": "code",
   "execution_count": 10,
   "id": "0da96aaf-66d4-4400-8266-4453e77021aa",
   "metadata": {},
   "outputs": [],
   "source": [
    "color_dict = {}\n",
    "route_types = np.unique(routes.routes_desc)\n",
    "colors = [\"red\", \"yellow\",\n",
    "            \"brown\",\n",
    "           \"black\",\n",
    "            \"cyan\",\n",
    "            \"navy\",\n",
    "            \"linen\",\n",
    "            \"white\",\n",
    "            \"tomato\",\n",
    "            \"green\",\n",
    "           \"purple\",\n",
    "            \"olive\",\n",
    "            \"lime\",\n",
    "            \"orange\",\n",
    "            \"greenyellow\"]\n",
    "\n",
    "for x in zip(route_types, colors):\n",
    "    color_dict[x[0]] = x[1]\n",
    "    \n",
    "color_dict[\"Walking\"] = \"blue\"   "
   ]
  },
  {
   "cell_type": "code",
   "execution_count": 11,
   "id": "90ef4f9f-3f0b-4601-aab0-9bff75bdbdcb",
   "metadata": {},
   "outputs": [
    {
     "data": {
      "text/plain": [
       "{'Bus': 'red',\n",
       " 'Eurocity': 'yellow',\n",
       " 'Eurostar': 'brown',\n",
       " 'Extrazug': 'black',\n",
       " 'ICE': 'cyan',\n",
       " 'InterRegio': 'navy',\n",
       " 'Intercity': 'linen',\n",
       " 'Luftseilbahn': 'white',\n",
       " 'RegioExpress': 'tomato',\n",
       " 'S-Bahn': 'green',\n",
       " 'Schiff': 'purple',\n",
       " 'Standseilbahn': 'olive',\n",
       " 'TGV': 'lime',\n",
       " 'Taxi': 'orange',\n",
       " 'Tram': 'greenyellow',\n",
       " 'Walking': 'blue'}"
      ]
     },
     "execution_count": 11,
     "metadata": {},
     "output_type": "execute_result"
    }
   ],
   "source": [
    "color_dict"
   ]
  },
  {
   "cell_type": "code",
   "execution_count": 12,
   "id": "3e637ee2-5051-4635-aa99-2796489c2aae",
   "metadata": {},
   "outputs": [],
   "source": [
    "paper_conn = [[\n",
    "    (\"y\", \"t\", 100000, 110000, \"1\"),\n",
    "    (\"z\", \"t\", 90000, 120000, \"2\"),\n",
    "    (\"x\", \"t\", 80000, 130000, \"3\"),\n",
    "    (\"x\", \"y\", 80000, 90000, \"4\"),\n",
    "    (\"s\", \"z\", 70000, 80000, \"5\"),\n",
    "    (\"s\", \"x\", 60000, 70000, \"6\"),\n",
    "    (\"s\", \"t\", 50000, 140000, \"7\")\n",
    "]]\n",
    "timetable = (None, paper_conn, None, defaultdict(lambda: list()))"
   ]
  },
  {
   "cell_type": "code",
   "execution_count": 13,
   "id": "1065b548-66b2-4490-beb5-4e883df7d22a",
   "metadata": {},
   "outputs": [],
   "source": [
    "timetable = stops, connections, trips, footpaths, confidences"
   ]
  },
  {
   "cell_type": "markdown",
   "id": "f5ef3a62-82ae-43d7-a1f5-1d3c7b774dab",
   "metadata": {},
   "source": [
    "# Planning a route and defining function to plot"
   ]
  },
  {
   "cell_type": "code",
   "execution_count": 14,
   "id": "7964fefd-51ec-4b99-ad55-aa12e48326ac",
   "metadata": {
    "tags": []
   },
   "outputs": [
    {
     "name": "stdout",
     "output_type": "stream",
     "text": [
      "Starting execution of CSA...\n",
      "Starting extraction of paths... found 8 paths.\n",
      "Starting processing of paths... processed 8 journeys.\n",
      "Starting sorting of paths...\n",
      "End of computation.\n",
      "8\n"
     ]
    }
   ],
   "source": [
    "planner = JourneyPlanner(timetable)\n",
    "\n",
    "journeys = planner.plan_route(4, \"8503000:0:9\", \"8590632\", 1653453975, 1653471975, minimum_confidence = 0, max_changes = 3, verbose=True)\n",
    "\n",
    "#the following makes the connection index go out of range\n",
    "# journeys = planner.plan_route(2, \"8502555\", \"8502495\", 1653491740, 1653501740, max_changes = 10)\n",
    "\n",
    "#the following makes the kernel die\n",
    "#s = planner.plan_route(3, \"8503000\", \"8590318\", 1653491740, 1653501740, 10)\n",
    "print(len(journeys))"
   ]
  },
  {
   "cell_type": "code",
   "execution_count": 15,
   "id": "143c2db3-1637-4652-9cd5-6f2716f3d5ce",
   "metadata": {},
   "outputs": [],
   "source": [
    "j = journeys[0]"
   ]
  },
  {
   "cell_type": "code",
   "execution_count": 16,
   "id": "3c8070f8-11c5-43ed-9721-8869043a314e",
   "metadata": {
    "tags": []
   },
   "outputs": [],
   "source": [
    "from planner import JourneyPlanner\n",
    "from collections import defaultdict\n",
    "import pickle\n",
    "import ipywidgets as widgets\n",
    "from IPython.display import display, clear_output\n",
    "import datetime\n",
    "import plotly.graph_objects as go\n",
    "import pandas as pd\n",
    "import plotly.express as px\n",
    "import plotly\n",
    "import matplotlib.pyplot as plt\n",
    "import pickle\n",
    "from journey import *"
   ]
  },
  {
   "cell_type": "code",
   "execution_count": 55,
   "id": "9b842953-5a06-4b1e-971f-2ddcd93c8208",
   "metadata": {},
   "outputs": [
    {
     "name": "stdout",
     "output_type": "stream",
     "text": [
      "1653471120\n",
      "177\n",
      "1653471960\n",
      "386\n"
     ]
    },
    {
     "data": {
      "application/vnd.plotly.v1+json": {
       "config": {
        "plotlyServerURL": "https://plot.ly"
       },
       "data": [
        {
         "marker": {
          "size": 10
         },
         "mode": "markers+lines",
         "type": "scattermapbox"
        },
        {
         "lat": [
          "47.4308286569336",
          "47.3781762039461"
         ],
         "line": {
          "width": 4
         },
         "lon": [
          "8.55885158423844",
          "8.54021154209037"
         ],
         "marker": {
          "color": "green"
         },
         "mode": "lines",
         "name": "S-Bahn",
         "type": "scattermapbox"
        },
        {
         "hovertext": "Zürich HB",
         "lat": [
          "47.3781762039461"
         ],
         "lon": [
          "8.54021154209037"
         ],
         "marker": {
          "color": "green",
          "size": 12
         },
         "mode": "markers",
         "showlegend": false,
         "type": "scattermapbox"
        },
        {
         "lat": [
          "47.4305673486607",
          "47.4308286569336"
         ],
         "line": {
          "width": 4
         },
         "lon": [
          "8.55935464079762",
          "8.55885158423844"
         ],
         "marker": {
          "color": "blue"
         },
         "mode": "lines",
         "name": "Walking",
         "type": "scattermapbox"
        },
        {
         "hovertext": "Glattbrugg",
         "lat": [
          "47.4308286569336"
         ],
         "lon": [
          "8.55885158423844"
         ],
         "marker": {
          "color": "blue",
          "size": 12
         },
         "mode": "markers",
         "showlegend": false,
         "type": "scattermapbox"
        },
        {
         "lat": [
          "47.4246784530687",
          "47.4305673486607"
         ],
         "line": {
          "width": 4
         },
         "lon": [
          "8.57752755899789",
          "8.55935464079762"
         ],
         "marker": {
          "color": "red"
         },
         "mode": "lines",
         "name": "Bus",
         "type": "scattermapbox"
        },
        {
         "hovertext": "Glattbrugg, Bahnhof",
         "lat": [
          "47.4305673486607"
         ],
         "lon": [
          "8.55935464079762"
         ],
         "marker": {
          "color": "red",
          "size": 12
         },
         "mode": "markers",
         "showlegend": false,
         "type": "scattermapbox"
        },
        {
         "lat": [
          "47.4227335750295",
          "47.4246784530687"
         ],
         "line": {
          "width": 4
         },
         "lon": [
          "8.57686280568755",
          "8.57752755899789"
         ],
         "marker": {
          "color": "blue"
         },
         "mode": "lines",
         "name": "Walking",
         "type": "scattermapbox"
        },
        {
         "hovertext": "Opfikon, Aublick",
         "lat": [
          "47.4246784530687"
         ],
         "lon": [
          "8.57752755899789"
         ],
         "marker": {
          "color": "blue",
          "size": 12
         },
         "mode": "markers",
         "showlegend": false,
         "type": "scattermapbox"
        },
        {
         "hovertext": "Opfikon, Zil",
         "lat": [
          "47.4227335750295"
         ],
         "lon": [
          "8.57686280568755"
         ],
         "marker": {
          "color": "blue",
          "size": 12
         },
         "mode": "markers",
         "showlegend": false,
         "type": "scattermapbox"
        }
       ],
       "layout": {
        "autosize": true,
        "mapbox": {
         "bearing": 0,
         "center": {
          "lat": 47.34806815793567,
          "lon": 8.359050711484088
         },
         "pitch": 0,
         "style": "open-street-map",
         "zoom": 14.12742995604724
        },
        "margin": {
         "b": 0,
         "l": 0,
         "r": 0,
         "t": 50
        },
        "template": {
         "data": {
          "bar": [
           {
            "error_x": {
             "color": "#2a3f5f"
            },
            "error_y": {
             "color": "#2a3f5f"
            },
            "marker": {
             "line": {
              "color": "#E5ECF6",
              "width": 0.5
             }
            },
            "type": "bar"
           }
          ],
          "barpolar": [
           {
            "marker": {
             "line": {
              "color": "#E5ECF6",
              "width": 0.5
             }
            },
            "type": "barpolar"
           }
          ],
          "carpet": [
           {
            "aaxis": {
             "endlinecolor": "#2a3f5f",
             "gridcolor": "white",
             "linecolor": "white",
             "minorgridcolor": "white",
             "startlinecolor": "#2a3f5f"
            },
            "baxis": {
             "endlinecolor": "#2a3f5f",
             "gridcolor": "white",
             "linecolor": "white",
             "minorgridcolor": "white",
             "startlinecolor": "#2a3f5f"
            },
            "type": "carpet"
           }
          ],
          "choropleth": [
           {
            "colorbar": {
             "outlinewidth": 0,
             "ticks": ""
            },
            "type": "choropleth"
           }
          ],
          "contour": [
           {
            "colorbar": {
             "outlinewidth": 0,
             "ticks": ""
            },
            "colorscale": [
             [
              0,
              "#0d0887"
             ],
             [
              0.1111111111111111,
              "#46039f"
             ],
             [
              0.2222222222222222,
              "#7201a8"
             ],
             [
              0.3333333333333333,
              "#9c179e"
             ],
             [
              0.4444444444444444,
              "#bd3786"
             ],
             [
              0.5555555555555556,
              "#d8576b"
             ],
             [
              0.6666666666666666,
              "#ed7953"
             ],
             [
              0.7777777777777778,
              "#fb9f3a"
             ],
             [
              0.8888888888888888,
              "#fdca26"
             ],
             [
              1,
              "#f0f921"
             ]
            ],
            "type": "contour"
           }
          ],
          "contourcarpet": [
           {
            "colorbar": {
             "outlinewidth": 0,
             "ticks": ""
            },
            "type": "contourcarpet"
           }
          ],
          "heatmap": [
           {
            "colorbar": {
             "outlinewidth": 0,
             "ticks": ""
            },
            "colorscale": [
             [
              0,
              "#0d0887"
             ],
             [
              0.1111111111111111,
              "#46039f"
             ],
             [
              0.2222222222222222,
              "#7201a8"
             ],
             [
              0.3333333333333333,
              "#9c179e"
             ],
             [
              0.4444444444444444,
              "#bd3786"
             ],
             [
              0.5555555555555556,
              "#d8576b"
             ],
             [
              0.6666666666666666,
              "#ed7953"
             ],
             [
              0.7777777777777778,
              "#fb9f3a"
             ],
             [
              0.8888888888888888,
              "#fdca26"
             ],
             [
              1,
              "#f0f921"
             ]
            ],
            "type": "heatmap"
           }
          ],
          "heatmapgl": [
           {
            "colorbar": {
             "outlinewidth": 0,
             "ticks": ""
            },
            "colorscale": [
             [
              0,
              "#0d0887"
             ],
             [
              0.1111111111111111,
              "#46039f"
             ],
             [
              0.2222222222222222,
              "#7201a8"
             ],
             [
              0.3333333333333333,
              "#9c179e"
             ],
             [
              0.4444444444444444,
              "#bd3786"
             ],
             [
              0.5555555555555556,
              "#d8576b"
             ],
             [
              0.6666666666666666,
              "#ed7953"
             ],
             [
              0.7777777777777778,
              "#fb9f3a"
             ],
             [
              0.8888888888888888,
              "#fdca26"
             ],
             [
              1,
              "#f0f921"
             ]
            ],
            "type": "heatmapgl"
           }
          ],
          "histogram": [
           {
            "marker": {
             "colorbar": {
              "outlinewidth": 0,
              "ticks": ""
             }
            },
            "type": "histogram"
           }
          ],
          "histogram2d": [
           {
            "colorbar": {
             "outlinewidth": 0,
             "ticks": ""
            },
            "colorscale": [
             [
              0,
              "#0d0887"
             ],
             [
              0.1111111111111111,
              "#46039f"
             ],
             [
              0.2222222222222222,
              "#7201a8"
             ],
             [
              0.3333333333333333,
              "#9c179e"
             ],
             [
              0.4444444444444444,
              "#bd3786"
             ],
             [
              0.5555555555555556,
              "#d8576b"
             ],
             [
              0.6666666666666666,
              "#ed7953"
             ],
             [
              0.7777777777777778,
              "#fb9f3a"
             ],
             [
              0.8888888888888888,
              "#fdca26"
             ],
             [
              1,
              "#f0f921"
             ]
            ],
            "type": "histogram2d"
           }
          ],
          "histogram2dcontour": [
           {
            "colorbar": {
             "outlinewidth": 0,
             "ticks": ""
            },
            "colorscale": [
             [
              0,
              "#0d0887"
             ],
             [
              0.1111111111111111,
              "#46039f"
             ],
             [
              0.2222222222222222,
              "#7201a8"
             ],
             [
              0.3333333333333333,
              "#9c179e"
             ],
             [
              0.4444444444444444,
              "#bd3786"
             ],
             [
              0.5555555555555556,
              "#d8576b"
             ],
             [
              0.6666666666666666,
              "#ed7953"
             ],
             [
              0.7777777777777778,
              "#fb9f3a"
             ],
             [
              0.8888888888888888,
              "#fdca26"
             ],
             [
              1,
              "#f0f921"
             ]
            ],
            "type": "histogram2dcontour"
           }
          ],
          "mesh3d": [
           {
            "colorbar": {
             "outlinewidth": 0,
             "ticks": ""
            },
            "type": "mesh3d"
           }
          ],
          "parcoords": [
           {
            "line": {
             "colorbar": {
              "outlinewidth": 0,
              "ticks": ""
             }
            },
            "type": "parcoords"
           }
          ],
          "pie": [
           {
            "automargin": true,
            "type": "pie"
           }
          ],
          "scatter": [
           {
            "marker": {
             "colorbar": {
              "outlinewidth": 0,
              "ticks": ""
             }
            },
            "type": "scatter"
           }
          ],
          "scatter3d": [
           {
            "line": {
             "colorbar": {
              "outlinewidth": 0,
              "ticks": ""
             }
            },
            "marker": {
             "colorbar": {
              "outlinewidth": 0,
              "ticks": ""
             }
            },
            "type": "scatter3d"
           }
          ],
          "scattercarpet": [
           {
            "marker": {
             "colorbar": {
              "outlinewidth": 0,
              "ticks": ""
             }
            },
            "type": "scattercarpet"
           }
          ],
          "scattergeo": [
           {
            "marker": {
             "colorbar": {
              "outlinewidth": 0,
              "ticks": ""
             }
            },
            "type": "scattergeo"
           }
          ],
          "scattergl": [
           {
            "marker": {
             "colorbar": {
              "outlinewidth": 0,
              "ticks": ""
             }
            },
            "type": "scattergl"
           }
          ],
          "scattermapbox": [
           {
            "marker": {
             "colorbar": {
              "outlinewidth": 0,
              "ticks": ""
             }
            },
            "type": "scattermapbox"
           }
          ],
          "scatterpolar": [
           {
            "marker": {
             "colorbar": {
              "outlinewidth": 0,
              "ticks": ""
             }
            },
            "type": "scatterpolar"
           }
          ],
          "scatterpolargl": [
           {
            "marker": {
             "colorbar": {
              "outlinewidth": 0,
              "ticks": ""
             }
            },
            "type": "scatterpolargl"
           }
          ],
          "scatterternary": [
           {
            "marker": {
             "colorbar": {
              "outlinewidth": 0,
              "ticks": ""
             }
            },
            "type": "scatterternary"
           }
          ],
          "surface": [
           {
            "colorbar": {
             "outlinewidth": 0,
             "ticks": ""
            },
            "colorscale": [
             [
              0,
              "#0d0887"
             ],
             [
              0.1111111111111111,
              "#46039f"
             ],
             [
              0.2222222222222222,
              "#7201a8"
             ],
             [
              0.3333333333333333,
              "#9c179e"
             ],
             [
              0.4444444444444444,
              "#bd3786"
             ],
             [
              0.5555555555555556,
              "#d8576b"
             ],
             [
              0.6666666666666666,
              "#ed7953"
             ],
             [
              0.7777777777777778,
              "#fb9f3a"
             ],
             [
              0.8888888888888888,
              "#fdca26"
             ],
             [
              1,
              "#f0f921"
             ]
            ],
            "type": "surface"
           }
          ],
          "table": [
           {
            "cells": {
             "fill": {
              "color": "#EBF0F8"
             },
             "line": {
              "color": "white"
             }
            },
            "header": {
             "fill": {
              "color": "#C8D4E3"
             },
             "line": {
              "color": "white"
             }
            },
            "type": "table"
           }
          ]
         },
         "layout": {
          "annotationdefaults": {
           "arrowcolor": "#2a3f5f",
           "arrowhead": 0,
           "arrowwidth": 1
          },
          "autotypenumbers": "strict",
          "coloraxis": {
           "colorbar": {
            "outlinewidth": 0,
            "ticks": ""
           }
          },
          "colorscale": {
           "diverging": [
            [
             0,
             "#8e0152"
            ],
            [
             0.1,
             "#c51b7d"
            ],
            [
             0.2,
             "#de77ae"
            ],
            [
             0.3,
             "#f1b6da"
            ],
            [
             0.4,
             "#fde0ef"
            ],
            [
             0.5,
             "#f7f7f7"
            ],
            [
             0.6,
             "#e6f5d0"
            ],
            [
             0.7,
             "#b8e186"
            ],
            [
             0.8,
             "#7fbc41"
            ],
            [
             0.9,
             "#4d9221"
            ],
            [
             1,
             "#276419"
            ]
           ],
           "sequential": [
            [
             0,
             "#0d0887"
            ],
            [
             0.1111111111111111,
             "#46039f"
            ],
            [
             0.2222222222222222,
             "#7201a8"
            ],
            [
             0.3333333333333333,
             "#9c179e"
            ],
            [
             0.4444444444444444,
             "#bd3786"
            ],
            [
             0.5555555555555556,
             "#d8576b"
            ],
            [
             0.6666666666666666,
             "#ed7953"
            ],
            [
             0.7777777777777778,
             "#fb9f3a"
            ],
            [
             0.8888888888888888,
             "#fdca26"
            ],
            [
             1,
             "#f0f921"
            ]
           ],
           "sequentialminus": [
            [
             0,
             "#0d0887"
            ],
            [
             0.1111111111111111,
             "#46039f"
            ],
            [
             0.2222222222222222,
             "#7201a8"
            ],
            [
             0.3333333333333333,
             "#9c179e"
            ],
            [
             0.4444444444444444,
             "#bd3786"
            ],
            [
             0.5555555555555556,
             "#d8576b"
            ],
            [
             0.6666666666666666,
             "#ed7953"
            ],
            [
             0.7777777777777778,
             "#fb9f3a"
            ],
            [
             0.8888888888888888,
             "#fdca26"
            ],
            [
             1,
             "#f0f921"
            ]
           ]
          },
          "colorway": [
           "#636efa",
           "#EF553B",
           "#00cc96",
           "#ab63fa",
           "#FFA15A",
           "#19d3f3",
           "#FF6692",
           "#B6E880",
           "#FF97FF",
           "#FECB52"
          ],
          "font": {
           "color": "#2a3f5f"
          },
          "geo": {
           "bgcolor": "white",
           "lakecolor": "white",
           "landcolor": "#E5ECF6",
           "showlakes": true,
           "showland": true,
           "subunitcolor": "white"
          },
          "hoverlabel": {
           "align": "left"
          },
          "hovermode": "closest",
          "mapbox": {
           "style": "light"
          },
          "paper_bgcolor": "white",
          "plot_bgcolor": "#E5ECF6",
          "polar": {
           "angularaxis": {
            "gridcolor": "white",
            "linecolor": "white",
            "ticks": ""
           },
           "bgcolor": "#E5ECF6",
           "radialaxis": {
            "gridcolor": "white",
            "linecolor": "white",
            "ticks": ""
           }
          },
          "scene": {
           "xaxis": {
            "backgroundcolor": "#E5ECF6",
            "gridcolor": "white",
            "gridwidth": 2,
            "linecolor": "white",
            "showbackground": true,
            "ticks": "",
            "zerolinecolor": "white"
           },
           "yaxis": {
            "backgroundcolor": "#E5ECF6",
            "gridcolor": "white",
            "gridwidth": 2,
            "linecolor": "white",
            "showbackground": true,
            "ticks": "",
            "zerolinecolor": "white"
           },
           "zaxis": {
            "backgroundcolor": "#E5ECF6",
            "gridcolor": "white",
            "gridwidth": 2,
            "linecolor": "white",
            "showbackground": true,
            "ticks": "",
            "zerolinecolor": "white"
           }
          },
          "shapedefaults": {
           "line": {
            "color": "#2a3f5f"
           }
          },
          "ternary": {
           "aaxis": {
            "gridcolor": "white",
            "linecolor": "white",
            "ticks": ""
           },
           "baxis": {
            "gridcolor": "white",
            "linecolor": "white",
            "ticks": ""
           },
           "bgcolor": "#E5ECF6",
           "caxis": {
            "gridcolor": "white",
            "linecolor": "white",
            "ticks": ""
           }
          },
          "title": {
           "x": 0.05
          },
          "xaxis": {
           "automargin": true,
           "gridcolor": "white",
           "linecolor": "white",
           "ticks": "",
           "title": {
            "standoff": 15
           },
           "zerolinecolor": "white",
           "zerolinewidth": 2
          },
          "yaxis": {
           "automargin": true,
           "gridcolor": "white",
           "linecolor": "white",
           "ticks": "",
           "title": {
            "standoff": 15
           },
           "zerolinecolor": "white",
           "zerolinewidth": 2
          }
         }
        },
        "title": {
         "font": {
          "color": "#000000",
          "family": "Arial",
          "size": 15
         },
         "text": "<b>Journey Planner from Zürich HB to Opfikon, Zil: suggested journey n. 0, confidence :0.0</b>",
         "x": 0,
         "y": 0.95
        }
       }
      },
      "image/png": "[encoded data removed]",
      "text/html": [
       "<div>                            <div id=\"2e04e846-936f-421c-91f2-8ceae91a5abe\" class=\"plotly-graph-div\" style=\"height:525px; width:100%;\"></div>            <script type=\"text/javascript\">                require([\"plotly\"], function(Plotly) {                    window.PLOTLYENV=window.PLOTLYENV || {};                                    if (document.getElementById(\"2e04e846-936f-421c-91f2-8ceae91a5abe\")) {                    Plotly.newPlot(                        \"2e04e846-936f-421c-91f2-8ceae91a5abe\",                        [{\"marker\": {\"size\": 10}, \"mode\": \"markers+lines\", \"type\": \"scattermapbox\"}, {\"lat\": [\"47.4308286569336\", \"47.3781762039461\"], \"line\": {\"width\": 4}, \"lon\": [\"8.55885158423844\", \"8.54021154209037\"], \"marker\": {\"color\": \"green\"}, \"mode\": \"lines\", \"name\": \"S-Bahn\", \"type\": \"scattermapbox\"}, {\"hovertext\": \"Z\\u00fcrich HB\", \"lat\": [\"47.3781762039461\"], \"lon\": [\"8.54021154209037\"], \"marker\": {\"color\": \"green\", \"size\": 12}, \"mode\": \"markers\", \"showlegend\": false, \"type\": \"scattermapbox\"}, {\"lat\": [\"47.4305673486607\", \"47.4308286569336\"], \"line\": {\"width\": 4}, \"lon\": [\"8.55935464079762\", \"8.55885158423844\"], \"marker\": {\"color\": \"blue\"}, \"mode\": \"lines\", \"name\": \"Walking\", \"type\": \"scattermapbox\"}, {\"hovertext\": \"Glattbrugg\", \"lat\": [\"47.4308286569336\"], \"lon\": [\"8.55885158423844\"], \"marker\": {\"color\": \"blue\", \"size\": 12}, \"mode\": \"markers\", \"showlegend\": false, \"type\": \"scattermapbox\"}, {\"lat\": [\"47.4246784530687\", \"47.4305673486607\"], \"line\": {\"width\": 4}, \"lon\": [\"8.57752755899789\", \"8.55935464079762\"], \"marker\": {\"color\": \"red\"}, \"mode\": \"lines\", \"name\": \"Bus\", \"type\": \"scattermapbox\"}, {\"hovertext\": \"Glattbrugg, Bahnhof\", \"lat\": [\"47.4305673486607\"], \"lon\": [\"8.55935464079762\"], \"marker\": {\"color\": \"red\", \"size\": 12}, \"mode\": \"markers\", \"showlegend\": false, \"type\": \"scattermapbox\"}, {\"lat\": [\"47.4227335750295\", \"47.4246784530687\"], \"line\": {\"width\": 4}, \"lon\": [\"8.57686280568755\", \"8.57752755899789\"], \"marker\": {\"color\": \"blue\"}, \"mode\": \"lines\", \"name\": \"Walking\", \"type\": \"scattermapbox\"}, {\"hovertext\": \"Opfikon, Aublick\", \"lat\": [\"47.4246784530687\"], \"lon\": [\"8.57752755899789\"], \"marker\": {\"color\": \"blue\", \"size\": 12}, \"mode\": \"markers\", \"showlegend\": false, \"type\": \"scattermapbox\"}, {\"hovertext\": \"Opfikon, Zil\", \"lat\": [\"47.4227335750295\"], \"lon\": [\"8.57686280568755\"], \"marker\": {\"color\": \"blue\", \"size\": 12}, \"mode\": \"markers\", \"showlegend\": false, \"type\": \"scattermapbox\"}],                        {\"mapbox\": {\"center\": {\"lat\": 47.4, \"lon\": 8.57}, \"style\": \"open-street-map\", \"zoom\": 9.8}, \"margin\": {\"b\": 0, \"l\": 0, \"r\": 0, \"t\": 50}, \"template\": {\"data\": {\"bar\": [{\"error_x\": {\"color\": \"#2a3f5f\"}, \"error_y\": {\"color\": \"#2a3f5f\"}, \"marker\": {\"line\": {\"color\": \"#E5ECF6\", \"width\": 0.5}}, \"type\": \"bar\"}], \"barpolar\": [{\"marker\": {\"line\": {\"color\": \"#E5ECF6\", \"width\": 0.5}}, \"type\": \"barpolar\"}], \"carpet\": [{\"aaxis\": {\"endlinecolor\": \"#2a3f5f\", \"gridcolor\": \"white\", \"linecolor\": \"white\", \"minorgridcolor\": \"white\", \"startlinecolor\": \"#2a3f5f\"}, \"baxis\": {\"endlinecolor\": \"#2a3f5f\", \"gridcolor\": \"white\", \"linecolor\": \"white\", \"minorgridcolor\": \"white\", \"startlinecolor\": \"#2a3f5f\"}, \"type\": \"carpet\"}], \"choropleth\": [{\"colorbar\": {\"outlinewidth\": 0, \"ticks\": \"\"}, \"type\": \"choropleth\"}], \"contour\": [{\"colorbar\": {\"outlinewidth\": 0, \"ticks\": \"\"}, \"colorscale\": [[0.0, \"#0d0887\"], [0.1111111111111111, \"#46039f\"], [0.2222222222222222, \"#7201a8\"], [0.3333333333333333, \"#9c179e\"], [0.4444444444444444, \"#bd3786\"], [0.5555555555555556, \"#d8576b\"], [0.6666666666666666, \"#ed7953\"], [0.7777777777777778, \"#fb9f3a\"], [0.8888888888888888, \"#fdca26\"], [1.0, \"#f0f921\"]], \"type\": \"contour\"}], \"contourcarpet\": [{\"colorbar\": {\"outlinewidth\": 0, \"ticks\": \"\"}, \"type\": \"contourcarpet\"}], \"heatmap\": [{\"colorbar\": {\"outlinewidth\": 0, \"ticks\": \"\"}, \"colorscale\": [[0.0, \"#0d0887\"], [0.1111111111111111, \"#46039f\"], [0.2222222222222222, \"#7201a8\"], [0.3333333333333333, \"#9c179e\"], [0.4444444444444444, \"#bd3786\"], [0.5555555555555556, \"#d8576b\"], [0.6666666666666666, \"#ed7953\"], [0.7777777777777778, \"#fb9f3a\"], [0.8888888888888888, \"#fdca26\"], [1.0, \"#f0f921\"]], \"type\": \"heatmap\"}], \"heatmapgl\": [{\"colorbar\": {\"outlinewidth\": 0, \"ticks\": \"\"}, \"colorscale\": [[0.0, \"#0d0887\"], [0.1111111111111111, \"#46039f\"], [0.2222222222222222, \"#7201a8\"], [0.3333333333333333, \"#9c179e\"], [0.4444444444444444, \"#bd3786\"], [0.5555555555555556, \"#d8576b\"], [0.6666666666666666, \"#ed7953\"], [0.7777777777777778, \"#fb9f3a\"], [0.8888888888888888, \"#fdca26\"], [1.0, \"#f0f921\"]], \"type\": \"heatmapgl\"}], \"histogram\": [{\"marker\": {\"colorbar\": {\"outlinewidth\": 0, \"ticks\": \"\"}}, \"type\": \"histogram\"}], \"histogram2d\": [{\"colorbar\": {\"outlinewidth\": 0, \"ticks\": \"\"}, \"colorscale\": [[0.0, \"#0d0887\"], [0.1111111111111111, \"#46039f\"], [0.2222222222222222, \"#7201a8\"], [0.3333333333333333, \"#9c179e\"], [0.4444444444444444, \"#bd3786\"], [0.5555555555555556, \"#d8576b\"], [0.6666666666666666, \"#ed7953\"], [0.7777777777777778, \"#fb9f3a\"], [0.8888888888888888, \"#fdca26\"], [1.0, \"#f0f921\"]], \"type\": \"histogram2d\"}], \"histogram2dcontour\": [{\"colorbar\": {\"outlinewidth\": 0, \"ticks\": \"\"}, \"colorscale\": [[0.0, \"#0d0887\"], [0.1111111111111111, \"#46039f\"], [0.2222222222222222, \"#7201a8\"], [0.3333333333333333, \"#9c179e\"], [0.4444444444444444, \"#bd3786\"], [0.5555555555555556, \"#d8576b\"], [0.6666666666666666, \"#ed7953\"], [0.7777777777777778, \"#fb9f3a\"], [0.8888888888888888, \"#fdca26\"], [1.0, \"#f0f921\"]], \"type\": \"histogram2dcontour\"}], \"mesh3d\": [{\"colorbar\": {\"outlinewidth\": 0, \"ticks\": \"\"}, \"type\": \"mesh3d\"}], \"parcoords\": [{\"line\": {\"colorbar\": {\"outlinewidth\": 0, \"ticks\": \"\"}}, \"type\": \"parcoords\"}], \"pie\": [{\"automargin\": true, \"type\": \"pie\"}], \"scatter\": [{\"marker\": {\"colorbar\": {\"outlinewidth\": 0, \"ticks\": \"\"}}, \"type\": \"scatter\"}], \"scatter3d\": [{\"line\": {\"colorbar\": {\"outlinewidth\": 0, \"ticks\": \"\"}}, \"marker\": {\"colorbar\": {\"outlinewidth\": 0, \"ticks\": \"\"}}, \"type\": \"scatter3d\"}], \"scattercarpet\": [{\"marker\": {\"colorbar\": {\"outlinewidth\": 0, \"ticks\": \"\"}}, \"type\": \"scattercarpet\"}], \"scattergeo\": [{\"marker\": {\"colorbar\": {\"outlinewidth\": 0, \"ticks\": \"\"}}, \"type\": \"scattergeo\"}], \"scattergl\": [{\"marker\": {\"colorbar\": {\"outlinewidth\": 0, \"ticks\": \"\"}}, \"type\": \"scattergl\"}], \"scattermapbox\": [{\"marker\": {\"colorbar\": {\"outlinewidth\": 0, \"ticks\": \"\"}}, \"type\": \"scattermapbox\"}], \"scatterpolar\": [{\"marker\": {\"colorbar\": {\"outlinewidth\": 0, \"ticks\": \"\"}}, \"type\": \"scatterpolar\"}], \"scatterpolargl\": [{\"marker\": {\"colorbar\": {\"outlinewidth\": 0, \"ticks\": \"\"}}, \"type\": \"scatterpolargl\"}], \"scatterternary\": [{\"marker\": {\"colorbar\": {\"outlinewidth\": 0, \"ticks\": \"\"}}, \"type\": \"scatterternary\"}], \"surface\": [{\"colorbar\": {\"outlinewidth\": 0, \"ticks\": \"\"}, \"colorscale\": [[0.0, \"#0d0887\"], [0.1111111111111111, \"#46039f\"], [0.2222222222222222, \"#7201a8\"], [0.3333333333333333, \"#9c179e\"], [0.4444444444444444, \"#bd3786\"], [0.5555555555555556, \"#d8576b\"], [0.6666666666666666, \"#ed7953\"], [0.7777777777777778, \"#fb9f3a\"], [0.8888888888888888, \"#fdca26\"], [1.0, \"#f0f921\"]], \"type\": \"surface\"}], \"table\": [{\"cells\": {\"fill\": {\"color\": \"#EBF0F8\"}, \"line\": {\"color\": \"white\"}}, \"header\": {\"fill\": {\"color\": \"#C8D4E3\"}, \"line\": {\"color\": \"white\"}}, \"type\": \"table\"}]}, \"layout\": {\"annotationdefaults\": {\"arrowcolor\": \"#2a3f5f\", \"arrowhead\": 0, \"arrowwidth\": 1}, \"autotypenumbers\": \"strict\", \"coloraxis\": {\"colorbar\": {\"outlinewidth\": 0, \"ticks\": \"\"}}, \"colorscale\": {\"diverging\": [[0, \"#8e0152\"], [0.1, \"#c51b7d\"], [0.2, \"#de77ae\"], [0.3, \"#f1b6da\"], [0.4, \"#fde0ef\"], [0.5, \"#f7f7f7\"], [0.6, \"#e6f5d0\"], [0.7, \"#b8e186\"], [0.8, \"#7fbc41\"], [0.9, \"#4d9221\"], [1, \"#276419\"]], \"sequential\": [[0.0, \"#0d0887\"], [0.1111111111111111, \"#46039f\"], [0.2222222222222222, \"#7201a8\"], [0.3333333333333333, \"#9c179e\"], [0.4444444444444444, \"#bd3786\"], [0.5555555555555556, \"#d8576b\"], [0.6666666666666666, \"#ed7953\"], [0.7777777777777778, \"#fb9f3a\"], [0.8888888888888888, \"#fdca26\"], [1.0, \"#f0f921\"]], \"sequentialminus\": [[0.0, \"#0d0887\"], [0.1111111111111111, \"#46039f\"], [0.2222222222222222, \"#7201a8\"], [0.3333333333333333, \"#9c179e\"], [0.4444444444444444, \"#bd3786\"], [0.5555555555555556, \"#d8576b\"], [0.6666666666666666, \"#ed7953\"], [0.7777777777777778, \"#fb9f3a\"], [0.8888888888888888, \"#fdca26\"], [1.0, \"#f0f921\"]]}, \"colorway\": [\"#636efa\", \"#EF553B\", \"#00cc96\", \"#ab63fa\", \"#FFA15A\", \"#19d3f3\", \"#FF6692\", \"#B6E880\", \"#FF97FF\", \"#FECB52\"], \"font\": {\"color\": \"#2a3f5f\"}, \"geo\": {\"bgcolor\": \"white\", \"lakecolor\": \"white\", \"landcolor\": \"#E5ECF6\", \"showlakes\": true, \"showland\": true, \"subunitcolor\": \"white\"}, \"hoverlabel\": {\"align\": \"left\"}, \"hovermode\": \"closest\", \"mapbox\": {\"style\": \"light\"}, \"paper_bgcolor\": \"white\", \"plot_bgcolor\": \"#E5ECF6\", \"polar\": {\"angularaxis\": {\"gridcolor\": \"white\", \"linecolor\": \"white\", \"ticks\": \"\"}, \"bgcolor\": \"#E5ECF6\", \"radialaxis\": {\"gridcolor\": \"white\", \"linecolor\": \"white\", \"ticks\": \"\"}}, \"scene\": {\"xaxis\": {\"backgroundcolor\": \"#E5ECF6\", \"gridcolor\": \"white\", \"gridwidth\": 2, \"linecolor\": \"white\", \"showbackground\": true, \"ticks\": \"\", \"zerolinecolor\": \"white\"}, \"yaxis\": {\"backgroundcolor\": \"#E5ECF6\", \"gridcolor\": \"white\", \"gridwidth\": 2, \"linecolor\": \"white\", \"showbackground\": true, \"ticks\": \"\", \"zerolinecolor\": \"white\"}, \"zaxis\": {\"backgroundcolor\": \"#E5ECF6\", \"gridcolor\": \"white\", \"gridwidth\": 2, \"linecolor\": \"white\", \"showbackground\": true, \"ticks\": \"\", \"zerolinecolor\": \"white\"}}, \"shapedefaults\": {\"line\": {\"color\": \"#2a3f5f\"}}, \"ternary\": {\"aaxis\": {\"gridcolor\": \"white\", \"linecolor\": \"white\", \"ticks\": \"\"}, \"baxis\": {\"gridcolor\": \"white\", \"linecolor\": \"white\", \"ticks\": \"\"}, \"bgcolor\": \"#E5ECF6\", \"caxis\": {\"gridcolor\": \"white\", \"linecolor\": \"white\", \"ticks\": \"\"}}, \"title\": {\"x\": 0.05}, \"xaxis\": {\"automargin\": true, \"gridcolor\": \"white\", \"linecolor\": \"white\", \"ticks\": \"\", \"title\": {\"standoff\": 15}, \"zerolinecolor\": \"white\", \"zerolinewidth\": 2}, \"yaxis\": {\"automargin\": true, \"gridcolor\": \"white\", \"linecolor\": \"white\", \"ticks\": \"\", \"title\": {\"standoff\": 15}, \"zerolinecolor\": \"white\", \"zerolinewidth\": 2}}}, \"title\": {\"font\": {\"color\": \"#000000\", \"family\": \"Arial\", \"size\": 15}, \"text\": \"<b>Journey Planner from Z\\u00fcrich HB to Opfikon, Zil: suggested journey n. 0, confidence :0.0</b>\", \"x\": 0, \"y\": 0.95}},                        {\"responsive\": true}                    ).then(function(){\n",
       "                            \n",
       "var gd = document.getElementById('2e04e846-936f-421c-91f2-8ceae91a5abe');\n",
       "var x = new MutationObserver(function (mutations, observer) {{\n",
       "        var display = window.getComputedStyle(gd).display;\n",
       "        if (!display || display === 'none') {{\n",
       "            console.log([gd, 'removed!']);\n",
       "            Plotly.purge(gd);\n",
       "            observer.disconnect();\n",
       "        }}\n",
       "}});\n",
       "\n",
       "// Listen for the removal of the full notebook cells\n",
       "var notebookContainer = gd.closest('#notebook-container');\n",
       "if (notebookContainer) {{\n",
       "    x.observe(notebookContainer, {childList: true});\n",
       "}}\n",
       "\n",
       "// Listen for the clearing of the current output cell\n",
       "var outputEl = gd.closest('.output');\n",
       "if (outputEl) {{\n",
       "    x.observe(outputEl, {childList: true});\n",
       "}}\n",
       "\n",
       "                        })                };                });            </script>        </div>"
      ]
     },
     "metadata": {},
     "output_type": "display_data"
    }
   ],
   "source": [
    "def visualize_map_scattermapbox(journey, plot_number = 0):\n",
    "    \n",
    "    \n",
    "    \n",
    "    # l is the layout of the plot, we use to set the title, the margins and the style of the map\n",
    "    departure_station = journey.links[0].dep_stop['stop_name']\n",
    "    arrival_station = journey.links[-1].arr_stop['stop_name']\n",
    "    confidence = journey.confidence\n",
    "    l = go.Layout(\n",
    "#         title= f'Journey Planner from {departure_station} to {arrival_station}: suggested trip n. {plot_number}, confidence :{confidence}', \n",
    "        \n",
    "        title=dict(\n",
    "        text=f'<b>Journey Planner from {departure_station} to {arrival_station}: suggested journey n. {plot_number}, confidence :{confidence}</b>',\n",
    "        x=0,\n",
    "        y=0.95,\n",
    "        font=dict(\n",
    "            family=\"Arial\",\n",
    "            size=15,\n",
    "            color='#000000'\n",
    "        )),\n",
    "        margin ={'l':0,'t':50,'b':0,'r':0},\n",
    "        mapbox = {\n",
    "            'center': {'lon': 10, 'lat': 10},\n",
    "            'style': \"open-street-map\",\n",
    "            'center': {'lon':8.57 , 'lat': 47.40},\n",
    "            'zoom': 9.8,}\n",
    "#         title_x = 0.41\n",
    "    )\n",
    "    \n",
    "    # we initialize the map with the layout we created above\n",
    "    \n",
    "    fig = go.Figure(go.Scattermapbox(\n",
    "            mode = \"markers+lines\",\n",
    "            marker = {'size': 10},\n",
    "            ), l)\n",
    "    \n",
    "    # here we iterate through the path in order to plot each part of the trip\n",
    "    i = 0\n",
    "    for x in journey.links:\n",
    "        \n",
    "        if isinstance(x, Change):  # skipping changes, Changes should not be plotted\n",
    "            continue\n",
    "            \n",
    "        #we should not plot walks where you stay inside the same station\n",
    "        if isinstance(x, Footpath):\n",
    "            if x.dep_stop['parent_station'] == x.arr_stop['parent_station'] and x.dep_stop['parent_station'] != '': \n",
    "                continue\n",
    "            transport_type = \"Walking\" # this is used later for plotting the legend\n",
    "            print(x.dep_time)\n",
    "            print(x.duration)\n",
    "            \n",
    "        #getting the transport type of the trip, used for plotting the legend\n",
    "        if isinstance(x, Trip):\n",
    "            transport_type = routes.drop_duplicates(\"route_id\").set_index(\"route_id\").loc[x.trip['route_id']][\"routes_desc\"] \n",
    "            \n",
    "\n",
    "        \n",
    "        arr_df = pd.DataFrame(x.arr_stop, index = [\"arr\"])\n",
    "        dep_df = pd.DataFrame(x.dep_stop, index = [\"dep\"])\n",
    "        #to plot the lines we merge the arrival and departure stop in one df\n",
    "        arr_dep_df = pd.concat([arr_df, dep_df])\n",
    "\n",
    "        \n",
    "        fig.add_trace(go.Scattermapbox(mode = \"lines\",\n",
    "                                        lon = arr_dep_df.stop_lon,\n",
    "                                        lat = arr_dep_df.stop_lat,\n",
    "                                        marker = {'color': color_dict[transport_type]},\n",
    "                                        line={'width':4},\n",
    "                                        name = f\"{transport_type}\"))\n",
    "\n",
    "        fig.add_trace(go.Scattermapbox(mode = \"markers\",\n",
    "                                        lon = [x.dep_stop['stop_lon']],\n",
    "                                        lat = [x.dep_stop['stop_lat']],\n",
    "                                        showlegend=False,\n",
    "                                        marker = {'size': 12,'color': color_dict[transport_type]},\n",
    "                                        hovertext = x.dep_stop['stop_name']))\n",
    "        \n",
    "        \n",
    "        i += 1\n",
    "        \n",
    "    fig.add_trace(go.Scattermapbox(mode = \"markers\",\n",
    "                                        lon = [x.arr_stop['stop_lon']],\n",
    "                                        lat = [x.arr_stop['stop_lat']],\n",
    "                                        showlegend=False,\n",
    "                                        marker = {'size': 12,'color': color_dict[transport_type]},\n",
    "                                        hovertext = x.arr_stop['stop_name']))\n",
    "\n",
    "#     plotly.offline.plot(fig)               #uncomment this if you want the map to open also in a new tab of the browser\n",
    "    fig.show()\n",
    "\n",
    "   \n",
    "\n",
    "visualize_map_scattermapbox(j)"
   ]
  },
  {
   "cell_type": "markdown",
   "id": "ebba9646-2509-4f64-ad75-76ed517d265d",
   "metadata": {},
   "source": [
    "# Setting up the widgets and plotting"
   ]
  },
  {
   "cell_type": "code",
   "execution_count": 18,
   "id": "7cfb68bf-91d8-4507-872c-d24437d8d348",
   "metadata": {},
   "outputs": [],
   "source": [
    "import ipywidgets as widgets\n",
    "from IPython.display import display, clear_output"
   ]
  },
  {
   "cell_type": "code",
   "execution_count": 19,
   "id": "c858d3fe-d5c2-431a-91be-0b0e43b6ad7c",
   "metadata": {},
   "outputs": [],
   "source": [
    "stop_names = []\n",
    "for key in stops.keys():\n",
    "    stop_names.append(stops[key][\"stop_name\"])\n",
    "\n",
    "stop_names = np.unique(sorted(stop_names))        #getting all the stationnames and sorting them in alphabetical order"
   ]
  },
  {
   "cell_type": "code",
   "execution_count": 20,
   "id": "cf516129-4c15-42b6-bd92-1d0ae2e4fd95",
   "metadata": {},
   "outputs": [
    {
     "name": "stderr",
     "output_type": "stream",
     "text": [
      "/opt/conda/lib/python3.9/site-packages/traitlets/traitlets.py:588: FutureWarning:\n",
      "\n",
      "elementwise comparison failed; returning scalar instead, but in the future will perform elementwise comparison\n",
      "\n"
     ]
    }
   ],
   "source": [
    "# Below we define all the widgets\n",
    "import datetime\n",
    "confidence_level =widgets.FloatSlider(\n",
    "    description = \"Confidence Interval\",\n",
    "    value=0,\n",
    "    min=0,\n",
    "    max=1.0,\n",
    "    step=0.01,\n",
    "    continuous_update=False,\n",
    "    orientation='horizontal',\n",
    "    readout=True,\n",
    "    style= {'description_width': 'initial'}\n",
    ")\n",
    "\n",
    "datetime_picker = widgets.DatePicker(\n",
    "    value = datetime.datetime.now().date(),\n",
    "    description='Date of the trip',\n",
    "    disabled=False,\n",
    "    style= {'description_width': 'initial'}\n",
    ")\n",
    "\n",
    "aux = datetime.datetime.now()\n",
    "max_arrival_time_hour = widgets.Dropdown(\n",
    "    value = datetime.datetime.now().time().hour + 3,\n",
    "    options= [i for i in range(1,25)],\n",
    "    description='Max Arrival Hour:',\n",
    "    disabled=False,\n",
    "    style= {'description_width': 'initial'}\n",
    ")\n",
    "\n",
    "max_arrival_time_minute = widgets.Dropdown(\n",
    "    value = datetime.datetime.now().time().minute,\n",
    "    options= [i for i in range(1,60)],\n",
    "    description='Max Arrival Minute:',\n",
    "    disabled=False,\n",
    "    style= {'description_width': 'initial'}\n",
    ")\n",
    "\n",
    "\n",
    "min_departure_time_hour = widgets.Dropdown(\n",
    "    value = datetime.datetime.now().time().hour,\n",
    "    options= [i for i in range(1,25)],\n",
    "    description='Min Departure Hour:',\n",
    "    disabled=False,\n",
    "    style= {'description_width': 'initial'}\n",
    ")\n",
    "\n",
    "\n",
    "min_departure_time_minute = widgets.Dropdown(\n",
    "    value = datetime.datetime.now().time().minute,\n",
    "    options= [i for i in range(1,60)],\n",
    "    description='Min Departure Hour:',\n",
    "    disabled=False,\n",
    "    style= {'description_width': 'initial'}\n",
    ")\n",
    "\n",
    "\n",
    "\n",
    "departure_station = widgets.Dropdown(\n",
    "    options= stop_names,\n",
    "    description='Departure Station:',\n",
    "    disabled=False,\n",
    "    style= {'description_width': 'initial'}\n",
    ")\n",
    "\n",
    "arrival_station = widgets.Dropdown(\n",
    "    options= stop_names,\n",
    "    description='Arrival Station:',\n",
    "    disabled=False,\n",
    "    style= {'description_width': 'initial'}\n",
    ")\n",
    "\n",
    "\n",
    "max_changes = widgets.IntText(\n",
    "    value=10,\n",
    "    description='Max. number of changes:',\n",
    "    disabled=False,\n",
    ")\n",
    "\n",
    "\n",
    "\n",
    "show_k_journeys = widgets.Dropdown(\n",
    "    value = 5,\n",
    "    options= [i for i in range(1,11)],\n",
    "    description='Max n. of journeys to display:',\n",
    "    disabled=False,\n",
    "    style= {'description_width': 'initial'}\n",
    ")\n",
    "\n",
    "layout = widgets.Layout(width='auto', height='40px')\n",
    "\n",
    "button = widgets.Button(\n",
    "    description='Find the best route!',\n",
    "    disabled=False,\n",
    "    button_style='', # 'success', 'info', 'warning', 'danger' or ''\n",
    "    tooltip='Click me',\n",
    "    icon='check', # (FontAwesome names without the `fa-` prefix)\n",
    "    layout = layout\n",
    ")\n",
    "\n",
    "\n",
    "out = widgets.Output()\n",
    "\n",
    "# The following functions defines what happens when we press the button\n",
    "\n",
    "                             \n",
    "def button_action(button):\n",
    "    \n",
    "    out.clear_output()   # each time we press the button we clear the previous output\n",
    "    \n",
    "    with out:\n",
    "\n",
    "        dep_station_name = departure_station.value\n",
    "        arr_station_name = arrival_station.value\n",
    "        dep_station_ids = [k for k,v in stops.items() if v['stop_name'] == dep_station_name] #exctracting all ids related to the departure station name. Later, we use only the first one (i.e. as input of the planner we only give dep_station_ids[0])\n",
    "        arr_station_ids = [k for k,v in stops.items() if v['stop_name'] == arr_station_name] #exctracting all ids related to arrival station name. Later, we use only the first one (i.e. as input of the planner we only give arr_station_ids[0])\n",
    "\n",
    "            \n",
    "        weekday = datetime_picker.value.weekday()\n",
    "        if not(weekday in [0,1,2,3,4]):\n",
    "            raise Exception(\"You cannot choose Saturday or Sunday\")\n",
    "\n",
    "        max_time = datetime.time(max_arrival_time_hour.value, max_arrival_time_minute.value)\n",
    "        min_time = datetime.time(min_departure_time_hour.value, min_departure_time_minute.value)\n",
    "        date_value_from_connections = datetime.datetime.fromtimestamp(connections[0][2]) #extracting the date timestamp from connections, since the algo needs this day in order to run\n",
    "\n",
    "        timestamp1 = int(datetime.datetime.combine(date_value_from_connections, min_time).timestamp()) #combining the date from connections with the min time provided by the user\n",
    "        timestamp2 = int(datetime.datetime.combine(date_value_from_connections, max_time).timestamp()) #combining the date from connections with the max time provided by the user\n",
    "        inputs = [weekday, dep_station_ids[0], arr_station_ids[0], timestamp1, timestamp2, max_changes.value, confidence_level.value]\n",
    "\n",
    "        planner = JourneyPlanner(timetable)\n",
    "        print(\"Loading...\")\n",
    "        journeys = planner.plan_route(weekday, dep_station_ids[0], arr_station_ids[0], timestamp1, timestamp2, confidence_level.value, max_changes.value)\n",
    "        \n",
    "\n",
    "        print(\"Done. Total Number of journeys found\", len(journeys))\n",
    "        max_journeys = show_k_journeys.value #used to visualize only first k journeys\n",
    "            \n",
    "        for i in range(len(journeys[:max_journeys])): # we plot only first k journeys\n",
    "            visualize_map_scattermapbox(journeys[i], i+1) \n",
    "        \n",
    "button.on_click(button_action)"
   ]
  },
  {
   "cell_type": "code",
   "execution_count": 21,
   "id": "ce951fe1-4c68-41dd-abfc-1adaba6b50ff",
   "metadata": {},
   "outputs": [
    {
     "data": {
      "application/vnd.jupyter.widget-view+json": {
       "model_id": "8986d0c37e8143579bd57302fd7970ad",
       "version_major": 2,
       "version_minor": 0
      },
      "text/plain": [
       "DatePicker(value=datetime.date(2022, 5, 28), description='Date of the trip', style=DescriptionStyle(descriptio…"
      ]
     },
     "metadata": {},
     "output_type": "display_data"
    },
    {
     "data": {
      "application/vnd.jupyter.widget-view+json": {
       "model_id": "8d51c9c366154fb89d9bade7e17f1875",
       "version_major": 2,
       "version_minor": 0
      },
      "text/plain": [
       "Dropdown(description='Min Departure Hour:', index=9, options=(1, 2, 3, 4, 5, 6, 7, 8, 9, 10, 11, 12, 13, 14, 1…"
      ]
     },
     "metadata": {},
     "output_type": "display_data"
    },
    {
     "data": {
      "application/vnd.jupyter.widget-view+json": {
       "model_id": "b1726877ddbf47b3af095a2f4946a5ed",
       "version_major": 2,
       "version_minor": 0
      },
      "text/plain": [
       "Dropdown(description='Min Departure Hour:', index=31, options=(1, 2, 3, 4, 5, 6, 7, 8, 9, 10, 11, 12, 13, 14, …"
      ]
     },
     "metadata": {},
     "output_type": "display_data"
    },
    {
     "data": {
      "application/vnd.jupyter.widget-view+json": {
       "model_id": "5dd4c71cc16745f186aabbaba98b166d",
       "version_major": 2,
       "version_minor": 0
      },
      "text/plain": [
       "Dropdown(description='Max Arrival Hour:', index=12, options=(1, 2, 3, 4, 5, 6, 7, 8, 9, 10, 11, 12, 13, 14, 15…"
      ]
     },
     "metadata": {},
     "output_type": "display_data"
    },
    {
     "data": {
      "application/vnd.jupyter.widget-view+json": {
       "model_id": "57bd2da264fd428db844919f248f319a",
       "version_major": 2,
       "version_minor": 0
      },
      "text/plain": [
       "Dropdown(description='Max Arrival Minute:', index=31, options=(1, 2, 3, 4, 5, 6, 7, 8, 9, 10, 11, 12, 13, 14, …"
      ]
     },
     "metadata": {},
     "output_type": "display_data"
    },
    {
     "data": {
      "application/vnd.jupyter.widget-view+json": {
       "model_id": "c5d3e066820d44468b56deebeb5d15b5",
       "version_major": 2,
       "version_minor": 0
      },
      "text/plain": [
       "Dropdown(description='Departure Station:', options=('Aathal', 'Adlikon b. R., Dorf', 'Adlikon b. R., Leematten…"
      ]
     },
     "metadata": {},
     "output_type": "display_data"
    },
    {
     "data": {
      "application/vnd.jupyter.widget-view+json": {
       "model_id": "da03d9d017cf4375a1a21109cc8bacbc",
       "version_major": 2,
       "version_minor": 0
      },
      "text/plain": [
       "Dropdown(description='Arrival Station:', options=('Aathal', 'Adlikon b. R., Dorf', 'Adlikon b. R., Leematten',…"
      ]
     },
     "metadata": {},
     "output_type": "display_data"
    },
    {
     "data": {
      "application/vnd.jupyter.widget-view+json": {
       "model_id": "429223be4ed24214a1af25c4af2efd99",
       "version_major": 2,
       "version_minor": 0
      },
      "text/plain": [
       "FloatSlider(value=0.0, continuous_update=False, description='Confidence Interval', max=1.0, step=0.01, style=S…"
      ]
     },
     "metadata": {},
     "output_type": "display_data"
    },
    {
     "data": {
      "application/vnd.jupyter.widget-view+json": {
       "model_id": "c1292f737e394538891d802dc03da076",
       "version_major": 2,
       "version_minor": 0
      },
      "text/plain": [
       "IntText(value=10, description='Max. number of changes:')"
      ]
     },
     "metadata": {},
     "output_type": "display_data"
    },
    {
     "data": {
      "application/vnd.jupyter.widget-view+json": {
       "model_id": "9ad2669449f44a718f26391a2fd8c195",
       "version_major": 2,
       "version_minor": 0
      },
      "text/plain": [
       "Dropdown(description='Max n. of journeys to display:', index=4, options=(1, 2, 3, 4, 5, 6, 7, 8, 9, 10), style…"
      ]
     },
     "metadata": {},
     "output_type": "display_data"
    },
    {
     "data": {
      "application/vnd.jupyter.widget-view+json": {
       "model_id": "e0c6bb0baa7e4d269d398f1ed299d13a",
       "version_major": 2,
       "version_minor": 0
      },
      "text/plain": [
       "Button(description='Find the best route!', icon='check', layout=Layout(height='40px', width='auto'), style=But…"
      ]
     },
     "metadata": {},
     "output_type": "display_data"
    },
    {
     "data": {
      "application/vnd.jupyter.widget-view+json": {
       "model_id": "ab2556b20ec44a28bffd3ae6abd9be55",
       "version_major": 2,
       "version_minor": 0
      },
      "text/plain": [
       "Output()"
      ]
     },
     "metadata": {},
     "output_type": "display_data"
    }
   ],
   "source": [
    "import datetime\n",
    "display(datetime_picker, min_departure_time_hour,min_departure_time_minute, max_arrival_time_hour, max_arrival_time_minute , departure_station, arrival_station, confidence_level, max_changes, show_k_journeys, button, out)"
   ]
  },
  {
   "cell_type": "code",
   "execution_count": null,
   "id": "1a9d4f99-c2a5-4e48-ae60-6b42eab345ff",
   "metadata": {},
   "outputs": [],
   "source": []
  }
 ],
 "metadata": {
  "kernelspec": {
   "display_name": "Python 3",
   "language": "python",
   "name": "python3"
  },
  "language_info": {
   "codemirror_mode": {
    "name": "ipython",
    "version": 3
   },
   "file_extension": ".py",
   "mimetype": "text/x-python",
   "name": "python",
   "nbconvert_exporter": "python",
   "pygments_lexer": "ipython3",
   "version": "3.9.7"
  }
 },
 "nbformat": 4,
 "nbformat_minor": 5
}
